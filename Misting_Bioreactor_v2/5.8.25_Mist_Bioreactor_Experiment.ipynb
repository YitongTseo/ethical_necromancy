{
 "cells": [
  {
   "cell_type": "code",
   "execution_count": 73,
   "id": "7fcd8e94",
   "metadata": {},
   "outputs": [
    {
     "name": "stdout",
     "output_type": "stream",
     "text": [
      "Connected to brickd\n"
     ]
    }
   ],
   "source": [
    "import time\n",
    "from tinkerforge.ip_connection import IPConnection, Error\n",
    "from tinkerforge.bricklet_performance_dc import BrickletPerformanceDC\n",
    "from tinkerforge.bricklet_silent_stepper_v2 import BrickletSilentStepperV2\n",
    "\n",
    "%matplotlib inline\n",
    "\n",
    "HOST = \"localhost\"\n",
    "PORT = 4223\n",
    "PDC_UID = \"SSV\" \n",
    "SS_UID = \"2akW\"\n",
    "\n",
    "# Create IP connection\n",
    "ipcon = IPConnection()\n",
    "\n",
    "# Create device objects\n",
    "ss1 = BrickletSilentStepperV2(SS_UID, ipcon)\n",
    "pdc = BrickletPerformanceDC(PDC_UID, ipcon)\n",
    "SS_SPEED = 500\n",
    "\n",
    "try:\n",
    "    ipcon.connect(HOST, PORT)\n",
    "    print(\"Connected to brickd\")\n",
    "except Error as e:\n",
    "    print(f\"Error connecting to brickd: {e}\")\n"
   ]
  },
  {
   "cell_type": "code",
   "execution_count": 74,
   "id": "b58b841b",
   "metadata": {},
   "outputs": [],
   "source": [
    "def initialize_motor(ss):\n",
    "    # 416 mA, for 10W 24V system\n",
    "    ss.set_motor_current(416) \n",
    "    # 1/8 steps (interpolated)\n",
    "    ss.set_step_configuration(ss1.STEP_RESOLUTION_8, True) \n",
    "    ss.set_max_velocity(SS_SPEED) \n",
    "    ss.set_speed_ramping(SS_SPEED * 100, SS_SPEED * 100)\n",
    "    ss.set_enabled(True) \n",
    "\n",
    "def turn_on_pump():\n",
    "    pdc.set_drive_mode(pdc.DRIVE_MODE_DRIVE_COAST)  \n",
    "    pdc.set_motion(32767, 32767)  # Optional: set max accel/decel just in case\n",
    "    pdc.set_velocity(12000)       # 7K gives a nice gentle spray\n",
    "    pdc.set_enabled(True)         # Enable motor\n",
    "\n",
    "def turn_off_pump():\n",
    "    pdc.set_velocity(0)           # Stop motor\n",
    "    pdc.set_enabled(False)        # Cut power — acts like a relay off\n",
    "\n"
   ]
  },
  {
   "cell_type": "code",
   "execution_count": null,
   "id": "00594b78",
   "metadata": {},
   "outputs": [],
   "source": [
    "from datetime import datetime\n",
    "\n",
    "# Every 10 minutes, mist for 5 seconds...\n",
    "def start_experiment(\n",
    "    duration=14 * 24 * 60 * 60, interval=15 * 60, misting_time=4\n",
    "):\n",
    "    start_time = time.time()\n",
    "\n",
    "    initialize_motor(ss1)\n",
    "\n",
    "    ss1.set_steps(100000)  # Drive 100K steps forward\n",
    "    misting_iteration = 0\n",
    "\n",
    "    while time.time() - start_time < duration:\n",
    "        print('Misting iteration:', misting_iteration , )\n",
    "        current_time = datetime.now().strftime('%Y-%m-%d %H:%M:%S')\n",
    "        print(f'Misting iteration: {misting_iteration} at {current_time}')\n",
    "        print('starting misting!')\n",
    "        turn_on_pump()\n",
    "        time.sleep(misting_time)\n",
    "        turn_off_pump()\n",
    "        print('stopping misting!')\n",
    "        # ss1.drive_forward()\n",
    "        time.sleep(interval)\n"
   ]
  },
  {
   "cell_type": "code",
   "execution_count": 76,
   "id": "7c4b0e4b",
   "metadata": {},
   "outputs": [
    {
     "name": "stdout",
     "output_type": "stream",
     "text": [
      "Total mL per day: 480.0 mL\n"
     ]
    }
   ],
   "source": [
    "ML_PER_TWO_SEC_SPRAY = 5 # mL\n",
    "interval = 15 * 60  # 10 minutes\n",
    "total_mL_per_day = (24 * 60 * 60 / interval ) * ML_PER_TWO_SEC_SPRAY\n",
    "print(f\"Total mL per day: {total_mL_per_day} mL\")"
   ]
  },
  {
   "cell_type": "code",
   "execution_count": 77,
   "id": "3c61cc1a",
   "metadata": {},
   "outputs": [
    {
     "name": "stdout",
     "output_type": "stream",
     "text": [
      "Misting iteration: 0\n",
      "Misting iteration: 0 at 2025-05-08 19:57:49\n",
      "starting misting!\n",
      "stopping misting!\n",
      "Misting iteration: 0\n",
      "Misting iteration: 0 at 2025-05-08 19:57:58\n",
      "starting misting!\n",
      "stopping misting!\n",
      "Misting iteration: 0\n",
      "Misting iteration: 0 at 2025-05-08 19:58:07\n",
      "starting misting!\n",
      "stopping misting!\n"
     ]
    },
    {
     "ename": "KeyboardInterrupt",
     "evalue": "",
     "output_type": "error",
     "traceback": [
      "\u001b[0;31m---------------------------------------------------------------------------\u001b[0m",
      "\u001b[0;31mKeyboardInterrupt\u001b[0m                         Traceback (most recent call last)",
      "Cell \u001b[0;32mIn[77], line 3\u001b[0m\n\u001b[1;32m      1\u001b[0m \u001b[38;5;66;03m# Every 6 spurts (for 2 seconds each) is 30 mL\u001b[39;00m\n\u001b[1;32m      2\u001b[0m \u001b[38;5;66;03m# so each spurt is 5mL\u001b[39;00m\n\u001b[0;32m----> 3\u001b[0m \u001b[43mstart_experiment\u001b[49m\u001b[43m(\u001b[49m\u001b[43m)\u001b[49m\n",
      "Cell \u001b[0;32mIn[75], line 24\u001b[0m, in \u001b[0;36mstart_experiment\u001b[0;34m(duration, interval, misting_time)\u001b[0m\n\u001b[1;32m     22\u001b[0m \u001b[38;5;28mprint\u001b[39m(\u001b[38;5;124m'\u001b[39m\u001b[38;5;124mstopping misting!\u001b[39m\u001b[38;5;124m'\u001b[39m)\n\u001b[1;32m     23\u001b[0m \u001b[38;5;66;03m# ss1.drive_forward()\u001b[39;00m\n\u001b[0;32m---> 24\u001b[0m \u001b[43mtime\u001b[49m\u001b[38;5;241;43m.\u001b[39;49m\u001b[43msleep\u001b[49m\u001b[43m(\u001b[49m\u001b[43minterval\u001b[49m\u001b[43m)\u001b[49m\n",
      "\u001b[0;31mKeyboardInterrupt\u001b[0m: "
     ]
    }
   ],
   "source": [
    "# Every 6 spurts (for 2 seconds each) is 30 mL\n",
    "# so each spurt is 5mL\n",
    "start_experiment()"
   ]
  },
  {
   "cell_type": "code",
   "execution_count": null,
   "id": "33a9ad2d",
   "metadata": {},
   "outputs": [],
   "source": [
    "# Disconnect from brickd\n",
    "ipcon.disconnect()\n"
   ]
  }
 ],
 "metadata": {
  "kernelspec": {
   "display_name": "base",
   "language": "python",
   "name": "python3"
  },
  "language_info": {
   "codemirror_mode": {
    "name": "ipython",
    "version": 3
   },
   "file_extension": ".py",
   "mimetype": "text/x-python",
   "name": "python",
   "nbconvert_exporter": "python",
   "pygments_lexer": "ipython3",
   "version": "3.8.8"
  }
 },
 "nbformat": 4,
 "nbformat_minor": 5
}
