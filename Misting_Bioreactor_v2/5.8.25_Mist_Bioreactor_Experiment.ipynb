{
 "cells": [
  {
   "cell_type": "code",
   "execution_count": 51,
   "id": "7fcd8e94",
   "metadata": {},
   "outputs": [
    {
     "name": "stdout",
     "output_type": "stream",
     "text": [
      "Connected to brickd\n"
     ]
    }
   ],
   "source": [
    "import time\n",
    "from tinkerforge.ip_connection import IPConnection, Error\n",
    "from tinkerforge.bricklet_performance_dc import BrickletPerformanceDC\n",
    "from tinkerforge.bricklet_silent_stepper_v2 import BrickletSilentStepperV2\n",
    "\n",
    "%matplotlib inline\n",
    "\n",
    "HOST = \"localhost\"\n",
    "PORT = 4223\n",
    "PDC_UID = \"SSV\" \n",
    "SS_UID = \"2akW\"\n",
    "\n",
    "# Create IP connection\n",
    "ipcon = IPConnection()\n",
    "\n",
    "# Create device objects\n",
    "ss1 = BrickletSilentStepperV2(SS_UID, ipcon)\n",
    "pdc = BrickletPerformanceDC(PDC_UID, ipcon)\n",
    "SS_SPEED = 500\n",
    "\n",
    "try:\n",
    "    ipcon.connect(HOST, PORT)\n",
    "    print(\"Connected to brickd\")\n",
    "except Error as e:\n",
    "    print(f\"Error connecting to brickd: {e}\")\n"
   ]
  },
  {
   "cell_type": "code",
   "execution_count": 52,
   "id": "b58b841b",
   "metadata": {},
   "outputs": [],
   "source": [
    "def initialize_motor(ss):\n",
    "    # 416 mA, for 10W 24V system\n",
    "    ss.set_motor_current(416) \n",
    "    # 1/8 steps (interpolated)\n",
    "    ss.set_step_configuration(ss1.STEP_RESOLUTION_8, True) \n",
    "    ss.set_max_velocity(SS_SPEED) \n",
    "    ss.set_speed_ramping(SS_SPEED * 100, SS_SPEED * 100)\n",
    "    ss.set_enabled(True) \n",
    "\n",
    "def turn_on_pump():\n",
    "    pdc.set_drive_mode(pdc.DRIVE_MODE_DRIVE_COAST)  \n",
    "    pdc.set_motion(32767, 32767)  # Optional: set max accel/decel just in case\n",
    "    pdc.set_velocity(7000)       # 7K gives a nice gentle spray\n",
    "    pdc.set_enabled(True)         # Enable motor\n",
    "\n",
    "def turn_off_pump():\n",
    "    pdc.set_velocity(0)           # Stop motor\n",
    "    pdc.set_enabled(False)        # Cut power — acts like a relay off\n",
    "\n"
   ]
  },
  {
   "cell_type": "code",
   "execution_count": null,
   "id": "00594b78",
   "metadata": {},
   "outputs": [],
   "source": [
    "from datetime import datetime\n",
    "\n",
    "# Every 10 minutes, mist for 5 seconds...\n",
    "def start_experiment(\n",
    "    duration=14 * 24 * 60 * 60, interval=15 * 60, misting_time=2\n",
    "):\n",
    "    start_time = time.time()\n",
    "\n",
    "    initialize_motor(ss1)\n",
    "\n",
    "    ss1.set_steps(100000)  # Drive 100K steps forward\n",
    "    misting_iteration = 0\n",
    "\n",
    "    while time.time() - start_time < duration:\n",
    "        print('Misting iteration:', misting_iteration , )\n",
    "        current_time = datetime.now().strftime('%Y-%m-%d %H:%M:%S')\n",
    "        print(f'Misting iteration: {misting_iteration} at {current_time}')\n",
    "        print('starting misting!')\n",
    "        turn_on_pump()\n",
    "        time.sleep(misting_time)\n",
    "        turn_off_pump()\n",
    "        print('stopping misting!')\n",
    "        ss1.drive_forward()\n",
    "        time.sleep(interval)\n"
   ]
  },
  {
   "cell_type": "code",
   "execution_count": 57,
   "id": "7c4b0e4b",
   "metadata": {},
   "outputs": [
    {
     "name": "stdout",
     "output_type": "stream",
     "text": [
      "Total mL per day: 480.0 mL\n"
     ]
    }
   ],
   "source": [
    "ML_PER_TWO_SEC_SPRAY = 5 # mL\n",
    "interval = 15 * 60  # 10 minutes\n",
    "total_mL_per_day = (24 * 60 * 60 / interval ) * ML_PER_TWO_SEC_SPRAY\n",
    "print(f\"Total mL per day: {total_mL_per_day} mL\")"
   ]
  },
  {
   "cell_type": "code",
   "execution_count": null,
   "id": "3c61cc1a",
   "metadata": {},
   "outputs": [
    {
     "ename": "Error",
     "evalue": "Did not receive response for function 255 in time (-1)",
     "output_type": "error",
     "traceback": [
      "\u001b[0;31m---------------------------------------------------------------------------\u001b[0m",
      "\u001b[0;31mError\u001b[0m                                     Traceback (most recent call last)",
      "Cell \u001b[0;32mIn[54], line 3\u001b[0m\n\u001b[1;32m      1\u001b[0m \u001b[38;5;66;03m# Every 6 spurts (for 2 seconds each) is 30 mL\u001b[39;00m\n\u001b[0;32m----> 3\u001b[0m \u001b[43mstart_experiment\u001b[49m\u001b[43m(\u001b[49m\u001b[43m)\u001b[49m\n",
      "Cell \u001b[0;32mIn[53], line 9\u001b[0m, in \u001b[0;36mstart_experiment\u001b[0;34m(duration, interval, misting_time)\u001b[0m\n\u001b[1;32m      4\u001b[0m \u001b[38;5;28;01mdef\u001b[39;00m \u001b[38;5;21mstart_experiment\u001b[39m(\n\u001b[1;32m      5\u001b[0m     duration\u001b[38;5;241m=\u001b[39m\u001b[38;5;241m14\u001b[39m \u001b[38;5;241m*\u001b[39m \u001b[38;5;241m24\u001b[39m \u001b[38;5;241m*\u001b[39m \u001b[38;5;241m60\u001b[39m \u001b[38;5;241m*\u001b[39m \u001b[38;5;241m60\u001b[39m, interval\u001b[38;5;241m=\u001b[39m\u001b[38;5;241m10\u001b[39m, misting_time\u001b[38;5;241m=\u001b[39m\u001b[38;5;241m2\u001b[39m\n\u001b[1;32m      6\u001b[0m ):\n\u001b[1;32m      7\u001b[0m     start_time \u001b[38;5;241m=\u001b[39m time\u001b[38;5;241m.\u001b[39mtime()\n\u001b[0;32m----> 9\u001b[0m     \u001b[43minitialize_motor\u001b[49m\u001b[43m(\u001b[49m\u001b[43mss1\u001b[49m\u001b[43m)\u001b[49m\n\u001b[1;32m     11\u001b[0m     ss1\u001b[38;5;241m.\u001b[39mset_steps(\u001b[38;5;241m100000\u001b[39m)  \u001b[38;5;66;03m# Drive 100K steps forward\u001b[39;00m\n\u001b[1;32m     12\u001b[0m     misting_iteration \u001b[38;5;241m=\u001b[39m \u001b[38;5;241m0\u001b[39m\n",
      "Cell \u001b[0;32mIn[52], line 3\u001b[0m, in \u001b[0;36minitialize_motor\u001b[0;34m(ss)\u001b[0m\n\u001b[1;32m      1\u001b[0m \u001b[38;5;28;01mdef\u001b[39;00m \u001b[38;5;21minitialize_motor\u001b[39m(ss):\n\u001b[1;32m      2\u001b[0m     \u001b[38;5;66;03m# 416 mA, for 10W 24V system\u001b[39;00m\n\u001b[0;32m----> 3\u001b[0m     \u001b[43mss\u001b[49m\u001b[38;5;241;43m.\u001b[39;49m\u001b[43mset_motor_current\u001b[49m\u001b[43m(\u001b[49m\u001b[38;5;241;43m416\u001b[39;49m\u001b[43m)\u001b[49m \n\u001b[1;32m      4\u001b[0m     \u001b[38;5;66;03m# 1/8 steps (interpolated)\u001b[39;00m\n\u001b[1;32m      5\u001b[0m     ss\u001b[38;5;241m.\u001b[39mset_step_configuration(ss1\u001b[38;5;241m.\u001b[39mSTEP_RESOLUTION_8, \u001b[38;5;28;01mTrue\u001b[39;00m) \n",
      "File \u001b[0;32m/opt/anaconda3/lib/python3.8/site-packages/tinkerforge/bricklet_silent_stepper_v2.py:499\u001b[0m, in \u001b[0;36mBrickletSilentStepperV2.set_motor_current\u001b[0;34m(self, current)\u001b[0m\n\u001b[1;32m    491\u001b[0m \u001b[38;5;28;01mdef\u001b[39;00m \u001b[38;5;21mset_motor_current\u001b[39m(\u001b[38;5;28mself\u001b[39m, current):\n\u001b[1;32m    492\u001b[0m \u001b[38;5;250m    \u001b[39m\u001b[38;5;124;03m\"\"\"\u001b[39;00m\n\u001b[1;32m    493\u001b[0m \u001b[38;5;124;03m    Sets the current with which the motor will be driven.\u001b[39;00m\n\u001b[1;32m    494\u001b[0m \n\u001b[0;32m   (...)\u001b[0m\n\u001b[1;32m    497\u001b[0m \u001b[38;5;124;03m     Otherwise it may damage your motor.\u001b[39;00m\n\u001b[1;32m    498\u001b[0m \u001b[38;5;124;03m    \"\"\"\u001b[39;00m\n\u001b[0;32m--> 499\u001b[0m     \u001b[38;5;28;43mself\u001b[39;49m\u001b[38;5;241;43m.\u001b[39;49m\u001b[43mcheck_validity\u001b[49m\u001b[43m(\u001b[49m\u001b[43m)\u001b[49m\n\u001b[1;32m    501\u001b[0m     current \u001b[38;5;241m=\u001b[39m \u001b[38;5;28mint\u001b[39m(current)\n\u001b[1;32m    503\u001b[0m     \u001b[38;5;28mself\u001b[39m\u001b[38;5;241m.\u001b[39mipcon\u001b[38;5;241m.\u001b[39msend_request(\u001b[38;5;28mself\u001b[39m, BrickletSilentStepperV2\u001b[38;5;241m.\u001b[39mFUNCTION_SET_MOTOR_CURRENT, (current,), \u001b[38;5;124m'\u001b[39m\u001b[38;5;124mH\u001b[39m\u001b[38;5;124m'\u001b[39m, \u001b[38;5;241m0\u001b[39m, \u001b[38;5;124m'\u001b[39m\u001b[38;5;124m'\u001b[39m)\n",
      "File \u001b[0;32m/opt/anaconda3/lib/python3.8/site-packages/tinkerforge/ip_connection.py:506\u001b[0m, in \u001b[0;36mDevice.check_validity\u001b[0;34m(self)\u001b[0m\n\u001b[1;32m    504\u001b[0m \u001b[38;5;28;01mwith\u001b[39;00m \u001b[38;5;28mself\u001b[39m\u001b[38;5;241m.\u001b[39mdevice_identifier_lock:\n\u001b[1;32m    505\u001b[0m     \u001b[38;5;28;01mif\u001b[39;00m \u001b[38;5;28mself\u001b[39m\u001b[38;5;241m.\u001b[39mdevice_identifier_check \u001b[38;5;241m==\u001b[39m Device\u001b[38;5;241m.\u001b[39mDEVICE_IDENTIFIER_CHECK_PENDING:\n\u001b[0;32m--> 506\u001b[0m         device_identifier \u001b[38;5;241m=\u001b[39m \u001b[38;5;28;43mself\u001b[39;49m\u001b[38;5;241;43m.\u001b[39;49m\u001b[43mipcon\u001b[49m\u001b[38;5;241;43m.\u001b[39;49m\u001b[43msend_request\u001b[49m\u001b[43m(\u001b[49m\u001b[38;5;28;43mself\u001b[39;49m\u001b[43m,\u001b[49m\u001b[43m \u001b[49m\u001b[38;5;241;43m255\u001b[39;49m\u001b[43m,\u001b[49m\u001b[43m \u001b[49m\u001b[43m(\u001b[49m\u001b[43m)\u001b[49m\u001b[43m,\u001b[49m\u001b[43m \u001b[49m\u001b[38;5;124;43m'\u001b[39;49m\u001b[38;5;124;43m'\u001b[39;49m\u001b[43m,\u001b[49m\u001b[43m \u001b[49m\u001b[38;5;241;43m33\u001b[39;49m\u001b[43m,\u001b[49m\u001b[43m \u001b[49m\u001b[38;5;124;43m'\u001b[39;49m\u001b[38;5;124;43m8s 8s c 3B 3B H\u001b[39;49m\u001b[38;5;124;43m'\u001b[39;49m\u001b[43m)\u001b[49m[\u001b[38;5;241m5\u001b[39m] \u001b[38;5;66;03m# <device>.get_identity\u001b[39;00m\n\u001b[1;32m    508\u001b[0m         \u001b[38;5;28;01mif\u001b[39;00m device_identifier \u001b[38;5;241m==\u001b[39m \u001b[38;5;28mself\u001b[39m\u001b[38;5;241m.\u001b[39mdevice_identifier:\n\u001b[1;32m    509\u001b[0m             \u001b[38;5;28mself\u001b[39m\u001b[38;5;241m.\u001b[39mdevice_identifier_check \u001b[38;5;241m=\u001b[39m Device\u001b[38;5;241m.\u001b[39mDEVICE_IDENTIFIER_CHECK_MATCH\n",
      "File \u001b[0;32m/opt/anaconda3/lib/python3.8/site-packages/tinkerforge/ip_connection.py:1314\u001b[0m, in \u001b[0;36mIPConnection.send_request\u001b[0;34m(self, device, function_id, data, form, length_ret, form_ret)\u001b[0m\n\u001b[1;32m   1312\u001b[0m \u001b[38;5;28;01mexcept\u001b[39;00m queue\u001b[38;5;241m.\u001b[39mEmpty:\n\u001b[1;32m   1313\u001b[0m     msg \u001b[38;5;241m=\u001b[39m \u001b[38;5;124m'\u001b[39m\u001b[38;5;124mDid not receive response for function \u001b[39m\u001b[38;5;132;01m{0}\u001b[39;00m\u001b[38;5;124m in time\u001b[39m\u001b[38;5;124m'\u001b[39m\u001b[38;5;241m.\u001b[39mformat(function_id)\n\u001b[0;32m-> 1314\u001b[0m     \u001b[38;5;28;01mraise\u001b[39;00m Error(Error\u001b[38;5;241m.\u001b[39mTIMEOUT, msg, suppress_context\u001b[38;5;241m=\u001b[39m\u001b[38;5;28;01mTrue\u001b[39;00m)\n\u001b[1;32m   1315\u001b[0m \u001b[38;5;28;01mfinally\u001b[39;00m:\n\u001b[1;32m   1316\u001b[0m     device\u001b[38;5;241m.\u001b[39mexpected_response_function_id \u001b[38;5;241m=\u001b[39m \u001b[38;5;28;01mNone\u001b[39;00m\n",
      "\u001b[0;31mError\u001b[0m: Did not receive response for function 255 in time (-1)"
     ]
    }
   ],
   "source": [
    "# Every 6 spurts (for 2 seconds each) is 30 mL\n",
    "# so each spurt is 5mL\n",
    "start_experiment()"
   ]
  },
  {
   "cell_type": "code",
   "execution_count": null,
   "id": "33a9ad2d",
   "metadata": {},
   "outputs": [],
   "source": [
    "# Disconnect from brickd\n",
    "ipcon.disconnect()\n"
   ]
  }
 ],
 "metadata": {
  "kernelspec": {
   "display_name": "base",
   "language": "python",
   "name": "python3"
  },
  "language_info": {
   "codemirror_mode": {
    "name": "ipython",
    "version": 3
   },
   "file_extension": ".py",
   "mimetype": "text/x-python",
   "name": "python",
   "nbconvert_exporter": "python",
   "pygments_lexer": "ipython3",
   "version": "3.8.8"
  }
 },
 "nbformat": 4,
 "nbformat_minor": 5
}
