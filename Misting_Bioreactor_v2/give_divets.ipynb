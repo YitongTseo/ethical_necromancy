{
 "cells": [
  {
   "cell_type": "code",
   "execution_count": 1,
   "id": "dddf7091",
   "metadata": {},
   "outputs": [],
   "source": [
    "import cadquery as cq\n",
    "\n",
    "# Create a sloped box: 50x50x10, then rotate 20° about X to tilt the top\n",
    "sloped_box = (\n",
    "    cq.Workplane(\"XY\")\n",
    "    .box(50, 50, 10)\n",
    "    .rotate((0, 0, 0), (1, 0, 0), 20)  # rotate around X axis\n",
    ")\n",
    "\n",
    "# Export\n",
    "cq.exporters.export(sloped_box, 'sloped_box.step')"
   ]
  },
  {
   "cell_type": "code",
   "execution_count": 2,
   "id": "c1ae2b9d",
   "metadata": {},
   "outputs": [],
   "source": [
    "import cadquery as cq\n",
    "\n",
    "# Create a box at the origin (centered by default)\n",
    "box = cq.Workplane(\"XY\").box(50, 50, 10)  # width, depth, height\n",
    "\n",
    "# Export to a STEP file\n",
    "cq.exporters.export(box, 'box_50x50.step')\n"
   ]
  },
  {
   "cell_type": "code",
   "execution_count": 3,
   "id": "4149f088",
   "metadata": {},
   "outputs": [],
   "source": [
    "model = cq.importers.importStep('box_50x50.step')"
   ]
  },
  {
   "cell_type": "code",
   "execution_count": 2,
   "id": "12bdb5ab",
   "metadata": {},
   "outputs": [
    {
     "name": "stderr",
     "output_type": "stream",
     "text": [
      "0it [00:00, ?it/s]"
     ]
    },
    {
     "name": "stdout",
     "output_type": "stream",
     "text": [
      "skipping divot at (-72, -43): Bnd_Box is void\n",
      "skipping divot at (-72, -39): Bnd_Box is void\n",
      "skipping divot at (-72, -35): Bnd_Box is void\n",
      "skipping divot at (-72, -31): Bnd_Box is void\n",
      "skipping divot at (-72, -27): Bnd_Box is void\n",
      "skipping divot at (-72, -23): Bnd_Box is void\n",
      "skipping divot at (-72, -19): Bnd_Box is void\n",
      "skipping divot at (-72, -15): Bnd_Box is void\n",
      "skipping divot at (-72, -11): Bnd_Box is void\n",
      "skipping divot at (-72, -7): Bnd_Box is void\n",
      "skipping divot at (-72, -3): Bnd_Box is void\n",
      "skipping divot at (-72, 17): Bnd_Box is void\n",
      "skipping divot at (-72, 21): Bnd_Box is void\n",
      "skipping divot at (-72, 25): Bnd_Box is void\n",
      "skipping divot at (-72, 29): Bnd_Box is void\n",
      "skipping divot at (-72, 33): Bnd_Box is void\n",
      "skipping divot at (-72, 37): Bnd_Box is void\n",
      "skipping divot at (-72, 41): Bnd_Box is void\n",
      "skipping divot at (-72, 45): Bnd_Box is void\n",
      "skipping divot at (-72, 49): Bnd_Box is void\n",
      "skipping divot at (-72, 53): Bnd_Box is void\n"
     ]
    },
    {
     "name": "stderr",
     "output_type": "stream",
     "text": [
      "1it [02:43, 163.09s/it]"
     ]
    },
    {
     "name": "stdout",
     "output_type": "stream",
     "text": [
      "skipping divot at (-72, 57): Bnd_Box is void\n",
      "skipping divot at (-68, -43): Bnd_Box is void\n",
      "skipping divot at (-68, -39): Bnd_Box is void\n",
      "skipping divot at (-68, -35): Bnd_Box is void\n",
      "skipping divot at (-68, -31): Bnd_Box is void\n",
      "skipping divot at (-68, -27): Bnd_Box is void\n",
      "skipping divot at (-68, -23): Bnd_Box is void\n",
      "skipping divot at (-68, -19): Bnd_Box is void\n"
     ]
    },
    {
     "name": "stderr",
     "output_type": "stream",
     "text": [
      "1it [04:48, 288.27s/it]\n"
     ]
    },
    {
     "ename": "KeyboardInterrupt",
     "evalue": "",
     "output_type": "error",
     "traceback": [
      "\u001b[31m---------------------------------------------------------------------------\u001b[39m",
      "\u001b[31mKeyboardInterrupt\u001b[39m                         Traceback (most recent call last)",
      "\u001b[36mCell\u001b[39m\u001b[36m \u001b[39m\u001b[32mIn[2]\u001b[39m\u001b[32m, line 39\u001b[39m\n\u001b[32m     36\u001b[39m ray = cq.Solid.makeBox(\u001b[32m0.1\u001b[39m, \u001b[32m0.1\u001b[39m, \u001b[32m100\u001b[39m).translate((x, y, zmin - \u001b[32m50\u001b[39m))\n\u001b[32m     38\u001b[39m \u001b[38;5;66;03m# Perform intersection to find where the ray meets the surface\u001b[39;00m\n\u001b[32m---> \u001b[39m\u001b[32m39\u001b[39m intersection = \u001b[43mmodel\u001b[49m\u001b[43m.\u001b[49m\u001b[43mintersect\u001b[49m\u001b[43m(\u001b[49m\u001b[43mray\u001b[49m\u001b[43m)\u001b[49m\n\u001b[32m     41\u001b[39m \u001b[38;5;28;01mtry\u001b[39;00m:\n\u001b[32m     42\u001b[39m     \u001b[38;5;66;03m# Get the highest Z value in the intersected shape\u001b[39;00m\n\u001b[32m     43\u001b[39m     z_top = intersection.val().BoundingBox().zmax\n",
      "\u001b[36mFile \u001b[39m\u001b[32m/opt/miniconda3/envs/ethical_necromancy/lib/python3.11/site-packages/cadquery/cq.py:3513\u001b[39m, in \u001b[36mWorkplane.intersect\u001b[39m\u001b[34m(self, toIntersect, clean, tol)\u001b[39m\n\u001b[32m   3510\u001b[39m \u001b[38;5;28;01melse\u001b[39;00m:\n\u001b[32m   3511\u001b[39m     \u001b[38;5;28;01mraise\u001b[39;00m \u001b[38;5;167;01mValueError\u001b[39;00m(\u001b[33m\"\u001b[39m\u001b[33mCannot intersect type \u001b[39m\u001b[33m'\u001b[39m\u001b[38;5;132;01m{}\u001b[39;00m\u001b[33m'\u001b[39m\u001b[33m\"\u001b[39m.format(\u001b[38;5;28mtype\u001b[39m(toIntersect)))\n\u001b[32m-> \u001b[39m\u001b[32m3513\u001b[39m newS = \u001b[43msolidRef\u001b[49m\u001b[43m.\u001b[49m\u001b[43mintersect\u001b[49m\u001b[43m(\u001b[49m\u001b[43m*\u001b[49m\u001b[43msolidToIntersect\u001b[49m\u001b[43m,\u001b[49m\u001b[43m \u001b[49m\u001b[43mtol\u001b[49m\u001b[43m=\u001b[49m\u001b[43mtol\u001b[49m\u001b[43m)\u001b[49m\n\u001b[32m   3515\u001b[39m \u001b[38;5;28;01mif\u001b[39;00m clean:\n\u001b[32m   3516\u001b[39m     newS = newS.clean()\n",
      "\u001b[36mFile \u001b[39m\u001b[32m/opt/miniconda3/envs/ethical_necromancy/lib/python3.11/site-packages/cadquery/occ_impl/shapes.py:4312\u001b[39m, in \u001b[36mCompound.intersect\u001b[39m\u001b[34m(self, tol, *toIntersect)\u001b[39m\n\u001b[32m   4309\u001b[39m \u001b[38;5;28;01mif\u001b[39;00m tol:\n\u001b[32m   4310\u001b[39m     intersect_op.SetFuzzyValue(tol)\n\u001b[32m-> \u001b[39m\u001b[32m4312\u001b[39m \u001b[38;5;28;01mreturn\u001b[39;00m tcast(Compound, \u001b[38;5;28;43mself\u001b[39;49m\u001b[43m.\u001b[49m\u001b[43m_bool_op\u001b[49m\u001b[43m(\u001b[49m\u001b[38;5;28;43mself\u001b[39;49m\u001b[43m,\u001b[49m\u001b[43m \u001b[49m\u001b[43mtoIntersect\u001b[49m\u001b[43m,\u001b[49m\u001b[43m \u001b[49m\u001b[43mintersect_op\u001b[49m\u001b[43m)\u001b[49m)\n",
      "\u001b[36mFile \u001b[39m\u001b[32m/opt/miniconda3/envs/ethical_necromancy/lib/python3.11/site-packages/cadquery/occ_impl/shapes.py:1239\u001b[39m, in \u001b[36mShape._bool_op\u001b[39m\u001b[34m(self, args, tools, op, parallel)\u001b[39m\n\u001b[32m   1236\u001b[39m op.SetTools(tool)\n\u001b[32m   1238\u001b[39m op.SetRunParallel(parallel)\n\u001b[32m-> \u001b[39m\u001b[32m1239\u001b[39m \u001b[43mop\u001b[49m\u001b[43m.\u001b[49m\u001b[43mBuild\u001b[49m\u001b[43m(\u001b[49m\u001b[43m)\u001b[49m\n\u001b[32m   1241\u001b[39m \u001b[38;5;28;01mreturn\u001b[39;00m Shape.cast(op.Shape())\n",
      "\u001b[31mKeyboardInterrupt\u001b[39m: "
     ]
    }
   ],
   "source": [
    "import cadquery as cq\n",
    "from tqdm import tqdm\n",
    "\n",
    "\n",
    "# Load your sloped STEP file\n",
    "model = cq.importers.importStep(\"face v1.step\")\n",
    "\n",
    "# Get bounding box\n",
    "bbox = model.val().BoundingBox()\n",
    "xmin, xmax = bbox.xmin, bbox.xmax\n",
    "ymin, ymax = bbox.ymin, bbox.ymax\n",
    "zmin = bbox.zmin  # This is the minimum Z value (bottom of the bounding box)\n",
    "\n",
    "# Parameters\n",
    "COEFFICIENT = 1.0\n",
    "spacing = 4 * COEFFICIENT\n",
    "cone_radius = 4 * COEFFICIENT # FYI: This cannot be bigger than spacing otherwise we get a kernel crash...\n",
    "assert cone_radius <= spacing, \"cone_radius must be less than or equal to spacing to avoid kernel crash\"\n",
    "cone_depth = 4.0 * COEFFICIENT\n",
    "\n",
    "RAISED_DEPTH = 0  # cone_depth / 2\n",
    "connecting_cylinder_radius = 0.75 * COEFFICIENT\n",
    "connecting_cylinder_depth = cone_depth  # 0.5 * cone_depth\n",
    "sphere_radius = 1.5 * COEFFICIENT\n",
    "sphere_depth = connecting_cylinder_depth * 1.5  # (cone_depth + (sphere_radius / 4))\n",
    "\n",
    "# Build divot geometry on the actual 3D surface\n",
    "divots = cq.Workplane(\"XY\")\n",
    "\n",
    "for x_idx, x in tqdm(enumerate(range(int(xmin), int(xmax) + 2, int(spacing)))):\n",
    "    # TODO: take me out...\n",
    "    # if x_idx <= 7:\n",
    "    #     continue\n",
    "    for y in range(int(ymin), int(ymax) + 2, int(spacing)):\n",
    "        # Create a ray (small box pointing downward) that starts below the object's surface\n",
    "        ray = cq.Solid.makeBox(0.1, 0.1, 100).translate((x, y, zmin - 50))\n",
    "\n",
    "        # Perform intersection to find where the ray meets the surface\n",
    "        intersection = model.intersect(ray)\n",
    "\n",
    "        try:\n",
    "            # Get the highest Z value in the intersected shape\n",
    "            z_top = intersection.val().BoundingBox().zmax\n",
    "            top_cylinder = (\n",
    "                cq.Workplane(\"XY\")\n",
    "                .cylinder(cone_depth * 4, cone_radius)\n",
    "                .translate((0, 0, cone_depth * 2 + RAISED_DEPTH))\n",
    "            )  # Extend the cylinder above the surface\n",
    "\n",
    "            cone = (\n",
    "                cq.Workplane(\"XY\")\n",
    "                .circle(cone_radius)\n",
    "                .workplane(offset=-cone_depth)\n",
    "                .center(0, 0)  # make sure it's aligned\n",
    "                .circle(\n",
    "                    0.0001\n",
    "                )  # small non-zero radius instead of 0 to avoid geometry errors\n",
    "                .loft()\n",
    "                .translate((0, 0, RAISED_DEPTH))\n",
    "            )\n",
    "\n",
    "            connecting_cylinder = (\n",
    "                cq.Workplane(\"XY\")\n",
    "                .cylinder(connecting_cylinder_depth, connecting_cylinder_radius)\n",
    "                .translate((0, 0, RAISED_DEPTH - connecting_cylinder_depth))\n",
    "            )\n",
    "\n",
    "            # Create the sphere at the tip\n",
    "            sphere = (\n",
    "                cq.Workplane(\"XY\")\n",
    "                .sphere(sphere_radius)\n",
    "                .translate((0, 0, RAISED_DEPTH - sphere_depth))\n",
    "            )\n",
    "\n",
    "            # Combine them\n",
    "            divot = cone.union(sphere).union(top_cylinder).union(connecting_cylinder)\n",
    "\n",
    "            # Translate the divot to the correct position, starting from the object's surface\n",
    "            divot = divot.translate((x, y, z_top))\n",
    "\n",
    "            # Add to combined divots\n",
    "            divots = divots.union(divot)\n",
    "\n",
    "            # if debug:\n",
    "            #     # Subtract divots from original model\n",
    "            #     modified = model.cut(divots)\n",
    "\n",
    "            #     # Export result\n",
    "            #     cq.exporters.export(modified, f\"divotted_face_v1_{x}{y}.step\")\n",
    "        except Exception as e:\n",
    "            print(\"skipping divot at ({}, {}): {}\".format(x, y, e))\n",
    "            continue\n",
    "\n",
    "# Subtract divots from original model\n",
    "modified = model.cut(divots)\n",
    "\n",
    "# Export result\n",
    "cq.exporters.export(modified, \"divotted_face_v1.step\")"
   ]
  }
 ],
 "metadata": {
  "kernelspec": {
   "display_name": "ethical_necromancy",
   "language": "python",
   "name": "python3"
  },
  "language_info": {
   "codemirror_mode": {
    "name": "ipython",
    "version": 3
   },
   "file_extension": ".py",
   "mimetype": "text/x-python",
   "name": "python",
   "nbconvert_exporter": "python",
   "pygments_lexer": "ipython3",
   "version": "3.11.8"
  }
 },
 "nbformat": 4,
 "nbformat_minor": 5
}
