{
 "cells": [
  {
   "cell_type": "code",
   "execution_count": 5,
   "id": "dddf7091",
   "metadata": {},
   "outputs": [],
   "source": [
    "import cadquery as cq\n",
    "\n",
    "# Create a sloped box: 50x50x10, then rotate 20° about X to tilt the top\n",
    "sloped_box = (\n",
    "    cq.Workplane(\"XY\")\n",
    "    .box(50, 50, 10)\n",
    "    .rotate((0, 0, 0), (1, 0, 0), 20)  # rotate around X axis\n",
    ")\n",
    "\n",
    "# Export\n",
    "cq.exporters.export(sloped_box, 'sloped_box.step')"
   ]
  },
  {
   "cell_type": "code",
   "execution_count": 1,
   "id": "c1ae2b9d",
   "metadata": {},
   "outputs": [],
   "source": [
    "import cadquery as cq\n",
    "\n",
    "# Create a box at the origin (centered by default)\n",
    "box = cq.Workplane(\"XY\").box(50, 50, 10)  # width, depth, height\n",
    "\n",
    "# Export to a STEP file\n",
    "cq.exporters.export(box, 'box_50x50.step')\n"
   ]
  },
  {
   "cell_type": "code",
   "execution_count": 2,
   "id": "4149f088",
   "metadata": {},
   "outputs": [],
   "source": [
    "model = cq.importers.importStep('box_50x50.step')"
   ]
  },
  {
   "cell_type": "code",
   "execution_count": null,
   "id": "12bdb5ab",
   "metadata": {},
   "outputs": [
    {
     "ename": "AttributeError",
     "evalue": "'Workplane' object has no attribute 'isEmpty'",
     "output_type": "error",
     "traceback": [
      "\u001b[0;31m---------------------------------------------------------------------------\u001b[0m",
      "\u001b[0;31mAttributeError\u001b[0m                            Traceback (most recent call last)",
      "Cell \u001b[0;32mIn[11], line 28\u001b[0m\n\u001b[1;32m     25\u001b[0m intersection \u001b[38;5;241m=\u001b[39m model\u001b[38;5;241m.\u001b[39mintersect(ray)\n\u001b[1;32m     27\u001b[0m \u001b[38;5;66;03m# Check if the intersection is empty (void) and skip it if so\u001b[39;00m\n\u001b[0;32m---> 28\u001b[0m \u001b[38;5;28;01mif\u001b[39;00m \u001b[43mintersection\u001b[49m\u001b[38;5;241;43m.\u001b[39;49m\u001b[43misEmpty\u001b[49m():\n\u001b[1;32m     29\u001b[0m     \u001b[38;5;28;01mcontinue\u001b[39;00m  \n\u001b[1;32m     31\u001b[0m \u001b[38;5;66;03m# Get the highest Z value in the intersected shape\u001b[39;00m\n",
      "\u001b[0;31mAttributeError\u001b[0m: 'Workplane' object has no attribute 'isEmpty'"
     ]
    }
   ],
   "source": [
    "import cadquery as cq\n",
    "\n",
    "# Load your sloped STEP file\n",
    "model = cq.importers.importStep(\"sloped_box.step\")\n",
    "\n",
    "# Get bounding box\n",
    "bbox = model.val().BoundingBox()\n",
    "xmin, xmax = bbox.xmin, bbox.xmax\n",
    "ymin, ymax = bbox.ymin, bbox.ymax\n",
    "zmin = bbox.zmin  # This is the minimum Z value (bottom of the bounding box)\n",
    "\n",
    "# Parameters\n",
    "spacing = 5.0\n",
    "divot_radius = 1.0\n",
    "divot_depth = 1.0\n",
    "\n",
    "# Build divot geometry on the actual 3D surface\n",
    "divots = cq.Workplane(\"XY\")\n",
    "\n",
    "for x in range(int(xmin), int(xmax) + 2, int(spacing)):\n",
    "    for y in range(int(ymin), int(ymax)+ 2 , int(spacing)):\n",
    "        # Create a ray (small box pointing downward) that starts below the object's surface\n",
    "        ray = cq.Solid.makeBox(0.1, 0.1, 100).translate((x, y, zmin - 50))\n",
    "\n",
    "        # Perform intersection to find where the ray meets the surface\n",
    "        intersection = model.intersect(ray)\n",
    "        \n",
    "        try:\n",
    "            # Get the highest Z value in the intersected shape\n",
    "            z_top = intersection.val().BoundingBox().zmax\n",
    "\n",
    "            # Create a cylinder that extends above the surface\n",
    "            cylinder = cq.Workplane(\"XY\").cylinder(divot_depth + 2.0, divot_radius)  # Extend the cylinder above the surface\n",
    "\n",
    "            # Create a sphere at the bottom of the cylinder (to round out the divot)\n",
    "            # Position the sphere so that its center is at the bottom of the cylinder\n",
    "            sphere = cq.Workplane(\"XY\").sphere(divot_radius).translate((0, 0, -2 * divot_depth))\n",
    "\n",
    "            # Combine the cylinder and sphere into one shape (cylinder with a spherical bottom)\n",
    "            divot = cylinder.union(sphere)\n",
    "            # Translate the divot to the correct position, starting from the object's surface\n",
    "            divot = divot.translate((x, y, z_top))\n",
    "\n",
    "            # Add to combined divots\n",
    "            divots = divots.union(divot)\n",
    "        except Exception as e:\n",
    "            print('skipping divot at ({}, {}): {}'.format(x, y, e))\n",
    "            continue\n",
    "\n",
    "# Subtract divots from original model\n",
    "modified = model.cut(divots)\n",
    "\n",
    "# Export result\n",
    "cq.exporters.export(modified, 'divoted_sloped_box.step')\n"
   ]
  }
 ],
 "metadata": {
  "kernelspec": {
   "display_name": "ethical_necromancy",
   "language": "python",
   "name": "python3"
  },
  "language_info": {
   "codemirror_mode": {
    "name": "ipython",
    "version": 3
   },
   "file_extension": ".py",
   "mimetype": "text/x-python",
   "name": "python",
   "nbconvert_exporter": "python",
   "pygments_lexer": "ipython3",
   "version": "3.12.0"
  }
 },
 "nbformat": 4,
 "nbformat_minor": 5
}
