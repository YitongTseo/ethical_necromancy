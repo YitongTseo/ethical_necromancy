{
 "cells": [
  {
   "cell_type": "code",
   "execution_count": 41,
   "metadata": {},
   "outputs": [
    {
     "name": "stdout",
     "output_type": "stream",
     "text": [
      "Connected to brickd\n"
     ]
    }
   ],
   "source": [
    "from IPython.display import clear_output\n",
    "import numpy as np\n",
    "import pandas as pd\n",
    "import time\n",
    "from tinkerforge.ip_connection import IPConnection, Error\n",
    "from tinkerforge.bricklet_silent_stepper_v2 import BrickletSilentStepperV2\n",
    "\n",
    "%matplotlib inline\n",
    "\n",
    "HOST = \"localhost\"\n",
    "PORT = 4223\n",
    "ROLLER_SSD_UID = \"2akW\" # backwards\n",
    "SPOOL_UID = \"26M7\" # Forward\n",
    "\n",
    "# Create IP connection\n",
    "ipcon = IPConnection()\n",
    "\n",
    "# Create device objects\n",
    "roller = BrickletSilentStepperV2(ROLLER_SSD_UID, ipcon)\n",
    "spool = BrickletSilentStepperV2(SPOOL_UID, ipcon)\n",
    "\n",
    "try:\n",
    "    ipcon.connect(HOST, PORT)\n",
    "    print(\"Connected to brickd\")\n",
    "except Error as e:\n",
    "    print(f\"Error connecting to brickd: {e}\")\n"
   ]
  },
  {
   "cell_type": "code",
   "execution_count": 42,
   "metadata": {},
   "outputs": [],
   "source": [
    "def initialize_motor(ss, speed):\n",
    "    # 416 mA, for 10W 24V system\n",
    "    ss.set_motor_current(416) \n",
    "    # 1/8 steps (interpolated)\n",
    "    ss.set_step_configuration(ss.STEP_RESOLUTION_8, True) \n",
    "    ss.set_max_velocity(speed) \n",
    "    ss.set_speed_ramping(speed, speed)\n",
    "    ss.set_enabled(True) \n",
    "\n"
   ]
  },
  {
   "cell_type": "code",
   "execution_count": 43,
   "metadata": {},
   "outputs": [],
   "source": [
    "def start_experiment(speed=50, wait_time=24 * 60 * 60 * 100, cm_per_period=20): # 7250 steps ~ 10cm \n",
    "\n",
    "    CM_2_STEP_CONVERSION = 725\n",
    "    initialize_motor(spool, 1000)\n",
    "    spool.set_enabled(True) \n",
    "    initialize_motor(roller, 100)\n",
    "    roller.set_enabled(True) \n",
    "    # while True:\n",
    "\n",
    "    roller.set_steps(-cm_per_period * CM_2_STEP_CONVERSION)\n",
    "    spool.set_steps(10 * cm_per_period * CM_2_STEP_CONVERSION)\n",
    "        # time.sleep(wait_time)\n"
   ]
  },
  {
   "cell_type": "code",
   "execution_count": 44,
   "metadata": {},
   "outputs": [],
   "source": [
    "start_experiment(cm_per_period=20)"
   ]
  }
 ],
 "metadata": {
  "kernelspec": {
   "display_name": "ethical_necromancy",
   "language": "python",
   "name": "python3"
  },
  "language_info": {
   "codemirror_mode": {
    "name": "ipython",
    "version": 3
   },
   "file_extension": ".py",
   "mimetype": "text/x-python",
   "name": "python",
   "nbconvert_exporter": "python",
   "pygments_lexer": "ipython3",
   "version": "3.12.0"
  }
 },
 "nbformat": 4,
 "nbformat_minor": 2
}
