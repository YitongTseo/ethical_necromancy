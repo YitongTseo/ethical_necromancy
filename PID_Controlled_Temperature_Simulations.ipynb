{
 "cells": [
  {
   "cell_type": "code",
   "execution_count": 2,
   "id": "a8d8b232",
   "metadata": {},
   "outputs": [],
   "source": [
    "# Code from https://www.nickpascucci.com/literate-pid/index.html\n",
    "\n",
    "class PIDController():\n",
    "    \"\"\"A classical PID controller which maintains state between calls.\n",
    "\n",
    "    This class is intended to be integrated into an external control loop. It\n",
    "    remembers enough of the state history to compute integral and derivative\n",
    "    terms, and produces a combined control signal with the given gains.\n",
    "    \"\"\"\n",
    "\n",
    "\n",
    "    def __init__(self,\n",
    "                    kp: float,\n",
    "                    ki: float,\n",
    "                    kd: float,\n",
    "                    target: float,\n",
    "                    initial_state: float,\n",
    "                    t_0: int) -> None:\n",
    "        \"\"\"Create a PID controller with the specified gains and initial state.\n",
    "\n",
    "        Parameters\n",
    "        ----------\n",
    "        kp, ki, kd    : The PID control gains.\n",
    "        target        : The desired system state, also called a \"setpoint\".\n",
    "        initial_state : The starting state of the system.\n",
    "        t_0           : The starting time.\n",
    "        \"\"\"\n",
    "        # Gains for the proportional, integral, and derivative terms.\n",
    "        self._kp: float = kp\n",
    "        self._ki: float = ki\n",
    "        self._kd: float = kd\n",
    "\n",
    "        # The target state which the controller tries to maintain.\n",
    "        self._target: float = target\n",
    "\n",
    "        # Tracks the integrated error over time. This starts at 0 as no time has passed.\n",
    "        self._accumulated_error: float = 0.0\n",
    "        # Tracks the previous sample's error to compute derivative term.\n",
    "        self._last_error: float = initial_state - target\n",
    "        # Tracks the previous sample time point for computing the d_t value used in I and D terms.\n",
    "        self._last_t: int = t_0\n",
    "\n",
    "\n",
    "    def _proportional(self, error: float) -> float:\n",
    "        return self._kp * error\n",
    "\n",
    "\n",
    "    def _integral(self, d_t: float, error: float) -> float:\n",
    "        # The constant part of the error.\n",
    "        base_error = min(error, self._last_error) * d_t\n",
    "        # Adjust by adding a little triangle on the constant part.\n",
    "        error_adj = abs(error - self._last_error) * d_t / 2.0\n",
    "        self._accumulated_error += base_error + error_adj\n",
    "        return self._ki * self._accumulated_error\n",
    "\n",
    "\n",
    "    def _derivative(self, d_t: float, error: float) -> float:\n",
    "        d_e = (error - self._last_error)\n",
    "        if d_t > 0:\n",
    "            return self._kd * (d_e / d_t)\n",
    "        else:\n",
    "            return 0\n",
    "        \n",
    "    def next(self, t: int, state: float) -> float:\n",
    "        \"\"\"Incorporate a sample of the state at time t and produce a control value.\n",
    "\n",
    "        Because the controller is stateful, calls to this method should be\n",
    "        monotonic - that is, subsequent calls should not go backwards in time.\n",
    "\n",
    "        Parameters\n",
    "        ----------\n",
    "        t     : The time at which the sample was taken.\n",
    "        state : The system state at time t.\n",
    "        \"\"\"\n",
    "        error = state - self._target\n",
    "        d_t = (t - self._last_t)\n",
    "        p = self._proportional(error)\n",
    "        i = self._integral(d_t, error)\n",
    "        d = self._derivative(d_t, error)\n",
    "        self._last_t = t\n",
    "        self._last_error = error\n",
    "        return p + i + d"
   ]
  },
  {
   "cell_type": "markdown",
   "id": "e540810c",
   "metadata": {},
   "source": [
    "# Simulations"
   ]
  },
  {
   "cell_type": "code",
   "execution_count": 41,
   "id": "7da12d2a",
   "metadata": {},
   "outputs": [],
   "source": [
    "# Also from https://www.nickpascucci.com/literate-pid/index.html\n",
    "# For testing\n",
    "\n",
    "from typing import Callable, Iterable, Tuple, List\n",
    "\n",
    "# Plotting stuff\n",
    "import plotly.graph_objs as go\n",
    "from plotly.subplots import make_subplots\n",
    "from IPython.display import display, clear_output\n",
    "import numpy as np\n",
    "import plotly.offline as pyo\n",
    "import time\n",
    "from datetime import datetime\n",
    "\n",
    "class ThermalMass():\n",
    "\n",
    "    def __init__(self, mass: float, cp: float, start_temp: float):\n",
    "        \"\"\"Create a thermal mass with the given properties.\n",
    "\n",
    "        Parameters\n",
    "        ----------\n",
    "        mass       : The body's mass in kilograms.\n",
    "        cp         : The body's specific heat capacity in J/K/kg.\n",
    "        start_temp : The body's starting temperature, in Kelvin.\n",
    "        \"\"\"\n",
    "        self._mass = mass\n",
    "        self._cp = cp\n",
    "        self._temp = start_temp\n",
    "\n",
    "\n",
    "    def current_temperature(self) -> float:\n",
    "        \"\"\"Get the current temperature of the body.\"\"\"\n",
    "        return self._temp\n",
    "\n",
    "\n",
    "    def update(self, heat_in: float, heat_out: float):\n",
    "        \"\"\"Update the body state given a certain heat input and output.\n",
    "\n",
    "        Parameters\n",
    "        ----------\n",
    "        heat_in  : The amount of heat added to the body in Joules.\n",
    "        heat_out : The amount of heat removed from the body in Joules.\n",
    "        \"\"\"\n",
    "        d_q = heat_in - heat_out\n",
    "        # We find the change in temperature by taking the change in heat and scaling it by the\n",
    "        # body's heat capacity.\n",
    "        self._temp += d_q / (self._mass * self._cp)\n",
    "\n",
    "\n",
    "class ThermalSystem():\n",
    "\n",
    "    def __init__(self,\n",
    "                 mass: ThermalMass,\n",
    "                 in_flow: Callable[[int], float],\n",
    "                 out_flow: Callable[[int, float], float]):\n",
    "        \"\"\"Create a simple thermal system with the given mass and flow functions.\n",
    "\n",
    "        Parameters\n",
    "        ----------\n",
    "        mass     : A thermal mass to use as the system's body of interest.\n",
    "        in_flow  : The heat flow rate (in J/s) into the body as a function of time.\n",
    "        out_flow : The heat flow rate (in J/s) out of the body as a function of time and\n",
    "                   temperature.\n",
    "        \"\"\"\n",
    "        self._mass = mass\n",
    "        self._in_flow = in_flow\n",
    "        self._out_flow = out_flow\n",
    "\n",
    "\n",
    "\n",
    "\n",
    "    def simulate(self, name, timesteps: Iterable[int]) -> List[Tuple[int, float, float, float]]:\n",
    "        \"\"\"Simulate the system behavior over time, and give a state trace.\n",
    "\n",
    "        This function runs the system state forward using the given timestep\n",
    "        sequence. At each time point it computes input and output heat flows,\n",
    "        updates the thermal mass, and records a datapoint for the output trace.\n",
    "        The trace consists of a sequence of tuples, one for each time point,\n",
    "        containing the time value, the temperature, and the instantaneous heat\n",
    "        flow in and out values at that time.\n",
    "\n",
    "        Parameters\n",
    "        ----------\n",
    "        timesteps : A monotonically increasing sequence of timepoints.\n",
    "        \"\"\"\n",
    "        trace = []\n",
    "        it = timesteps.__iter__()\n",
    "\n",
    "        start_milliseconds = time.time_ns() // 1_000_000\n",
    "        last_t = 0\n",
    "\n",
    "        temp = self._mass.current_temperature()\n",
    "        flow_in = self._in_flow(last_t)\n",
    "        flow_out = self._out_flow(last_t, temp)\n",
    "\n",
    "        trace.append((0, temp, flow_in, flow_out))\n",
    "\n",
    "\n",
    "        # Create a subplot with Plotly\n",
    "        fig = make_subplots(rows=3, cols=1, subplot_titles=(\"Temperature\", \"Flow Out\", \"Flow In\"), row_heights=[0.4, 0.3, 0.3])\n",
    "        fig.update_layout(title=name)\n",
    "        trace_heat = go.Scatter(x=[], y=[], mode='lines', name='Temperature')\n",
    "        trace_flow_out = go.Scatter(x=[], y=[], mode='lines', name='Flow Out')\n",
    "        trace_flow_in = go.Scatter(x=[], y=[], mode='lines', name='Flow In')\n",
    "        fig.add_trace(trace_heat, row=1, col=1)\n",
    "        fig.add_trace(trace_flow_out, row=2, col=1)\n",
    "        fig.add_trace(trace_flow_in, row=3, col=1)\n",
    "    \n",
    "        # Function to update the plot\n",
    "        def update_plot(times, y_temps, y_flow_outs, y_flow_ins):\n",
    "            with fig.batch_update():\n",
    "                fig.data[0].x = times\n",
    "                fig.data[0].y = y_temps\n",
    "                fig.data[1].x = times\n",
    "                fig.data[1].y = y_flow_outs\n",
    "                fig.data[2].x = times\n",
    "                fig.data[2].y = y_flow_ins\n",
    "\n",
    "\n",
    "        for t in it:\n",
    "            milliseconds = time.time_ns() // 1_000_000\n",
    "            t = (milliseconds - start_milliseconds) / 1000\n",
    "            dt = t - last_t\n",
    "            print(dt)\n",
    "            last_t = t\n",
    "\n",
    "            heat_in = flow_in * dt\n",
    "            heat_out = flow_out * dt\n",
    "\n",
    "            self._mass.update(heat_in, heat_out)\n",
    "\n",
    "            temp = self._mass.current_temperature()\n",
    "            flow_in = self._in_flow(t)\n",
    "            flow_out = self._out_flow(t, temp)\n",
    "            print('whats flow out? ', flow_out)\n",
    "            trace.append((t, temp, flow_in, flow_out))\n",
    "\n",
    "            # update_plot(\n",
    "            #     [tr[0] for tr in trace],\n",
    "            #     [tr[1] for tr in trace],\n",
    "            #     [tr[2] for tr in trace],\n",
    "            #     [tr[3] for tr in trace],\n",
    "            # )\n",
    "            # clear_output(wait=True)\n",
    "            # display(fig)\n",
    "            time.sleep(1)\n",
    "\n",
    "        return trace\n"
   ]
  },
  {
   "cell_type": "code",
   "execution_count": 37,
   "id": "223335de",
   "metadata": {},
   "outputs": [
    {
     "data": {
      "application/vnd.plotly.v1+json": {
       "config": {
        "plotlyServerURL": "https://plot.ly"
       },
       "data": [
        {
         "mode": "lines",
         "name": "Temperature",
         "type": "scatter",
         "x": [
          0,
          0.029,
          0.14,
          0.248,
          0.356,
          0.468,
          0.61,
          0.721,
          0.829,
          0.937,
          1.049,
          1.157,
          1.262,
          1.371,
          1.478,
          1.587,
          1.696,
          1.806,
          1.918,
          2.025,
          2.134,
          2.243,
          2.357,
          2.472,
          2.64,
          2.749,
          2.857,
          2.971,
          3.09,
          3.224,
          3.334,
          3.445,
          3.555,
          3.667,
          3.777,
          3.887,
          4.004,
          4.146,
          4.259,
          4.37,
          4.479,
          4.59
         ],
         "xaxis": "x",
         "y": [
          298.15,
          298.15,
          298.15,
          298.15,
          298.15,
          298.15,
          298.15,
          298.15,
          298.15,
          298.15,
          298.15,
          298.15,
          298.15,
          298.15,
          298.15,
          298.15,
          298.15,
          298.15,
          298.15,
          298.15,
          298.15,
          298.15,
          298.15,
          298.15,
          298.15,
          298.15,
          298.15,
          298.15,
          298.15,
          298.15,
          298.15,
          298.15,
          298.15,
          298.15,
          298.15,
          298.15,
          298.15,
          298.15,
          298.15,
          298.15,
          298.15,
          298.15
         ],
         "yaxis": "y"
        },
        {
         "mode": "lines",
         "name": "Flow Out",
         "type": "scatter",
         "x": [
          0,
          0.029,
          0.14,
          0.248,
          0.356,
          0.468,
          0.61,
          0.721,
          0.829,
          0.937,
          1.049,
          1.157,
          1.262,
          1.371,
          1.478,
          1.587,
          1.696,
          1.806,
          1.918,
          2.025,
          2.134,
          2.243,
          2.357,
          2.472,
          2.64,
          2.749,
          2.857,
          2.971,
          3.09,
          3.224,
          3.334,
          3.445,
          3.555,
          3.667,
          3.777,
          3.887,
          4.004,
          4.146,
          4.259,
          4.37,
          4.479,
          4.59
         ],
         "xaxis": "x2",
         "y": [
          100,
          100,
          100,
          100,
          100,
          100,
          100,
          100,
          100,
          100,
          100,
          100,
          100,
          100,
          100,
          100,
          100,
          100,
          100,
          100,
          100,
          100,
          100,
          100,
          100,
          100,
          100,
          100,
          100,
          100,
          100,
          100,
          100,
          100,
          100,
          100,
          100,
          100,
          100,
          100,
          100,
          100
         ],
         "yaxis": "y2"
        },
        {
         "mode": "lines",
         "name": "Flow In",
         "type": "scatter",
         "x": [
          0,
          0.029,
          0.14,
          0.248,
          0.356,
          0.468,
          0.61,
          0.721,
          0.829,
          0.937,
          1.049,
          1.157,
          1.262,
          1.371,
          1.478,
          1.587,
          1.696,
          1.806,
          1.918,
          2.025,
          2.134,
          2.243,
          2.357,
          2.472,
          2.64,
          2.749,
          2.857,
          2.971,
          3.09,
          3.224,
          3.334,
          3.445,
          3.555,
          3.667,
          3.777,
          3.887,
          4.004,
          4.146,
          4.259,
          4.37,
          4.479,
          4.59
         ],
         "xaxis": "x3",
         "y": [
          100,
          100,
          100,
          100,
          100,
          100,
          100,
          100,
          100,
          100,
          100,
          100,
          100,
          100,
          100,
          100,
          100,
          100,
          100,
          100,
          100,
          100,
          100,
          100,
          100,
          100,
          100,
          100,
          100,
          100,
          100,
          100,
          100,
          100,
          100,
          100,
          100,
          100,
          100,
          100,
          100,
          100
         ],
         "yaxis": "y3"
        }
       ],
       "layout": {
        "annotations": [
         {
          "font": {
           "size": 16
          },
          "showarrow": false,
          "text": "Temperature",
          "x": 0.5,
          "xanchor": "center",
          "xref": "paper",
          "y": 1,
          "yanchor": "bottom",
          "yref": "paper"
         },
         {
          "font": {
           "size": 16
          },
          "showarrow": false,
          "text": "Flow Out",
          "x": 0.5,
          "xanchor": "center",
          "xref": "paper",
          "y": 0.5666666666666667,
          "yanchor": "bottom",
          "yref": "paper"
         },
         {
          "font": {
           "size": 16
          },
          "showarrow": false,
          "text": "Flow In",
          "x": 0.5,
          "xanchor": "center",
          "xref": "paper",
          "y": 0.2,
          "yanchor": "bottom",
          "yref": "paper"
         }
        ],
        "template": {
         "data": {
          "bar": [
           {
            "error_x": {
             "color": "#2a3f5f"
            },
            "error_y": {
             "color": "#2a3f5f"
            },
            "marker": {
             "line": {
              "color": "#E5ECF6",
              "width": 0.5
             },
             "pattern": {
              "fillmode": "overlay",
              "size": 10,
              "solidity": 0.2
             }
            },
            "type": "bar"
           }
          ],
          "barpolar": [
           {
            "marker": {
             "line": {
              "color": "#E5ECF6",
              "width": 0.5
             },
             "pattern": {
              "fillmode": "overlay",
              "size": 10,
              "solidity": 0.2
             }
            },
            "type": "barpolar"
           }
          ],
          "carpet": [
           {
            "aaxis": {
             "endlinecolor": "#2a3f5f",
             "gridcolor": "white",
             "linecolor": "white",
             "minorgridcolor": "white",
             "startlinecolor": "#2a3f5f"
            },
            "baxis": {
             "endlinecolor": "#2a3f5f",
             "gridcolor": "white",
             "linecolor": "white",
             "minorgridcolor": "white",
             "startlinecolor": "#2a3f5f"
            },
            "type": "carpet"
           }
          ],
          "choropleth": [
           {
            "colorbar": {
             "outlinewidth": 0,
             "ticks": ""
            },
            "type": "choropleth"
           }
          ],
          "contour": [
           {
            "colorbar": {
             "outlinewidth": 0,
             "ticks": ""
            },
            "colorscale": [
             [
              0,
              "#0d0887"
             ],
             [
              0.1111111111111111,
              "#46039f"
             ],
             [
              0.2222222222222222,
              "#7201a8"
             ],
             [
              0.3333333333333333,
              "#9c179e"
             ],
             [
              0.4444444444444444,
              "#bd3786"
             ],
             [
              0.5555555555555556,
              "#d8576b"
             ],
             [
              0.6666666666666666,
              "#ed7953"
             ],
             [
              0.7777777777777778,
              "#fb9f3a"
             ],
             [
              0.8888888888888888,
              "#fdca26"
             ],
             [
              1,
              "#f0f921"
             ]
            ],
            "type": "contour"
           }
          ],
          "contourcarpet": [
           {
            "colorbar": {
             "outlinewidth": 0,
             "ticks": ""
            },
            "type": "contourcarpet"
           }
          ],
          "heatmap": [
           {
            "colorbar": {
             "outlinewidth": 0,
             "ticks": ""
            },
            "colorscale": [
             [
              0,
              "#0d0887"
             ],
             [
              0.1111111111111111,
              "#46039f"
             ],
             [
              0.2222222222222222,
              "#7201a8"
             ],
             [
              0.3333333333333333,
              "#9c179e"
             ],
             [
              0.4444444444444444,
              "#bd3786"
             ],
             [
              0.5555555555555556,
              "#d8576b"
             ],
             [
              0.6666666666666666,
              "#ed7953"
             ],
             [
              0.7777777777777778,
              "#fb9f3a"
             ],
             [
              0.8888888888888888,
              "#fdca26"
             ],
             [
              1,
              "#f0f921"
             ]
            ],
            "type": "heatmap"
           }
          ],
          "heatmapgl": [
           {
            "colorbar": {
             "outlinewidth": 0,
             "ticks": ""
            },
            "colorscale": [
             [
              0,
              "#0d0887"
             ],
             [
              0.1111111111111111,
              "#46039f"
             ],
             [
              0.2222222222222222,
              "#7201a8"
             ],
             [
              0.3333333333333333,
              "#9c179e"
             ],
             [
              0.4444444444444444,
              "#bd3786"
             ],
             [
              0.5555555555555556,
              "#d8576b"
             ],
             [
              0.6666666666666666,
              "#ed7953"
             ],
             [
              0.7777777777777778,
              "#fb9f3a"
             ],
             [
              0.8888888888888888,
              "#fdca26"
             ],
             [
              1,
              "#f0f921"
             ]
            ],
            "type": "heatmapgl"
           }
          ],
          "histogram": [
           {
            "marker": {
             "pattern": {
              "fillmode": "overlay",
              "size": 10,
              "solidity": 0.2
             }
            },
            "type": "histogram"
           }
          ],
          "histogram2d": [
           {
            "colorbar": {
             "outlinewidth": 0,
             "ticks": ""
            },
            "colorscale": [
             [
              0,
              "#0d0887"
             ],
             [
              0.1111111111111111,
              "#46039f"
             ],
             [
              0.2222222222222222,
              "#7201a8"
             ],
             [
              0.3333333333333333,
              "#9c179e"
             ],
             [
              0.4444444444444444,
              "#bd3786"
             ],
             [
              0.5555555555555556,
              "#d8576b"
             ],
             [
              0.6666666666666666,
              "#ed7953"
             ],
             [
              0.7777777777777778,
              "#fb9f3a"
             ],
             [
              0.8888888888888888,
              "#fdca26"
             ],
             [
              1,
              "#f0f921"
             ]
            ],
            "type": "histogram2d"
           }
          ],
          "histogram2dcontour": [
           {
            "colorbar": {
             "outlinewidth": 0,
             "ticks": ""
            },
            "colorscale": [
             [
              0,
              "#0d0887"
             ],
             [
              0.1111111111111111,
              "#46039f"
             ],
             [
              0.2222222222222222,
              "#7201a8"
             ],
             [
              0.3333333333333333,
              "#9c179e"
             ],
             [
              0.4444444444444444,
              "#bd3786"
             ],
             [
              0.5555555555555556,
              "#d8576b"
             ],
             [
              0.6666666666666666,
              "#ed7953"
             ],
             [
              0.7777777777777778,
              "#fb9f3a"
             ],
             [
              0.8888888888888888,
              "#fdca26"
             ],
             [
              1,
              "#f0f921"
             ]
            ],
            "type": "histogram2dcontour"
           }
          ],
          "mesh3d": [
           {
            "colorbar": {
             "outlinewidth": 0,
             "ticks": ""
            },
            "type": "mesh3d"
           }
          ],
          "parcoords": [
           {
            "line": {
             "colorbar": {
              "outlinewidth": 0,
              "ticks": ""
             }
            },
            "type": "parcoords"
           }
          ],
          "pie": [
           {
            "automargin": true,
            "type": "pie"
           }
          ],
          "scatter": [
           {
            "fillpattern": {
             "fillmode": "overlay",
             "size": 10,
             "solidity": 0.2
            },
            "type": "scatter"
           }
          ],
          "scatter3d": [
           {
            "line": {
             "colorbar": {
              "outlinewidth": 0,
              "ticks": ""
             }
            },
            "marker": {
             "colorbar": {
              "outlinewidth": 0,
              "ticks": ""
             }
            },
            "type": "scatter3d"
           }
          ],
          "scattercarpet": [
           {
            "marker": {
             "colorbar": {
              "outlinewidth": 0,
              "ticks": ""
             }
            },
            "type": "scattercarpet"
           }
          ],
          "scattergeo": [
           {
            "marker": {
             "colorbar": {
              "outlinewidth": 0,
              "ticks": ""
             }
            },
            "type": "scattergeo"
           }
          ],
          "scattergl": [
           {
            "marker": {
             "colorbar": {
              "outlinewidth": 0,
              "ticks": ""
             }
            },
            "type": "scattergl"
           }
          ],
          "scattermapbox": [
           {
            "marker": {
             "colorbar": {
              "outlinewidth": 0,
              "ticks": ""
             }
            },
            "type": "scattermapbox"
           }
          ],
          "scatterpolar": [
           {
            "marker": {
             "colorbar": {
              "outlinewidth": 0,
              "ticks": ""
             }
            },
            "type": "scatterpolar"
           }
          ],
          "scatterpolargl": [
           {
            "marker": {
             "colorbar": {
              "outlinewidth": 0,
              "ticks": ""
             }
            },
            "type": "scatterpolargl"
           }
          ],
          "scatterternary": [
           {
            "marker": {
             "colorbar": {
              "outlinewidth": 0,
              "ticks": ""
             }
            },
            "type": "scatterternary"
           }
          ],
          "surface": [
           {
            "colorbar": {
             "outlinewidth": 0,
             "ticks": ""
            },
            "colorscale": [
             [
              0,
              "#0d0887"
             ],
             [
              0.1111111111111111,
              "#46039f"
             ],
             [
              0.2222222222222222,
              "#7201a8"
             ],
             [
              0.3333333333333333,
              "#9c179e"
             ],
             [
              0.4444444444444444,
              "#bd3786"
             ],
             [
              0.5555555555555556,
              "#d8576b"
             ],
             [
              0.6666666666666666,
              "#ed7953"
             ],
             [
              0.7777777777777778,
              "#fb9f3a"
             ],
             [
              0.8888888888888888,
              "#fdca26"
             ],
             [
              1,
              "#f0f921"
             ]
            ],
            "type": "surface"
           }
          ],
          "table": [
           {
            "cells": {
             "fill": {
              "color": "#EBF0F8"
             },
             "line": {
              "color": "white"
             }
            },
            "header": {
             "fill": {
              "color": "#C8D4E3"
             },
             "line": {
              "color": "white"
             }
            },
            "type": "table"
           }
          ]
         },
         "layout": {
          "annotationdefaults": {
           "arrowcolor": "#2a3f5f",
           "arrowhead": 0,
           "arrowwidth": 1
          },
          "autotypenumbers": "strict",
          "coloraxis": {
           "colorbar": {
            "outlinewidth": 0,
            "ticks": ""
           }
          },
          "colorscale": {
           "diverging": [
            [
             0,
             "#8e0152"
            ],
            [
             0.1,
             "#c51b7d"
            ],
            [
             0.2,
             "#de77ae"
            ],
            [
             0.3,
             "#f1b6da"
            ],
            [
             0.4,
             "#fde0ef"
            ],
            [
             0.5,
             "#f7f7f7"
            ],
            [
             0.6,
             "#e6f5d0"
            ],
            [
             0.7,
             "#b8e186"
            ],
            [
             0.8,
             "#7fbc41"
            ],
            [
             0.9,
             "#4d9221"
            ],
            [
             1,
             "#276419"
            ]
           ],
           "sequential": [
            [
             0,
             "#0d0887"
            ],
            [
             0.1111111111111111,
             "#46039f"
            ],
            [
             0.2222222222222222,
             "#7201a8"
            ],
            [
             0.3333333333333333,
             "#9c179e"
            ],
            [
             0.4444444444444444,
             "#bd3786"
            ],
            [
             0.5555555555555556,
             "#d8576b"
            ],
            [
             0.6666666666666666,
             "#ed7953"
            ],
            [
             0.7777777777777778,
             "#fb9f3a"
            ],
            [
             0.8888888888888888,
             "#fdca26"
            ],
            [
             1,
             "#f0f921"
            ]
           ],
           "sequentialminus": [
            [
             0,
             "#0d0887"
            ],
            [
             0.1111111111111111,
             "#46039f"
            ],
            [
             0.2222222222222222,
             "#7201a8"
            ],
            [
             0.3333333333333333,
             "#9c179e"
            ],
            [
             0.4444444444444444,
             "#bd3786"
            ],
            [
             0.5555555555555556,
             "#d8576b"
            ],
            [
             0.6666666666666666,
             "#ed7953"
            ],
            [
             0.7777777777777778,
             "#fb9f3a"
            ],
            [
             0.8888888888888888,
             "#fdca26"
            ],
            [
             1,
             "#f0f921"
            ]
           ]
          },
          "colorway": [
           "#636efa",
           "#EF553B",
           "#00cc96",
           "#ab63fa",
           "#FFA15A",
           "#19d3f3",
           "#FF6692",
           "#B6E880",
           "#FF97FF",
           "#FECB52"
          ],
          "font": {
           "color": "#2a3f5f"
          },
          "geo": {
           "bgcolor": "white",
           "lakecolor": "white",
           "landcolor": "#E5ECF6",
           "showlakes": true,
           "showland": true,
           "subunitcolor": "white"
          },
          "hoverlabel": {
           "align": "left"
          },
          "hovermode": "closest",
          "mapbox": {
           "style": "light"
          },
          "paper_bgcolor": "white",
          "plot_bgcolor": "#E5ECF6",
          "polar": {
           "angularaxis": {
            "gridcolor": "white",
            "linecolor": "white",
            "ticks": ""
           },
           "bgcolor": "#E5ECF6",
           "radialaxis": {
            "gridcolor": "white",
            "linecolor": "white",
            "ticks": ""
           }
          },
          "scene": {
           "xaxis": {
            "backgroundcolor": "#E5ECF6",
            "gridcolor": "white",
            "gridwidth": 2,
            "linecolor": "white",
            "showbackground": true,
            "ticks": "",
            "zerolinecolor": "white"
           },
           "yaxis": {
            "backgroundcolor": "#E5ECF6",
            "gridcolor": "white",
            "gridwidth": 2,
            "linecolor": "white",
            "showbackground": true,
            "ticks": "",
            "zerolinecolor": "white"
           },
           "zaxis": {
            "backgroundcolor": "#E5ECF6",
            "gridcolor": "white",
            "gridwidth": 2,
            "linecolor": "white",
            "showbackground": true,
            "ticks": "",
            "zerolinecolor": "white"
           }
          },
          "shapedefaults": {
           "line": {
            "color": "#2a3f5f"
           }
          },
          "ternary": {
           "aaxis": {
            "gridcolor": "white",
            "linecolor": "white",
            "ticks": ""
           },
           "baxis": {
            "gridcolor": "white",
            "linecolor": "white",
            "ticks": ""
           },
           "bgcolor": "#E5ECF6",
           "caxis": {
            "gridcolor": "white",
            "linecolor": "white",
            "ticks": ""
           }
          },
          "title": {
           "x": 0.05
          },
          "xaxis": {
           "automargin": true,
           "gridcolor": "white",
           "linecolor": "white",
           "ticks": "",
           "title": {
            "standoff": 15
           },
           "zerolinecolor": "white",
           "zerolinewidth": 2
          },
          "yaxis": {
           "automargin": true,
           "gridcolor": "white",
           "linecolor": "white",
           "ticks": "",
           "title": {
            "standoff": 15
           },
           "zerolinecolor": "white",
           "zerolinewidth": 2
          }
         }
        },
        "title": {
         "text": "equilibrium"
        },
        "xaxis": {
         "anchor": "y",
         "domain": [
          0,
          1
         ]
        },
        "xaxis2": {
         "anchor": "y2",
         "domain": [
          0,
          1
         ]
        },
        "xaxis3": {
         "anchor": "y3",
         "domain": [
          0,
          1
         ]
        },
        "yaxis": {
         "anchor": "x",
         "domain": [
          0.7333333333333334,
          1
         ]
        },
        "yaxis2": {
         "anchor": "x2",
         "domain": [
          0.3666666666666667,
          0.5666666666666667
         ]
        },
        "yaxis3": {
         "anchor": "x3",
         "domain": [
          0,
          0.2
         ]
        }
       }
      }
     },
     "metadata": {},
     "output_type": "display_data"
    },
    {
     "ename": "KeyboardInterrupt",
     "evalue": "",
     "output_type": "error",
     "traceback": [
      "\u001b[0;31m---------------------------------------------------------------------------\u001b[0m",
      "\u001b[0;31mKeyboardInterrupt\u001b[0m                         Traceback (most recent call last)",
      "\u001b[1;32m/Users/yitongtseo/Documents/Ethical Necromancy/PID_Controlled_Temperature_Simulations.ipynb Cell 4\u001b[0m line \u001b[0;36m1\n\u001b[1;32m      <a href='vscode-notebook-cell:/Users/yitongtseo/Documents/Ethical%20Necromancy/PID_Controlled_Temperature_Simulations.ipynb#W4sZmlsZQ%3D%3D?line=6'>7</a>\u001b[0m out_flow \u001b[39m=\u001b[39m \u001b[39mlambda\u001b[39;00m t, s: \u001b[39m100.0\u001b[39m  \u001b[39m# 1 kJ/s\u001b[39;00m\n\u001b[1;32m      <a href='vscode-notebook-cell:/Users/yitongtseo/Documents/Ethical%20Necromancy/PID_Controlled_Temperature_Simulations.ipynb#W4sZmlsZQ%3D%3D?line=7'>8</a>\u001b[0m system \u001b[39m=\u001b[39m ThermalSystem(mass, in_flow, out_flow)\n\u001b[0;32m---> <a href='vscode-notebook-cell:/Users/yitongtseo/Documents/Ethical%20Necromancy/PID_Controlled_Temperature_Simulations.ipynb#W4sZmlsZQ%3D%3D?line=9'>10</a>\u001b[0m traces \u001b[39m=\u001b[39m system\u001b[39m.\u001b[39;49msimulate(\u001b[39m'\u001b[39;49m\u001b[39mequilibrium\u001b[39;49m\u001b[39m'\u001b[39;49m, \u001b[39mrange\u001b[39;49m(\u001b[39m0\u001b[39;49m, \u001b[39m100\u001b[39;49m))\n",
      "\u001b[1;32m/Users/yitongtseo/Documents/Ethical Necromancy/PID_Controlled_Temperature_Simulations.ipynb Cell 4\u001b[0m line \u001b[0;36m1\n\u001b[1;32m    <a href='vscode-notebook-cell:/Users/yitongtseo/Documents/Ethical%20Necromancy/PID_Controlled_Temperature_Simulations.ipynb#W4sZmlsZQ%3D%3D?line=142'>143</a>\u001b[0m     clear_output(wait\u001b[39m=\u001b[39m\u001b[39mTrue\u001b[39;00m)\n\u001b[1;32m    <a href='vscode-notebook-cell:/Users/yitongtseo/Documents/Ethical%20Necromancy/PID_Controlled_Temperature_Simulations.ipynb#W4sZmlsZQ%3D%3D?line=143'>144</a>\u001b[0m     display(fig)\n\u001b[0;32m--> <a href='vscode-notebook-cell:/Users/yitongtseo/Documents/Ethical%20Necromancy/PID_Controlled_Temperature_Simulations.ipynb#W4sZmlsZQ%3D%3D?line=144'>145</a>\u001b[0m     time\u001b[39m.\u001b[39;49msleep(\u001b[39m0.1\u001b[39;49m)\n\u001b[1;32m    <a href='vscode-notebook-cell:/Users/yitongtseo/Documents/Ethical%20Necromancy/PID_Controlled_Temperature_Simulations.ipynb#W4sZmlsZQ%3D%3D?line=146'>147</a>\u001b[0m \u001b[39mreturn\u001b[39;00m trace\n",
      "\u001b[0;31mKeyboardInterrupt\u001b[0m: "
     ]
    }
   ],
   "source": [
    "mass = ThermalMass(\n",
    "    mass=6,  # 6 Liters of water weighs 6kg!\n",
    "    cp=4.186,  # J/K/kg\n",
    "    start_temp=25 + 273.15,  # Kelvin (25 + 273.15)\n",
    ")\n",
    "in_flow = lambda t: 100.0  # 1 kJ/s\n",
    "out_flow = lambda t, s: 100.0  # 1 kJ/s\n",
    "system = ThermalSystem(mass, in_flow, out_flow)\n",
    "\n",
    "traces = system.simulate('equilibrium', range(0, 100))\n"
   ]
  },
  {
   "cell_type": "code",
   "execution_count": 38,
   "id": "cc5c8899",
   "metadata": {},
   "outputs": [
    {
     "data": {
      "application/vnd.plotly.v1+json": {
       "config": {
        "plotlyServerURL": "https://plot.ly"
       },
       "data": [
        {
         "mode": "lines",
         "name": "Temperature",
         "type": "scatter",
         "x": [
          0,
          0.022,
          0.132,
          0.24,
          0.38,
          0.49,
          0.601,
          0.711,
          0.817,
          0.924,
          1.043,
          1.152,
          1.259,
          1.384,
          1.495,
          1.607,
          1.716,
          1.827,
          1.935,
          2.044,
          2.154,
          2.264,
          2.374,
          2.484,
          2.593,
          2.705,
          2.815,
          2.927,
          3.037,
          3.146,
          3.257,
          3.368,
          3.478,
          3.589,
          3.7,
          3.81,
          3.921,
          4.033,
          4.144,
          4.257,
          4.369,
          4.48,
          4.592,
          4.704,
          4.815,
          4.923,
          5.034
         ],
         "xaxis": "x",
         "y": [
          298.15,
          298.32080745341614,
          299.1748447204969,
          300.01335403726705,
          301.1003105590062,
          301.9543478260869,
          302.81614906832294,
          303.6701863354037,
          304.4931677018633,
          305.32391304347817,
          306.2478260869564,
          307.0940993788819,
          307.92484472049676,
          308.8953416149067,
          309.75714285714275,
          310.62670807453406,
          311.4729813664595,
          312.33478260869555,
          313.1732919254657,
          314.0195652173912,
          314.8736024844719,
          315.72763975155266,
          316.5816770186334,
          317.43571428571414,
          318.2819875776396,
          319.1515527950309,
          320.00559006211165,
          320.87515527950296,
          321.7291925465837,
          322.57546583850916,
          323.4372670807452,
          324.2990683229812,
          325.15310559006195,
          326.014906832298,
          326.876708074534,
          327.73074534161475,
          328.5925465838508,
          329.4621118012421,
          330.3239130434781,
          331.2012422360247,
          332.070807453416,
          332.93260869565205,
          333.80217391304336,
          334.6717391304347,
          335.5335403726707,
          336.37204968944087,
          337.2338509316769
         ],
         "yaxis": "y"
        },
        {
         "mode": "lines",
         "name": "Flow Out",
         "type": "scatter",
         "x": [
          0,
          0.022,
          0.132,
          0.24,
          0.38,
          0.49,
          0.601,
          0.711,
          0.817,
          0.924,
          1.043,
          1.152,
          1.259,
          1.384,
          1.495,
          1.607,
          1.716,
          1.827,
          1.935,
          2.044,
          2.154,
          2.264,
          2.374,
          2.484,
          2.593,
          2.705,
          2.815,
          2.927,
          3.037,
          3.146,
          3.257,
          3.368,
          3.478,
          3.589,
          3.7,
          3.81,
          3.921,
          4.033,
          4.144,
          4.257,
          4.369,
          4.48,
          4.592,
          4.704,
          4.815,
          4.923,
          5.034
         ],
         "xaxis": "x2",
         "y": [
          200,
          200,
          200,
          200,
          200,
          200,
          200,
          200,
          200,
          200,
          200,
          200,
          200,
          200,
          200,
          200,
          200,
          200,
          200,
          200,
          200,
          200,
          200,
          200,
          200,
          200,
          200,
          200,
          200,
          200,
          200,
          200,
          200,
          200,
          200,
          200,
          200,
          200,
          200,
          200,
          200,
          200,
          200,
          200,
          200,
          200,
          200
         ],
         "yaxis": "y2"
        },
        {
         "mode": "lines",
         "name": "Flow In",
         "type": "scatter",
         "x": [
          0,
          0.022,
          0.132,
          0.24,
          0.38,
          0.49,
          0.601,
          0.711,
          0.817,
          0.924,
          1.043,
          1.152,
          1.259,
          1.384,
          1.495,
          1.607,
          1.716,
          1.827,
          1.935,
          2.044,
          2.154,
          2.264,
          2.374,
          2.484,
          2.593,
          2.705,
          2.815,
          2.927,
          3.037,
          3.146,
          3.257,
          3.368,
          3.478,
          3.589,
          3.7,
          3.81,
          3.921,
          4.033,
          4.144,
          4.257,
          4.369,
          4.48,
          4.592,
          4.704,
          4.815,
          4.923,
          5.034
         ],
         "xaxis": "x3",
         "y": [
          5,
          5,
          5,
          5,
          5,
          5,
          5,
          5,
          5,
          5,
          5,
          5,
          5,
          5,
          5,
          5,
          5,
          5,
          5,
          5,
          5,
          5,
          5,
          5,
          5,
          5,
          5,
          5,
          5,
          5,
          5,
          5,
          5,
          5,
          5,
          5,
          5,
          5,
          5,
          5,
          5,
          5,
          5,
          5,
          5,
          5,
          5
         ],
         "yaxis": "y3"
        }
       ],
       "layout": {
        "annotations": [
         {
          "font": {
           "size": 16
          },
          "showarrow": false,
          "text": "Temperature",
          "x": 0.5,
          "xanchor": "center",
          "xref": "paper",
          "y": 1,
          "yanchor": "bottom",
          "yref": "paper"
         },
         {
          "font": {
           "size": 16
          },
          "showarrow": false,
          "text": "Flow Out",
          "x": 0.5,
          "xanchor": "center",
          "xref": "paper",
          "y": 0.5666666666666667,
          "yanchor": "bottom",
          "yref": "paper"
         },
         {
          "font": {
           "size": 16
          },
          "showarrow": false,
          "text": "Flow In",
          "x": 0.5,
          "xanchor": "center",
          "xref": "paper",
          "y": 0.2,
          "yanchor": "bottom",
          "yref": "paper"
         }
        ],
        "template": {
         "data": {
          "bar": [
           {
            "error_x": {
             "color": "#2a3f5f"
            },
            "error_y": {
             "color": "#2a3f5f"
            },
            "marker": {
             "line": {
              "color": "#E5ECF6",
              "width": 0.5
             },
             "pattern": {
              "fillmode": "overlay",
              "size": 10,
              "solidity": 0.2
             }
            },
            "type": "bar"
           }
          ],
          "barpolar": [
           {
            "marker": {
             "line": {
              "color": "#E5ECF6",
              "width": 0.5
             },
             "pattern": {
              "fillmode": "overlay",
              "size": 10,
              "solidity": 0.2
             }
            },
            "type": "barpolar"
           }
          ],
          "carpet": [
           {
            "aaxis": {
             "endlinecolor": "#2a3f5f",
             "gridcolor": "white",
             "linecolor": "white",
             "minorgridcolor": "white",
             "startlinecolor": "#2a3f5f"
            },
            "baxis": {
             "endlinecolor": "#2a3f5f",
             "gridcolor": "white",
             "linecolor": "white",
             "minorgridcolor": "white",
             "startlinecolor": "#2a3f5f"
            },
            "type": "carpet"
           }
          ],
          "choropleth": [
           {
            "colorbar": {
             "outlinewidth": 0,
             "ticks": ""
            },
            "type": "choropleth"
           }
          ],
          "contour": [
           {
            "colorbar": {
             "outlinewidth": 0,
             "ticks": ""
            },
            "colorscale": [
             [
              0,
              "#0d0887"
             ],
             [
              0.1111111111111111,
              "#46039f"
             ],
             [
              0.2222222222222222,
              "#7201a8"
             ],
             [
              0.3333333333333333,
              "#9c179e"
             ],
             [
              0.4444444444444444,
              "#bd3786"
             ],
             [
              0.5555555555555556,
              "#d8576b"
             ],
             [
              0.6666666666666666,
              "#ed7953"
             ],
             [
              0.7777777777777778,
              "#fb9f3a"
             ],
             [
              0.8888888888888888,
              "#fdca26"
             ],
             [
              1,
              "#f0f921"
             ]
            ],
            "type": "contour"
           }
          ],
          "contourcarpet": [
           {
            "colorbar": {
             "outlinewidth": 0,
             "ticks": ""
            },
            "type": "contourcarpet"
           }
          ],
          "heatmap": [
           {
            "colorbar": {
             "outlinewidth": 0,
             "ticks": ""
            },
            "colorscale": [
             [
              0,
              "#0d0887"
             ],
             [
              0.1111111111111111,
              "#46039f"
             ],
             [
              0.2222222222222222,
              "#7201a8"
             ],
             [
              0.3333333333333333,
              "#9c179e"
             ],
             [
              0.4444444444444444,
              "#bd3786"
             ],
             [
              0.5555555555555556,
              "#d8576b"
             ],
             [
              0.6666666666666666,
              "#ed7953"
             ],
             [
              0.7777777777777778,
              "#fb9f3a"
             ],
             [
              0.8888888888888888,
              "#fdca26"
             ],
             [
              1,
              "#f0f921"
             ]
            ],
            "type": "heatmap"
           }
          ],
          "heatmapgl": [
           {
            "colorbar": {
             "outlinewidth": 0,
             "ticks": ""
            },
            "colorscale": [
             [
              0,
              "#0d0887"
             ],
             [
              0.1111111111111111,
              "#46039f"
             ],
             [
              0.2222222222222222,
              "#7201a8"
             ],
             [
              0.3333333333333333,
              "#9c179e"
             ],
             [
              0.4444444444444444,
              "#bd3786"
             ],
             [
              0.5555555555555556,
              "#d8576b"
             ],
             [
              0.6666666666666666,
              "#ed7953"
             ],
             [
              0.7777777777777778,
              "#fb9f3a"
             ],
             [
              0.8888888888888888,
              "#fdca26"
             ],
             [
              1,
              "#f0f921"
             ]
            ],
            "type": "heatmapgl"
           }
          ],
          "histogram": [
           {
            "marker": {
             "pattern": {
              "fillmode": "overlay",
              "size": 10,
              "solidity": 0.2
             }
            },
            "type": "histogram"
           }
          ],
          "histogram2d": [
           {
            "colorbar": {
             "outlinewidth": 0,
             "ticks": ""
            },
            "colorscale": [
             [
              0,
              "#0d0887"
             ],
             [
              0.1111111111111111,
              "#46039f"
             ],
             [
              0.2222222222222222,
              "#7201a8"
             ],
             [
              0.3333333333333333,
              "#9c179e"
             ],
             [
              0.4444444444444444,
              "#bd3786"
             ],
             [
              0.5555555555555556,
              "#d8576b"
             ],
             [
              0.6666666666666666,
              "#ed7953"
             ],
             [
              0.7777777777777778,
              "#fb9f3a"
             ],
             [
              0.8888888888888888,
              "#fdca26"
             ],
             [
              1,
              "#f0f921"
             ]
            ],
            "type": "histogram2d"
           }
          ],
          "histogram2dcontour": [
           {
            "colorbar": {
             "outlinewidth": 0,
             "ticks": ""
            },
            "colorscale": [
             [
              0,
              "#0d0887"
             ],
             [
              0.1111111111111111,
              "#46039f"
             ],
             [
              0.2222222222222222,
              "#7201a8"
             ],
             [
              0.3333333333333333,
              "#9c179e"
             ],
             [
              0.4444444444444444,
              "#bd3786"
             ],
             [
              0.5555555555555556,
              "#d8576b"
             ],
             [
              0.6666666666666666,
              "#ed7953"
             ],
             [
              0.7777777777777778,
              "#fb9f3a"
             ],
             [
              0.8888888888888888,
              "#fdca26"
             ],
             [
              1,
              "#f0f921"
             ]
            ],
            "type": "histogram2dcontour"
           }
          ],
          "mesh3d": [
           {
            "colorbar": {
             "outlinewidth": 0,
             "ticks": ""
            },
            "type": "mesh3d"
           }
          ],
          "parcoords": [
           {
            "line": {
             "colorbar": {
              "outlinewidth": 0,
              "ticks": ""
             }
            },
            "type": "parcoords"
           }
          ],
          "pie": [
           {
            "automargin": true,
            "type": "pie"
           }
          ],
          "scatter": [
           {
            "fillpattern": {
             "fillmode": "overlay",
             "size": 10,
             "solidity": 0.2
            },
            "type": "scatter"
           }
          ],
          "scatter3d": [
           {
            "line": {
             "colorbar": {
              "outlinewidth": 0,
              "ticks": ""
             }
            },
            "marker": {
             "colorbar": {
              "outlinewidth": 0,
              "ticks": ""
             }
            },
            "type": "scatter3d"
           }
          ],
          "scattercarpet": [
           {
            "marker": {
             "colorbar": {
              "outlinewidth": 0,
              "ticks": ""
             }
            },
            "type": "scattercarpet"
           }
          ],
          "scattergeo": [
           {
            "marker": {
             "colorbar": {
              "outlinewidth": 0,
              "ticks": ""
             }
            },
            "type": "scattergeo"
           }
          ],
          "scattergl": [
           {
            "marker": {
             "colorbar": {
              "outlinewidth": 0,
              "ticks": ""
             }
            },
            "type": "scattergl"
           }
          ],
          "scattermapbox": [
           {
            "marker": {
             "colorbar": {
              "outlinewidth": 0,
              "ticks": ""
             }
            },
            "type": "scattermapbox"
           }
          ],
          "scatterpolar": [
           {
            "marker": {
             "colorbar": {
              "outlinewidth": 0,
              "ticks": ""
             }
            },
            "type": "scatterpolar"
           }
          ],
          "scatterpolargl": [
           {
            "marker": {
             "colorbar": {
              "outlinewidth": 0,
              "ticks": ""
             }
            },
            "type": "scatterpolargl"
           }
          ],
          "scatterternary": [
           {
            "marker": {
             "colorbar": {
              "outlinewidth": 0,
              "ticks": ""
             }
            },
            "type": "scatterternary"
           }
          ],
          "surface": [
           {
            "colorbar": {
             "outlinewidth": 0,
             "ticks": ""
            },
            "colorscale": [
             [
              0,
              "#0d0887"
             ],
             [
              0.1111111111111111,
              "#46039f"
             ],
             [
              0.2222222222222222,
              "#7201a8"
             ],
             [
              0.3333333333333333,
              "#9c179e"
             ],
             [
              0.4444444444444444,
              "#bd3786"
             ],
             [
              0.5555555555555556,
              "#d8576b"
             ],
             [
              0.6666666666666666,
              "#ed7953"
             ],
             [
              0.7777777777777778,
              "#fb9f3a"
             ],
             [
              0.8888888888888888,
              "#fdca26"
             ],
             [
              1,
              "#f0f921"
             ]
            ],
            "type": "surface"
           }
          ],
          "table": [
           {
            "cells": {
             "fill": {
              "color": "#EBF0F8"
             },
             "line": {
              "color": "white"
             }
            },
            "header": {
             "fill": {
              "color": "#C8D4E3"
             },
             "line": {
              "color": "white"
             }
            },
            "type": "table"
           }
          ]
         },
         "layout": {
          "annotationdefaults": {
           "arrowcolor": "#2a3f5f",
           "arrowhead": 0,
           "arrowwidth": 1
          },
          "autotypenumbers": "strict",
          "coloraxis": {
           "colorbar": {
            "outlinewidth": 0,
            "ticks": ""
           }
          },
          "colorscale": {
           "diverging": [
            [
             0,
             "#8e0152"
            ],
            [
             0.1,
             "#c51b7d"
            ],
            [
             0.2,
             "#de77ae"
            ],
            [
             0.3,
             "#f1b6da"
            ],
            [
             0.4,
             "#fde0ef"
            ],
            [
             0.5,
             "#f7f7f7"
            ],
            [
             0.6,
             "#e6f5d0"
            ],
            [
             0.7,
             "#b8e186"
            ],
            [
             0.8,
             "#7fbc41"
            ],
            [
             0.9,
             "#4d9221"
            ],
            [
             1,
             "#276419"
            ]
           ],
           "sequential": [
            [
             0,
             "#0d0887"
            ],
            [
             0.1111111111111111,
             "#46039f"
            ],
            [
             0.2222222222222222,
             "#7201a8"
            ],
            [
             0.3333333333333333,
             "#9c179e"
            ],
            [
             0.4444444444444444,
             "#bd3786"
            ],
            [
             0.5555555555555556,
             "#d8576b"
            ],
            [
             0.6666666666666666,
             "#ed7953"
            ],
            [
             0.7777777777777778,
             "#fb9f3a"
            ],
            [
             0.8888888888888888,
             "#fdca26"
            ],
            [
             1,
             "#f0f921"
            ]
           ],
           "sequentialminus": [
            [
             0,
             "#0d0887"
            ],
            [
             0.1111111111111111,
             "#46039f"
            ],
            [
             0.2222222222222222,
             "#7201a8"
            ],
            [
             0.3333333333333333,
             "#9c179e"
            ],
            [
             0.4444444444444444,
             "#bd3786"
            ],
            [
             0.5555555555555556,
             "#d8576b"
            ],
            [
             0.6666666666666666,
             "#ed7953"
            ],
            [
             0.7777777777777778,
             "#fb9f3a"
            ],
            [
             0.8888888888888888,
             "#fdca26"
            ],
            [
             1,
             "#f0f921"
            ]
           ]
          },
          "colorway": [
           "#636efa",
           "#EF553B",
           "#00cc96",
           "#ab63fa",
           "#FFA15A",
           "#19d3f3",
           "#FF6692",
           "#B6E880",
           "#FF97FF",
           "#FECB52"
          ],
          "font": {
           "color": "#2a3f5f"
          },
          "geo": {
           "bgcolor": "white",
           "lakecolor": "white",
           "landcolor": "#E5ECF6",
           "showlakes": true,
           "showland": true,
           "subunitcolor": "white"
          },
          "hoverlabel": {
           "align": "left"
          },
          "hovermode": "closest",
          "mapbox": {
           "style": "light"
          },
          "paper_bgcolor": "white",
          "plot_bgcolor": "#E5ECF6",
          "polar": {
           "angularaxis": {
            "gridcolor": "white",
            "linecolor": "white",
            "ticks": ""
           },
           "bgcolor": "#E5ECF6",
           "radialaxis": {
            "gridcolor": "white",
            "linecolor": "white",
            "ticks": ""
           }
          },
          "scene": {
           "xaxis": {
            "backgroundcolor": "#E5ECF6",
            "gridcolor": "white",
            "gridwidth": 2,
            "linecolor": "white",
            "showbackground": true,
            "ticks": "",
            "zerolinecolor": "white"
           },
           "yaxis": {
            "backgroundcolor": "#E5ECF6",
            "gridcolor": "white",
            "gridwidth": 2,
            "linecolor": "white",
            "showbackground": true,
            "ticks": "",
            "zerolinecolor": "white"
           },
           "zaxis": {
            "backgroundcolor": "#E5ECF6",
            "gridcolor": "white",
            "gridwidth": 2,
            "linecolor": "white",
            "showbackground": true,
            "ticks": "",
            "zerolinecolor": "white"
           }
          },
          "shapedefaults": {
           "line": {
            "color": "#2a3f5f"
           }
          },
          "ternary": {
           "aaxis": {
            "gridcolor": "white",
            "linecolor": "white",
            "ticks": ""
           },
           "baxis": {
            "gridcolor": "white",
            "linecolor": "white",
            "ticks": ""
           },
           "bgcolor": "#E5ECF6",
           "caxis": {
            "gridcolor": "white",
            "linecolor": "white",
            "ticks": ""
           }
          },
          "title": {
           "x": 0.05
          },
          "xaxis": {
           "automargin": true,
           "gridcolor": "white",
           "linecolor": "white",
           "ticks": "",
           "title": {
            "standoff": 15
           },
           "zerolinecolor": "white",
           "zerolinewidth": 2
          },
          "yaxis": {
           "automargin": true,
           "gridcolor": "white",
           "linecolor": "white",
           "ticks": "",
           "title": {
            "standoff": 15
           },
           "zerolinecolor": "white",
           "zerolinewidth": 2
          }
         }
        },
        "title": {
         "text": "runaway"
        },
        "xaxis": {
         "anchor": "y",
         "domain": [
          0,
          1
         ]
        },
        "xaxis2": {
         "anchor": "y2",
         "domain": [
          0,
          1
         ]
        },
        "xaxis3": {
         "anchor": "y3",
         "domain": [
          0,
          1
         ]
        },
        "yaxis": {
         "anchor": "x",
         "domain": [
          0.7333333333333334,
          1
         ]
        },
        "yaxis2": {
         "anchor": "x2",
         "domain": [
          0.3666666666666667,
          0.5666666666666667
         ]
        },
        "yaxis3": {
         "anchor": "x3",
         "domain": [
          0,
          0.2
         ]
        }
       }
      }
     },
     "metadata": {},
     "output_type": "display_data"
    },
    {
     "ename": "KeyboardInterrupt",
     "evalue": "",
     "output_type": "error",
     "traceback": [
      "\u001b[0;31m---------------------------------------------------------------------------\u001b[0m",
      "\u001b[0;31mKeyboardInterrupt\u001b[0m                         Traceback (most recent call last)",
      "\u001b[1;32m/Users/yitongtseo/Documents/Ethical Necromancy/PID_Controlled_Temperature_Simulations.ipynb Cell 5\u001b[0m line \u001b[0;36m1\n\u001b[1;32m      <a href='vscode-notebook-cell:/Users/yitongtseo/Documents/Ethical%20Necromancy/PID_Controlled_Temperature_Simulations.ipynb#W6sZmlsZQ%3D%3D?line=6'>7</a>\u001b[0m out_flow \u001b[39m=\u001b[39m \u001b[39mlambda\u001b[39;00m t, s: \u001b[39m5.0\u001b[39m \u001b[39m# 0.5 kJ/s\u001b[39;00m\n\u001b[1;32m      <a href='vscode-notebook-cell:/Users/yitongtseo/Documents/Ethical%20Necromancy/PID_Controlled_Temperature_Simulations.ipynb#W6sZmlsZQ%3D%3D?line=7'>8</a>\u001b[0m system \u001b[39m=\u001b[39m ThermalSystem(mass, in_flow, out_flow)\n\u001b[0;32m---> <a href='vscode-notebook-cell:/Users/yitongtseo/Documents/Ethical%20Necromancy/PID_Controlled_Temperature_Simulations.ipynb#W6sZmlsZQ%3D%3D?line=9'>10</a>\u001b[0m traces \u001b[39m=\u001b[39m system\u001b[39m.\u001b[39;49msimulate(\u001b[39m'\u001b[39;49m\u001b[39mrunaway\u001b[39;49m\u001b[39m'\u001b[39;49m, \u001b[39mrange\u001b[39;49m(\u001b[39m0\u001b[39;49m, \u001b[39m100\u001b[39;49m))\n",
      "\u001b[1;32m/Users/yitongtseo/Documents/Ethical Necromancy/PID_Controlled_Temperature_Simulations.ipynb Cell 5\u001b[0m line \u001b[0;36m1\n\u001b[1;32m    <a href='vscode-notebook-cell:/Users/yitongtseo/Documents/Ethical%20Necromancy/PID_Controlled_Temperature_Simulations.ipynb#W6sZmlsZQ%3D%3D?line=142'>143</a>\u001b[0m     clear_output(wait\u001b[39m=\u001b[39m\u001b[39mTrue\u001b[39;00m)\n\u001b[1;32m    <a href='vscode-notebook-cell:/Users/yitongtseo/Documents/Ethical%20Necromancy/PID_Controlled_Temperature_Simulations.ipynb#W6sZmlsZQ%3D%3D?line=143'>144</a>\u001b[0m     display(fig)\n\u001b[0;32m--> <a href='vscode-notebook-cell:/Users/yitongtseo/Documents/Ethical%20Necromancy/PID_Controlled_Temperature_Simulations.ipynb#W6sZmlsZQ%3D%3D?line=144'>145</a>\u001b[0m     time\u001b[39m.\u001b[39;49msleep(\u001b[39m0.1\u001b[39;49m)\n\u001b[1;32m    <a href='vscode-notebook-cell:/Users/yitongtseo/Documents/Ethical%20Necromancy/PID_Controlled_Temperature_Simulations.ipynb#W6sZmlsZQ%3D%3D?line=146'>147</a>\u001b[0m \u001b[39mreturn\u001b[39;00m trace\n",
      "\u001b[0;31mKeyboardInterrupt\u001b[0m: "
     ]
    }
   ],
   "source": [
    "mass = ThermalMass(\n",
    "    mass=6,  # 6 Liters of water weighs 6kg!\n",
    "    cp=4.186,  # J/K/kg\n",
    "    start_temp=25 + 273.15,  # Kelvin (25 + 273.15)\n",
    ")\n",
    "in_flow = lambda t: 200.0 # 1 kJ/s\n",
    "out_flow = lambda t, s: 5.0 # 0.5 kJ/s\n",
    "system = ThermalSystem(mass, in_flow, out_flow)\n",
    "\n",
    "traces = system.simulate('runaway', range(0, 100))\n"
   ]
  },
  {
   "cell_type": "code",
   "execution_count": 39,
   "id": "c63e1430",
   "metadata": {},
   "outputs": [
    {
     "data": {
      "application/vnd.plotly.v1+json": {
       "config": {
        "plotlyServerURL": "https://plot.ly"
       },
       "data": [
        {
         "mode": "lines",
         "name": "Temperature",
         "type": "scatter",
         "x": [
          0,
          0.021,
          0.13,
          0.241,
          0.349,
          0.457,
          0.567,
          0.679,
          0.791,
          0.919,
          1.03,
          1.141,
          1.25,
          1.357,
          1.466,
          1.577,
          1.685,
          1.796,
          1.907,
          2.023,
          2.16,
          2.272,
          2.381,
          2.491,
          2.603,
          2.725,
          2.837,
          2.947,
          3.056,
          3.167,
          3.278,
          3.385,
          3.494,
          3.605,
          3.714,
          3.823,
          3.935,
          4.047,
          4.156,
          4.267,
          4.377,
          4.49,
          4.601,
          4.713,
          4.825,
          4.939,
          5.049,
          5.161,
          5.273,
          5.385,
          5.495,
          5.606,
          5.717,
          5.83,
          5.945,
          6.058,
          6.169,
          6.28,
          6.392,
          6.5,
          6.611,
          6.723,
          6.834,
          6.944,
          7.056,
          7.167,
          7.278,
          7.39,
          7.499,
          7.611,
          7.724,
          7.835,
          7.947,
          8.059,
          8.171,
          8.283,
          8.394,
          8.503,
          8.616,
          8.727,
          8.841,
          8.951,
          9.061,
          9.174,
          9.284,
          9.396,
          9.508,
          9.62,
          9.733,
          9.844,
          9.956,
          10.068,
          10.18,
          10.293,
          10.406,
          10.519,
          10.632,
          10.746,
          10.908,
          11.022,
          11.135
         ],
         "xaxis": "x",
         "y": [
          298.15,
          298.1548197404888,
          298.32015274453,
          298.40352165180315,
          298.33780001675854,
          298.71338056368114,
          298.577029836758,
          298.54792871116746,
          298.38347325752,
          298.01364655968933,
          297.957056290118,
          298.2266087218744,
          298.2645998887963,
          298.4252926194162,
          298.3491817432287,
          298.43985445477404,
          298.4727435605538,
          298.3618750367054,
          298.64843186980755,
          298.51245949245015,
          298.67394762293907,
          298.6267059274435,
          298.5972599773497,
          298.48225749721956,
          298.3895574564047,
          297.9611028941948,
          298.02830674780097,
          297.86410865122497,
          297.9806197738943,
          297.75038716292175,
          297.8522731708183,
          297.62326718167,
          297.4416830385137,
          297.6475398109438,
          297.9139952566217,
          298.0350489082653,
          297.9872554886571,
          298.11979031146615,
          297.9845829456047,
          297.6262478222255,
          297.3851287115219,
          297.38320441471626,
          297.33274467045,
          297.4677091097262,
          297.3123510425961,
          297.40964990392564,
          297.5484554971848,
          297.6167957491627,
          297.3941190723388,
          297.53761886007595,
          297.8603565795328,
          297.97493608066026,
          297.76881888043044,
          297.7528945395197,
          297.61121637187915,
          297.50838700087155,
          297.75019192906075,
          297.8899750993587,
          298.03648372506836,
          298.08263065424075,
          297.986332029383,
          298.00425489863716,
          298.0205717612156,
          298.09597626408896,
          297.9704985642861,
          297.64142161458614,
          297.96901113892164,
          297.74247266692413,
          297.5309361124527,
          297.7414703287193,
          297.52979021015557,
          297.53483409604837,
          297.8403314607819,
          297.7266626361015,
          297.84560168770304,
          298.0095009063036,
          298.4231881880351,
          298.35707550703273,
          298.3994135845473,
          298.44081579052494,
          298.4698995443691,
          298.4962650996366,
          298.1330422843648,
          298.16165060551924,
          298.42222312022375,
          298.0266173680497,
          298.19321505512295,
          298.3002968048063,
          298.2435656252583,
          298.35448814949916,
          298.129670470765,
          298.03283704287486,
          297.9412890592533,
          297.9128310276003,
          298.1045458389415,
          298.10371392584517,
          298.2419171468274,
          298.5454679049992,
          298.7228437777887,
          298.50956495836857,
          298.3306431071409
         ],
         "yaxis": "y"
        },
        {
         "mode": "lines",
         "name": "Flow Out",
         "type": "scatter",
         "x": [
          0,
          0.021,
          0.13,
          0.241,
          0.349,
          0.457,
          0.567,
          0.679,
          0.791,
          0.919,
          1.03,
          1.141,
          1.25,
          1.357,
          1.466,
          1.577,
          1.685,
          1.796,
          1.907,
          2.023,
          2.16,
          2.272,
          2.381,
          2.491,
          2.603,
          2.725,
          2.837,
          2.947,
          3.056,
          3.167,
          3.278,
          3.385,
          3.494,
          3.605,
          3.714,
          3.823,
          3.935,
          4.047,
          4.156,
          4.267,
          4.377,
          4.49,
          4.601,
          4.713,
          4.825,
          4.939,
          5.049,
          5.161,
          5.273,
          5.385,
          5.495,
          5.606,
          5.717,
          5.83,
          5.945,
          6.058,
          6.169,
          6.28,
          6.392,
          6.5,
          6.611,
          6.723,
          6.834,
          6.944,
          7.056,
          7.167,
          7.278,
          7.39,
          7.499,
          7.611,
          7.724,
          7.835,
          7.947,
          8.059,
          8.171,
          8.283,
          8.394,
          8.503,
          8.616,
          8.727,
          8.841,
          8.951,
          9.061,
          9.174,
          9.284,
          9.396,
          9.508,
          9.62,
          9.733,
          9.844,
          9.956,
          10.068,
          10.18,
          10.293,
          10.406,
          10.519,
          10.632,
          10.746,
          10.908,
          11.022,
          11.135
         ],
         "xaxis": "x2",
         "y": [
          53.90445802324274,
          96.57781050292465,
          65.04473095663853,
          13.192641077250133,
          97.31770841633207,
          2.655042401260177,
          72.60529239082177,
          33.89676253526434,
          19.996686440269652,
          12.68189611126196,
          73.05795405902896,
          99.90095989161021,
          77.7259807197067,
          50.91505799573399,
          43.44354846877175,
          44.931817313764874,
          28.062962791494517,
          94.05776985616153,
          28.326075378682305,
          67.62007295182691,
          75.23693260662155,
          40.44292471383083,
          10.95092197251758,
          22.47237111457575,
          3.9509371054405773,
          56.71040479233683,
          1.7478509005861897,
          97.10102906055414,
          31.752263899514542,
          48.213924798101225,
          29.90233007101022,
          9.631021796768968,
          58.61574618334981,
          88.34995142197958,
          38.41243813874509,
          40.817859012921396,
          80.04519107000785,
          60.48779028217448,
          1.6155249227290835,
          39.67441961413544,
          52.098365465439635,
          3.0354869948612917,
          45.85714960260272,
          5.255422648950747,
          92.1436064568053,
          86.1020375197825,
          63.69837177171307,
          0.06099851554778324,
          74.99725812333374,
          82.19011539991101,
          54.25972596847799,
          1.4784014708382864,
          57.7653931383245,
          30.19346023360372,
          9.776660391412772,
          93.360196357777,
          36.535990921201,
          77.88664257954547,
          18.975169758945565,
          15.205633828095444,
          57.66977785670095,
          8.587314778712807,
          38.82969820149046,
          7.097199480709293,
          17.085276130557713,
          75.64857263111271,
          21.350708261799678,
          24.845326818116188,
          85.1112097515023,
          46.37531505321344,
          84.6893395458308,
          80.82989160633494,
          68.20791212301516,
          61.09721953169437,
          95.79495602547574,
          98.29242170222793,
          67.07450970803625,
          19.147417411911626,
          70.33243325490591,
          80.10301070950825,
          50.8620294468359,
          15.572842651311925,
          98.92097152067004,
          82.31450372292272,
          6.096340147784374,
          88.65194554176175,
          80.80334650453162,
          6.0231756666261465,
          45.26336744946351,
          42.64295369969948,
          16.599992723268407,
          38.66508124934985,
          55.03580142898862,
          79.55964466809854,
          79.5591893641208,
          74.45908719578368,
          99.90770145445012,
          85.72855842503772,
          32.38114155609102,
          0.8272208256178248,
          40.64574612554832
         ],
         "yaxis": "y2"
        },
        {
         "mode": "lines",
         "name": "Flow In",
         "type": "scatter",
         "x": [
          0,
          0.021,
          0.13,
          0.241,
          0.349,
          0.457,
          0.567,
          0.679,
          0.791,
          0.919,
          1.03,
          1.141,
          1.25,
          1.357,
          1.466,
          1.577,
          1.685,
          1.796,
          1.907,
          2.023,
          2.16,
          2.272,
          2.381,
          2.491,
          2.603,
          2.725,
          2.837,
          2.947,
          3.056,
          3.167,
          3.278,
          3.385,
          3.494,
          3.605,
          3.714,
          3.823,
          3.935,
          4.047,
          4.156,
          4.267,
          4.377,
          4.49,
          4.601,
          4.713,
          4.825,
          4.939,
          5.049,
          5.161,
          5.273,
          5.385,
          5.495,
          5.606,
          5.717,
          5.83,
          5.945,
          6.058,
          6.169,
          6.28,
          6.392,
          6.5,
          6.611,
          6.723,
          6.834,
          6.944,
          7.056,
          7.167,
          7.278,
          7.39,
          7.499,
          7.611,
          7.724,
          7.835,
          7.947,
          8.059,
          8.171,
          8.283,
          8.394,
          8.503,
          8.616,
          8.727,
          8.841,
          8.951,
          9.061,
          9.174,
          9.284,
          9.396,
          9.508,
          9.62,
          9.733,
          9.844,
          9.956,
          10.068,
          10.18,
          10.293,
          10.406,
          10.519,
          10.632,
          10.746,
          10.908,
          11.022,
          11.135
         ],
         "xaxis": "x3",
         "y": [
          48.14004839864746,
          58.48144601210387,
          46.180825775806845,
          28.476572427074597,
          9.974365670885243,
          33.787632013999726,
          79.13121980450283,
          70.77589801571396,
          92.56361880522583,
          25.486591701847004,
          12.066252473486927,
          91.14695853004879,
          40.00674125942063,
          68.45267970513946,
          22.9270095212737,
          37.28327304743158,
          53.1492136471366,
          29.218477782342035,
          57.76643942789256,
          38.01470152584429,
          85.83088282150585,
          47.227919966624,
          37.20912461750581,
          43.26035526730897,
          92.15638615841902,
          41.63994062115367,
          39.23875447878752,
          70.25430101502114,
          83.84705900930966,
          25.16015025459364,
          83.6566704770745,
          51.472006562947094,
          12.036478648625526,
          26.952749828885903,
          10.519011398555978,
          51.53553336005853,
          50.324257055079734,
          91.64254441956894,
          82.69611013708037,
          94.72848856351588,
          52.52607023153887,
          14.453026967762039,
          15.591374094920884,
          40.09446920287334,
          70.70713100810181,
          54.40893497162579,
          48.373070265673825,
          49.99624329330358,
          42.8174307232818,
          8.50029211011083,
          28.33379128093184,
          48.116596074184315,
          61.30482452163694,
          61.135972046287804,
          32.632080588107456,
          38.64692990372799,
          4.9072151986526595,
          45.032083264148525,
          8.243445008082585,
          36.995149701315576,
          53.65057442645214,
          4.895293873130124,
          21.61279370905462,
          35.23557366149623,
          91.54560647888403,
          1.5248024220041123,
          72.15196060723741,
          73.5880066539362,
          37.89891175372464,
          93.42449963592546,
          83.54805812165722,
          12.322107564836104,
          93.69814605759669,
          34.425137210044895,
          59.04055625430039,
          4.687288657453859,
          82.30832710304456,
          9.737124006109966,
          60.964344918555256,
          73.69540052046796,
          44.84205411867228,
          98.50651745463908,
          92.56232909487404,
          22.818692092752435,
          94.81093007282001,
          51.29241421558015,
          56.790264138046375,
          18.63255890136989,
          20.164897910426404,
          93.05831815583564,
          38.31488892763771,
          59.19471657649032,
          61.36103968558878,
          36.94805881283708,
          79.74409493338158,
          43.74128101711269,
          33.03067652249789,
          58.228728665897066,
          79.3698330346467,
          40.59537317459686,
          26.710261055196337
         ],
         "yaxis": "y3"
        }
       ],
       "layout": {
        "annotations": [
         {
          "font": {
           "size": 16
          },
          "showarrow": false,
          "text": "Temperature",
          "x": 0.5,
          "xanchor": "center",
          "xref": "paper",
          "y": 1,
          "yanchor": "bottom",
          "yref": "paper"
         },
         {
          "font": {
           "size": 16
          },
          "showarrow": false,
          "text": "Flow Out",
          "x": 0.5,
          "xanchor": "center",
          "xref": "paper",
          "y": 0.5666666666666667,
          "yanchor": "bottom",
          "yref": "paper"
         },
         {
          "font": {
           "size": 16
          },
          "showarrow": false,
          "text": "Flow In",
          "x": 0.5,
          "xanchor": "center",
          "xref": "paper",
          "y": 0.2,
          "yanchor": "bottom",
          "yref": "paper"
         }
        ],
        "template": {
         "data": {
          "bar": [
           {
            "error_x": {
             "color": "#2a3f5f"
            },
            "error_y": {
             "color": "#2a3f5f"
            },
            "marker": {
             "line": {
              "color": "#E5ECF6",
              "width": 0.5
             },
             "pattern": {
              "fillmode": "overlay",
              "size": 10,
              "solidity": 0.2
             }
            },
            "type": "bar"
           }
          ],
          "barpolar": [
           {
            "marker": {
             "line": {
              "color": "#E5ECF6",
              "width": 0.5
             },
             "pattern": {
              "fillmode": "overlay",
              "size": 10,
              "solidity": 0.2
             }
            },
            "type": "barpolar"
           }
          ],
          "carpet": [
           {
            "aaxis": {
             "endlinecolor": "#2a3f5f",
             "gridcolor": "white",
             "linecolor": "white",
             "minorgridcolor": "white",
             "startlinecolor": "#2a3f5f"
            },
            "baxis": {
             "endlinecolor": "#2a3f5f",
             "gridcolor": "white",
             "linecolor": "white",
             "minorgridcolor": "white",
             "startlinecolor": "#2a3f5f"
            },
            "type": "carpet"
           }
          ],
          "choropleth": [
           {
            "colorbar": {
             "outlinewidth": 0,
             "ticks": ""
            },
            "type": "choropleth"
           }
          ],
          "contour": [
           {
            "colorbar": {
             "outlinewidth": 0,
             "ticks": ""
            },
            "colorscale": [
             [
              0,
              "#0d0887"
             ],
             [
              0.1111111111111111,
              "#46039f"
             ],
             [
              0.2222222222222222,
              "#7201a8"
             ],
             [
              0.3333333333333333,
              "#9c179e"
             ],
             [
              0.4444444444444444,
              "#bd3786"
             ],
             [
              0.5555555555555556,
              "#d8576b"
             ],
             [
              0.6666666666666666,
              "#ed7953"
             ],
             [
              0.7777777777777778,
              "#fb9f3a"
             ],
             [
              0.8888888888888888,
              "#fdca26"
             ],
             [
              1,
              "#f0f921"
             ]
            ],
            "type": "contour"
           }
          ],
          "contourcarpet": [
           {
            "colorbar": {
             "outlinewidth": 0,
             "ticks": ""
            },
            "type": "contourcarpet"
           }
          ],
          "heatmap": [
           {
            "colorbar": {
             "outlinewidth": 0,
             "ticks": ""
            },
            "colorscale": [
             [
              0,
              "#0d0887"
             ],
             [
              0.1111111111111111,
              "#46039f"
             ],
             [
              0.2222222222222222,
              "#7201a8"
             ],
             [
              0.3333333333333333,
              "#9c179e"
             ],
             [
              0.4444444444444444,
              "#bd3786"
             ],
             [
              0.5555555555555556,
              "#d8576b"
             ],
             [
              0.6666666666666666,
              "#ed7953"
             ],
             [
              0.7777777777777778,
              "#fb9f3a"
             ],
             [
              0.8888888888888888,
              "#fdca26"
             ],
             [
              1,
              "#f0f921"
             ]
            ],
            "type": "heatmap"
           }
          ],
          "heatmapgl": [
           {
            "colorbar": {
             "outlinewidth": 0,
             "ticks": ""
            },
            "colorscale": [
             [
              0,
              "#0d0887"
             ],
             [
              0.1111111111111111,
              "#46039f"
             ],
             [
              0.2222222222222222,
              "#7201a8"
             ],
             [
              0.3333333333333333,
              "#9c179e"
             ],
             [
              0.4444444444444444,
              "#bd3786"
             ],
             [
              0.5555555555555556,
              "#d8576b"
             ],
             [
              0.6666666666666666,
              "#ed7953"
             ],
             [
              0.7777777777777778,
              "#fb9f3a"
             ],
             [
              0.8888888888888888,
              "#fdca26"
             ],
             [
              1,
              "#f0f921"
             ]
            ],
            "type": "heatmapgl"
           }
          ],
          "histogram": [
           {
            "marker": {
             "pattern": {
              "fillmode": "overlay",
              "size": 10,
              "solidity": 0.2
             }
            },
            "type": "histogram"
           }
          ],
          "histogram2d": [
           {
            "colorbar": {
             "outlinewidth": 0,
             "ticks": ""
            },
            "colorscale": [
             [
              0,
              "#0d0887"
             ],
             [
              0.1111111111111111,
              "#46039f"
             ],
             [
              0.2222222222222222,
              "#7201a8"
             ],
             [
              0.3333333333333333,
              "#9c179e"
             ],
             [
              0.4444444444444444,
              "#bd3786"
             ],
             [
              0.5555555555555556,
              "#d8576b"
             ],
             [
              0.6666666666666666,
              "#ed7953"
             ],
             [
              0.7777777777777778,
              "#fb9f3a"
             ],
             [
              0.8888888888888888,
              "#fdca26"
             ],
             [
              1,
              "#f0f921"
             ]
            ],
            "type": "histogram2d"
           }
          ],
          "histogram2dcontour": [
           {
            "colorbar": {
             "outlinewidth": 0,
             "ticks": ""
            },
            "colorscale": [
             [
              0,
              "#0d0887"
             ],
             [
              0.1111111111111111,
              "#46039f"
             ],
             [
              0.2222222222222222,
              "#7201a8"
             ],
             [
              0.3333333333333333,
              "#9c179e"
             ],
             [
              0.4444444444444444,
              "#bd3786"
             ],
             [
              0.5555555555555556,
              "#d8576b"
             ],
             [
              0.6666666666666666,
              "#ed7953"
             ],
             [
              0.7777777777777778,
              "#fb9f3a"
             ],
             [
              0.8888888888888888,
              "#fdca26"
             ],
             [
              1,
              "#f0f921"
             ]
            ],
            "type": "histogram2dcontour"
           }
          ],
          "mesh3d": [
           {
            "colorbar": {
             "outlinewidth": 0,
             "ticks": ""
            },
            "type": "mesh3d"
           }
          ],
          "parcoords": [
           {
            "line": {
             "colorbar": {
              "outlinewidth": 0,
              "ticks": ""
             }
            },
            "type": "parcoords"
           }
          ],
          "pie": [
           {
            "automargin": true,
            "type": "pie"
           }
          ],
          "scatter": [
           {
            "fillpattern": {
             "fillmode": "overlay",
             "size": 10,
             "solidity": 0.2
            },
            "type": "scatter"
           }
          ],
          "scatter3d": [
           {
            "line": {
             "colorbar": {
              "outlinewidth": 0,
              "ticks": ""
             }
            },
            "marker": {
             "colorbar": {
              "outlinewidth": 0,
              "ticks": ""
             }
            },
            "type": "scatter3d"
           }
          ],
          "scattercarpet": [
           {
            "marker": {
             "colorbar": {
              "outlinewidth": 0,
              "ticks": ""
             }
            },
            "type": "scattercarpet"
           }
          ],
          "scattergeo": [
           {
            "marker": {
             "colorbar": {
              "outlinewidth": 0,
              "ticks": ""
             }
            },
            "type": "scattergeo"
           }
          ],
          "scattergl": [
           {
            "marker": {
             "colorbar": {
              "outlinewidth": 0,
              "ticks": ""
             }
            },
            "type": "scattergl"
           }
          ],
          "scattermapbox": [
           {
            "marker": {
             "colorbar": {
              "outlinewidth": 0,
              "ticks": ""
             }
            },
            "type": "scattermapbox"
           }
          ],
          "scatterpolar": [
           {
            "marker": {
             "colorbar": {
              "outlinewidth": 0,
              "ticks": ""
             }
            },
            "type": "scatterpolar"
           }
          ],
          "scatterpolargl": [
           {
            "marker": {
             "colorbar": {
              "outlinewidth": 0,
              "ticks": ""
             }
            },
            "type": "scatterpolargl"
           }
          ],
          "scatterternary": [
           {
            "marker": {
             "colorbar": {
              "outlinewidth": 0,
              "ticks": ""
             }
            },
            "type": "scatterternary"
           }
          ],
          "surface": [
           {
            "colorbar": {
             "outlinewidth": 0,
             "ticks": ""
            },
            "colorscale": [
             [
              0,
              "#0d0887"
             ],
             [
              0.1111111111111111,
              "#46039f"
             ],
             [
              0.2222222222222222,
              "#7201a8"
             ],
             [
              0.3333333333333333,
              "#9c179e"
             ],
             [
              0.4444444444444444,
              "#bd3786"
             ],
             [
              0.5555555555555556,
              "#d8576b"
             ],
             [
              0.6666666666666666,
              "#ed7953"
             ],
             [
              0.7777777777777778,
              "#fb9f3a"
             ],
             [
              0.8888888888888888,
              "#fdca26"
             ],
             [
              1,
              "#f0f921"
             ]
            ],
            "type": "surface"
           }
          ],
          "table": [
           {
            "cells": {
             "fill": {
              "color": "#EBF0F8"
             },
             "line": {
              "color": "white"
             }
            },
            "header": {
             "fill": {
              "color": "#C8D4E3"
             },
             "line": {
              "color": "white"
             }
            },
            "type": "table"
           }
          ]
         },
         "layout": {
          "annotationdefaults": {
           "arrowcolor": "#2a3f5f",
           "arrowhead": 0,
           "arrowwidth": 1
          },
          "autotypenumbers": "strict",
          "coloraxis": {
           "colorbar": {
            "outlinewidth": 0,
            "ticks": ""
           }
          },
          "colorscale": {
           "diverging": [
            [
             0,
             "#8e0152"
            ],
            [
             0.1,
             "#c51b7d"
            ],
            [
             0.2,
             "#de77ae"
            ],
            [
             0.3,
             "#f1b6da"
            ],
            [
             0.4,
             "#fde0ef"
            ],
            [
             0.5,
             "#f7f7f7"
            ],
            [
             0.6,
             "#e6f5d0"
            ],
            [
             0.7,
             "#b8e186"
            ],
            [
             0.8,
             "#7fbc41"
            ],
            [
             0.9,
             "#4d9221"
            ],
            [
             1,
             "#276419"
            ]
           ],
           "sequential": [
            [
             0,
             "#0d0887"
            ],
            [
             0.1111111111111111,
             "#46039f"
            ],
            [
             0.2222222222222222,
             "#7201a8"
            ],
            [
             0.3333333333333333,
             "#9c179e"
            ],
            [
             0.4444444444444444,
             "#bd3786"
            ],
            [
             0.5555555555555556,
             "#d8576b"
            ],
            [
             0.6666666666666666,
             "#ed7953"
            ],
            [
             0.7777777777777778,
             "#fb9f3a"
            ],
            [
             0.8888888888888888,
             "#fdca26"
            ],
            [
             1,
             "#f0f921"
            ]
           ],
           "sequentialminus": [
            [
             0,
             "#0d0887"
            ],
            [
             0.1111111111111111,
             "#46039f"
            ],
            [
             0.2222222222222222,
             "#7201a8"
            ],
            [
             0.3333333333333333,
             "#9c179e"
            ],
            [
             0.4444444444444444,
             "#bd3786"
            ],
            [
             0.5555555555555556,
             "#d8576b"
            ],
            [
             0.6666666666666666,
             "#ed7953"
            ],
            [
             0.7777777777777778,
             "#fb9f3a"
            ],
            [
             0.8888888888888888,
             "#fdca26"
            ],
            [
             1,
             "#f0f921"
            ]
           ]
          },
          "colorway": [
           "#636efa",
           "#EF553B",
           "#00cc96",
           "#ab63fa",
           "#FFA15A",
           "#19d3f3",
           "#FF6692",
           "#B6E880",
           "#FF97FF",
           "#FECB52"
          ],
          "font": {
           "color": "#2a3f5f"
          },
          "geo": {
           "bgcolor": "white",
           "lakecolor": "white",
           "landcolor": "#E5ECF6",
           "showlakes": true,
           "showland": true,
           "subunitcolor": "white"
          },
          "hoverlabel": {
           "align": "left"
          },
          "hovermode": "closest",
          "mapbox": {
           "style": "light"
          },
          "paper_bgcolor": "white",
          "plot_bgcolor": "#E5ECF6",
          "polar": {
           "angularaxis": {
            "gridcolor": "white",
            "linecolor": "white",
            "ticks": ""
           },
           "bgcolor": "#E5ECF6",
           "radialaxis": {
            "gridcolor": "white",
            "linecolor": "white",
            "ticks": ""
           }
          },
          "scene": {
           "xaxis": {
            "backgroundcolor": "#E5ECF6",
            "gridcolor": "white",
            "gridwidth": 2,
            "linecolor": "white",
            "showbackground": true,
            "ticks": "",
            "zerolinecolor": "white"
           },
           "yaxis": {
            "backgroundcolor": "#E5ECF6",
            "gridcolor": "white",
            "gridwidth": 2,
            "linecolor": "white",
            "showbackground": true,
            "ticks": "",
            "zerolinecolor": "white"
           },
           "zaxis": {
            "backgroundcolor": "#E5ECF6",
            "gridcolor": "white",
            "gridwidth": 2,
            "linecolor": "white",
            "showbackground": true,
            "ticks": "",
            "zerolinecolor": "white"
           }
          },
          "shapedefaults": {
           "line": {
            "color": "#2a3f5f"
           }
          },
          "ternary": {
           "aaxis": {
            "gridcolor": "white",
            "linecolor": "white",
            "ticks": ""
           },
           "baxis": {
            "gridcolor": "white",
            "linecolor": "white",
            "ticks": ""
           },
           "bgcolor": "#E5ECF6",
           "caxis": {
            "gridcolor": "white",
            "linecolor": "white",
            "ticks": ""
           }
          },
          "title": {
           "x": 0.05
          },
          "xaxis": {
           "automargin": true,
           "gridcolor": "white",
           "linecolor": "white",
           "ticks": "",
           "title": {
            "standoff": 15
           },
           "zerolinecolor": "white",
           "zerolinewidth": 2
          },
          "yaxis": {
           "automargin": true,
           "gridcolor": "white",
           "linecolor": "white",
           "ticks": "",
           "title": {
            "standoff": 15
           },
           "zerolinecolor": "white",
           "zerolinewidth": 2
          }
         }
        },
        "title": {
         "text": "runaway"
        },
        "xaxis": {
         "anchor": "y",
         "domain": [
          0,
          1
         ]
        },
        "xaxis2": {
         "anchor": "y2",
         "domain": [
          0,
          1
         ]
        },
        "xaxis3": {
         "anchor": "y3",
         "domain": [
          0,
          1
         ]
        },
        "yaxis": {
         "anchor": "x",
         "domain": [
          0.7333333333333334,
          1
         ]
        },
        "yaxis2": {
         "anchor": "x2",
         "domain": [
          0.3666666666666667,
          0.5666666666666667
         ]
        },
        "yaxis3": {
         "anchor": "x3",
         "domain": [
          0,
          0.2
         ]
        }
       }
      }
     },
     "metadata": {},
     "output_type": "display_data"
    }
   ],
   "source": [
    "import random \n",
    "\n",
    "mass = ThermalMass(\n",
    "    mass=6,  # 6 Liters of water weighs 6kg!\n",
    "    cp=4.186,  # J/K/kg\n",
    "    start_temp=25 + 273.15,  # Kelvin (25 + 273.15)\n",
    ")\n",
    "in_flow = lambda t: 100 * random.random() # 1 kJ/s\n",
    "out_flow = lambda t, s: 100 * random.random()\n",
    "system = ThermalSystem(mass, in_flow, out_flow)\n",
    "\n",
    "traces = system.simulate('runaway', range(0, 100))"
   ]
  },
  {
   "cell_type": "code",
   "execution_count": 43,
   "id": "6261ce56",
   "metadata": {},
   "outputs": [
    {
     "data": {
      "application/vnd.plotly.v1+json": {
       "config": {
        "plotlyServerURL": "https://plot.ly"
       },
       "data": [
        {
         "mode": "lines",
         "name": "Temperature",
         "type": "scatter",
         "x": [
          0,
          0.025,
          1.037,
          2.048,
          3.061,
          4.069,
          5.08,
          6.091,
          7.098,
          8.109,
          9.121,
          10.132,
          11.141,
          12.152,
          13.162,
          14.172,
          15.18,
          16.191,
          17.201,
          18.213,
          19.224,
          20.234,
          21.246,
          22.258,
          23.269,
          24.28,
          25.292,
          26.304,
          27.316,
          28.326,
          29.338,
          30.351,
          31.362,
          32.374,
          33.386,
          34.405,
          35.412,
          36.429,
          37.446,
          38.462,
          39.477,
          40.49,
          41.501,
          42.513,
          43.525,
          44.539,
          45.547,
          46.559,
          47.584,
          48.596,
          49.607,
          50.619,
          51.631,
          52.643,
          53.655,
          54.667,
          55.681,
          56.695,
          57.708,
          58.72,
          59.731,
          60.746,
          61.759,
          62.769,
          63.782,
          64.795,
          65.804,
          66.817,
          67.84,
          68.853,
          69.864,
          70.876,
          71.889,
          72.902,
          73.915,
          74.931,
          75.946,
          76.96,
          77.97,
          78.982,
          79.998,
          81.011,
          82.025,
          83.038,
          84.049,
          85.062,
          86.076,
          87.089,
          88.103,
          89.117,
          90.13,
          91.143,
          92.155,
          93.169,
          94.183,
          95.198,
          96.212,
          97.225,
          98.238,
          99.252,
          100.269,
          101.281,
          102.298,
          103.315,
          104.326,
          105.339,
          106.353,
          107.367,
          108.382,
          109.398,
          110.411,
          111.424,
          112.437,
          113.451
         ],
         "xaxis": "x",
         "y": [
          298.15,
          298.1505979430758,
          298.17489146494154,
          298.2031311419052,
          298.2353617382225,
          298.2713162219663,
          298.31120967619376,
          298.35490018039377,
          298.4021507015728,
          298.4532698511984,
          298.50808384389103,
          298.56643007841353,
          298.62817624382325,
          298.69349717465036,
          298.76214370043107,
          298.83410897397056,
          298.9091735457905,
          298.9876337690836,
          299.0691196971226,
          299.15379570068717,
          299.2413398076454,
          299.33166130763516,
          299.42494448790524,
          299.520929857964,
          299.61943184923894,
          299.7204529946442,
          299.82400420671615,
          299.92989468380176,
          300.0380295200046,
          300.1480943724133,
          300.2604233803881,
          300.3748165653858,
          300.4908347570923,
          300.60871533253334,
          300.72824276698805,
          300.85015098043243,
          300.9720649516119,
          301.0965227868281,
          301.22222013164065,
          301.3489241513725,
          301.476523222533,
          301.60477931042504,
          301.73357896935573,
          301.86319401998236,
          301.99338951444935,
          302.12431532186514,
          302.25482931110713,
          302.38611565411725,
          302.51923796557134,
          302.65071148881646,
          302.7819861164086,
          302.91321476900487,
          303.0441610103923,
          303.1747189886003,
          303.30478355218906,
          303.43425033358096,
          303.56327030867055,
          303.6914831611371,
          303.8186612175052,
          303.9447065042661,
          304.06952282754247,
          304.19362718826824,
          304.3161817086987,
          304.43697911141,
          304.5566475634421,
          304.6747315182026,
          304.79068049853566,
          304.90533185918196,
          305.01924529468573,
          305.1300886425189,
          305.23869571180114,
          305.34531342437066,
          305.4498561044411,
          305.55213870295876,
          305.65208577411016,
          305.7499129145948,
          305.8451515748471,
          305.9377400124536,
          306.02735305042177,
          306.11447485082573,
          306.19919485335043,
          306.28085644176997,
          306.35973917041855,
          306.43563045996166,
          306.5084154687978,
          306.5783392804447,
          306.6452717455954,
          306.709034169416,
          306.7697145561464,
          306.82720857802605,
          306.88142717238156,
          306.9323975294841,
          306.98004266901756,
          307.0244767457236,
          307.06557469376867,
          307.1033521727348,
          307.1377126652417,
          307.1686502840916,
          307.19618923812743,
          307.2203431553644,
          307.241135423932,
          307.2583945401815,
          307.2723063104038,
          307.2827695541823,
          307.28974680062794,
          307.29333376451734,
          307.2935195034814,
          307.29030932918306,
          307.2837117041956,
          307.27373435020775,
          307.2604402894571,
          307.24383297041385,
          307.22393799072853,
          307.20076069047695
         ],
         "yaxis": "y"
        },
        {
         "mode": "lines",
         "name": "Flow Out",
         "type": "scatter",
         "x": [
          0,
          0.025,
          1.037,
          2.048,
          3.061,
          4.069,
          5.08,
          6.091,
          7.098,
          8.109,
          9.121,
          10.132,
          11.141,
          12.152,
          13.162,
          14.172,
          15.18,
          16.191,
          17.201,
          18.213,
          19.224,
          20.234,
          21.246,
          22.258,
          23.269,
          24.28,
          25.292,
          26.304,
          27.316,
          28.326,
          29.338,
          30.351,
          31.362,
          32.374,
          33.386,
          34.405,
          35.412,
          36.429,
          37.446,
          38.462,
          39.477,
          40.49,
          41.501,
          42.513,
          43.525,
          44.539,
          45.547,
          46.559,
          47.584,
          48.596,
          49.607,
          50.619,
          51.631,
          52.643,
          53.655,
          54.667,
          55.681,
          56.695,
          57.708,
          58.72,
          59.731,
          60.746,
          61.759,
          62.769,
          63.782,
          64.795,
          65.804,
          66.817,
          67.84,
          68.853,
          69.864,
          70.876,
          71.889,
          72.902,
          73.915,
          74.931,
          75.946,
          76.96,
          77.97,
          78.982,
          79.998,
          81.011,
          82.025,
          83.038,
          84.049,
          85.062,
          86.076,
          87.089,
          88.103,
          89.117,
          90.13,
          91.143,
          92.155,
          93.169,
          94.183,
          95.198,
          96.212,
          97.225,
          98.238,
          99.252,
          100.269,
          101.281,
          102.298,
          103.315,
          104.326,
          105.339,
          106.353,
          107.367,
          108.382,
          109.398,
          110.411,
          111.424,
          112.437,
          113.451
         ],
         "xaxis": "x2",
         "y": [
          100,
          100,
          100,
          100,
          100,
          100,
          100,
          100,
          100,
          100,
          100,
          100,
          100,
          100,
          100,
          100,
          100,
          100,
          100,
          100,
          100,
          100,
          100,
          100,
          100,
          100,
          100,
          100,
          100,
          100,
          100,
          100,
          100,
          100,
          100,
          100,
          100,
          100,
          100,
          100,
          100,
          100,
          100,
          100,
          100,
          100,
          100,
          100,
          100,
          100,
          100,
          100,
          100,
          100,
          100,
          100,
          100,
          100,
          100,
          100,
          100,
          100,
          100,
          100,
          100,
          100,
          100,
          100,
          100,
          100,
          100,
          100,
          100,
          100,
          100,
          100,
          100,
          100,
          100,
          100,
          100,
          100,
          100,
          100,
          100,
          100,
          100,
          100,
          100,
          100,
          100,
          100,
          100,
          100,
          100,
          100,
          100,
          100,
          100,
          100,
          100,
          100,
          100,
          100,
          100,
          100,
          100,
          100,
          100,
          100,
          100,
          100,
          100,
          100
         ],
         "yaxis": "y2"
        },
        {
         "mode": "lines",
         "name": "Flow In",
         "type": "scatter",
         "x": [
          0,
          0.025,
          1.037,
          2.048,
          3.061,
          4.069,
          5.08,
          6.091,
          7.098,
          8.109,
          9.121,
          10.132,
          11.141,
          12.152,
          13.162,
          14.172,
          15.18,
          16.191,
          17.201,
          18.213,
          19.224,
          20.234,
          21.246,
          22.258,
          23.269,
          24.28,
          25.292,
          26.304,
          27.316,
          28.326,
          29.338,
          30.351,
          31.362,
          32.374,
          33.386,
          34.405,
          35.412,
          36.429,
          37.446,
          38.462,
          39.477,
          40.49,
          41.501,
          42.513,
          43.525,
          44.539,
          45.547,
          46.559,
          47.584,
          48.596,
          49.607,
          50.619,
          51.631,
          52.643,
          53.655,
          54.667,
          55.681,
          56.695,
          57.708,
          58.72,
          59.731,
          60.746,
          61.759,
          62.769,
          63.782,
          64.795,
          65.804,
          66.817,
          67.84,
          68.853,
          69.864,
          70.876,
          71.889,
          72.902,
          73.915,
          74.931,
          75.946,
          76.96,
          77.97,
          78.982,
          79.998,
          81.011,
          82.025,
          83.038,
          84.049,
          85.062,
          86.076,
          87.089,
          88.103,
          89.117,
          90.13,
          91.143,
          92.155,
          93.169,
          94.183,
          95.198,
          96.212,
          97.225,
          98.238,
          99.252,
          100.269,
          101.281,
          102.298,
          103.315,
          104.326,
          105.339,
          106.353,
          107.367,
          108.382,
          109.398,
          110.411,
          111.424,
          112.437,
          113.451
         ],
         "xaxis": "x3",
         "y": [
          -500,
          -502.2008789763152,
          -600.7126966470483,
          -698.1606507559521,
          -794.7958126955896,
          -889.8785289318637,
          -984.0949439775161,
          -1077.0869655387442,
          -1168.4223417491723,
          -1258.7587160942394,
          -1347.748406757648,
          -1435.1479737046639,
          -1520.8119393950658,
          -1605.016579934831,
          -1687.446388130596,
          -1768.1248498764892,
          -1846.8379441435893,
          -1923.91682256111,
          -1998.9942938940994,
          -2072.2368616757158,
          -2143.3714343998136,
          -2212.3536168530263,
          -2279.3369498962475,
          -2344.135463030048,
          -2406.6433764945646,
          -2466.8831087330223,
          -2524.87006736087,
          -2580.5044476133344,
          -2633.7493935888956,
          -2684.4718320700918,
          -2732.8405121936776,
          -2778.765931898305,
          -2822.0870706662604,
          -2862.910297165168,
          -2901.167264442128,
          -2937.0743604856843,
          -2969.959935332414,
          -3000.5345053763467,
          -3028.441967512625,
          -3053.645614908195,
          -3076.142370049374,
          -3095.91319874866,
          -3112.9675494269245,
          -3127.3559033582264,
          -3139.0579929320074,
          -3148.089220361243,
          -3154.3964434300774,
          -3158.0549318407534,
          -3159.036367714994,
          -3157.324735683554,
          -3152.9663824411973,
          -3145.965821585946,
          -3136.3413451842944,
          -3124.110318366371,
          -3109.2921719332376,
          -3091.9083778087584,
          -3071.9404506669216,
          -3049.445925025597,
          -3024.4783237970396,
          -2997.0744665794746,
          -2967.2728996717015,
          -2934.948370699033,
          -2900.320440015229,
          -2863.4775791485918,
          -2824.238982351495,
          -2782.7513584098915,
          -2739.233991286005,
          -2693.3845973099296,
          -2644.9321063605903,
          -2594.873333347704,
          -2542.897171461774,
          -2488.9019469375016,
          -2432.9331356506827,
          -2375.0959791754026,
          -2315.444533659046,
          -2253.8492917125454,
          -2190.6050747517656,
          -2125.774921256961,
          -2059.622020686028,
          -1991.8169127309013,
          -1922.273057347205,
          -1851.5307010635431,
          -1779.3769886258303,
          -1706.0185278575993,
          -1631.597965423338,
          -1555.8854248221585,
          -1479.0169436959816,
          -1401.2112243788806,
          -1322.381689222717,
          -1242.6729101707226,
          -1162.233344791886,
          -1081.0533303724935,
          -999.2832822953204,
          -916.7486436486156,
          -833.6806279247833,
          -750.0663856297108,
          -666.1412699600862,
          -581.97650635955,
          -497.5593370876349,
          -412.87595800183016,
          -327.8282512203968,
          -243.15699881687632,
          -158.09334653692326,
          -73.12680943081898,
          11.172185459181701,
          95.40488397284919,
          179.41857243420418,
          263.06208909873163,
          346.35029738102594,
          429.21501282335373,
          511.26476359287653,
          592.6806124241476,
          673.3981795966072,
          753.4327178586149
         ],
         "yaxis": "y3"
        }
       ],
       "layout": {
        "annotations": [
         {
          "font": {
           "size": 16
          },
          "showarrow": false,
          "text": "Temperature",
          "x": 0.5,
          "xanchor": "center",
          "xref": "paper",
          "y": 1,
          "yanchor": "bottom",
          "yref": "paper"
         },
         {
          "font": {
           "size": 16
          },
          "showarrow": false,
          "text": "Flow Out",
          "x": 0.5,
          "xanchor": "center",
          "xref": "paper",
          "y": 0.5666666666666667,
          "yanchor": "bottom",
          "yref": "paper"
         },
         {
          "font": {
           "size": 16
          },
          "showarrow": false,
          "text": "Flow In",
          "x": 0.5,
          "xanchor": "center",
          "xref": "paper",
          "y": 0.2,
          "yanchor": "bottom",
          "yref": "paper"
         }
        ],
        "template": {
         "data": {
          "bar": [
           {
            "error_x": {
             "color": "#2a3f5f"
            },
            "error_y": {
             "color": "#2a3f5f"
            },
            "marker": {
             "line": {
              "color": "#E5ECF6",
              "width": 0.5
             },
             "pattern": {
              "fillmode": "overlay",
              "size": 10,
              "solidity": 0.2
             }
            },
            "type": "bar"
           }
          ],
          "barpolar": [
           {
            "marker": {
             "line": {
              "color": "#E5ECF6",
              "width": 0.5
             },
             "pattern": {
              "fillmode": "overlay",
              "size": 10,
              "solidity": 0.2
             }
            },
            "type": "barpolar"
           }
          ],
          "carpet": [
           {
            "aaxis": {
             "endlinecolor": "#2a3f5f",
             "gridcolor": "white",
             "linecolor": "white",
             "minorgridcolor": "white",
             "startlinecolor": "#2a3f5f"
            },
            "baxis": {
             "endlinecolor": "#2a3f5f",
             "gridcolor": "white",
             "linecolor": "white",
             "minorgridcolor": "white",
             "startlinecolor": "#2a3f5f"
            },
            "type": "carpet"
           }
          ],
          "choropleth": [
           {
            "colorbar": {
             "outlinewidth": 0,
             "ticks": ""
            },
            "type": "choropleth"
           }
          ],
          "contour": [
           {
            "colorbar": {
             "outlinewidth": 0,
             "ticks": ""
            },
            "colorscale": [
             [
              0,
              "#0d0887"
             ],
             [
              0.1111111111111111,
              "#46039f"
             ],
             [
              0.2222222222222222,
              "#7201a8"
             ],
             [
              0.3333333333333333,
              "#9c179e"
             ],
             [
              0.4444444444444444,
              "#bd3786"
             ],
             [
              0.5555555555555556,
              "#d8576b"
             ],
             [
              0.6666666666666666,
              "#ed7953"
             ],
             [
              0.7777777777777778,
              "#fb9f3a"
             ],
             [
              0.8888888888888888,
              "#fdca26"
             ],
             [
              1,
              "#f0f921"
             ]
            ],
            "type": "contour"
           }
          ],
          "contourcarpet": [
           {
            "colorbar": {
             "outlinewidth": 0,
             "ticks": ""
            },
            "type": "contourcarpet"
           }
          ],
          "heatmap": [
           {
            "colorbar": {
             "outlinewidth": 0,
             "ticks": ""
            },
            "colorscale": [
             [
              0,
              "#0d0887"
             ],
             [
              0.1111111111111111,
              "#46039f"
             ],
             [
              0.2222222222222222,
              "#7201a8"
             ],
             [
              0.3333333333333333,
              "#9c179e"
             ],
             [
              0.4444444444444444,
              "#bd3786"
             ],
             [
              0.5555555555555556,
              "#d8576b"
             ],
             [
              0.6666666666666666,
              "#ed7953"
             ],
             [
              0.7777777777777778,
              "#fb9f3a"
             ],
             [
              0.8888888888888888,
              "#fdca26"
             ],
             [
              1,
              "#f0f921"
             ]
            ],
            "type": "heatmap"
           }
          ],
          "heatmapgl": [
           {
            "colorbar": {
             "outlinewidth": 0,
             "ticks": ""
            },
            "colorscale": [
             [
              0,
              "#0d0887"
             ],
             [
              0.1111111111111111,
              "#46039f"
             ],
             [
              0.2222222222222222,
              "#7201a8"
             ],
             [
              0.3333333333333333,
              "#9c179e"
             ],
             [
              0.4444444444444444,
              "#bd3786"
             ],
             [
              0.5555555555555556,
              "#d8576b"
             ],
             [
              0.6666666666666666,
              "#ed7953"
             ],
             [
              0.7777777777777778,
              "#fb9f3a"
             ],
             [
              0.8888888888888888,
              "#fdca26"
             ],
             [
              1,
              "#f0f921"
             ]
            ],
            "type": "heatmapgl"
           }
          ],
          "histogram": [
           {
            "marker": {
             "pattern": {
              "fillmode": "overlay",
              "size": 10,
              "solidity": 0.2
             }
            },
            "type": "histogram"
           }
          ],
          "histogram2d": [
           {
            "colorbar": {
             "outlinewidth": 0,
             "ticks": ""
            },
            "colorscale": [
             [
              0,
              "#0d0887"
             ],
             [
              0.1111111111111111,
              "#46039f"
             ],
             [
              0.2222222222222222,
              "#7201a8"
             ],
             [
              0.3333333333333333,
              "#9c179e"
             ],
             [
              0.4444444444444444,
              "#bd3786"
             ],
             [
              0.5555555555555556,
              "#d8576b"
             ],
             [
              0.6666666666666666,
              "#ed7953"
             ],
             [
              0.7777777777777778,
              "#fb9f3a"
             ],
             [
              0.8888888888888888,
              "#fdca26"
             ],
             [
              1,
              "#f0f921"
             ]
            ],
            "type": "histogram2d"
           }
          ],
          "histogram2dcontour": [
           {
            "colorbar": {
             "outlinewidth": 0,
             "ticks": ""
            },
            "colorscale": [
             [
              0,
              "#0d0887"
             ],
             [
              0.1111111111111111,
              "#46039f"
             ],
             [
              0.2222222222222222,
              "#7201a8"
             ],
             [
              0.3333333333333333,
              "#9c179e"
             ],
             [
              0.4444444444444444,
              "#bd3786"
             ],
             [
              0.5555555555555556,
              "#d8576b"
             ],
             [
              0.6666666666666666,
              "#ed7953"
             ],
             [
              0.7777777777777778,
              "#fb9f3a"
             ],
             [
              0.8888888888888888,
              "#fdca26"
             ],
             [
              1,
              "#f0f921"
             ]
            ],
            "type": "histogram2dcontour"
           }
          ],
          "mesh3d": [
           {
            "colorbar": {
             "outlinewidth": 0,
             "ticks": ""
            },
            "type": "mesh3d"
           }
          ],
          "parcoords": [
           {
            "line": {
             "colorbar": {
              "outlinewidth": 0,
              "ticks": ""
             }
            },
            "type": "parcoords"
           }
          ],
          "pie": [
           {
            "automargin": true,
            "type": "pie"
           }
          ],
          "scatter": [
           {
            "fillpattern": {
             "fillmode": "overlay",
             "size": 10,
             "solidity": 0.2
            },
            "type": "scatter"
           }
          ],
          "scatter3d": [
           {
            "line": {
             "colorbar": {
              "outlinewidth": 0,
              "ticks": ""
             }
            },
            "marker": {
             "colorbar": {
              "outlinewidth": 0,
              "ticks": ""
             }
            },
            "type": "scatter3d"
           }
          ],
          "scattercarpet": [
           {
            "marker": {
             "colorbar": {
              "outlinewidth": 0,
              "ticks": ""
             }
            },
            "type": "scattercarpet"
           }
          ],
          "scattergeo": [
           {
            "marker": {
             "colorbar": {
              "outlinewidth": 0,
              "ticks": ""
             }
            },
            "type": "scattergeo"
           }
          ],
          "scattergl": [
           {
            "marker": {
             "colorbar": {
              "outlinewidth": 0,
              "ticks": ""
             }
            },
            "type": "scattergl"
           }
          ],
          "scattermapbox": [
           {
            "marker": {
             "colorbar": {
              "outlinewidth": 0,
              "ticks": ""
             }
            },
            "type": "scattermapbox"
           }
          ],
          "scatterpolar": [
           {
            "marker": {
             "colorbar": {
              "outlinewidth": 0,
              "ticks": ""
             }
            },
            "type": "scatterpolar"
           }
          ],
          "scatterpolargl": [
           {
            "marker": {
             "colorbar": {
              "outlinewidth": 0,
              "ticks": ""
             }
            },
            "type": "scatterpolargl"
           }
          ],
          "scatterternary": [
           {
            "marker": {
             "colorbar": {
              "outlinewidth": 0,
              "ticks": ""
             }
            },
            "type": "scatterternary"
           }
          ],
          "surface": [
           {
            "colorbar": {
             "outlinewidth": 0,
             "ticks": ""
            },
            "colorscale": [
             [
              0,
              "#0d0887"
             ],
             [
              0.1111111111111111,
              "#46039f"
             ],
             [
              0.2222222222222222,
              "#7201a8"
             ],
             [
              0.3333333333333333,
              "#9c179e"
             ],
             [
              0.4444444444444444,
              "#bd3786"
             ],
             [
              0.5555555555555556,
              "#d8576b"
             ],
             [
              0.6666666666666666,
              "#ed7953"
             ],
             [
              0.7777777777777778,
              "#fb9f3a"
             ],
             [
              0.8888888888888888,
              "#fdca26"
             ],
             [
              1,
              "#f0f921"
             ]
            ],
            "type": "surface"
           }
          ],
          "table": [
           {
            "cells": {
             "fill": {
              "color": "#EBF0F8"
             },
             "line": {
              "color": "white"
             }
            },
            "header": {
             "fill": {
              "color": "#C8D4E3"
             },
             "line": {
              "color": "white"
             }
            },
            "type": "table"
           }
          ]
         },
         "layout": {
          "annotationdefaults": {
           "arrowcolor": "#2a3f5f",
           "arrowhead": 0,
           "arrowwidth": 1
          },
          "autotypenumbers": "strict",
          "coloraxis": {
           "colorbar": {
            "outlinewidth": 0,
            "ticks": ""
           }
          },
          "colorscale": {
           "diverging": [
            [
             0,
             "#8e0152"
            ],
            [
             0.1,
             "#c51b7d"
            ],
            [
             0.2,
             "#de77ae"
            ],
            [
             0.3,
             "#f1b6da"
            ],
            [
             0.4,
             "#fde0ef"
            ],
            [
             0.5,
             "#f7f7f7"
            ],
            [
             0.6,
             "#e6f5d0"
            ],
            [
             0.7,
             "#b8e186"
            ],
            [
             0.8,
             "#7fbc41"
            ],
            [
             0.9,
             "#4d9221"
            ],
            [
             1,
             "#276419"
            ]
           ],
           "sequential": [
            [
             0,
             "#0d0887"
            ],
            [
             0.1111111111111111,
             "#46039f"
            ],
            [
             0.2222222222222222,
             "#7201a8"
            ],
            [
             0.3333333333333333,
             "#9c179e"
            ],
            [
             0.4444444444444444,
             "#bd3786"
            ],
            [
             0.5555555555555556,
             "#d8576b"
            ],
            [
             0.6666666666666666,
             "#ed7953"
            ],
            [
             0.7777777777777778,
             "#fb9f3a"
            ],
            [
             0.8888888888888888,
             "#fdca26"
            ],
            [
             1,
             "#f0f921"
            ]
           ],
           "sequentialminus": [
            [
             0,
             "#0d0887"
            ],
            [
             0.1111111111111111,
             "#46039f"
            ],
            [
             0.2222222222222222,
             "#7201a8"
            ],
            [
             0.3333333333333333,
             "#9c179e"
            ],
            [
             0.4444444444444444,
             "#bd3786"
            ],
            [
             0.5555555555555556,
             "#d8576b"
            ],
            [
             0.6666666666666666,
             "#ed7953"
            ],
            [
             0.7777777777777778,
             "#fb9f3a"
            ],
            [
             0.8888888888888888,
             "#fdca26"
            ],
            [
             1,
             "#f0f921"
            ]
           ]
          },
          "colorway": [
           "#636efa",
           "#EF553B",
           "#00cc96",
           "#ab63fa",
           "#FFA15A",
           "#19d3f3",
           "#FF6692",
           "#B6E880",
           "#FF97FF",
           "#FECB52"
          ],
          "font": {
           "color": "#2a3f5f"
          },
          "geo": {
           "bgcolor": "white",
           "lakecolor": "white",
           "landcolor": "#E5ECF6",
           "showlakes": true,
           "showland": true,
           "subunitcolor": "white"
          },
          "hoverlabel": {
           "align": "left"
          },
          "hovermode": "closest",
          "mapbox": {
           "style": "light"
          },
          "paper_bgcolor": "white",
          "plot_bgcolor": "#E5ECF6",
          "polar": {
           "angularaxis": {
            "gridcolor": "white",
            "linecolor": "white",
            "ticks": ""
           },
           "bgcolor": "#E5ECF6",
           "radialaxis": {
            "gridcolor": "white",
            "linecolor": "white",
            "ticks": ""
           }
          },
          "scene": {
           "xaxis": {
            "backgroundcolor": "#E5ECF6",
            "gridcolor": "white",
            "gridwidth": 2,
            "linecolor": "white",
            "showbackground": true,
            "ticks": "",
            "zerolinecolor": "white"
           },
           "yaxis": {
            "backgroundcolor": "#E5ECF6",
            "gridcolor": "white",
            "gridwidth": 2,
            "linecolor": "white",
            "showbackground": true,
            "ticks": "",
            "zerolinecolor": "white"
           },
           "zaxis": {
            "backgroundcolor": "#E5ECF6",
            "gridcolor": "white",
            "gridwidth": 2,
            "linecolor": "white",
            "showbackground": true,
            "ticks": "",
            "zerolinecolor": "white"
           }
          },
          "shapedefaults": {
           "line": {
            "color": "#2a3f5f"
           }
          },
          "ternary": {
           "aaxis": {
            "gridcolor": "white",
            "linecolor": "white",
            "ticks": ""
           },
           "baxis": {
            "gridcolor": "white",
            "linecolor": "white",
            "ticks": ""
           },
           "bgcolor": "#E5ECF6",
           "caxis": {
            "gridcolor": "white",
            "linecolor": "white",
            "ticks": ""
           }
          },
          "title": {
           "x": 0.05
          },
          "xaxis": {
           "automargin": true,
           "gridcolor": "white",
           "linecolor": "white",
           "ticks": "",
           "title": {
            "standoff": 15
           },
           "zerolinecolor": "white",
           "zerolinewidth": 2
          },
          "yaxis": {
           "automargin": true,
           "gridcolor": "white",
           "linecolor": "white",
           "ticks": "",
           "title": {
            "standoff": 15
           },
           "zerolinecolor": "white",
           "zerolinewidth": 2
          }
         }
        },
        "title": {
         "text": "pid_linear"
        },
        "xaxis": {
         "anchor": "y",
         "domain": [
          0,
          1
         ]
        },
        "xaxis2": {
         "anchor": "y2",
         "domain": [
          0,
          1
         ]
        },
        "xaxis3": {
         "anchor": "y3",
         "domain": [
          0,
          1
         ]
        },
        "yaxis": {
         "anchor": "x",
         "domain": [
          0.7333333333333334,
          1
         ]
        },
        "yaxis2": {
         "anchor": "x2",
         "domain": [
          0.3666666666666667,
          0.5666666666666667
         ]
        },
        "yaxis3": {
         "anchor": "x3",
         "domain": [
          0,
          0.2
         ]
        }
       }
      }
     },
     "metadata": {},
     "output_type": "display_data"
    },
    {
     "ename": "KeyboardInterrupt",
     "evalue": "",
     "output_type": "error",
     "traceback": [
      "\u001b[0;31m---------------------------------------------------------------------------\u001b[0m",
      "\u001b[0;31mKeyboardInterrupt\u001b[0m                         Traceback (most recent call last)",
      "\u001b[1;32m/Users/yitongtseo/Documents/Ethical Necromancy/PID_Controlled_Temperature_Simulations.ipynb Cell 7\u001b[0m line \u001b[0;36m2\n\u001b[1;32m     <a href='vscode-notebook-cell:/Users/yitongtseo/Documents/Ethical%20Necromancy/PID_Controlled_Temperature_Simulations.ipynb#X11sZmlsZQ%3D%3D?line=16'>17</a>\u001b[0m out_flow \u001b[39m=\u001b[39m \u001b[39mlambda\u001b[39;00m t, s: controller\u001b[39m.\u001b[39mnext(t, s) \u001b[39m*\u001b[39m \u001b[39m100\u001b[39m\n\u001b[1;32m     <a href='vscode-notebook-cell:/Users/yitongtseo/Documents/Ethical%20Necromancy/PID_Controlled_Temperature_Simulations.ipynb#X11sZmlsZQ%3D%3D?line=17'>18</a>\u001b[0m system \u001b[39m=\u001b[39m ThermalSystem(mass, in_flow, out_flow)\n\u001b[0;32m---> <a href='vscode-notebook-cell:/Users/yitongtseo/Documents/Ethical%20Necromancy/PID_Controlled_Temperature_Simulations.ipynb#X11sZmlsZQ%3D%3D?line=19'>20</a>\u001b[0m traces \u001b[39m=\u001b[39m system\u001b[39m.\u001b[39;49msimulate(\u001b[39m\"\u001b[39;49m\u001b[39mpid_linear\u001b[39;49m\u001b[39m\"\u001b[39;49m, \u001b[39mrange\u001b[39;49m(\u001b[39m0\u001b[39;49m, \u001b[39m1000\u001b[39;49m))\n",
      "\u001b[1;32m/Users/yitongtseo/Documents/Ethical Necromancy/PID_Controlled_Temperature_Simulations.ipynb Cell 7\u001b[0m line \u001b[0;36m1\n\u001b[1;32m    <a href='vscode-notebook-cell:/Users/yitongtseo/Documents/Ethical%20Necromancy/PID_Controlled_Temperature_Simulations.ipynb#X11sZmlsZQ%3D%3D?line=142'>143</a>\u001b[0m     clear_output(wait\u001b[39m=\u001b[39m\u001b[39mTrue\u001b[39;00m)\n\u001b[1;32m    <a href='vscode-notebook-cell:/Users/yitongtseo/Documents/Ethical%20Necromancy/PID_Controlled_Temperature_Simulations.ipynb#X11sZmlsZQ%3D%3D?line=143'>144</a>\u001b[0m     display(fig)\n\u001b[0;32m--> <a href='vscode-notebook-cell:/Users/yitongtseo/Documents/Ethical%20Necromancy/PID_Controlled_Temperature_Simulations.ipynb#X11sZmlsZQ%3D%3D?line=144'>145</a>\u001b[0m     time\u001b[39m.\u001b[39;49msleep(\u001b[39m1\u001b[39;49m)\n\u001b[1;32m    <a href='vscode-notebook-cell:/Users/yitongtseo/Documents/Ethical%20Necromancy/PID_Controlled_Temperature_Simulations.ipynb#X11sZmlsZQ%3D%3D?line=146'>147</a>\u001b[0m \u001b[39mreturn\u001b[39;00m trace\n",
      "\u001b[0;31mKeyboardInterrupt\u001b[0m: "
     ]
    }
   ],
   "source": [
    "TARGET_TEMP = 30 + 273.15\n",
    "START_TEMP=25 + 273.15\n",
    "\n",
    "# Create our PID controller with some initial values for the gains.\n",
    "controller = PIDController(\n",
    "    kp=1.0, ki=0.2, kd=0.1, target=TARGET_TEMP, initial_state=START_TEMP, t_0=0\n",
    ")\n",
    "\n",
    "\n",
    "mass = ThermalMass(\n",
    "    mass=6,  # 6 Liters of water weighs 6kg!\n",
    "    cp=4181,  # J/K/kg\n",
    "    start_temp=START_TEMP,  # Kelvin (25 + 273.15)\n",
    ")\n",
    "\n",
    "in_flow = lambda t: 100\n",
    "out_flow = lambda t, s: controller.next(t, s) * 100\n",
    "system = ThermalSystem(mass, in_flow, out_flow)\n",
    "\n",
    "traces = system.simulate(\"pid_linear\", range(0, 1000))\n"
   ]
  },
  {
   "cell_type": "code",
   "execution_count": 26,
   "id": "b99a5126",
   "metadata": {},
   "outputs": [
    {
     "data": {
      "application/vnd.plotly.v1+json": {
       "config": {
        "plotlyServerURL": "https://plot.ly"
       },
       "data": [
        {
         "mode": "lines",
         "name": "Heat",
         "type": "scatter",
         "x": [
          0,
          0.04195783176747637,
          0.08391566353495274,
          0.1258734953024291,
          0.16783132706990547,
          0.20978915883738183,
          0.2517469906048582,
          0.2937048223723346,
          0.33566265413981095,
          0.3776204859072873,
          0.41957831767476367,
          0.46153614944224003,
          0.5034939812097164,
          0.5454518129771928,
          0.5874096447446692,
          0.6293674765121455,
          0.6713253082796219,
          0.7132831400470983,
          0.7552409718145746,
          0.797198803582051,
          0.8391566353495273,
          0.8811144671170037,
          0.9230722988844801,
          0.9650301306519564,
          1.006987962419433,
          1.0489457941869091,
          1.0909036259543856,
          1.1328614577218619,
          1.1748192894893383,
          1.2167771212568146,
          1.258734953024291,
          1.3006927847917673,
          1.3426506165592438,
          1.3846084483267203,
          1.4265662800941965,
          1.468524111861673,
          1.5104819436291492,
          1.5524397753966257,
          1.594397607164102,
          1.6363554389315784,
          1.6783132706990547,
          1.7202711024665311,
          1.7622289342340074,
          1.8041867660014839,
          1.8461445977689601,
          1.8881024295364366,
          1.9300602613039128,
          1.9720180930713893,
          2.013975924838866,
          2.055933756606342,
          2.0978915883738183,
          2.139849420141295,
          2.1818072519087712,
          2.2237650836762475,
          2.2657229154437237,
          2.3076807472112004,
          2.3496385789786767,
          2.391596410746153,
          2.433554242513629,
          2.475512074281106,
          2.517469906048582,
          2.5594277378160584,
          2.6013855695835346,
          2.6433434013510113,
          2.6853012331184876,
          2.727259064885964,
          2.7692168966534405,
          2.8111747284209168,
          2.853132560188393,
          2.8950903919558693,
          2.937048223723346,
          2.979006055490822,
          3.0209638872582985,
          3.0629217190257747,
          3.1048795507932514,
          3.1468373825607276,
          3.188795214328204,
          3.23075304609568,
          3.272710877863157,
          3.314668709630633,
          3.3566265413981093,
          3.398584373165586,
          3.4405422049330623,
          3.4825000367005385,
          3.524457868468015,
          3.5664157002354915,
          3.6083735320029677,
          3.650331363770444,
          3.6922891955379202,
          3.734247027305397,
          3.776204859072873,
          3.8181626908403494,
          3.8601205226078257,
          3.9020783543753024,
          3.9440361861427786,
          3.985994017910255,
          4.027951849677732,
          4.069909681445208,
          4.111867513212684,
          4.15382534498016,
          4.195783176747637,
          4.237741008515113,
          4.27969884028259,
          4.321656672050066,
          4.3636145038175425,
          4.405572335585019,
          4.447530167352495,
          4.489487999119971,
          4.5314458308874475,
          4.573403662654924,
          4.615361494422401,
          4.657319326189877,
          4.699277157957353,
          4.74123498972483,
          4.783192821492306,
          4.825150653259782,
          4.867108485027258,
          4.9090663167947355,
          4.951024148562212,
          4.992981980329688,
          5.034939812097164,
          5.0768976438646405,
          5.118855475632117,
          5.160813307399593,
          5.202771139167069,
          5.244728970934546,
          5.286686802702023,
          5.328644634469499,
          5.370602466236975,
          5.412560298004451,
          5.454518129771928,
          5.496475961539404,
          5.538433793306881,
          5.580391625074357,
          5.6223494568418335,
          5.66430728860931,
          5.706265120376786,
          5.748222952144262,
          5.7901807839117385,
          5.832138615679215,
          5.874096447446692,
          5.916054279214168,
          5.958012110981644,
          5.999969942749121,
          6.041927774516597,
          6.083885606284073,
          6.125843438051549,
          6.1678012698190265,
          6.209759101586503,
          6.251716933353979,
          6.293674765121455,
          6.3356325968889315,
          6.377590428656408,
          6.419548260423884,
          6.46150609219136,
          6.503463923958837,
          6.545421755726314,
          6.58737958749379,
          6.629337419261266,
          6.671295251028742,
          6.713253082796219,
          6.755210914563695,
          6.797168746331172,
          6.839126578098648,
          6.881084409866125,
          6.923042241633601,
          6.965000073401077,
          7.006957905168553,
          7.04891573693603,
          7.090873568703506,
          7.132831400470983,
          7.174789232238459,
          7.2167470640059355,
          7.258704895773412,
          7.300662727540888,
          7.342620559308364,
          7.3845783910758405,
          7.426536222843318,
          7.468494054610794,
          7.51045188637827,
          7.552409718145746,
          7.594367549913223,
          7.636325381680699,
          7.678283213448175,
          7.720241045215651,
          7.7621988769831285,
          7.804156708750605,
          7.846114540518081,
          7.888072372285557,
          7.9300302040530335,
          7.97198803582051,
          8.013945867587987,
          8.055903699355463,
          8.09786153112294,
          8.139819362890416,
          8.181777194657892,
          8.223735026425368,
          8.265692858192844,
          8.30765068996032,
          8.349608521727797,
          8.391566353495273,
          8.43352418526275,
          8.475482017030226,
          8.517439848797702,
          8.55939768056518,
          8.601355512332656,
          8.643313344100132,
          8.685271175867609,
          8.727229007635085,
          8.769186839402561,
          8.811144671170037,
          8.853102502937514,
          8.89506033470499,
          8.937018166472466,
          8.978975998239942,
          9.020933830007419,
          9.062891661774895,
          9.104849493542371,
          9.146807325309847,
          9.188765157077325,
          9.230722988844802,
          9.272680820612278,
          9.314638652379754,
          9.35659648414723,
          9.398554315914707,
          9.440512147682183,
          9.48246997944966,
          9.524427811217135,
          9.566385642984612,
          9.608343474752088,
          9.650301306519564,
          9.69225913828704,
          9.734216970054517,
          9.776174801821993,
          9.818132633589471,
          9.860090465356947,
          9.902048297124423,
          9.9440061288919,
          9.985963960659376,
          10.027921792426852,
          10.069879624194328,
          10.111837455961805,
          10.153795287729281,
          10.195753119496757,
          10.237710951264233,
          10.27966878303171,
          10.321626614799186,
          10.363584446566662,
          10.405542278334138,
          10.447500110101616,
          10.489457941869093,
          10.531415773636569,
          10.573373605404045,
          10.615331437171522,
          10.657289268938998,
          10.699247100706474,
          10.74120493247395,
          10.783162764241427,
          10.825120596008903,
          10.867078427776379,
          10.909036259543855,
          10.950994091311332,
          10.992951923078808,
          11.034909754846284,
          11.076867586613762,
          11.118825418381238,
          11.160783250148715,
          11.20274108191619,
          11.244698913683667,
          11.286656745451143,
          11.32861457721862,
          11.370572408986096,
          11.412530240753572,
          11.454488072521048,
          11.496445904288525,
          11.538403736056,
          11.580361567823477,
          11.622319399590953,
          11.66427723135843,
          11.706235063125908,
          11.748192894893384,
          11.79015072666086,
          11.832108558428336,
          11.874066390195813,
          11.916024221963289,
          11.957982053730765,
          11.999939885498241,
          12.041897717265718,
          12.083855549033194,
          12.12581338080067,
          12.167771212568146,
          12.209729044335623,
          12.251686876103099,
          12.293644707870575,
          12.335602539638053,
          12.37756037140553,
          12.419518203173006,
          12.461476034940482,
          12.503433866707958,
          12.545391698475434,
          12.58734953024291,
          12.629307362010387,
          12.671265193777863,
          12.71322302554534,
          12.755180857312816,
          12.797138689080292,
          12.839096520847768,
          12.881054352615244,
          12.92301218438272,
          12.964970016150199,
          13.006927847917675,
          13.048885679685151,
          13.090843511452627,
          13.132801343220104,
          13.17475917498758,
          13.216717006755056,
          13.258674838522532,
          13.300632670290009,
          13.342590502057485,
          13.384548333824961,
          13.426506165592437,
          13.468463997359914,
          13.51042182912739,
          13.552379660894866,
          13.594337492662344,
          13.63629532442982,
          13.678253156197297,
          13.720210987964773,
          13.76216881973225,
          13.804126651499725,
          13.846084483267202,
          13.888042315034678,
          13.930000146802154,
          13.97195797856963,
          14.013915810337107,
          14.055873642104583,
          14.09783147387206,
          14.139789305639535,
          14.181747137407012,
          14.22370496917449,
          14.265662800941966,
          14.307620632709442,
          14.349578464476918,
          14.391536296244395,
          14.433494128011871,
          14.475451959779347,
          14.517409791546823,
          14.5593676233143,
          14.601325455081776,
          14.643283286849252,
          14.685241118616728,
          14.727198950384205,
          14.769156782151681,
          14.811114613919157,
          14.853072445686635,
          14.895030277454111,
          14.936988109221588,
          14.978945940989064,
          15.02090377275654,
          15.062861604524016,
          15.104819436291493,
          15.146777268058969,
          15.188735099826445,
          15.230692931593921,
          15.272650763361398,
          15.314608595128874,
          15.35656642689635,
          15.398524258663826,
          15.440482090431303,
          15.48243992219878,
          15.524397753966257,
          15.566355585733733,
          15.60831341750121,
          15.650271249268686,
          15.692229081036162,
          15.734186912803638,
          15.776144744571114,
          15.81810257633859,
          15.860060408106067,
          15.902018239873543,
          15.94397607164102,
          15.985933903408496,
          16.027891735175974,
          16.06984956694345,
          16.111807398710926,
          16.153765230478403,
          16.19572306224588,
          16.237680894013355,
          16.27963872578083,
          16.321596557548308,
          16.363554389315784,
          16.40551222108326,
          16.447470052850736,
          16.489427884618213,
          16.53138571638569,
          16.573343548153165,
          16.61530137992064,
          16.657259211688118,
          16.699217043455594,
          16.74117487522307,
          16.783132706990546,
          16.825090538758023,
          16.8670483705255,
          16.909006202292975,
          16.95096403406045,
          16.992921865827928,
          17.034879697595404,
          17.076837529362884,
          17.11879536113036,
          17.160753192897836,
          17.202711024665312,
          17.24466885643279,
          17.286626688200265,
          17.32858451996774,
          17.370542351735217,
          17.412500183502694,
          17.45445801527017,
          17.496415847037646,
          17.538373678805122,
          17.5803315105726,
          17.622289342340075,
          17.66424717410755,
          17.706205005875027,
          17.748162837642504,
          17.79012066940998,
          17.832078501177456,
          17.874036332944932,
          17.91599416471241,
          17.957951996479885,
          17.99990982824736,
          18.041867660014837,
          18.083825491782314,
          18.12578332354979,
          18.167741155317266,
          18.209698987084742,
          18.25165681885222,
          18.293614650619695,
          18.335572482387175,
          18.37753031415465,
          18.419488145922127,
          18.461445977689603,
          18.50340380945708,
          18.545361641224556,
          18.587319472992032,
          18.62927730475951,
          18.671235136526985,
          18.71319296829446,
          18.755150800061937,
          18.797108631829413,
          18.83906646359689,
          18.881024295364366,
          18.922982127131842,
          18.96493995889932,
          19.006897790666795,
          19.04885562243427,
          19.090813454201747,
          19.132771285969223,
          19.1747291177367,
          19.216686949504176,
          19.258644781271652,
          19.30060261303913,
          19.342560444806605,
          19.38451827657408,
          19.426476108341557,
          19.468433940109033,
          19.51039177187651,
          19.552349603643986,
          19.594307435411466,
          19.636265267178942,
          19.678223098946418,
          19.720180930713894,
          19.76213876248137,
          19.804096594248847,
          19.846054426016323,
          19.8880122577838,
          19.929970089551276,
          19.971927921318752,
          20.013885753086228,
          20.055843584853704,
          20.09780141662118,
          20.139759248388657,
          20.181717080156133,
          20.22367491192361,
          20.265632743691086,
          20.307590575458562,
          20.349548407226038,
          20.391506238993514,
          20.43346407076099,
          20.475421902528467,
          20.517379734295943,
          20.55933756606342,
          20.601295397830896,
          20.643253229598372,
          20.685211061365848,
          20.727168893133324,
          20.7691267249008,
          20.811084556668277,
          20.853042388435757,
          20.895000220203233,
          20.93695805197071,
          20.978915883738185,
          21.02087371550566,
          21.062831547273138,
          21.104789379040614,
          21.14674721080809,
          21.188705042575567,
          21.230662874343043,
          21.27262070611052,
          21.314578537877996,
          21.35653636964547,
          21.398494201412948,
          21.440452033180424,
          21.4824098649479,
          21.524367696715377,
          21.566325528482853,
          21.60828336025033,
          21.650241192017806,
          21.69219902378528,
          21.734156855552758,
          21.776114687320234,
          21.81807251908771,
          21.860030350855187,
          21.901988182622663,
          21.94394601439014,
          21.985903846157616,
          22.02786167792509,
          22.069819509692568,
          22.111777341460044,
          22.153735173227524,
          22.195693004995,
          22.237650836762477,
          22.279608668529953,
          22.32156650029743,
          22.363524332064905,
          22.40548216383238,
          22.447439995599858,
          22.489397827367334,
          22.53135565913481,
          22.573313490902287,
          22.615271322669763,
          22.65722915443724,
          22.699186986204715,
          22.74114481797219,
          22.783102649739668,
          22.825060481507144,
          22.86701831327462,
          22.908976145042097,
          22.950933976809573,
          22.99289180857705,
          23.034849640344525,
          23.076807472112,
          23.118765303879478,
          23.160723135646954,
          23.20268096741443,
          23.244638799181907,
          23.286596630949383,
          23.32855446271686,
          23.370512294484335,
          23.412470126251815,
          23.45442795801929,
          23.496385789786768,
          23.538343621554244,
          23.58030145332172,
          23.622259285089196,
          23.664217116856673,
          23.70617494862415,
          23.748132780391625,
          23.7900906121591,
          23.832048443926578,
          23.874006275694054,
          23.91596410746153,
          23.957921939229006,
          23.999879770996483,
          24.04183760276396,
          24.083795434531435,
          24.12575326629891,
          24.167711098066388,
          24.209668929833864,
          24.25162676160134,
          24.293584593368816,
          24.335542425136293,
          24.37750025690377,
          24.419458088671245,
          24.46141592043872,
          24.503373752206198,
          24.545331583973674,
          24.58728941574115,
          24.629247247508626,
          24.671205079276106,
          24.713162911043582,
          24.75512074281106,
          24.797078574578535,
          24.83903640634601,
          24.880994238113487,
          24.922952069880964,
          24.96490990164844,
          25.006867733415916,
          25.048825565183392,
          25.09078339695087,
          25.132741228718345
         ],
         "y": [
          0,
          0.041945522006120464,
          0.08381721144595036,
          0.12554136571338526,
          0.16704454189393667,
          0.20825368603905267,
          0.24909626175577995,
          0.2895003778854235,
          0.3293949150464647,
          0.36870965081899554,
          0.40737538335032014,
          0.44532405316415213,
          0.48248886295899995,
          0.5188043951848696,
          0.5542067271913279,
          0.58863354374424,
          0.6220242467131325,
          0.654320061736106,
          0.6854641416745495,
          0.7154016666755529,
          0.7440799406658887,
          0.7714484841077126,
          0.7974591228527176,
          0.8220660729383363,
          0.8452260211767357,
          0.8668982013947507,
          0.8870444661905593,
          0.9056293540807919,
          0.9226201519198842,
          0.9379869524818014,
          0.9517027071027793,
          0.9637432732924195,
          0.9740874572293355,
          0.9827170510665457,
          0.9896168649809518,
          0.9947747539104859,
          0.9981816389318662,
          0.9998315232413303,
          0.9997215027102172,
          0.9978517709968194,
          0.9942256192055043,
          0.9888494300937084,
          0.9817326668369987,
          0.9728878563719773,
          0.962330567346351,
          0.9500793827149756,
          0.9361558670301122,
          0.9205845284834734,
          0.903392775766869,
          0.8846108698273896,
          0.8642718706020441,
          0.8424115788256132,
          0.819068473014147,
          0.7942836417350253,
          0.7681007112828061,
          0.7405657688881595,
          0.711727281595062,
          0.6816360109490361,
          0.650344923646608,
          0.6179090983032546,
          0.5843856285039485,
          0.5498335223069485,
          0.5143135983777344,
          0.47788837893590685,
          0.44062197970349026,
          0.4025799970483477,
          0.36382939252136376,
          0.3244383749906306,
          0.2844762805801008,
          0.24401345062404714,
          0.20312110785214682,
          0.1618712310231355,
          0.12033642822769314,
          0.07858980908358323,
          0.03670485604800101,
          -0.00524470492634844,
          -0.04718503416377749,
          -0.08904230823831429,
          -0.13074284991780089,
          -0.17221325785065814,
          -0.21338053576704985,
          -0.2541722209670172,
          -0.29451651186942296,
          -0.33434239439719726,
          -0.3735797669764132,
          -0.41215956392917596,
          -0.4500138770431236,
          -0.4870760751035596,
          -0.5232809211778078,
          -0.5585646874453537,
          -0.5928652673716407,
          -0.6261222850280818,
          -0.6582772013658509,
          -0.6892734172563993,
          -0.7190563731173196,
          -0.7475736449482001,
          -0.7747750366074226,
          -0.8006126681674801,
          -0.8250410601932934,
          -0.8480172137951753,
          -0.8695006863155359,
          -0.8894536625161058,
          -0.9078410211403704,
          -0.9246303967340538,
          -0.9397922366148387,
          -0.9532998528910375,
          -0.9651294694376564,
          -0.9752602637471645,
          -0.9836744035812997,
          -0.9903570783594,
          -0.9952965252280082,
          -0.9984840497658622,
          -0.9999140412878286,
          -0.9995839827208375,
          -0.9974944550344385,
          -0.9936491362181772,
          -0.9880547948075927,
          -0.9807212779702322,
          -0.9716614941726531,
          -0.9608913904589215,
          -0.9484299243806035,
          -0.9342990306276565,
          -0.9185235824189573,
          -0.9011313477204276,
          -0.8821529403678214,
          -0.861621766180209,
          -0.8395739641590083,
          -0.8160483428760626,
          -0.7910863121627396,
          -0.7647318102202879,
          -0.7370312262797543,
          -0.7080333189475946,
          -0.6777891303807057,
          -0.6463518964419527,
          -0.613776952994325,
          -0.5801216384986756,
          -0.545445193086482,
          -0.5098086542852838,
          -0.473274749580342,
          -0.4359077860016321,
          -0.39777353693051914,
          -0.3589391263253637,
          -0.3194729105698319,
          -0.2794443581518969,
          -0.23892392738530863,
          -0.1979829423887717,
          -0.15669346754113256,
          -0.11512818063355824,
          -0.0733602449419907,
          -0.03146318044504123,
          0.010489265585974746,
          0.05242324839708843,
          0.09426495573331638,
          0.13594073776309468,
          0.17737723671681505,
          0.218501516011274,
          0.2592411886327448,
          0.29952454455270505,
          0.33928067695192554,
          0.37843960703075286,
          0.41693240718589025,
          0.45469132233686105,
          0.4916498891885963,
          0.5277430532202165,
          0.5629072831940946,
          0.5970806829836254,
          0.6302031005228753,
          0.6622162336863323,
          0.6930637329123885,
          0.7226913003899169,
          0.7510467856333554,
          0.7780802772780606,
          0.8037441909343664,
          0.8279933529456898,
          0.8507850799032646,
          0.8720792537775375,
          0.8918383925339795,
          0.9100277161090152,
          0.9266152076299387,
          0.9415716697710588,
          0.9548707761468712,
          0.9664891176517997,
          0.9764062436649359,
          0.984604698047251,
          0.9910700498679158,
          0.9957909188056455,
          0.9987589951803568,
          0.9999690545798786,
          0.9994189670559697,
          0.9971097008734561,
          0.9930453208058905,
          0.9872329809807319,
          0.9796829122866407,
          0.9704084043650543,
          0.9594257822177408,
          0.9467543774715096,
          0.9324164943506539,
          0.9164373704170242,
          0.8988451321468371,
          0.8796707454224125,
          0.858947961025984,
          0.8367132552315256,
          0.813005765599163,
          0.787867222085186,
          0.7613418735889197,
          0.7334764100657555,
          0.704319880343419,
          0.6739236057861601,
          0.6423410899588149,
          0.609627924449756,
          0.5758416910185017,
          0.5410418602402223,
          0.5052896868255508,
          0.468648101799956,
          0.4311816017324638,
          0.3929561352087063,
          0.3540389867481299,
          0.3144986583696898,
          0.27440474901450135,
          0.23382783203768462,
          0.19283933098505388,
          0.15151139387328189,
          0.10991676619486748,
          0.06812866287141661,
          0.026220639380635208,
          -0.015733537716125144,
          -0.057660020617871274,
          -0.09948501027097069,
          -0.1411348862703486,
          -0.1825363364462275,
          -0.22361648590831065,
          -0.2643030253202655,
          -0.3045243381787183,
          -0.3442096268727231,
          -0.3832890373018168,
          -0.4216937818332976,
          -0.45935626038232197,
          -0.4962101794016614,
          -0.5321906685716983,
          -0.5672343949852531,
          -0.6012796746262555,
          -0.634266580946036,
          -0.6661370503461199,
          -0.6968349843818543,
          -0.7263063485069688,
          -0.7544992671852591,
          -0.7813641152019778,
          -0.8068536050142071,
          -0.8309228699864573,
          -0.8535295433649821,
          -0.874633832851794,
          -0.8941985906471283,
          -0.9121893788370482,
          -0.9285745300111098,
          -0.9433252030033822,
          -0.9564154336587076,
          -0.9678221805348441,
          -0.9775253654600439,
          -0.9855079088746791,
          -0.991755759894707,
          -0.9962579210440549,
          -0.9990064676123935,
          -0.9999965616042231,
          -0.9992264602547193,
          -0.9966975190973504,
          -0.9924141895778664,
          -0.9863840112188567,
          -0.9786175983486723,
          -0.9691286214180708,
          -0.957933782937469,
          -0.945052788077162,
          -0.9305083099822536,
          -0.9143259498633559,
          -0.8965341919333019,
          -0.8771643532691945,
          -0.8562505286880443,
          -0.8338295307330247,
          -0.8099408248759818,
          -0.7846264600502568,
          -0.7579309946360929,
          -0.7299014180289171,
          -0.7005870679285343,
          -0.670039543494844,
          -0.6383126145229252,
          -0.6054621267973692,
          -0.5715459037924511,
          -0.5366236448911696,
          -0.5007568203023107,
          -0.4640085628604998,
          -0.4264435568996983,
          -0.3881279243957492,
          -0.3491291085783827,
          -0.30951575521754937,
          -0.26935759179304014,
          -0.2287253047600777,
          -0.18769041512692616,
          -0.14632515256350237,
          -0.10470232826261719,
          -0.06289520677761075,
          -0.02097737706198345,
          0.020977377061982473,
          0.06289520677760978,
          0.10470232826261622,
          0.14632515256350137,
          0.18769041512692516,
          0.22872530476007674,
          0.2693575917930375,
          0.3095157552175467,
          0.3491291085783801,
          0.3881279243957483,
          0.42644355689969743,
          0.4640085628604989,
          0.50075682030231,
          0.5366236448911689,
          0.5715459037924503,
          0.6054621267973685,
          0.6383126145229245,
          0.6700395434948433,
          0.7005870679285336,
          0.7299014180289164,
          0.7579309946360923,
          0.7846264600502552,
          0.8099408248759803,
          0.8338295307330231,
          0.8562505286880439,
          0.877164353269194,
          0.8965341919333014,
          0.9143259498633555,
          0.9305083099822533,
          0.9450527880771616,
          0.9579337829374688,
          0.9691286214180704,
          0.9786175983486721,
          0.9863840112188565,
          0.9924141895778663,
          0.9966975190973504,
          0.9992264602547192,
          0.9999965616042231,
          0.9990064676123938,
          0.996257921044055,
          0.9917557598947071,
          0.9855079088746793,
          0.9775253654600441,
          0.9678221805348444,
          0.9564154336587078,
          0.9433252030033825,
          0.9285745300111101,
          0.9121893788370486,
          0.8941985906471287,
          0.8746338328517944,
          0.8535295433649825,
          0.8309228699864588,
          0.8068536050142088,
          0.7813641152019796,
          0.7544992671852597,
          0.7263063485069694,
          0.696834984381855,
          0.6661370503461206,
          0.6342665809460368,
          0.6012796746262563,
          0.5672343949852539,
          0.5321906685716992,
          0.4962101794016623,
          0.45935626038232286,
          0.42169378183329853,
          0.3832890373018177,
          0.3442096268727257,
          0.304524338178721,
          0.2643030253202682,
          0.22361648590831162,
          0.18253633644622844,
          0.14113488627034954,
          0.09948501027097166,
          0.05766002061787225,
          0.01573353771612612,
          -0.026220639380634233,
          -0.06812866287141564,
          -0.10991676619486652,
          -0.15151139387328091,
          -0.19283933098505293,
          -0.23382783203768367,
          -0.2744047490144987,
          -0.3144986583696889,
          -0.35403898674812895,
          -0.3929561352087054,
          -0.43118160173246284,
          -0.4686481017999551,
          -0.5052896868255499,
          -0.5410418602402214,
          -0.5758416910185009,
          -0.6096279244497552,
          -0.6423410899588141,
          -0.6739236057861594,
          -0.7043198803434183,
          -0.7334764100657548,
          -0.7613418735889191,
          -0.7878672220851842,
          -0.8130057655991614,
          -0.8367132552315241,
          -0.8589479610259826,
          -0.8796707454224112,
          -0.8988451321468359,
          -0.9164373704170231,
          -0.9324164943506529,
          -0.9467543774715087,
          -0.95942578221774,
          -0.9704084043650536,
          -0.979682912286641,
          -0.987232980980732,
          -0.9930453208058905,
          -0.997109700873456,
          -0.9994189670559697,
          -0.9999690545798786,
          -0.9987589951803568,
          -0.9957909188056455,
          -0.9910700498679159,
          -0.9846046980472511,
          -0.9764062436649361,
          -0.9664891176518,
          -0.9548707761468715,
          -0.9415716697710591,
          -0.9266152076299391,
          -0.9100277161090157,
          -0.8918383925339802,
          -0.8720792537775385,
          -0.8507850799032656,
          -0.8279933529456909,
          -0.8037441909343676,
          -0.7780802772780617,
          -0.7510467856333566,
          -0.7226913003899188,
          -0.6930637329123905,
          -0.6622162336863344,
          -0.6302031005228775,
          -0.5970806829836276,
          -0.5629072831940969,
          -0.527743053220219,
          -0.49164988918859565,
          -0.4546913223368611,
          -0.4169324071858903,
          -0.3784396070307529,
          -0.3392806769519256,
          -0.2995245445527051,
          -0.25924118863274487,
          -0.21850151601127407,
          -0.17737723671681602,
          -0.13594073776309565,
          -0.09426495573331736,
          -0.05242324839708941,
          -0.010489265585975726,
          0.031463180445040255,
          0.07336024494198971,
          0.11512818063355726,
          0.15669346754113073,
          0.19798294238876987,
          0.2389239273853068,
          0.27944435815189517,
          0.3194729105698302,
          0.358939126325362,
          0.3977735369305174,
          0.43590778600162966,
          0.4732747495803396,
          0.5098086542852813,
          0.5454451930864797,
          0.5801216384986734,
          0.6137769529943228,
          0.6463518964419506,
          0.6777891303807062,
          0.7080333189475945,
          0.7370312262797543,
          0.7647318102202878,
          0.7910863121627395,
          0.8160483428760626,
          0.8395739641590083,
          0.8616217661802089,
          0.882152940367821,
          0.9011313477204271,
          0.9185235824189569,
          0.9342990306276562,
          0.9484299243806033,
          0.9608913904589212,
          0.9716614941726529,
          0.9807212779702321,
          0.9880547948075925,
          0.993649136218177,
          0.9974944550344383,
          0.9995839827208375,
          0.9999140412878286,
          0.9984840497658624,
          0.9952965252280084,
          0.9903570783594003,
          0.9836744035813002,
          0.9752602637471651,
          0.9651294694376572,
          0.9532998528910384,
          0.9397922366148397,
          0.9246303967340548,
          0.90784102114037,
          0.8894536625161058,
          0.869500686315536,
          0.8480172137951753,
          0.8250410601932935,
          0.8006126681674801,
          0.7747750366074228,
          0.7475736449482006,
          0.7190563731173201,
          0.6892734172563997,
          0.6582772013658515,
          0.6261222850280825,
          0.5928652673716416,
          0.5585646874453545,
          0.523280921177809,
          0.4870760751035608,
          0.4500138770431249,
          0.41215956392917724,
          0.3735797669764149,
          0.334342394397199,
          0.29451651186942474,
          0.25417222096701897,
          0.21338053576705213,
          0.1722132578506604,
          0.13074284991780316,
          0.08904230823831703,
          0.04718503416378025,
          0.005244704926351196,
          -0.036704856047998245,
          -0.07858980908358003,
          -0.12033642822768995,
          -0.16187123102313586,
          -0.20312110785214715,
          -0.24401345062404706,
          -0.28447628058010077,
          -0.32443837499063055,
          -0.3638293925213637,
          -0.40257999704834724,
          -0.4406219797034898,
          -0.4778883789359064,
          -0.5143135983777336,
          -0.5498335223069476,
          -0.5843856285039477,
          -0.6179090983032538,
          -0.6503449236466069,
          -0.681636010949035,
          -0.711727281595061,
          -0.7405657688881586,
          -0.7681007112828049,
          -0.7942836417350242,
          -0.8190684730141459,
          -0.8424115788256122,
          -0.8642718706020429,
          -0.8846108698273885,
          -0.903392775766868,
          -0.9205845284834724,
          -0.9361558670301113,
          -0.9500793827149747,
          -0.9623305673463503,
          -0.9728878563719766,
          -0.981732666836998,
          -0.9888494300937085,
          -0.9942256192055043,
          -0.9978517709968194,
          -0.9997215027102172,
          -0.9998315232413303,
          -0.9981816389318662,
          -0.9947747539104859,
          -0.9896168649809518,
          -0.9827170510665458,
          -0.9740874572293357,
          -0.9637432732924197,
          -0.9517027071027795,
          -0.9379869524818018,
          -0.9226201519198847,
          -0.9056293540807925,
          -0.88704446619056,
          -0.8668982013947516,
          -0.8452260211767366,
          -0.8220660729383374,
          -0.7974591228527188,
          -0.7714484841077139,
          -0.7440799406658901,
          -0.7154016666755546,
          -0.6854641416745513,
          -0.6543200617361079,
          -0.6220242467131346,
          -0.5886335437442424,
          -0.5542067271913302,
          -0.5188043951848722,
          -0.48248886295900273,
          -0.4453240531641519,
          -0.40737538335032,
          -0.3687096508189955,
          -0.32939491504646473,
          -0.28950037788542365,
          -0.2490962617557802,
          -0.20825368603905306,
          -0.16704454189393717,
          -0.12554136571338587,
          -0.08381721144595111,
          -0.04194552200612132,
          -9.797174393178826e-16
         ]
        },
        {
         "mode": "lines",
         "name": "Flow Out",
         "type": "scatter",
         "x": [
          0,
          0.04195783176747637,
          0.08391566353495274,
          0.1258734953024291,
          0.16783132706990547,
          0.20978915883738183,
          0.2517469906048582,
          0.2937048223723346,
          0.33566265413981095,
          0.3776204859072873,
          0.41957831767476367,
          0.46153614944224003,
          0.5034939812097164,
          0.5454518129771928,
          0.5874096447446692,
          0.6293674765121455,
          0.6713253082796219,
          0.7132831400470983,
          0.7552409718145746,
          0.797198803582051,
          0.8391566353495273,
          0.8811144671170037,
          0.9230722988844801,
          0.9650301306519564,
          1.006987962419433,
          1.0489457941869091,
          1.0909036259543856,
          1.1328614577218619,
          1.1748192894893383,
          1.2167771212568146,
          1.258734953024291,
          1.3006927847917673,
          1.3426506165592438,
          1.3846084483267203,
          1.4265662800941965,
          1.468524111861673,
          1.5104819436291492,
          1.5524397753966257,
          1.594397607164102,
          1.6363554389315784,
          1.6783132706990547,
          1.7202711024665311,
          1.7622289342340074,
          1.8041867660014839,
          1.8461445977689601,
          1.8881024295364366,
          1.9300602613039128,
          1.9720180930713893,
          2.013975924838866,
          2.055933756606342,
          2.0978915883738183,
          2.139849420141295,
          2.1818072519087712,
          2.2237650836762475,
          2.2657229154437237,
          2.3076807472112004,
          2.3496385789786767,
          2.391596410746153,
          2.433554242513629,
          2.475512074281106,
          2.517469906048582,
          2.5594277378160584,
          2.6013855695835346,
          2.6433434013510113,
          2.6853012331184876,
          2.727259064885964,
          2.7692168966534405,
          2.8111747284209168,
          2.853132560188393,
          2.8950903919558693,
          2.937048223723346,
          2.979006055490822,
          3.0209638872582985,
          3.0629217190257747,
          3.1048795507932514,
          3.1468373825607276,
          3.188795214328204,
          3.23075304609568,
          3.272710877863157,
          3.314668709630633,
          3.3566265413981093,
          3.398584373165586,
          3.4405422049330623,
          3.4825000367005385,
          3.524457868468015,
          3.5664157002354915,
          3.6083735320029677,
          3.650331363770444,
          3.6922891955379202,
          3.734247027305397,
          3.776204859072873,
          3.8181626908403494,
          3.8601205226078257,
          3.9020783543753024,
          3.9440361861427786,
          3.985994017910255,
          4.027951849677732,
          4.069909681445208,
          4.111867513212684,
          4.15382534498016,
          4.195783176747637,
          4.237741008515113,
          4.27969884028259,
          4.321656672050066,
          4.3636145038175425,
          4.405572335585019,
          4.447530167352495,
          4.489487999119971,
          4.5314458308874475,
          4.573403662654924,
          4.615361494422401,
          4.657319326189877,
          4.699277157957353,
          4.74123498972483,
          4.783192821492306,
          4.825150653259782,
          4.867108485027258,
          4.9090663167947355,
          4.951024148562212,
          4.992981980329688,
          5.034939812097164,
          5.0768976438646405,
          5.118855475632117,
          5.160813307399593,
          5.202771139167069,
          5.244728970934546,
          5.286686802702023,
          5.328644634469499,
          5.370602466236975,
          5.412560298004451,
          5.454518129771928,
          5.496475961539404,
          5.538433793306881,
          5.580391625074357,
          5.6223494568418335,
          5.66430728860931,
          5.706265120376786,
          5.748222952144262,
          5.7901807839117385,
          5.832138615679215,
          5.874096447446692,
          5.916054279214168,
          5.958012110981644,
          5.999969942749121,
          6.041927774516597,
          6.083885606284073,
          6.125843438051549,
          6.1678012698190265,
          6.209759101586503,
          6.251716933353979,
          6.293674765121455,
          6.3356325968889315,
          6.377590428656408,
          6.419548260423884,
          6.46150609219136,
          6.503463923958837,
          6.545421755726314,
          6.58737958749379,
          6.629337419261266,
          6.671295251028742,
          6.713253082796219,
          6.755210914563695,
          6.797168746331172,
          6.839126578098648,
          6.881084409866125,
          6.923042241633601,
          6.965000073401077,
          7.006957905168553,
          7.04891573693603,
          7.090873568703506,
          7.132831400470983,
          7.174789232238459,
          7.2167470640059355,
          7.258704895773412,
          7.300662727540888,
          7.342620559308364,
          7.3845783910758405,
          7.426536222843318,
          7.468494054610794,
          7.51045188637827,
          7.552409718145746,
          7.594367549913223,
          7.636325381680699,
          7.678283213448175,
          7.720241045215651,
          7.7621988769831285,
          7.804156708750605,
          7.846114540518081,
          7.888072372285557,
          7.9300302040530335,
          7.97198803582051,
          8.013945867587987,
          8.055903699355463,
          8.09786153112294,
          8.139819362890416,
          8.181777194657892,
          8.223735026425368,
          8.265692858192844,
          8.30765068996032,
          8.349608521727797,
          8.391566353495273,
          8.43352418526275,
          8.475482017030226,
          8.517439848797702,
          8.55939768056518,
          8.601355512332656,
          8.643313344100132,
          8.685271175867609,
          8.727229007635085,
          8.769186839402561,
          8.811144671170037,
          8.853102502937514,
          8.89506033470499,
          8.937018166472466,
          8.978975998239942,
          9.020933830007419,
          9.062891661774895,
          9.104849493542371,
          9.146807325309847,
          9.188765157077325,
          9.230722988844802,
          9.272680820612278,
          9.314638652379754,
          9.35659648414723,
          9.398554315914707,
          9.440512147682183,
          9.48246997944966,
          9.524427811217135,
          9.566385642984612,
          9.608343474752088,
          9.650301306519564,
          9.69225913828704,
          9.734216970054517,
          9.776174801821993,
          9.818132633589471,
          9.860090465356947,
          9.902048297124423,
          9.9440061288919,
          9.985963960659376,
          10.027921792426852,
          10.069879624194328,
          10.111837455961805,
          10.153795287729281,
          10.195753119496757,
          10.237710951264233,
          10.27966878303171,
          10.321626614799186,
          10.363584446566662,
          10.405542278334138,
          10.447500110101616,
          10.489457941869093,
          10.531415773636569,
          10.573373605404045,
          10.615331437171522,
          10.657289268938998,
          10.699247100706474,
          10.74120493247395,
          10.783162764241427,
          10.825120596008903,
          10.867078427776379,
          10.909036259543855,
          10.950994091311332,
          10.992951923078808,
          11.034909754846284,
          11.076867586613762,
          11.118825418381238,
          11.160783250148715,
          11.20274108191619,
          11.244698913683667,
          11.286656745451143,
          11.32861457721862,
          11.370572408986096,
          11.412530240753572,
          11.454488072521048,
          11.496445904288525,
          11.538403736056,
          11.580361567823477,
          11.622319399590953,
          11.66427723135843,
          11.706235063125908,
          11.748192894893384,
          11.79015072666086,
          11.832108558428336,
          11.874066390195813,
          11.916024221963289,
          11.957982053730765,
          11.999939885498241,
          12.041897717265718,
          12.083855549033194,
          12.12581338080067,
          12.167771212568146,
          12.209729044335623,
          12.251686876103099,
          12.293644707870575,
          12.335602539638053,
          12.37756037140553,
          12.419518203173006,
          12.461476034940482,
          12.503433866707958,
          12.545391698475434,
          12.58734953024291,
          12.629307362010387,
          12.671265193777863,
          12.71322302554534,
          12.755180857312816,
          12.797138689080292,
          12.839096520847768,
          12.881054352615244,
          12.92301218438272,
          12.964970016150199,
          13.006927847917675,
          13.048885679685151,
          13.090843511452627,
          13.132801343220104,
          13.17475917498758,
          13.216717006755056,
          13.258674838522532,
          13.300632670290009,
          13.342590502057485,
          13.384548333824961,
          13.426506165592437,
          13.468463997359914,
          13.51042182912739,
          13.552379660894866,
          13.594337492662344,
          13.63629532442982,
          13.678253156197297,
          13.720210987964773,
          13.76216881973225,
          13.804126651499725,
          13.846084483267202,
          13.888042315034678,
          13.930000146802154,
          13.97195797856963,
          14.013915810337107,
          14.055873642104583,
          14.09783147387206,
          14.139789305639535,
          14.181747137407012,
          14.22370496917449,
          14.265662800941966,
          14.307620632709442,
          14.349578464476918,
          14.391536296244395,
          14.433494128011871,
          14.475451959779347,
          14.517409791546823,
          14.5593676233143,
          14.601325455081776,
          14.643283286849252,
          14.685241118616728,
          14.727198950384205,
          14.769156782151681,
          14.811114613919157,
          14.853072445686635,
          14.895030277454111,
          14.936988109221588,
          14.978945940989064,
          15.02090377275654,
          15.062861604524016,
          15.104819436291493,
          15.146777268058969,
          15.188735099826445,
          15.230692931593921,
          15.272650763361398,
          15.314608595128874,
          15.35656642689635,
          15.398524258663826,
          15.440482090431303,
          15.48243992219878,
          15.524397753966257,
          15.566355585733733,
          15.60831341750121,
          15.650271249268686,
          15.692229081036162,
          15.734186912803638,
          15.776144744571114,
          15.81810257633859,
          15.860060408106067,
          15.902018239873543,
          15.94397607164102,
          15.985933903408496,
          16.027891735175974,
          16.06984956694345,
          16.111807398710926,
          16.153765230478403,
          16.19572306224588,
          16.237680894013355,
          16.27963872578083,
          16.321596557548308,
          16.363554389315784,
          16.40551222108326,
          16.447470052850736,
          16.489427884618213,
          16.53138571638569,
          16.573343548153165,
          16.61530137992064,
          16.657259211688118,
          16.699217043455594,
          16.74117487522307,
          16.783132706990546,
          16.825090538758023,
          16.8670483705255,
          16.909006202292975,
          16.95096403406045,
          16.992921865827928,
          17.034879697595404,
          17.076837529362884,
          17.11879536113036,
          17.160753192897836,
          17.202711024665312,
          17.24466885643279,
          17.286626688200265,
          17.32858451996774,
          17.370542351735217,
          17.412500183502694,
          17.45445801527017,
          17.496415847037646,
          17.538373678805122,
          17.5803315105726,
          17.622289342340075,
          17.66424717410755,
          17.706205005875027,
          17.748162837642504,
          17.79012066940998,
          17.832078501177456,
          17.874036332944932,
          17.91599416471241,
          17.957951996479885,
          17.99990982824736,
          18.041867660014837,
          18.083825491782314,
          18.12578332354979,
          18.167741155317266,
          18.209698987084742,
          18.25165681885222,
          18.293614650619695,
          18.335572482387175,
          18.37753031415465,
          18.419488145922127,
          18.461445977689603,
          18.50340380945708,
          18.545361641224556,
          18.587319472992032,
          18.62927730475951,
          18.671235136526985,
          18.71319296829446,
          18.755150800061937,
          18.797108631829413,
          18.83906646359689,
          18.881024295364366,
          18.922982127131842,
          18.96493995889932,
          19.006897790666795,
          19.04885562243427,
          19.090813454201747,
          19.132771285969223,
          19.1747291177367,
          19.216686949504176,
          19.258644781271652,
          19.30060261303913,
          19.342560444806605,
          19.38451827657408,
          19.426476108341557,
          19.468433940109033,
          19.51039177187651,
          19.552349603643986,
          19.594307435411466,
          19.636265267178942,
          19.678223098946418,
          19.720180930713894,
          19.76213876248137,
          19.804096594248847,
          19.846054426016323,
          19.8880122577838,
          19.929970089551276,
          19.971927921318752,
          20.013885753086228,
          20.055843584853704,
          20.09780141662118,
          20.139759248388657,
          20.181717080156133,
          20.22367491192361,
          20.265632743691086,
          20.307590575458562,
          20.349548407226038,
          20.391506238993514,
          20.43346407076099,
          20.475421902528467,
          20.517379734295943,
          20.55933756606342,
          20.601295397830896,
          20.643253229598372,
          20.685211061365848,
          20.727168893133324,
          20.7691267249008,
          20.811084556668277,
          20.853042388435757,
          20.895000220203233,
          20.93695805197071,
          20.978915883738185,
          21.02087371550566,
          21.062831547273138,
          21.104789379040614,
          21.14674721080809,
          21.188705042575567,
          21.230662874343043,
          21.27262070611052,
          21.314578537877996,
          21.35653636964547,
          21.398494201412948,
          21.440452033180424,
          21.4824098649479,
          21.524367696715377,
          21.566325528482853,
          21.60828336025033,
          21.650241192017806,
          21.69219902378528,
          21.734156855552758,
          21.776114687320234,
          21.81807251908771,
          21.860030350855187,
          21.901988182622663,
          21.94394601439014,
          21.985903846157616,
          22.02786167792509,
          22.069819509692568,
          22.111777341460044,
          22.153735173227524,
          22.195693004995,
          22.237650836762477,
          22.279608668529953,
          22.32156650029743,
          22.363524332064905,
          22.40548216383238,
          22.447439995599858,
          22.489397827367334,
          22.53135565913481,
          22.573313490902287,
          22.615271322669763,
          22.65722915443724,
          22.699186986204715,
          22.74114481797219,
          22.783102649739668,
          22.825060481507144,
          22.86701831327462,
          22.908976145042097,
          22.950933976809573,
          22.99289180857705,
          23.034849640344525,
          23.076807472112,
          23.118765303879478,
          23.160723135646954,
          23.20268096741443,
          23.244638799181907,
          23.286596630949383,
          23.32855446271686,
          23.370512294484335,
          23.412470126251815,
          23.45442795801929,
          23.496385789786768,
          23.538343621554244,
          23.58030145332172,
          23.622259285089196,
          23.664217116856673,
          23.70617494862415,
          23.748132780391625,
          23.7900906121591,
          23.832048443926578,
          23.874006275694054,
          23.91596410746153,
          23.957921939229006,
          23.999879770996483,
          24.04183760276396,
          24.083795434531435,
          24.12575326629891,
          24.167711098066388,
          24.209668929833864,
          24.25162676160134,
          24.293584593368816,
          24.335542425136293,
          24.37750025690377,
          24.419458088671245,
          24.46141592043872,
          24.503373752206198,
          24.545331583973674,
          24.58728941574115,
          24.629247247508626,
          24.671205079276106,
          24.713162911043582,
          24.75512074281106,
          24.797078574578535,
          24.83903640634601,
          24.880994238113487,
          24.922952069880964,
          24.96490990164844,
          25.006867733415916,
          25.048825565183392,
          25.09078339695087,
          25.132741228718345
         ],
         "y": [
          1,
          0.9991198993031988,
          0.9964811463672681,
          0.9920883859288032,
          0.9859493501308497,
          0.9780748449127744,
          0.9684787309896361,
          0.9571778994545356,
          0.9441922420468897,
          0.9295446161389642,
          0.9132608045022953,
          0.895369469924819,
          0.8759021047585919,
          0.8548929754869095,
          0.832379062408394,
          0.8083999945442217,
          0.7829979798830646,
          0.7562177310865293,
          0.7281063867858688,
          0.6987134286084968,
          0.6680905940803595,
          0.6362917855574692,
          0.6033729753469028,
          0.5693921071842688,
          0.5344089942410627,
          0.49848521384144,
          0.46168399907372315,
          0.424070127487433,
          0.3857098070717541,
          0.34667055971614164,
          0.30702110235819563,
          0.26683122602801357,
          0.22617167300192012,
          0.18511401228181532,
          0.14373051361931694,
          0.10209402030644242,
          0.060277820956746254,
          0.018355520502598477,
          -0.023599089364318048,
          -0.06551216008124798,
          -0.10730991620270477,
          -0.14891878526011443,
          -0.1902655272641754,
          -0.2312773636219917,
          -0.27188210524205164,
          -0.3120082796015692,
          -0.3515852565525164,
          -0.3905433726449099,
          -0.42881405374851167,
          -0.4663299357571088,
          -0.5030249831629077,
          -0.5388346052923267,
          -0.5736957699985887,
          -0.6075471146109953,
          -0.6403290539455846,
          -0.671983885187055,
          -0.7024558894573404,
          -0.7316914298920588,
          -0.7596390460521942,
          -0.786249544504834,
          -0.8114760854135168,
          -0.8352742649857796,
          -0.8576021936327742,
          -0.8784205697033802,
          -0.8976927486630251,
          -0.9153848075954464,
          -0.9314656049138559,
          -0.9459068351764031,
          -0.9586830789094547,
          -0.9697718473509869,
          -0.9791536220353354,
          -0.9868118891496265,
          -0.9927331686014129,
          -0.9969070377463517,
          -0.9993261497341573,
          -0.9999862464405376,
          -0.9988861659623499,
          -0.996027844662785,
          -0.9914163137629779,
          -0.985059690486045,
          -0.976969163769137,
          -0.9671589745686557,
          -0.9556463907933038,
          -0.9424516769090864,
          -0.9275980582697706,
          -0.9111116802355853,
          -0.893021562152122,
          -0.8733595462704415,
          -0.8521602416982998,
          -0.829460963481148,
          -0.805301666920138,
          -0.7797248772427449,
          -0.7527756147498025,
          -0.7245013155707073,
          -0.6949517481662781,
          -0.6641789257262402,
          -0.6322370146155372,
          -0.5991822390306212,
          -0.5650727820335416,
          -0.5299686831380398,
          -0.49393173262791285,
          -0.4570253627936697,
          -0.4193145362789247,
          -0.38086563173306454,
          -0.34174632697145263,
          -0.302025479848847,
          -0.261773007055708,
          -0.2210597610507421,
          -0.1799574053463052,
          -0.13853828836618867,
          -0.09687531609782178,
          -0.05504182376305471,
          -0.013111446733393511,
          0.02884200908307996,
          0.0707446971549711,
          0.11252286031234009,
          0.15410296057417514,
          0.19541180859005014,
          0.2363766924681177,
          0.27692550576268776,
          0.31698687439609025,
          0.3564902822914271,
          0.3953661954950688,
          0.4335461845704168,
          0.470963045047493,
          0.507550915716342,
          0.5432453945560222,
          0.5779836520951367,
          0.611704542004354,
          0.6443487087262623,
          0.6758586919531047,
          0.7061790277684928,
          0.7352563462750709,
          0.7630394655362797,
          0.7894794816668779,
          0.8145298549136256,
          0.8381464915746235,
          0.8602878216131087,
          0.8809148718290915,
          0.8999913344600354,
          0.9174836310898331,
          0.9333609717535786,
          0.9475954091341094,
          0.9601618877549111,
          0.9710382880828026,
          0.9802054654627693,
          0.9876472838164119,
          0.9933506440446932,
          0.997305507084991,
          0.9995049115818705,
          0.9999449861404711,
          0.9986249561409414,
          0.9955471451019263,
          0.9907169705907058,
          0.984142934687186,
          0.9758366090185256,
          0.9658126143907428,
          0.9540885950531505,
          0.9406851876409255,
          0.9256259848504736,
          0.9089374939115336,
          0.8906490899291127,
          0.8707929641773875,
          0.8494040674365785,
          0.8265200484725361,
          0.8021811877673319,
          0.776430326617498,
          0.7493127917247168,
          0.7208763154116976,
          0.6911709516036758,
          0.6602489877234231,
          0.6281648526548556,
          0.5949750209372329,
          0.5607379133585978,
          0.5255137941234233,
          0.4893646647754753,
          0.4523541550626098,
          0.41454741093560044,
          0.37601097987814874,
          0.3368126937699057,
          0.2970215494887059,
          0.2567075874621661,
          0.21594176838242707,
          0.17479584830104436,
          0.1333422523238862,
          0.09165394712836057,
          0.04980431252737132,
          0.007867012306063972,
          -0.03408413544126799,
          -0.0759752882458965,
          -0.11773270924227523,
          -0.15928289695977402,
          -0.20055271470006628,
          -0.24146951927245272,
          -0.28196128886050326,
          -0.32195674979495964,
          -0.36138550200974723,
          -0.4001781429602695,
          -0.4382663897858639,
          -0.4755831995013881,
          -0.5120628870063761,
          -0.5476412407040433,
          -0.5822556355266292,
          -0.6158451431681282,
          -0.6483506393303807,
          -0.6797149077937394,
          -0.7098827411291473,
          -0.7388010378743254,
          -0.766418896003042,
          -0.7926877025229309,
          -0.8175612190441475,
          -0.8409956631682471,
          -0.8629497855540245,
          -0.8833849425246607,
          -0.9022651640883776,
          -0.9195572172528672,
          -0.9352306645220512,
          -0.9492579174722037,
          -0.9616142853131335,
          -0.9722780183489476,
          -0.9812303462618942,
          -0.9884555111519058,
          -0.9939407952736736,
          -0.9976765434224425,
          -0.9996561799291148,
          -0.9998762202347525,
          -0.9983362770241031,
          -0.995039060907352,
          -0.9899903756489028,
          -0.9831991079515835,
          -0.9746772118142591,
          -0.9644396874903869,
          -0.9525045550845485,
          -0.9388928228334376,
          -0.9236284501271312,
          -0.9067383053357408,
          -0.8882521185156658,
          -0.8682024290787091,
          -0.8466245285161592,
          -0.823556398278657,
          -0.7990386429211945,
          -0.77311441863092,
          -0.7458293572635573,
          -0.7172314860221495,
          -0.6873711429195101,
          -0.6563008881731817,
          -0.6240754116888682,
          -0.590751436795187,
          -0.5563876203991863,
          -0.5210444497383743,
          -0.4847841359110054,
          -0.4476705043720096,
          -0.40976888258734356,
          -0.3711459850444923,
          -0.33186979582153586,
          -0.29200944892147973,
          -0.25163510658248694,
          -0.21081783577820834,
          -0.1696294831255967,
          -0.12814254842039133,
          -0.08643005702287665,
          -0.04456543131854114,
          -0.002622361479892236,
          0.0393253242430881,
          0.08120378947553365,
          0.1229393196845768,
          0.16445845193178263,
          0.20568810418270844,
          0.24655570394600437,
          0.2869893160156139,
          0.3269177690912238,
          0.3662707810540859,
          0.4049790826777007,
          0.44297453955560645,
          0.480190272031656,
          0.5165607729216811,
          0.5520220228193291,
          0.5865116027831112,
          0.6199688042063106,
          0.6523347356763574,
          0.6835524266355698,
          0.7135669276608181,
          0.7423254071855692,
          0.7697772444940857,
          0.7958741188240803,
          0.8205700944209887,
          0.8438217013941488,
          0.8655880122325629,
          0.8858307138455596,
          0.9045141750015495,
          0.9216055090461686,
          0.937074631789413,
          0.950894314459872,
          0.9630402316328502,
          0.9734910040480136,
          0.9822282362411916,
          0.9892365489241023,
          0.9945036060549942,
          0.9980201365525655,
          0.9997799506149337,
          0.9997799506149337,
          0.9980201365525656,
          0.9945036060549943,
          0.9892365489241024,
          0.9822282362411918,
          0.9734910040480138,
          0.963040231632851,
          0.9508943144598729,
          0.9370746317894139,
          0.921605509046169,
          0.90451417500155,
          0.88583071384556,
          0.8655880122325633,
          0.8438217013941492,
          0.8205700944209892,
          0.7958741188240809,
          0.7697772444940864,
          0.7423254071855698,
          0.7135669276608188,
          0.6835524266355706,
          0.652334735676358,
          0.6199688042063127,
          0.5865116027831135,
          0.5520220228193314,
          0.5165607729216819,
          0.4801902720316569,
          0.44297453955560734,
          0.40497908267770166,
          0.36627078105408684,
          0.3269177690912247,
          0.2869893160156149,
          0.24655570394600532,
          0.20568810418270939,
          0.1644584519317836,
          0.12293931968457777,
          0.08120378947553464,
          0.03932532424309085,
          -0.00262236147988948,
          -0.044565431318538386,
          -0.08643005702287566,
          -0.12814254842039038,
          -0.16962948312559575,
          -0.2108178357782074,
          -0.25163510658248595,
          -0.2920094489214788,
          -0.3318697958215349,
          -0.3711459850444914,
          -0.4097688825873427,
          -0.4476705043720087,
          -0.4847841359110045,
          -0.5210444497383734,
          -0.556387620399184,
          -0.5907514367951847,
          -0.624075411688866,
          -0.6563008881731809,
          -0.6873711429195094,
          -0.7172314860221488,
          -0.7458293572635566,
          -0.7731144186309195,
          -0.799038642921194,
          -0.8235563982786565,
          -0.8466245285161587,
          -0.8682024290787087,
          -0.8882521185156653,
          -0.9067383053357404,
          -0.9236284501271308,
          -0.9388928228334366,
          -0.9525045550845476,
          -0.9644396874903861,
          -0.974677211814259,
          -0.9831991079515834,
          -0.9899903756489027,
          -0.9950390609073518,
          -0.998336277024103,
          -0.9998762202347524,
          -0.9996561799291148,
          -0.9976765434224426,
          -0.9939407952736737,
          -0.9884555111519059,
          -0.9812303462618944,
          -0.9722780183489478,
          -0.9616142853131343,
          -0.949257917472204,
          -0.9352306645220516,
          -0.9195572172528677,
          -0.9022651640883781,
          -0.8833849425246612,
          -0.862949785554025,
          -0.8409956631682477,
          -0.817561219044148,
          -0.7926877025229315,
          -0.7664188960030427,
          -0.738801037874326,
          -0.7098827411291481,
          -0.6797149077937401,
          -0.6483506393303814,
          -0.6158451431681303,
          -0.5822556355266314,
          -0.5476412407040456,
          -0.5120628870063785,
          -0.47558319950139055,
          -0.4382663897858664,
          -0.40017814296027204,
          -0.3613855020097498,
          -0.32195674979496225,
          -0.2819612888605059,
          -0.24146951927245539,
          -0.20055271470006547,
          -0.1592828969597732,
          -0.11773270924227533,
          -0.0759752882458966,
          -0.03408413544126808,
          0.007867012306063882,
          0.049804312527371226,
          0.09165394712836047,
          0.13334225232388522,
          0.1747958483010434,
          0.21594176838242612,
          0.25670758746216515,
          0.29702154948870496,
          0.33681269376990475,
          0.3760109798781478,
          0.41454741093559955,
          0.4523541550626081,
          0.4893646647754737,
          0.5255137941234216,
          0.5607379133585962,
          0.5949750209372313,
          0.628164852654854,
          0.6602489877234217,
          0.6911709516036738,
          0.7208763154116957,
          0.749312791724715,
          0.7764303266174962,
          0.8021811877673303,
          0.8265200484725345,
          0.849404067436577,
          0.8707929641773879,
          0.8906490899291127,
          0.9089374939115334,
          0.9256259848504736,
          0.9406851876409255,
          0.9540885950531505,
          0.9658126143907427,
          0.9758366090185256,
          0.9841429346871858,
          0.9907169705907057,
          0.9955471451019262,
          0.9986249561409414,
          0.9999449861404711,
          0.9995049115818705,
          0.9973055070849911,
          0.9933506440446933,
          0.9876472838164122,
          0.9802054654627698,
          0.971038288082803,
          0.9601618877549115,
          0.94759540913411,
          0.9333609717535792,
          0.9174836310898338,
          0.8999913344600367,
          0.8809148718290927,
          0.8602878216131101,
          0.838146491574625,
          0.8145298549136272,
          0.7894794816668796,
          0.7630394655362814,
          0.7352563462750703,
          0.706179027768493,
          0.6758586919531048,
          0.6443487087262624,
          0.6117045420043541,
          0.5779836520951368,
          0.5432453945560223,
          0.507550915716342,
          0.4709630450474938,
          0.43354618457041766,
          0.3953661954950697,
          0.356490282291428,
          0.31698687439609113,
          0.27692550576268865,
          0.23637669246811868,
          0.1954118085900511,
          0.154102960574177,
          0.11252286031234193,
          0.07074469715497296,
          0.028842009083081828,
          -0.013111446733391643,
          -0.055041823763052854,
          -0.09687531609781992,
          -0.13853828836618592,
          -0.17995740534630247,
          -0.22105976105073938,
          -0.2617730070557054,
          -0.3020254798488444,
          -0.3417463269714501,
          -0.38086563173306204,
          -0.41931453627892545,
          -0.4570253627936696,
          -0.49393173262791273,
          -0.5299686831380398,
          -0.5650727820335415,
          -0.5991822390306211,
          -0.632237014615537,
          -0.6641789257262397,
          -0.6949517481662777,
          -0.724501315570707,
          -0.7527756147498018,
          -0.7797248772427442,
          -0.8053016669201374,
          -0.8294609634811474,
          -0.8521602416982992,
          -0.8733595462704409,
          -0.8930215621521215,
          -0.9111116802355848,
          -0.9275980582697699,
          -0.9424516769090858,
          -0.9556463907933034,
          -0.9671589745686553,
          -0.9769691637691365,
          -0.9850596904860446,
          -0.9914163137629776,
          -0.9960278446627848,
          -0.9988861659623497,
          -0.9999862464405376,
          -0.9993261497341575,
          -0.9969070377463519,
          -0.9927331686014133,
          -0.9868118891496264,
          -0.9791536220353354,
          -0.9697718473509869,
          -0.9586830789094547,
          -0.9459068351764031,
          -0.9314656049138559,
          -0.9153848075954466,
          -0.8976927486630253,
          -0.8784205697033804,
          -0.8576021936327748,
          -0.8352742649857802,
          -0.8114760854135173,
          -0.7862495445048345,
          -0.7596390460521951,
          -0.7316914298920597,
          -0.7024558894573414,
          -0.671983885187056,
          -0.640329053945586,
          -0.6075471146109969,
          -0.5736957699985903,
          -0.5388346052923284,
          -0.5030249831629097,
          -0.46632993575711085,
          -0.4288140537485138,
          -0.39054337264491223,
          -0.35158525655251893,
          -0.31200827960157185,
          -0.27188210524205453,
          -0.2312773636219946,
          -0.19026552726417853,
          -0.14891878526011407,
          -0.10730991620270464,
          -0.06551216008124784,
          -0.023599089364318142,
          0.018355520502598383,
          0.06027782095674594,
          0.10209402030644212,
          0.1437305136193164,
          0.1851140122818148,
          0.2261716730019194,
          0.26683122602801257,
          0.30702110235819463,
          0.34667055971614047,
          0.385709807071753,
          0.4240701274874317,
          0.4616839990737219,
          0.49848521384143857,
          0.5344089942410614,
          0.5693921071842672,
          0.6033729753469013,
          0.6362917855574676,
          0.6680905940803579,
          0.6987134286084952,
          0.728106386785867,
          0.7562177310865277,
          0.782997979883063,
          0.8083999945442202,
          0.8323790624083924,
          0.8548929754869079,
          0.8759021047585904,
          0.8953694699248191,
          0.9132608045022954,
          0.9295446161389642,
          0.9441922420468897,
          0.9571778994545355,
          0.968478730989636,
          0.9780748449127743,
          0.9859493501308496,
          0.9920883859288032,
          0.996481146367268,
          0.9991198993031988,
          1
         ]
        },
        {
         "mode": "lines",
         "name": "Flow In",
         "type": "scatter",
         "x": [
          0,
          0.04195783176747637,
          0.08391566353495274,
          0.1258734953024291,
          0.16783132706990547,
          0.20978915883738183,
          0.2517469906048582,
          0.2937048223723346,
          0.33566265413981095,
          0.3776204859072873,
          0.41957831767476367,
          0.46153614944224003,
          0.5034939812097164,
          0.5454518129771928,
          0.5874096447446692,
          0.6293674765121455,
          0.6713253082796219,
          0.7132831400470983,
          0.7552409718145746,
          0.797198803582051,
          0.8391566353495273,
          0.8811144671170037,
          0.9230722988844801,
          0.9650301306519564,
          1.006987962419433,
          1.0489457941869091,
          1.0909036259543856,
          1.1328614577218619,
          1.1748192894893383,
          1.2167771212568146,
          1.258734953024291,
          1.3006927847917673,
          1.3426506165592438,
          1.3846084483267203,
          1.4265662800941965,
          1.468524111861673,
          1.5104819436291492,
          1.5524397753966257,
          1.594397607164102,
          1.6363554389315784,
          1.6783132706990547,
          1.7202711024665311,
          1.7622289342340074,
          1.8041867660014839,
          1.8461445977689601,
          1.8881024295364366,
          1.9300602613039128,
          1.9720180930713893,
          2.013975924838866,
          2.055933756606342,
          2.0978915883738183,
          2.139849420141295,
          2.1818072519087712,
          2.2237650836762475,
          2.2657229154437237,
          2.3076807472112004,
          2.3496385789786767,
          2.391596410746153,
          2.433554242513629,
          2.475512074281106,
          2.517469906048582,
          2.5594277378160584,
          2.6013855695835346,
          2.6433434013510113,
          2.6853012331184876,
          2.727259064885964,
          2.7692168966534405,
          2.8111747284209168,
          2.853132560188393,
          2.8950903919558693,
          2.937048223723346,
          2.979006055490822,
          3.0209638872582985,
          3.0629217190257747,
          3.1048795507932514,
          3.1468373825607276,
          3.188795214328204,
          3.23075304609568,
          3.272710877863157,
          3.314668709630633,
          3.3566265413981093,
          3.398584373165586,
          3.4405422049330623,
          3.4825000367005385,
          3.524457868468015,
          3.5664157002354915,
          3.6083735320029677,
          3.650331363770444,
          3.6922891955379202,
          3.734247027305397,
          3.776204859072873,
          3.8181626908403494,
          3.8601205226078257,
          3.9020783543753024,
          3.9440361861427786,
          3.985994017910255,
          4.027951849677732,
          4.069909681445208,
          4.111867513212684,
          4.15382534498016,
          4.195783176747637,
          4.237741008515113,
          4.27969884028259,
          4.321656672050066,
          4.3636145038175425,
          4.405572335585019,
          4.447530167352495,
          4.489487999119971,
          4.5314458308874475,
          4.573403662654924,
          4.615361494422401,
          4.657319326189877,
          4.699277157957353,
          4.74123498972483,
          4.783192821492306,
          4.825150653259782,
          4.867108485027258,
          4.9090663167947355,
          4.951024148562212,
          4.992981980329688,
          5.034939812097164,
          5.0768976438646405,
          5.118855475632117,
          5.160813307399593,
          5.202771139167069,
          5.244728970934546,
          5.286686802702023,
          5.328644634469499,
          5.370602466236975,
          5.412560298004451,
          5.454518129771928,
          5.496475961539404,
          5.538433793306881,
          5.580391625074357,
          5.6223494568418335,
          5.66430728860931,
          5.706265120376786,
          5.748222952144262,
          5.7901807839117385,
          5.832138615679215,
          5.874096447446692,
          5.916054279214168,
          5.958012110981644,
          5.999969942749121,
          6.041927774516597,
          6.083885606284073,
          6.125843438051549,
          6.1678012698190265,
          6.209759101586503,
          6.251716933353979,
          6.293674765121455,
          6.3356325968889315,
          6.377590428656408,
          6.419548260423884,
          6.46150609219136,
          6.503463923958837,
          6.545421755726314,
          6.58737958749379,
          6.629337419261266,
          6.671295251028742,
          6.713253082796219,
          6.755210914563695,
          6.797168746331172,
          6.839126578098648,
          6.881084409866125,
          6.923042241633601,
          6.965000073401077,
          7.006957905168553,
          7.04891573693603,
          7.090873568703506,
          7.132831400470983,
          7.174789232238459,
          7.2167470640059355,
          7.258704895773412,
          7.300662727540888,
          7.342620559308364,
          7.3845783910758405,
          7.426536222843318,
          7.468494054610794,
          7.51045188637827,
          7.552409718145746,
          7.594367549913223,
          7.636325381680699,
          7.678283213448175,
          7.720241045215651,
          7.7621988769831285,
          7.804156708750605,
          7.846114540518081,
          7.888072372285557,
          7.9300302040530335,
          7.97198803582051,
          8.013945867587987,
          8.055903699355463,
          8.09786153112294,
          8.139819362890416,
          8.181777194657892,
          8.223735026425368,
          8.265692858192844,
          8.30765068996032,
          8.349608521727797,
          8.391566353495273,
          8.43352418526275,
          8.475482017030226,
          8.517439848797702,
          8.55939768056518,
          8.601355512332656,
          8.643313344100132,
          8.685271175867609,
          8.727229007635085,
          8.769186839402561,
          8.811144671170037,
          8.853102502937514,
          8.89506033470499,
          8.937018166472466,
          8.978975998239942,
          9.020933830007419,
          9.062891661774895,
          9.104849493542371,
          9.146807325309847,
          9.188765157077325,
          9.230722988844802,
          9.272680820612278,
          9.314638652379754,
          9.35659648414723,
          9.398554315914707,
          9.440512147682183,
          9.48246997944966,
          9.524427811217135,
          9.566385642984612,
          9.608343474752088,
          9.650301306519564,
          9.69225913828704,
          9.734216970054517,
          9.776174801821993,
          9.818132633589471,
          9.860090465356947,
          9.902048297124423,
          9.9440061288919,
          9.985963960659376,
          10.027921792426852,
          10.069879624194328,
          10.111837455961805,
          10.153795287729281,
          10.195753119496757,
          10.237710951264233,
          10.27966878303171,
          10.321626614799186,
          10.363584446566662,
          10.405542278334138,
          10.447500110101616,
          10.489457941869093,
          10.531415773636569,
          10.573373605404045,
          10.615331437171522,
          10.657289268938998,
          10.699247100706474,
          10.74120493247395,
          10.783162764241427,
          10.825120596008903,
          10.867078427776379,
          10.909036259543855,
          10.950994091311332,
          10.992951923078808,
          11.034909754846284,
          11.076867586613762,
          11.118825418381238,
          11.160783250148715,
          11.20274108191619,
          11.244698913683667,
          11.286656745451143,
          11.32861457721862,
          11.370572408986096,
          11.412530240753572,
          11.454488072521048,
          11.496445904288525,
          11.538403736056,
          11.580361567823477,
          11.622319399590953,
          11.66427723135843,
          11.706235063125908,
          11.748192894893384,
          11.79015072666086,
          11.832108558428336,
          11.874066390195813,
          11.916024221963289,
          11.957982053730765,
          11.999939885498241,
          12.041897717265718,
          12.083855549033194,
          12.12581338080067,
          12.167771212568146,
          12.209729044335623,
          12.251686876103099,
          12.293644707870575,
          12.335602539638053,
          12.37756037140553,
          12.419518203173006,
          12.461476034940482,
          12.503433866707958,
          12.545391698475434,
          12.58734953024291,
          12.629307362010387,
          12.671265193777863,
          12.71322302554534,
          12.755180857312816,
          12.797138689080292,
          12.839096520847768,
          12.881054352615244,
          12.92301218438272,
          12.964970016150199,
          13.006927847917675,
          13.048885679685151,
          13.090843511452627,
          13.132801343220104,
          13.17475917498758,
          13.216717006755056,
          13.258674838522532,
          13.300632670290009,
          13.342590502057485,
          13.384548333824961,
          13.426506165592437,
          13.468463997359914,
          13.51042182912739,
          13.552379660894866,
          13.594337492662344,
          13.63629532442982,
          13.678253156197297,
          13.720210987964773,
          13.76216881973225,
          13.804126651499725,
          13.846084483267202,
          13.888042315034678,
          13.930000146802154,
          13.97195797856963,
          14.013915810337107,
          14.055873642104583,
          14.09783147387206,
          14.139789305639535,
          14.181747137407012,
          14.22370496917449,
          14.265662800941966,
          14.307620632709442,
          14.349578464476918,
          14.391536296244395,
          14.433494128011871,
          14.475451959779347,
          14.517409791546823,
          14.5593676233143,
          14.601325455081776,
          14.643283286849252,
          14.685241118616728,
          14.727198950384205,
          14.769156782151681,
          14.811114613919157,
          14.853072445686635,
          14.895030277454111,
          14.936988109221588,
          14.978945940989064,
          15.02090377275654,
          15.062861604524016,
          15.104819436291493,
          15.146777268058969,
          15.188735099826445,
          15.230692931593921,
          15.272650763361398,
          15.314608595128874,
          15.35656642689635,
          15.398524258663826,
          15.440482090431303,
          15.48243992219878,
          15.524397753966257,
          15.566355585733733,
          15.60831341750121,
          15.650271249268686,
          15.692229081036162,
          15.734186912803638,
          15.776144744571114,
          15.81810257633859,
          15.860060408106067,
          15.902018239873543,
          15.94397607164102,
          15.985933903408496,
          16.027891735175974,
          16.06984956694345,
          16.111807398710926,
          16.153765230478403,
          16.19572306224588,
          16.237680894013355,
          16.27963872578083,
          16.321596557548308,
          16.363554389315784,
          16.40551222108326,
          16.447470052850736,
          16.489427884618213,
          16.53138571638569,
          16.573343548153165,
          16.61530137992064,
          16.657259211688118,
          16.699217043455594,
          16.74117487522307,
          16.783132706990546,
          16.825090538758023,
          16.8670483705255,
          16.909006202292975,
          16.95096403406045,
          16.992921865827928,
          17.034879697595404,
          17.076837529362884,
          17.11879536113036,
          17.160753192897836,
          17.202711024665312,
          17.24466885643279,
          17.286626688200265,
          17.32858451996774,
          17.370542351735217,
          17.412500183502694,
          17.45445801527017,
          17.496415847037646,
          17.538373678805122,
          17.5803315105726,
          17.622289342340075,
          17.66424717410755,
          17.706205005875027,
          17.748162837642504,
          17.79012066940998,
          17.832078501177456,
          17.874036332944932,
          17.91599416471241,
          17.957951996479885,
          17.99990982824736,
          18.041867660014837,
          18.083825491782314,
          18.12578332354979,
          18.167741155317266,
          18.209698987084742,
          18.25165681885222,
          18.293614650619695,
          18.335572482387175,
          18.37753031415465,
          18.419488145922127,
          18.461445977689603,
          18.50340380945708,
          18.545361641224556,
          18.587319472992032,
          18.62927730475951,
          18.671235136526985,
          18.71319296829446,
          18.755150800061937,
          18.797108631829413,
          18.83906646359689,
          18.881024295364366,
          18.922982127131842,
          18.96493995889932,
          19.006897790666795,
          19.04885562243427,
          19.090813454201747,
          19.132771285969223,
          19.1747291177367,
          19.216686949504176,
          19.258644781271652,
          19.30060261303913,
          19.342560444806605,
          19.38451827657408,
          19.426476108341557,
          19.468433940109033,
          19.51039177187651,
          19.552349603643986,
          19.594307435411466,
          19.636265267178942,
          19.678223098946418,
          19.720180930713894,
          19.76213876248137,
          19.804096594248847,
          19.846054426016323,
          19.8880122577838,
          19.929970089551276,
          19.971927921318752,
          20.013885753086228,
          20.055843584853704,
          20.09780141662118,
          20.139759248388657,
          20.181717080156133,
          20.22367491192361,
          20.265632743691086,
          20.307590575458562,
          20.349548407226038,
          20.391506238993514,
          20.43346407076099,
          20.475421902528467,
          20.517379734295943,
          20.55933756606342,
          20.601295397830896,
          20.643253229598372,
          20.685211061365848,
          20.727168893133324,
          20.7691267249008,
          20.811084556668277,
          20.853042388435757,
          20.895000220203233,
          20.93695805197071,
          20.978915883738185,
          21.02087371550566,
          21.062831547273138,
          21.104789379040614,
          21.14674721080809,
          21.188705042575567,
          21.230662874343043,
          21.27262070611052,
          21.314578537877996,
          21.35653636964547,
          21.398494201412948,
          21.440452033180424,
          21.4824098649479,
          21.524367696715377,
          21.566325528482853,
          21.60828336025033,
          21.650241192017806,
          21.69219902378528,
          21.734156855552758,
          21.776114687320234,
          21.81807251908771,
          21.860030350855187,
          21.901988182622663,
          21.94394601439014,
          21.985903846157616,
          22.02786167792509,
          22.069819509692568,
          22.111777341460044,
          22.153735173227524,
          22.195693004995,
          22.237650836762477,
          22.279608668529953,
          22.32156650029743,
          22.363524332064905,
          22.40548216383238,
          22.447439995599858,
          22.489397827367334,
          22.53135565913481,
          22.573313490902287,
          22.615271322669763,
          22.65722915443724,
          22.699186986204715,
          22.74114481797219,
          22.783102649739668,
          22.825060481507144,
          22.86701831327462,
          22.908976145042097,
          22.950933976809573,
          22.99289180857705,
          23.034849640344525,
          23.076807472112,
          23.118765303879478,
          23.160723135646954,
          23.20268096741443,
          23.244638799181907,
          23.286596630949383,
          23.32855446271686,
          23.370512294484335,
          23.412470126251815,
          23.45442795801929,
          23.496385789786768,
          23.538343621554244,
          23.58030145332172,
          23.622259285089196,
          23.664217116856673,
          23.70617494862415,
          23.748132780391625,
          23.7900906121591,
          23.832048443926578,
          23.874006275694054,
          23.91596410746153,
          23.957921939229006,
          23.999879770996483,
          24.04183760276396,
          24.083795434531435,
          24.12575326629891,
          24.167711098066388,
          24.209668929833864,
          24.25162676160134,
          24.293584593368816,
          24.335542425136293,
          24.37750025690377,
          24.419458088671245,
          24.46141592043872,
          24.503373752206198,
          24.545331583973674,
          24.58728941574115,
          24.629247247508626,
          24.671205079276106,
          24.713162911043582,
          24.75512074281106,
          24.797078574578535,
          24.83903640634601,
          24.880994238113487,
          24.922952069880964,
          24.96490990164844,
          25.006867733415916,
          25.048825565183392,
          25.09078339695087,
          25.132741228718345
         ],
         "y": [
          1,
          1.0410654213093193,
          1.0802983578132186,
          1.1176297516421885,
          1.1529938920247864,
          1.186328530951827,
          1.217574992745416,
          1.2466782773399592,
          1.2735871570933543,
          1.2982542669579598,
          1.3206361878526154,
          1.3406935230889712,
          1.3583909677175918,
          1.373697370671779,
          1.3865857895997218,
          1.3970335382884618,
          1.4050222265961971,
          1.4105377928226353,
          1.4135705284604183,
          1.4141150952840498,
          1.4121705347462483,
          1.4077402696651817,
          1.4008320981996203,
          1.3914581801226051,
          1.3796350154177985,
          1.3653834152361908,
          1.3487284652642826,
          1.329699481568225,
          1.3083299589916384,
          1.284657512197943,
          1.258723809460975,
          1.230574499320433,
          1.2002591302312557,
          1.167831063348361,
          1.1333473786002688,
          1.0968687742169283,
          1.0584594598886123,
          1.0181870437439287,
          0.9761224133458991,
          0.9323396109155715,
          0.8869157030027995,
          0.8399306448335939,
          0.7914671395728232,
          0.7416104927499856,
          0.6904484621042994,
          0.6380711031134064,
          0.5845706104775958,
          0.5300411558385635,
          0.4745787220183574,
          0.4182809340702808,
          0.36124688743913647,
          0.3035769735332865,
          0.24537270301555825,
          0.18673652712403,
          0.1277716573372215,
          0.06858188370110452,
          0.009271392137721657,
          -0.05005541894302268,
          -0.10929412240558622,
          -0.1683404462015794,
          -0.2270904569095683,
          -0.2854407426788311,
          -0.34328859525503985,
          -0.4005321907674734,
          -0.4570707689595348,
          -0.5128048105470987,
          -0.5676362123924921,
          -0.6214684601857725,
          -0.6742067983293538,
          -0.7257583967269398,
          -0.7760325141831885,
          -0.824940658126491,
          -0.8723967403737198,
          -0.9183172286627684,
          -0.9626212936861563,
          -1.005230951366886,
          -1.0460712001261274,
          -1.0850701529010993,
          -1.1221591636807788,
          -1.1572729483367032,
          -1.1903496995361869,
          -1.221331195535673,
          -1.2501629026627268,
          -1.2767940713062838,
          -1.3011778252461839,
          -1.3232712441647614,
          -1.3430354391952457,
          -1.3604356213740012,
          -1.3754411628761076,
          -1.3880256509265017,
          -1.3981669342917789,
          -1.4058471622708266,
          -1.4110528161156535,
          -1.4137747328271066,
          -1.4140081212835978,
          -1.4117525706744403,
          -1.4070120512229598,
          -1.3997949071981013,
          -1.3901138422268349,
          -1.377985896933215,
          -1.3634324189434488,
          -1.3464790253097756,
          -1.327155557419295,
          -1.3054960284671182,
          -1.2815385635862913,
          -1.2553253327398846,
          -1.2269024764933645,
          -1.1963200247979064,
          -1.1636318089276048,
          -1.1288953667255888,
          -1.09217184132583,
          -1.053525873528917,
          -1.0130254880212222,
          -0.9707419736377575,
          -0.9267497578794673,
          -0.8811262759058371,
          -0.8339518342334176,
          -0.7853094693801821,
          -0.7352848017045355,
          -0.6839658846962338,
          -0.6314430499845132,
          -0.5778087483362294,
          -0.5231573869238885,
          -0.46758516315001075,
          -0.41118989532032846,
          -0.354070850463867,
          -0.29632856960298615,
          -0.23806469078092596,
          -0.17938177015838563,
          -0.12038310149402565,
          -0.0611725343266496,
          -0.0018542911791017413,
          0.05746721589436521,
          0.11668756909432698,
          0.17570252867255287,
          0.23440821641495002,
          0.2927012984881415,
          0.3504791673278249,
          0.40764012224874946,
          0.4640835484584033,
          0.519710094159314,
          0.5744218454282148,
          0.6281224985642775,
          0.6807175296030141,
          0.7321143606974939,
          0.7822225230739976,
          0.8309538162752793,
          0.878222463411135,
          0.9239452621430003,
          0.9680417311368292,
          1.010434251726446,
          1.0510482045380298,
          1.0898121008352426,
          1.1266577083538005,
          1.161520171404001,
          1.1943381250297995,
          1.2250538030234877,
          1.2536131396058554,
          1.2799658645928509,
          1.3040655918812265,
          1.3258699010974238,
          1.3453404122659738,
          1.3624428533659838,
          1.3771471206567951,
          1.3894273316666306,
          1.3992618707509572,
          1.4066334271403733,
          1.411529025411049,
          1.4139400483240863,
          1.4138622519935926,
          1.4112957733567786,
          1.4062451299329162,
          1.3987192118715992,
          1.3887312663042874,
          1.3762988740266877,
          1.3614439185530127,
          1.3441925475965892,
          1.3245751270446156,
          1.3026261875080873,
          1.2783843635409644,
          1.2518923256355772,
          1.2231967051139658,
          1.192348012047363,
          1.1594005463482955,
          1.124412302191802,
          1.0874448659340061,
          1.048563307707728,
          1.0078360668859425,
          0.9653348316147017,
          0.9211344126275596,
          0.8753126115636153,
          0.8279500840209578,
          0.7791301975865744,
          0.7289388850926015,
          0.6774644933572376,
          0.6247976276765499,
          0.5710309923409067,
          0.5162592274567548,
          0.46057874236097324,
          0.4040875459210244,
          0.3468850740196079,
          0.2890720145274823,
          0.23075013007253387,
          0.17202207891705779,
          0.11299123425853896,
          0.05376150227201604,
          -0.0055628607857283185,
          -0.06487743208816532,
          -0.12407780604422713,
          -0.18305977807317486,
          -0.24171952802564578,
          -0.29995380292802487,
          -0.3576600987284737,
          -0.41473684072470474,
          -0.47108356235591387,
          -0.5266010820441609,
          -0.5811916777739212,
          -0.6347592591025139,
          -0.6872095362986321,
          -0.7384501863112629,
          -0.7883910152768403,
          -0.8369441172786238,
          -0.8840240290788062,
          -0.9295478805510259,
          -0.9734355405484796,
          -1.0156097579508776,
          -1.0559962976419743,
          -1.0945240711783226,
          -1.1311252619192513,
          -1.165735444397811,
          -1.1982936977225698,
          -1.2287427128106523,
          -1.2570288932632667,
          -1.2831024497061607,
          -1.306917487428948,
          -1.3284320871690385,
          -1.3476083788979878,
          -1.3644126084803705,
          -1.3788151970878575,
          -1.39079079326391,
          -1.40031831754745,
          -1.4073809995769562,
          -1.4119664076096772,
          -1.4140664704040038,
          -1.413677491426479,
          -1.4108001553584408,
          -1.405439526890846,
          -1.3976050418093942,
          -1.3873104903856435,
          -1.3745739931033563,
          -1.3594179687627994,
          -1.3418690950191379,
          -1.3219582614243919,
          -1.2997205150556022,
          -1.275194998824918,
          -1.2484248825801874,
          -1.219457287117331,
          -1.1883432012382522,
          -1.1551373920002759,
          -1.1198983083150984,
          -1.0826879780669314,
          -1.0435718989309346,
          -1.0026189230841154,
          -0.9599011360116312,
          -0.9154937296218167,
          -0.8694748698932896,
          -0.821925559287074,
          -0.7729294941659639,
          -0.7225729174720664,
          -0.6709444669218552,
          -0.6181350189859383,
          -0.5642375289281678,
          -0.5093468671856551,
          -0.4535596523776954,
          -0.3969740812375385,
          -0.3396897557663632,
          -0.2818075079136956,
          -0.22342922209287064,
          -0.1646576558439462,
          -0.10559625895973557,
          -0.04634899139334725,
          0.012979859732283772,
          0.0722858636907252,
          0.13146462997116048,
          0.1904119920267111,
          0.24902419062853764,
          0.30719805650297916,
          0.36483119193025215,
          0.42182215098505976,
          0.4780706181018512,
          0.5334775846504194,
          0.5879455232110302,
          0.6413785592423227,
          0.6936826398398102,
          0.7447656992879359,
          0.7945378211142654,
          0.8429113963605999,
          0.889801277792377,
          0.9351249297749548,
          0.9788025735529503,
          1.0207573276769162,
          1.0609153433301755,
          1.0992059343176106,
          1.1355617014876038,
          1.169918651368117,
          1.2022163088080906,
          1.2323978234258886,
          1.2604100696774196,
          1.286203740367794,
          1.3097334334419173,
          1.3309577319012473,
          1.349839276706059,
          1.3663448325348733,
          1.3804453462853181,
          1.3921159982134395,
          1.4013362456214495,
          1.4080898590170108,
          1.4123649506804132,
          1.4141539955893525,
          1.4134538446644869,
          1.4102657303124504,
          1.4045952642565678,
          1.396452427659094,
          1.3858515535523546,
          1.3728113016097256,
          1.3573546253008508,
          1.3395087314889087,
          1.3193050325410571,
          1.2967790910363401,
          1.2719705571683864,
          1.2449230989530837,
          1.2156843253640757,
          1.1843057025313815,
          1.1508424631506402,
          1.115353509262444,
          1.077901308572885,
          1.03855178449781,
          0.9973742001243336,
          0.9544410362938553,
          0.9098278640211793,
          0.8636132114743167,
          0.8158784257490835,
          0.7667075296818366,
          0.7161870739523584,
          0.664405984737229,
          0.6114554071818477,
          0.5574285449666188,
          0.502420496249706,
          0.44652808627512,
          0.3898496969407899,
          0.33248509362660916,
          0.2745352495872748,
          0.21610216821902406,
          0.15728870351311353,
          0.09819837901207884,
          0.03893520558746,
          -0.02039650164029383,
          -0.079692306917436,
          -0.13884783768488262,
          -0.19775896829493766,
          -0.2563220032934026,
          -0.3144338599444595,
          -0.3719922496770464,
          -0.42889585813334247,
          -0.48504452350244187,
          -0.5403394128253132,
          -0.5946831959607108,
          -0.6479802169058266,
          -0.7001366621701179,
          -0.7510607259059474,
          -0.8006627715053549,
          -0.8488554893785532,
          -0.8955540506363802,
          -0.9406762564062308,
          -0.9841426825186264,
          -1.025876819309749,
          -1.0658052062938583,
          -1.1038575614685402,
          -1.1399669050251868,
          -1.1740696772469474,
          -1.2061058503866315,
          -1.236019034327633,
          -1.263756575841893,
          -1.2892696512701805,
          -1.312513352461573,
          -1.3334467658208409,
          -1.3520330443246162,
          -1.368239472379575,
          -1.382037523408469,
          -1.3934029100626488,
          -1.4023156269726869,
          -1.408759985961857,
          -1.4127246436604854,
          -1.4142026214725663,
          -1.413191317859495,
          -1.4096925129193005,
          -1.4037123652533146,
          -1.3952614011257927,
          -1.3843544959355696,
          -1.371010848032361,
          -1.3552539449238017,
          -1.3371115219327023,
          -1.3166155133772952,
          -1.2938019963604026,
          -1.2687111272664708,
          -1.241387071078246,
          -1.211877923637509,
          -1.1802356269867065,
          -1.1465158779405051,
          -1.1107780300481658,
          -1.0730849891193526,
          -1.0335031024972376,
          -0.9921020422738147,
          -0.9489546826529855,
          -0.904136971677285,
          -0.8577277975440307,
          -0.8098088497462077,
          -0.76046447528251,
          -0.7097815301896349,
          -0.6578492266581666,
          -0.6047589760011544,
          -0.5506042277517913,
          -0.4954803051734161,
          -0.4394842374713721,
          -0.3827145890020648,
          -0.325271285779844,
          -0.26725543958709463,
          -0.20876916999713624,
          -0.14991542462320773,
          -0.09079779790993492,
          -0.03152034878624499,
          0.027812582499305183,
          0.08709655803838057,
          0.1462272260946187,
          0.20510050478370268,
          0.2636127652784376,
          0.32166101421635807,
          0.3791430749887923,
          0.43595776759225163,
          0.49200508672564314,
          0.5471863778197208,
          0.6014045106889998,
          0.6545640505004453,
          0.7065714257579978,
          0.7573350930072515,
          0.8067656979703698,
          0.8547762328276101,
          0.9012821893686088,
          0.9462017077438519,
          0.9894557205544954,
          1.0309680920269106,
          1.0706657520269809,
          1.1084788246782507,
          1.144340751357543,
          1.1781884078515397,
          1.2099622154681098,
          1.2396062459068067,
          1.2670683197039403,
          1.2923000980789412,
          1.3152571680203513,
          1.3358991204616664,
          1.3541896214094322,
          1.3700964758983916,
          1.3835916846611047,
          1.3946514934123004,
          1.4032564346612024,
          1.4093913619782321,
          1.4130454766557765,
          1.4142123467160874,
          1.412889918232859,
          1.40908051894655,
          1.4027908541670935,
          1.3940319949711995,
          1.3828193587150306,
          1.369172681896551,
          1.3531159854153147,
          1.3346775322908448,
          1.3138897779140266,
          1.2907893129190842,
          1.2654167987766944,
          1.2378168962216098,
          1.2080381866407717,
          1.1761330865602833,
          1.1421577553817694,
          1.1061719965305188,
          1.0682391521894112,
          1.0284259918039194,
          0.986802594554437,
          0.9434422260028095,
          0.8984212091301884,
          0.8518187899932144,
          0.8037169982349978,
          0.7542005026964258,
          0.7033564623819518,
          0.6512743730421939,
          0.5980459096433897,
          0.5437647650009927,
          0.48852648486144457,
          0.4324282997224362,
          0.3755689536876233,
          0.31804853065713545,
          0.259968278159752,
          0.20143042913685905,
          0.1425380219918857,
          0.08339471922196084,
          0.024104624951042375,
          -0.03522789831430728,
          -0.09449841338395026,
          -0.15360259221466166,
          -0.2124363995484958,
          -0.2708962760357929,
          -0.3288793205204902,
          -0.38628347116688005,
          -0.4430076851089966,
          -0.4989521163064075,
          -0.5540182912933551,
          -0.6081092825118868,
          -0.6611298789238786,
          -0.7129867536016363,
          -0.7635886280020843,
          -0.8128464326353841,
          -0.8606734638451744,
          -0.9069855364244678,
          -0.9517011317985694,
          -0.9947415415141864,
          -1.0360310057821558,
          -1.075496846829932,
          -1.1130695968291031,
          -1.1486831201727623,
          -1.1822747298874825,
          -1.2137852979750339,
          -1.2431593594895554,
          -1.2703452101670336,
          -1.2952949974352195,
          -1.3179648046437937,
          -1.338314728366515,
          -1.356308948639287,
          -1.3719157920105083,
          -1.3851077872927278,
          -1.3958617139174652,
          -1.4041586428080883,
          -1.4099839696988021,
          -1.4133274408410947,
          -1.4141831710524024,
          -1.4125496540752147,
          -1.4084297652283908,
          -1.401830756346021,
          -1.3927642430127363,
          -1.3812461841179406,
          -1.3672968537649526,
          -1.3509408055844994,
          -1.332206829515382,
          -1.3111279011283847,
          -1.2877411235826304,
          -1.2620876623165467,
          -1.2342126725884048,
          -1.2041652199939712,
          -1.1719981941011766,
          -1.1377682153538227,
          -1.101535535408209,
          -1.0633639310780674,
          -1.0233205920745354,
          -0.9814760027387319,
          -0.9379038179751202,
          -0.8926807336040438,
          -0.8458863513616354,
          -0.797603038784731,
          -0.7479157842274162,
          -0.6969120472644071,
          -0.6446816047445849,
          -0.5913163927656613,
          -0.5369103448481316,
          -0.48155922659336076,
          -0.4253604671168381,
          -0.36841298755331303,
          -0.31081702693567526,
          -0.2526739657540702,
          -0.19408614750581754,
          -0.13515669855024637,
          -0.07598934658553225,
          -0.016688238067059435,
          0.04264224511131576,
          0.10189766935041977,
          0.16097373316992836,
          0.2197664507999778,
          0.2781723352170622,
          0.3360885803020357,
          0.3934132417995877,
          0.4500454167606672,
          0.5058854211519754,
          0.5608349653199687,
          0.614797327000425,
          0.6676775215691118,
          0.7193824692338557,
          0.7698211588737213,
          0.8189048082369125,
          0.8665470202154173,
          0.9126639349213169,
          0.9571743772970774,
          0.999999999999999
         ]
        }
       ],
       "layout": {
        "template": {
         "data": {
          "bar": [
           {
            "error_x": {
             "color": "#2a3f5f"
            },
            "error_y": {
             "color": "#2a3f5f"
            },
            "marker": {
             "line": {
              "color": "#E5ECF6",
              "width": 0.5
             },
             "pattern": {
              "fillmode": "overlay",
              "size": 10,
              "solidity": 0.2
             }
            },
            "type": "bar"
           }
          ],
          "barpolar": [
           {
            "marker": {
             "line": {
              "color": "#E5ECF6",
              "width": 0.5
             },
             "pattern": {
              "fillmode": "overlay",
              "size": 10,
              "solidity": 0.2
             }
            },
            "type": "barpolar"
           }
          ],
          "carpet": [
           {
            "aaxis": {
             "endlinecolor": "#2a3f5f",
             "gridcolor": "white",
             "linecolor": "white",
             "minorgridcolor": "white",
             "startlinecolor": "#2a3f5f"
            },
            "baxis": {
             "endlinecolor": "#2a3f5f",
             "gridcolor": "white",
             "linecolor": "white",
             "minorgridcolor": "white",
             "startlinecolor": "#2a3f5f"
            },
            "type": "carpet"
           }
          ],
          "choropleth": [
           {
            "colorbar": {
             "outlinewidth": 0,
             "ticks": ""
            },
            "type": "choropleth"
           }
          ],
          "contour": [
           {
            "colorbar": {
             "outlinewidth": 0,
             "ticks": ""
            },
            "colorscale": [
             [
              0,
              "#0d0887"
             ],
             [
              0.1111111111111111,
              "#46039f"
             ],
             [
              0.2222222222222222,
              "#7201a8"
             ],
             [
              0.3333333333333333,
              "#9c179e"
             ],
             [
              0.4444444444444444,
              "#bd3786"
             ],
             [
              0.5555555555555556,
              "#d8576b"
             ],
             [
              0.6666666666666666,
              "#ed7953"
             ],
             [
              0.7777777777777778,
              "#fb9f3a"
             ],
             [
              0.8888888888888888,
              "#fdca26"
             ],
             [
              1,
              "#f0f921"
             ]
            ],
            "type": "contour"
           }
          ],
          "contourcarpet": [
           {
            "colorbar": {
             "outlinewidth": 0,
             "ticks": ""
            },
            "type": "contourcarpet"
           }
          ],
          "heatmap": [
           {
            "colorbar": {
             "outlinewidth": 0,
             "ticks": ""
            },
            "colorscale": [
             [
              0,
              "#0d0887"
             ],
             [
              0.1111111111111111,
              "#46039f"
             ],
             [
              0.2222222222222222,
              "#7201a8"
             ],
             [
              0.3333333333333333,
              "#9c179e"
             ],
             [
              0.4444444444444444,
              "#bd3786"
             ],
             [
              0.5555555555555556,
              "#d8576b"
             ],
             [
              0.6666666666666666,
              "#ed7953"
             ],
             [
              0.7777777777777778,
              "#fb9f3a"
             ],
             [
              0.8888888888888888,
              "#fdca26"
             ],
             [
              1,
              "#f0f921"
             ]
            ],
            "type": "heatmap"
           }
          ],
          "heatmapgl": [
           {
            "colorbar": {
             "outlinewidth": 0,
             "ticks": ""
            },
            "colorscale": [
             [
              0,
              "#0d0887"
             ],
             [
              0.1111111111111111,
              "#46039f"
             ],
             [
              0.2222222222222222,
              "#7201a8"
             ],
             [
              0.3333333333333333,
              "#9c179e"
             ],
             [
              0.4444444444444444,
              "#bd3786"
             ],
             [
              0.5555555555555556,
              "#d8576b"
             ],
             [
              0.6666666666666666,
              "#ed7953"
             ],
             [
              0.7777777777777778,
              "#fb9f3a"
             ],
             [
              0.8888888888888888,
              "#fdca26"
             ],
             [
              1,
              "#f0f921"
             ]
            ],
            "type": "heatmapgl"
           }
          ],
          "histogram": [
           {
            "marker": {
             "pattern": {
              "fillmode": "overlay",
              "size": 10,
              "solidity": 0.2
             }
            },
            "type": "histogram"
           }
          ],
          "histogram2d": [
           {
            "colorbar": {
             "outlinewidth": 0,
             "ticks": ""
            },
            "colorscale": [
             [
              0,
              "#0d0887"
             ],
             [
              0.1111111111111111,
              "#46039f"
             ],
             [
              0.2222222222222222,
              "#7201a8"
             ],
             [
              0.3333333333333333,
              "#9c179e"
             ],
             [
              0.4444444444444444,
              "#bd3786"
             ],
             [
              0.5555555555555556,
              "#d8576b"
             ],
             [
              0.6666666666666666,
              "#ed7953"
             ],
             [
              0.7777777777777778,
              "#fb9f3a"
             ],
             [
              0.8888888888888888,
              "#fdca26"
             ],
             [
              1,
              "#f0f921"
             ]
            ],
            "type": "histogram2d"
           }
          ],
          "histogram2dcontour": [
           {
            "colorbar": {
             "outlinewidth": 0,
             "ticks": ""
            },
            "colorscale": [
             [
              0,
              "#0d0887"
             ],
             [
              0.1111111111111111,
              "#46039f"
             ],
             [
              0.2222222222222222,
              "#7201a8"
             ],
             [
              0.3333333333333333,
              "#9c179e"
             ],
             [
              0.4444444444444444,
              "#bd3786"
             ],
             [
              0.5555555555555556,
              "#d8576b"
             ],
             [
              0.6666666666666666,
              "#ed7953"
             ],
             [
              0.7777777777777778,
              "#fb9f3a"
             ],
             [
              0.8888888888888888,
              "#fdca26"
             ],
             [
              1,
              "#f0f921"
             ]
            ],
            "type": "histogram2dcontour"
           }
          ],
          "mesh3d": [
           {
            "colorbar": {
             "outlinewidth": 0,
             "ticks": ""
            },
            "type": "mesh3d"
           }
          ],
          "parcoords": [
           {
            "line": {
             "colorbar": {
              "outlinewidth": 0,
              "ticks": ""
             }
            },
            "type": "parcoords"
           }
          ],
          "pie": [
           {
            "automargin": true,
            "type": "pie"
           }
          ],
          "scatter": [
           {
            "fillpattern": {
             "fillmode": "overlay",
             "size": 10,
             "solidity": 0.2
            },
            "type": "scatter"
           }
          ],
          "scatter3d": [
           {
            "line": {
             "colorbar": {
              "outlinewidth": 0,
              "ticks": ""
             }
            },
            "marker": {
             "colorbar": {
              "outlinewidth": 0,
              "ticks": ""
             }
            },
            "type": "scatter3d"
           }
          ],
          "scattercarpet": [
           {
            "marker": {
             "colorbar": {
              "outlinewidth": 0,
              "ticks": ""
             }
            },
            "type": "scattercarpet"
           }
          ],
          "scattergeo": [
           {
            "marker": {
             "colorbar": {
              "outlinewidth": 0,
              "ticks": ""
             }
            },
            "type": "scattergeo"
           }
          ],
          "scattergl": [
           {
            "marker": {
             "colorbar": {
              "outlinewidth": 0,
              "ticks": ""
             }
            },
            "type": "scattergl"
           }
          ],
          "scattermapbox": [
           {
            "marker": {
             "colorbar": {
              "outlinewidth": 0,
              "ticks": ""
             }
            },
            "type": "scattermapbox"
           }
          ],
          "scatterpolar": [
           {
            "marker": {
             "colorbar": {
              "outlinewidth": 0,
              "ticks": ""
             }
            },
            "type": "scatterpolar"
           }
          ],
          "scatterpolargl": [
           {
            "marker": {
             "colorbar": {
              "outlinewidth": 0,
              "ticks": ""
             }
            },
            "type": "scatterpolargl"
           }
          ],
          "scatterternary": [
           {
            "marker": {
             "colorbar": {
              "outlinewidth": 0,
              "ticks": ""
             }
            },
            "type": "scatterternary"
           }
          ],
          "surface": [
           {
            "colorbar": {
             "outlinewidth": 0,
             "ticks": ""
            },
            "colorscale": [
             [
              0,
              "#0d0887"
             ],
             [
              0.1111111111111111,
              "#46039f"
             ],
             [
              0.2222222222222222,
              "#7201a8"
             ],
             [
              0.3333333333333333,
              "#9c179e"
             ],
             [
              0.4444444444444444,
              "#bd3786"
             ],
             [
              0.5555555555555556,
              "#d8576b"
             ],
             [
              0.6666666666666666,
              "#ed7953"
             ],
             [
              0.7777777777777778,
              "#fb9f3a"
             ],
             [
              0.8888888888888888,
              "#fdca26"
             ],
             [
              1,
              "#f0f921"
             ]
            ],
            "type": "surface"
           }
          ],
          "table": [
           {
            "cells": {
             "fill": {
              "color": "#EBF0F8"
             },
             "line": {
              "color": "white"
             }
            },
            "header": {
             "fill": {
              "color": "#C8D4E3"
             },
             "line": {
              "color": "white"
             }
            },
            "type": "table"
           }
          ]
         },
         "layout": {
          "annotationdefaults": {
           "arrowcolor": "#2a3f5f",
           "arrowhead": 0,
           "arrowwidth": 1
          },
          "autotypenumbers": "strict",
          "coloraxis": {
           "colorbar": {
            "outlinewidth": 0,
            "ticks": ""
           }
          },
          "colorscale": {
           "diverging": [
            [
             0,
             "#8e0152"
            ],
            [
             0.1,
             "#c51b7d"
            ],
            [
             0.2,
             "#de77ae"
            ],
            [
             0.3,
             "#f1b6da"
            ],
            [
             0.4,
             "#fde0ef"
            ],
            [
             0.5,
             "#f7f7f7"
            ],
            [
             0.6,
             "#e6f5d0"
            ],
            [
             0.7,
             "#b8e186"
            ],
            [
             0.8,
             "#7fbc41"
            ],
            [
             0.9,
             "#4d9221"
            ],
            [
             1,
             "#276419"
            ]
           ],
           "sequential": [
            [
             0,
             "#0d0887"
            ],
            [
             0.1111111111111111,
             "#46039f"
            ],
            [
             0.2222222222222222,
             "#7201a8"
            ],
            [
             0.3333333333333333,
             "#9c179e"
            ],
            [
             0.4444444444444444,
             "#bd3786"
            ],
            [
             0.5555555555555556,
             "#d8576b"
            ],
            [
             0.6666666666666666,
             "#ed7953"
            ],
            [
             0.7777777777777778,
             "#fb9f3a"
            ],
            [
             0.8888888888888888,
             "#fdca26"
            ],
            [
             1,
             "#f0f921"
            ]
           ],
           "sequentialminus": [
            [
             0,
             "#0d0887"
            ],
            [
             0.1111111111111111,
             "#46039f"
            ],
            [
             0.2222222222222222,
             "#7201a8"
            ],
            [
             0.3333333333333333,
             "#9c179e"
            ],
            [
             0.4444444444444444,
             "#bd3786"
            ],
            [
             0.5555555555555556,
             "#d8576b"
            ],
            [
             0.6666666666666666,
             "#ed7953"
            ],
            [
             0.7777777777777778,
             "#fb9f3a"
            ],
            [
             0.8888888888888888,
             "#fdca26"
            ],
            [
             1,
             "#f0f921"
            ]
           ]
          },
          "colorway": [
           "#636efa",
           "#EF553B",
           "#00cc96",
           "#ab63fa",
           "#FFA15A",
           "#19d3f3",
           "#FF6692",
           "#B6E880",
           "#FF97FF",
           "#FECB52"
          ],
          "font": {
           "color": "#2a3f5f"
          },
          "geo": {
           "bgcolor": "white",
           "lakecolor": "white",
           "landcolor": "#E5ECF6",
           "showlakes": true,
           "showland": true,
           "subunitcolor": "white"
          },
          "hoverlabel": {
           "align": "left"
          },
          "hovermode": "closest",
          "mapbox": {
           "style": "light"
          },
          "paper_bgcolor": "white",
          "plot_bgcolor": "#E5ECF6",
          "polar": {
           "angularaxis": {
            "gridcolor": "white",
            "linecolor": "white",
            "ticks": ""
           },
           "bgcolor": "#E5ECF6",
           "radialaxis": {
            "gridcolor": "white",
            "linecolor": "white",
            "ticks": ""
           }
          },
          "scene": {
           "xaxis": {
            "backgroundcolor": "#E5ECF6",
            "gridcolor": "white",
            "gridwidth": 2,
            "linecolor": "white",
            "showbackground": true,
            "ticks": "",
            "zerolinecolor": "white"
           },
           "yaxis": {
            "backgroundcolor": "#E5ECF6",
            "gridcolor": "white",
            "gridwidth": 2,
            "linecolor": "white",
            "showbackground": true,
            "ticks": "",
            "zerolinecolor": "white"
           },
           "zaxis": {
            "backgroundcolor": "#E5ECF6",
            "gridcolor": "white",
            "gridwidth": 2,
            "linecolor": "white",
            "showbackground": true,
            "ticks": "",
            "zerolinecolor": "white"
           }
          },
          "shapedefaults": {
           "line": {
            "color": "#2a3f5f"
           }
          },
          "ternary": {
           "aaxis": {
            "gridcolor": "white",
            "linecolor": "white",
            "ticks": ""
           },
           "baxis": {
            "gridcolor": "white",
            "linecolor": "white",
            "ticks": ""
           },
           "bgcolor": "#E5ECF6",
           "caxis": {
            "gridcolor": "white",
            "linecolor": "white",
            "ticks": ""
           }
          },
          "title": {
           "x": 0.05
          },
          "xaxis": {
           "automargin": true,
           "gridcolor": "white",
           "linecolor": "white",
           "ticks": "",
           "title": {
            "standoff": 15
           },
           "zerolinecolor": "white",
           "zerolinewidth": 2
          },
          "yaxis": {
           "automargin": true,
           "gridcolor": "white",
           "linecolor": "white",
           "ticks": "",
           "title": {
            "standoff": 15
           },
           "zerolinecolor": "white",
           "zerolinewidth": 2
          }
         }
        },
        "xaxis": {
         "anchor": "y",
         "domain": [
          0,
          1
         ]
        },
        "yaxis": {
         "anchor": "x",
         "domain": [
          0,
          1
         ]
        }
       }
      }
     },
     "metadata": {},
     "output_type": "display_data"
    },
    {
     "data": {
      "text/plain": [
       "'live_plot.html'"
      ]
     },
     "execution_count": 26,
     "metadata": {},
     "output_type": "execute_result"
    }
   ],
   "source": [
    "import plotly.graph_objs as go\n",
    "from plotly.subplots import make_subplots\n",
    "from IPython.display import display, clear_output\n",
    "import numpy as np\n",
    "import plotly.offline as pyo\n",
    "import time\n",
    "\n",
    "# Create a subplot with Plotly\n",
    "fig = make_subplots(rows=1, cols=1)\n",
    "trace_heat = go.Scatter(x=[], y=[], mode='lines', name='Heat')\n",
    "trace_flow_out = go.Scatter(x=[], y=[], mode='lines', name='Flow Out')\n",
    "trace_flow_in = go.Scatter(x=[], y=[], mode='lines', name='Flow In')\n",
    "fig.add_trace(trace_heat)\n",
    "fig.add_trace(trace_flow_out)\n",
    "fig.add_trace(trace_flow_in)\n",
    "\n",
    "# Initialize empty data for each trace\n",
    "x_data = []\n",
    "y_heat = []\n",
    "y_flow_out = []\n",
    "y_flow_in = []\n",
    "\n",
    "# Function to update the plot\n",
    "def update_plot(frame):\n",
    "    x_data.append(frame)  # Simulated new data point\n",
    "    y_heat.append(np.sin(frame))  # Simulated data point for heat\n",
    "    y_flow_out.append(np.cos(frame))  # Simulated data point for flow_out\n",
    "    y_flow_in.append(np.sin(frame) + np.cos(frame))  # Simulated data point for flow_in\n",
    "    \n",
    "    # Update the Plotly traces\n",
    "    with fig.batch_update():\n",
    "        fig.data[0].x = x_data\n",
    "        fig.data[0].y = y_heat\n",
    "        fig.data[1].x = x_data\n",
    "        fig.data[1].y = y_flow_out\n",
    "        fig.data[2].x = x_data\n",
    "        fig.data[2].y = y_flow_in\n",
    "\n",
    "# Simulate data coming in continuously (replace this with your PID controller logic)\n",
    "for frame in np.linspace(0, 8 * np.pi, 600):\n",
    "    update_plot(frame)\n",
    "    clear_output(wait=True)\n",
    "    display(fig)\n",
    "    time.sleep(0.1)\n",
    "\n",
    "# To stop the animation, you can leave the plot open in the notebook or close it as needed.\n",
    "\n",
    "# Save the plot as an HTML file for offline viewing\n",
    "pyo.plot(fig, filename='live_plot.html', auto_open=False)"
   ]
  },
  {
   "cell_type": "code",
   "execution_count": 28,
   "id": "412b16db",
   "metadata": {},
   "outputs": [
    {
     "name": "stdout",
     "output_type": "stream",
     "text": [
      "Requirement already satisfied: matplotlib in /opt/anaconda3/lib/python3.8/site-packages (3.7.3)\n",
      "Requirement already satisfied: ipywidgets in /opt/anaconda3/lib/python3.8/site-packages (7.6.3)\n",
      "Collecting ipywidgets\n",
      "  Downloading ipywidgets-8.1.1-py3-none-any.whl (139 kB)\n",
      "\u001b[K     |████████████████████████████████| 139 kB 5.8 MB/s eta 0:00:01\n",
      "\u001b[?25hCollecting widgetsnbextension~=4.0.9\n",
      "  Downloading widgetsnbextension-4.0.9-py3-none-any.whl (2.3 MB)\n",
      "\u001b[K     |████████████████████████████████| 2.3 MB 21.1 MB/s eta 0:00:01\n",
      "\u001b[?25hRequirement already satisfied: comm>=0.1.3 in /opt/anaconda3/lib/python3.8/site-packages (from ipywidgets) (0.1.4)\n",
      "Requirement already satisfied: traitlets>=4.3.1 in /opt/anaconda3/lib/python3.8/site-packages (from ipywidgets) (5.10.1)\n",
      "Requirement already satisfied: ipython>=6.1.0 in /opt/anaconda3/lib/python3.8/site-packages (from ipywidgets) (8.12.3)\n",
      "Collecting jupyterlab-widgets~=3.0.9\n",
      "  Downloading jupyterlab_widgets-3.0.9-py3-none-any.whl (214 kB)\n",
      "\u001b[K     |████████████████████████████████| 214 kB 16.3 MB/s eta 0:00:01\n",
      "\u001b[?25hRequirement already satisfied: pygments>=2.4.0 in /opt/anaconda3/lib/python3.8/site-packages (from ipython>=6.1.0->ipywidgets) (2.8.1)\n",
      "Requirement already satisfied: backcall in /opt/anaconda3/lib/python3.8/site-packages (from ipython>=6.1.0->ipywidgets) (0.2.0)\n",
      "Requirement already satisfied: stack-data in /opt/anaconda3/lib/python3.8/site-packages (from ipython>=6.1.0->ipywidgets) (0.6.3)\n",
      "Requirement already satisfied: pickleshare in /opt/anaconda3/lib/python3.8/site-packages (from ipython>=6.1.0->ipywidgets) (0.7.5)\n",
      "Requirement already satisfied: jedi>=0.16 in /opt/anaconda3/lib/python3.8/site-packages (from ipython>=6.1.0->ipywidgets) (0.19.1)\n",
      "Requirement already satisfied: decorator in /opt/anaconda3/lib/python3.8/site-packages (from ipython>=6.1.0->ipywidgets) (5.0.6)\n",
      "Requirement already satisfied: prompt-toolkit!=3.0.37,<3.1.0,>=3.0.30 in /opt/anaconda3/lib/python3.8/site-packages (from ipython>=6.1.0->ipywidgets) (3.0.39)\n",
      "Requirement already satisfied: typing-extensions in /opt/anaconda3/lib/python3.8/site-packages (from ipython>=6.1.0->ipywidgets) (4.7.1)\n",
      "Requirement already satisfied: pexpect>4.3 in /opt/anaconda3/lib/python3.8/site-packages (from ipython>=6.1.0->ipywidgets) (4.8.0)\n",
      "Requirement already satisfied: appnope in /opt/anaconda3/lib/python3.8/site-packages (from ipython>=6.1.0->ipywidgets) (0.1.2)\n",
      "Requirement already satisfied: matplotlib-inline in /opt/anaconda3/lib/python3.8/site-packages (from ipython>=6.1.0->ipywidgets) (0.1.6)\n",
      "Requirement already satisfied: parso<0.9.0,>=0.8.3 in /opt/anaconda3/lib/python3.8/site-packages (from jedi>=0.16->ipython>=6.1.0->ipywidgets) (0.8.3)\n",
      "Requirement already satisfied: ptyprocess>=0.5 in /opt/anaconda3/lib/python3.8/site-packages (from pexpect>4.3->ipython>=6.1.0->ipywidgets) (0.7.0)\n",
      "Requirement already satisfied: wcwidth in /opt/anaconda3/lib/python3.8/site-packages (from prompt-toolkit!=3.0.37,<3.1.0,>=3.0.30->ipython>=6.1.0->ipywidgets) (0.2.5)\n",
      "Requirement already satisfied: numpy<2,>=1.20 in /opt/anaconda3/lib/python3.8/site-packages (from matplotlib) (1.20.1)\n",
      "Requirement already satisfied: pillow>=6.2.0 in /opt/anaconda3/lib/python3.8/site-packages (from matplotlib) (10.0.0)\n",
      "Requirement already satisfied: contourpy>=1.0.1 in /opt/anaconda3/lib/python3.8/site-packages (from matplotlib) (1.1.1)\n",
      "Requirement already satisfied: cycler>=0.10 in /opt/anaconda3/lib/python3.8/site-packages (from matplotlib) (0.10.0)\n",
      "Requirement already satisfied: pyparsing>=2.3.1 in /opt/anaconda3/lib/python3.8/site-packages (from matplotlib) (2.4.7)\n",
      "Requirement already satisfied: kiwisolver>=1.0.1 in /opt/anaconda3/lib/python3.8/site-packages (from matplotlib) (1.3.1)\n",
      "Requirement already satisfied: packaging>=20.0 in /opt/anaconda3/lib/python3.8/site-packages (from matplotlib) (20.9)\n",
      "Requirement already satisfied: importlib-resources>=3.2.0 in /opt/anaconda3/lib/python3.8/site-packages (from matplotlib) (6.1.0)\n",
      "Requirement already satisfied: fonttools>=4.22.0 in /opt/anaconda3/lib/python3.8/site-packages (from matplotlib) (4.43.0)\n",
      "Requirement already satisfied: python-dateutil>=2.7 in /opt/anaconda3/lib/python3.8/site-packages (from matplotlib) (2.8.1)\n",
      "Requirement already satisfied: six in /opt/anaconda3/lib/python3.8/site-packages (from cycler>=0.10->matplotlib) (1.15.0)\n",
      "Requirement already satisfied: zipp>=3.1.0 in /opt/anaconda3/lib/python3.8/site-packages (from importlib-resources>=3.2.0->matplotlib) (3.4.1)\n",
      "Requirement already satisfied: pure-eval in /opt/anaconda3/lib/python3.8/site-packages (from stack-data->ipython>=6.1.0->ipywidgets) (0.2.2)\n",
      "Requirement already satisfied: executing>=1.2.0 in /opt/anaconda3/lib/python3.8/site-packages (from stack-data->ipython>=6.1.0->ipywidgets) (2.0.0)\n",
      "Requirement already satisfied: asttokens>=2.1.0 in /opt/anaconda3/lib/python3.8/site-packages (from stack-data->ipython>=6.1.0->ipywidgets) (2.4.0)\n",
      "Installing collected packages: widgetsnbextension, jupyterlab-widgets, ipywidgets\n",
      "  Attempting uninstall: widgetsnbextension\n",
      "    Found existing installation: widgetsnbextension 3.5.1\n",
      "    Uninstalling widgetsnbextension-3.5.1:\n",
      "      Successfully uninstalled widgetsnbextension-3.5.1\n",
      "  Attempting uninstall: jupyterlab-widgets\n",
      "    Found existing installation: jupyterlab-widgets 1.0.0\n",
      "    Uninstalling jupyterlab-widgets-1.0.0:\n",
      "      Successfully uninstalled jupyterlab-widgets-1.0.0\n",
      "  Attempting uninstall: ipywidgets\n",
      "    Found existing installation: ipywidgets 7.6.3\n",
      "    Uninstalling ipywidgets-7.6.3:\n",
      "      Successfully uninstalled ipywidgets-7.6.3\n",
      "Successfully installed ipywidgets-8.1.1 jupyterlab-widgets-3.0.9 widgetsnbextension-4.0.9\n"
     ]
    }
   ],
   "source": [
    "!pip install --upgrade matplotlib ipywidgets\n"
   ]
  },
  {
   "cell_type": "code",
   "execution_count": 29,
   "id": "ec77f66f",
   "metadata": {},
   "outputs": [],
   "source": [
    "#!/usr/bin/env python\n",
    "# -*- coding: utf-8 -*-\n",
    "\n",
    "HOST = \"localhost\"\n",
    "PORT = 4223\n",
    "THERMOCOUPLE_UID = 'Msr'\n",
    "ANALOG_IN_UID = '27fh'\n",
    "import time\n",
    "\n",
    "from tinkerforge.ip_connection import IPConnection\n",
    "from tinkerforge.bricklet_thermocouple_v2 import BrickletThermocoupleV2\n",
    "from tinkerforge.bricklet_analog_in_v3 import BrickletAnalogInV3\n",
    "\n",
    "\n",
    "import numpy as np\n",
    "from tqdm import tqdm\n",
    "import pandas as pd\n",
    "import time\n",
    "\n",
    "\n",
    "ipcon = IPConnection() # Create IP connection\n",
    "tc = BrickletThermocoupleV2(THERMOCOUPLE_UID, ipcon) # Create device object    \n",
    "ai = BrickletAnalogInV3(ANALOG_IN_UID, ipcon) # Create device object\n",
    "\n",
    "ipcon.connect(HOST, PORT) # Connect to brickd"
   ]
  },
  {
   "cell_type": "code",
   "execution_count": 14,
   "id": "deb312b4",
   "metadata": {},
   "outputs": [
    {
     "name": "stdout",
     "output_type": "stream",
     "text": [
      "Caibration complete. Voltage 1650.165 V corresponds with temperature 23.59176 C\n",
      "Caibration complete. Voltage 1650.214 V corresponds with temperature 23.583805 C\n",
      "Caibration complete. Voltage 1650.208 V corresponds with temperature 23.590136666666663 C\n",
      "Caibration complete. Voltage 1650.23975 V corresponds with temperature 23.59752 C\n",
      "Caibration complete. Voltage 1650.2274 V corresponds with temperature 23.596974 C\n",
      "Caibration complete. Voltage 1650.2486666666666 V corresponds with temperature 23.599033333333335 C\n",
      "Caibration complete. Voltage 1650.2431428571429 V corresponds with temperature 23.602515714285712 C\n",
      "Caibration complete. Voltage 1650.255625 V corresponds with temperature 23.604757499999998 C\n",
      "Caibration complete. Voltage 1650.2647777777777 V corresponds with temperature 23.606599999999997 C\n",
      "Caibration complete. Voltage 1650.2367 V corresponds with temperature 23.609935999999998 C\n"
     ]
    }
   ],
   "source": [
    "voltage_readings = []\n",
    "temperature_readings = []\n",
    "\n",
    "for i in range(10):\n",
    "    for i in range(1000):\n",
    "        voltage_readings.append(ai.get_voltage())\n",
    "        temperature_readings.append(0.01 * tc.get_temperature())\n",
    "\n",
    "    print(\n",
    "        f\"Caibration complete. Voltage {np.mean(voltage_readings)} V corresponds with temperature {np.mean(temperature_readings)} C\"\n",
    "    )\n"
   ]
  },
  {
   "cell_type": "code",
   "execution_count": 32,
   "id": "1022b620",
   "metadata": {},
   "outputs": [
    {
     "name": "stdout",
     "output_type": "stream",
     "text": [
      "Caibration complete. Voltage 1718.193 V corresponds with temperature 26.400200000000005 C\n",
      "Caibration complete. Voltage 1719.1925 V corresponds with temperature 26.421900000000004 C\n",
      "Caibration complete. Voltage 1719.9303333333332 V corresponds with temperature 26.40536666666667 C\n",
      "Caibration complete. Voltage 1720.1935 V corresponds with temperature 26.279870000000003 C\n",
      "Caibration complete. Voltage 1720.3028 V corresponds with temperature 26.198278000000002 C\n",
      "Caibration complete. Voltage 1720.5031666666666 V corresponds with temperature 26.14083166666667 C\n",
      "Caibration complete. Voltage 1720.8237142857142 V corresponds with temperature 26.10933857142857 C\n",
      "Caibration complete. Voltage 1721.254 V corresponds with temperature 26.086582500000006 C\n",
      "Caibration complete. Voltage 1721.7253333333333 V corresponds with temperature 26.072297777777777 C\n",
      "Caibration complete. Voltage 1722.2549 V corresponds with temperature 26.065116999999997 C\n"
     ]
    }
   ],
   "source": [
    "voltage_readings = []\n",
    "temperature_readings = []\n",
    "\n",
    "for i in range(10):\n",
    "    for i in range(1000):\n",
    "        voltage_readings.append(ai.get_voltage())\n",
    "        temperature_readings.append(0.01 * tc.get_temperature())\n",
    "\n",
    "    print(\n",
    "        f\"Caibration complete. Voltage {np.mean(voltage_readings)} V corresponds with temperature {np.mean(temperature_readings)} C\"\n",
    "    )\n"
   ]
  },
  {
   "cell_type": "code",
   "execution_count": 20,
   "id": "82f6f971",
   "metadata": {},
   "outputs": [
    {
     "name": "stdout",
     "output_type": "stream",
     "text": [
      "Caibration complete. Voltage 2101.901 V corresponds with temperature 33.04426 C\n",
      "Caibration complete. Voltage 2102.021 V corresponds with temperature 33.05713000000001 C\n",
      "Caibration complete. Voltage 2102.3953333333334 V corresponds with temperature 33.074126666666665 C\n",
      "Caibration complete. Voltage 2102.9325 V corresponds with temperature 33.0826125 C\n",
      "Caibration complete. Voltage 2103.5224 V corresponds with temperature 33.098312 C\n",
      "Caibration complete. Voltage 2104.1648333333333 V corresponds with temperature 33.118903333333336 C\n",
      "Caibration complete. Voltage 2104.815 V corresponds with temperature 33.13677 C\n",
      "Caibration complete. Voltage 2105.47125 V corresponds with temperature 33.15013750000001 C\n",
      "Caibration complete. Voltage 2106.1174444444446 V corresponds with temperature 33.15923333333334 C\n",
      "Caibration complete. Voltage 2106.7473 V corresponds with temperature 33.16771800000001 C\n",
      "Caibration complete. Voltage 2107.3675454545455 V corresponds with temperature 33.17431090909091 C\n",
      "Caibration complete. Voltage 2107.9759166666668 V corresponds with temperature 33.1824675 C\n",
      "Caibration complete. Voltage 2108.5685384615385 V corresponds with temperature 33.190483846153846 C\n",
      "Caibration complete. Voltage 2109.138785714286 V corresponds with temperature 33.195605 C\n",
      "Caibration complete. Voltage 2109.7063333333335 V corresponds with temperature 33.19963066666667 C\n",
      "Caibration complete. Voltage 2110.2668125 V corresponds with temperature 33.204651875 C\n",
      "Caibration complete. Voltage 2110.806235294118 V corresponds with temperature 33.210014705882344 C\n",
      "Caibration complete. Voltage 2111.3303333333333 V corresponds with temperature 33.215422777777775 C\n",
      "Caibration complete. Voltage 2111.836263157895 V corresponds with temperature 33.22020105263157 C\n",
      "Caibration complete. Voltage 2112.3328 V corresponds with temperature 33.215194999999994 C\n",
      "Caibration complete. Voltage 2112.811714285714 V corresponds with temperature 33.21097333333333 C\n",
      "Caibration complete. Voltage 2113.282818181818 V corresponds with temperature 33.20643136363636 C\n",
      "Caibration complete. Voltage 2113.7308260869563 V corresponds with temperature 33.20304782608696 C\n",
      "Caibration complete. Voltage 2114.172875 V corresponds with temperature 33.20021166666667 C\n",
      "Caibration complete. Voltage 2114.60808 V corresponds with temperature 33.1972596 C\n",
      "Caibration complete. Voltage 2115.023807692308 V corresponds with temperature 33.19580807692308 C\n",
      "Caibration complete. Voltage 2115.4426296296297 V corresponds with temperature 33.194546296296295 C\n",
      "Caibration complete. Voltage 2115.8366071428572 V corresponds with temperature 33.19312321428571 C\n",
      "Caibration complete. Voltage 2116.225379310345 V corresponds with temperature 33.19149862068966 C\n",
      "Caibration complete. Voltage 2116.6112 V corresponds with temperature 33.190557 C\n"
     ]
    }
   ],
   "source": [
    "voltage_readings = []\n",
    "temperature_readings = []\n",
    "\n",
    "for i in range(30):\n",
    "    for i in range(1000):\n",
    "        voltage_readings.append(ai.get_voltage())\n",
    "        temperature_readings.append(0.01 * tc.get_temperature())\n",
    "\n",
    "    print(\n",
    "        f\"Caibration complete. Voltage {np.mean(voltage_readings)} V corresponds with temperature {np.mean(temperature_readings)} C\"\n",
    "    )\n"
   ]
  },
  {
   "cell_type": "markdown",
   "id": "50dc3c59",
   "metadata": {},
   "source": [
    "2116.6112 mV corresponds with temperature 33.190557 C\n",
    "1650.23975 mV corresponds with temperature 23.59752 C\n"
   ]
  },
  {
   "cell_type": "code",
   "execution_count": 38,
   "id": "20b573cd",
   "metadata": {},
   "outputs": [
    {
     "name": "stdout",
     "output_type": "stream",
     "text": [
      "resistance 118125.55024560013\n"
     ]
    },
    {
     "data": {
      "text/plain": [
       "33.19000010551764"
      ]
     },
     "execution_count": 38,
     "metadata": {},
     "output_type": "execute_result"
    }
   ],
   "source": [
    "res = resistance_from_voltage(2.1166112)\n",
    "print('resistance', res)\n",
    "b_param_equation(res) # should be 33.19"
   ]
  },
  {
   "cell_type": "code",
   "execution_count": 37,
   "id": "fe37decf",
   "metadata": {},
   "outputs": [
    {
     "name": "stdout",
     "output_type": "stream",
     "text": [
      "resistance 169553.91515003215\n"
     ]
    },
    {
     "data": {
      "text/plain": [
       "24.544196140894428"
      ]
     },
     "execution_count": 37,
     "metadata": {},
     "output_type": "execute_result"
    }
   ],
   "source": [
    "res = resistance_from_voltage(1.6953891428571428)\n",
    "print('resistance', res)\n",
    "b_param_equation(res) # should be 25.080002"
   ]
  },
  {
   "cell_type": "code",
   "execution_count": 54,
   "id": "8d4f4c52",
   "metadata": {},
   "outputs": [
    {
     "name": "stdout",
     "output_type": "stream",
     "text": [
      "resistance 165522.71503887142\n"
     ]
    },
    {
     "data": {
      "text/plain": [
       "25.10461705490178"
      ]
     },
     "execution_count": 54,
     "metadata": {},
     "output_type": "execute_result"
    }
   ],
   "source": [
    "# Caibration complete. Voltage 1722.2549 V corresponds with temperature 26.065116999999997 C\n",
    "res = resistance_from_voltage(1.7222549)\n",
    "print('resistance', res)\n",
    "\n",
    "b_param_equation(res) # should be 26.065116999999997"
   ]
  },
  {
   "cell_type": "code",
   "execution_count": 53,
   "id": "46b75ef7",
   "metadata": {},
   "outputs": [
    {
     "name": "stdout",
     "output_type": "stream",
     "text": [
      "176501.9563900666\n",
      "23.61351476083786\n"
     ]
    }
   ],
   "source": [
    "import numpy as np\n",
    "\n",
    "def b_param_equation(\n",
    "    R,  # Ohms\n",
    "    B=3812.2763685,  # Kelvin, the datasheet says 3950 +- 1%\n",
    "    T_23=23.59752 + 273.15,  # Kelvin\n",
    "    R_23=176624.21076543574, # Ohms\n",
    "):\n",
    "    # R_23 & T_23 from measurement\n",
    "    # B value from https://www.newegg.com/p/298-00KZ-002P5?item=9SIBPPKJYZ5208&source=region\n",
    "    # for NTC thermistors https://en.wikipedia.org/wiki/Thermistor\n",
    "    return (1 / ((1 / T_23) + (1 / B) * np.log(R / R_23))) - 273.15 # returned in Celsius\n",
    "\n",
    "\n",
    "def resistance_from_voltage(\n",
    "    V,  # Volts\n",
    "    R_ref=88.87,  # kilo-Ohms\n",
    "    V_in=4.93,  # Volts\n",
    "):\n",
    "    return 1000 * (((R_ref * V_in) / V) - R_ref) # returned in Ohms\n",
    "\n",
    "\n",
    "resistance = resistance_from_voltage(1.651)\n",
    "print(resistance)\n",
    "temperature = b_param_equation(resistance)\n",
    "print(temperature)\n",
    "\n",
    "# R_0 = 1846.0461  # Convert voltage to resistance (ohms)\n",
    "# T_0 = 22.189687 + 273.15  # Convert to Kelvin\n"
   ]
  },
  {
   "cell_type": "code",
   "execution_count": 44,
   "id": "d164c6fa",
   "metadata": {},
   "outputs": [],
   "source": [
    "df = pd.DataFrame(\n",
    "    columns=[\"Voltage (Volts)\", \"Resistance (Ohms)\", \"Temperature (Celsius)\"]\n",
    ")\n",
    "for milli_voltage in range(1000, 3000, 1):\n",
    "    voltage = milli_voltage / 1000\n",
    "    resistance = resistance_from_voltage(voltage)\n",
    "    temperature = b_param_equation(resistance)\n",
    "    df = df.append(\n",
    "        {\n",
    "            \"Voltage (Volts)\": voltage,\n",
    "            \"Resistance (Ohms)\": resistance,\n",
    "            \"Temperature (Celsius)\": temperature,\n",
    "        },\n",
    "        ignore_index=True,\n",
    "    )\n"
   ]
  },
  {
   "cell_type": "code",
   "execution_count": 67,
   "id": "5d5ed99c",
   "metadata": {},
   "outputs": [
    {
     "data": {
      "text/html": [
       "<div>\n",
       "<style scoped>\n",
       "    .dataframe tbody tr th:only-of-type {\n",
       "        vertical-align: middle;\n",
       "    }\n",
       "\n",
       "    .dataframe tbody tr th {\n",
       "        vertical-align: top;\n",
       "    }\n",
       "\n",
       "    .dataframe thead th {\n",
       "        text-align: right;\n",
       "    }\n",
       "</style>\n",
       "<table border=\"1\" class=\"dataframe\">\n",
       "  <thead>\n",
       "    <tr style=\"text-align: right;\">\n",
       "      <th></th>\n",
       "      <th>Resistance (Ohms)</th>\n",
       "      <th>Temperature (Celsius)</th>\n",
       "      <th>color</th>\n",
       "    </tr>\n",
       "  </thead>\n",
       "  <tbody>\n",
       "    <tr>\n",
       "      <th>0</th>\n",
       "      <td>169553.915150</td>\n",
       "      <td>25.080002</td>\n",
       "      <td>Red</td>\n",
       "    </tr>\n",
       "    <tr>\n",
       "      <th>1</th>\n",
       "      <td>165522.715039</td>\n",
       "      <td>26.065117</td>\n",
       "      <td>Red</td>\n",
       "    </tr>\n",
       "  </tbody>\n",
       "</table>\n",
       "</div>"
      ],
      "text/plain": [
       "   Resistance (Ohms)  Temperature (Celsius) color\n",
       "0      169553.915150              25.080002   Red\n",
       "1      165522.715039              26.065117   Red"
      ]
     },
     "execution_count": 67,
     "metadata": {},
     "output_type": "execute_result"
    }
   ],
   "source": [
    "experiments_df"
   ]
  },
  {
   "cell_type": "code",
   "execution_count": 73,
   "id": "5c228893",
   "metadata": {},
   "outputs": [
    {
     "data": {
      "application/vnd.plotly.v1+json": {
       "config": {
        "plotlyServerURL": "https://plot.ly"
       },
       "data": [
        {
         "hovertemplate": "Resistance (Ohms)=%{x}<br>Temperature (Celsius)=%{y}<extra></extra>",
         "legendgroup": "",
         "line": {
          "color": "#636efa",
          "dash": "solid"
         },
         "marker": {
          "symbol": "circle"
         },
         "mode": "lines",
         "name": "",
         "showlegend": false,
         "type": "scattergl",
         "x": [
          349259.1,
          348821.40859140863,
          348384.5908183633,
          347948.64406779665,
          347513.56573705183,
          347079.3532338309,
          346646.0039761431,
          346213.5153922542,
          345781.8849206349,
          345351.11000991083,
          344921.1881188119,
          344492.11671612266,
          344063.8932806324,
          343636.51530108595,
          343209.9802761341,
          342784.2857142858,
          342359.4291338583,
          341935.4080629302,
          341512.2200392927,
          341089.8626104024,
          340668.3333333333,
          340247.6297747307,
          339827.74951076315,
          339408.6901270772,
          338990.44921875,
          338573.0243902439,
          338156.41325536056,
          337740.6134371958,
          337325.62256809336,
          336911.4382896016,
          336498.05825242714,
          336085.48011639185,
          335673.7015503876,
          335262.72023233306,
          334852.53384912957,
          334443.1400966184,
          334034.5366795366,
          333626.72131147544,
          333219.69171483617,
          332813.44562078925,
          332407.98076923075,
          332003.2949087416,
          331599.38579654513,
          331196.251198466,
          330793.8888888889,
          330392.2966507177,
          329991.4722753346,
          329591.4135625597,
          329192.1183206106,
          328793.58436606295,
          328395.80952380947,
          327998.7916270219,
          327602.5285171102,
          327207.0180436847,
          326812.25806451606,
          326418.2464454976,
          326024.981060606,
          325632.45979186374,
          325240.6805293006,
          324849.641170916,
          324459.3396226415,
          324069.7737983035,
          323680.9416195857,
          323292.8410159925,
          322905.469924812,
          322518.82629107987,
          322132.9080675422,
          321747.7132146204,
          321363.2397003745,
          320979.4855004677,
          320596.4485981308,
          320214.126984127,
          319832.5186567164,
          319451.62162162166,
          319071.4338919925,
          318691.95348837215,
          318313.1784386617,
          317935.10677808727,
          317557.7365491651,
          317181.0658016682,
          316805.0925925925,
          316429.814986124,
          316055.2310536044,
          315681.33887349954,
          315308.1365313653,
          314935.62211981567,
          314563.79373848985,
          314192.64949402027,
          313822.1875,
          313452.40587695135,
          313083.30275229353,
          312714.87626031163,
          312347.1245421245,
          311980.04574565415,
          311613.6380255941,
          311247.89954337897,
          310882.82846715325,
          310518.4229717411,
          310154.68123861565,
          309791.6014558689,
          309429.1818181818,
          309067.4205267938,
          308706.31578947365,
          308345.8658204896,
          307986.06884057965,
          307626.92307692306,
          307268.42676311027,
          306910.5781391147,
          306553.3754512635,
          306196.81695220916,
          305840.9009009009,
          305485.62556255626,
          305130.989208633,
          304776.9901168014,
          304423.62657091557,
          304070.89686098654,
          303718.7992831541,
          303367.33213965985,
          303016.4937388193,
          302666.2823949955,
          302316.69642857136,
          301967.73416592326,
          301619.39393939386,
          301271.67408726626,
          300924.57295373664,
          300578.0888888889,
          300232.2202486679,
          299886.96539485356,
          299542.3226950355,
          299198.2905225864,
          298854.8672566372,
          298512.0512820513,
          298169.84098939935,
          297828.2347749338,
          297487.23104056437,
          297146.82819383254,
          296807.0246478874,
          296467.81882145995,
          296129.2091388401,
          295791.1940298507,
          295453.7719298246,
          295116.9412795793,
          294780.70052539406,
          294445.0481189851,
          294109.98251748254,
          293775.5021834061,
          293441.60558464227,
          293108.2911944202,
          292775.5574912892,
          292443.40295909485,
          292111.82608695654,
          291780.8253692441,
          291450.39930555556,
          291120.54640069377,
          290791.26516464475,
          290462.55411255406,
          290134.4117647059,
          289806.8366464996,
          289479.8272884283,
          289153.38222605694,
          288827.50000000006,
          288502.1791559001,
          288177.41824440623,
          287853.21582115215,
          287529.5704467354,
          287206.48068669526,
          286883.9451114923,
          286561.96229648666,
          286240.53082191787,
          285919.6492728828,
          285599.31623931625,
          285279.5303159692,
          284960.29010238906,
          284641.59420289856,
          284323.4412265758,
          284005.829787234,
          283688.75850340136,
          283372.2259983007,
          283056.23089983023,
          282740.77184054285,
          282425.8474576271,
          282111.45639288734,
          281797.59729272424,
          281484.268808115,
          281171.4695945946,
          280859.1983122363,
          280547.4536256324,
          280236.2342038753,
          279925.5387205387,
          279615.36585365847,
          279305.7142857143,
          278996.58270361036,
          278687.9697986577,
          278379.87426655483,
          278072.2948073702,
          277765.230125523,
          277458.6789297659,
          277152.6399331662,
          276847.1118530885,
          276542.09341117594,
          276237.5833333334,
          275933.58034970856,
          275630.0831946755,
          275327.0906068163,
          275024.60132890363,
          274722.61410788377,
          274421.12769485905,
          274120.1408450704,
          273819.6523178808,
          273519.6608767576,
          273220.1652892562,
          272921.1643270024,
          272622.65676567657,
          272324.64138499583,
          272027.1169686985,
          271730.0823045267,
          271433.53618421056,
          271137.4774034511,
          270841.90476190473,
          270546.81706316647,
          270252.2131147541,
          269958.0917280917,
          269664.45171849424,
          269371.2919051512,
          269078.6111111111,
          268786.40816326527,
          268494.6818923328,
          268203.4311328443,
          267912.654723127,
          267622.3515052888,
          267332.52032520325,
          267043.1600324939,
          266754.2694805195,
          266465.84752635844,
          266177.89303079416,
          265890.4048582996,
          265603.3818770226,
          265316.8229587712,
          265030.72697899834,
          264745.0928167877,
          264459.91935483867,
          264175.20547945204,
          263890.9500805153,
          263607.1520514883,
          263323.8102893891,
          263040.92369477905,
          262758.4911717496,
          262476.51162790693,
          262194.983974359,
          261913.90712570053,
          261633.28000000003,
          261353.10151878497,
          261073.37060702872,
          260794.0861931365,
          260515.2472089314,
          260236.85258964144,
          259958.9012738853,
          259681.39220365952,
          259404.32432432432,
          259127.69658459097,
          258851.50793650793,
          258575.75733544808,
          258300.4437400951,
          258025.56611243074,
          257751.12341772148,
          257477.11462450592,
          257203.53870458133,
          256930.39463299135,
          256657.68138801257,
          256385.39795114263,
          256113.54330708663,
          255842.11644374512,
          255571.1163522012,
          255300.54202670857,
          255030.39246467818,
          254760.6666666667,
          254491.36363636365,
          254222.4823805795,
          253954.02190923318,
          253685.98123534015,
          253418.35937499997,
          253151.15534738486,
          252884.36817472696,
          252617.9968823071,
          252352.04049844237,
          252086.4980544747,
          251821.36858475895,
          251556.65112665115,
          251292.34472049688,
          251028.4484096199,
          250764.96124031008,
          250501.88226181257,
          250239.2105263158,
          249976.94508894044,
          249715.08500772796,
          249453.62934362935,
          249192.5771604938,
          248931.92752505786,
          248671.67950693375,
          248411.83217859897,
          248152.38461538462,
          247893.33589546505,
          247634.68509984636,
          247376.4313123561,
          247118.57361963188,
          246861.11111111115,
          246604.04287901992,
          246347.36801836267,
          246091.0856269113,
          245835.19480519483,
          245579.69465648851,
          245324.584286804,
          245069.86280487804,
          244815.529322163,
          244561.5829528158,
          244308.02281368824,
          244054.84802431607,
          243802.05770690963,
          243549.6509863429,
          243297.62699014405,
          243045.9848484848,
          242794.72369417106,
          242543.84266263235,
          242293.34089191235,
          242043.2175226586,
          241793.4716981132,
          241544.10256410256,
          241295.1092690279,
          241046.49096385538,
          240798.24680210685,
          240550.37593984956,
          240302.87753568747,
          240055.75075075074,
          239808.99474868717,
          239562.60869565216,
          239316.5917602996,
          239070.94311377243,
          238825.66192969336,
          238580.7473841554,
          238336.1986557132,
          238092.0149253731,
          237848.19537658463,
          237604.739195231,
          237361.64556962025,
          237118.91369047618,
          236876.5427509294,
          236634.53194650816,
          236392.8804751299,
          236151.58753709198,
          235910.652335063,
          235670.07407407401,
          235429.85196151,
          235189.98520710057,
          234950.47302291205,
          234711.31462333823,
          234472.50922509228,
          234234.0560471976,
          233995.9543109801,
          233758.20324005888,
          233520.8020603385,
          233283.74999999994,
          233047.04628949304,
          232810.69016152713,
          232574.6808510638,
          232339.0175953079,
          232103.69963369964,
          231868.72620790626,
          231634.0965618142,
          231399.80994152045,
          231165.86559532504,
          230932.26277372258,
          230699.00072939458,
          230466.07871720113,
          230233.4959941733,
          230001.25181950507,
          229769.34545454543,
          229537.7761627907,
          229306.54320987652,
          229075.6458635704,
          228845.08339376355,
          228614.8550724638,
          228384.96017378708,
          228155.3979739508,
          227926.16775126537,
          227697.2687861272,
          227468.7003610108,
          227240.46176046177,
          227012.55227108867,
          226784.9711815562,
          226557.71778257735,
          226330.79136690652,
          226104.19122933137,
          225877.9166666667,
          225651.96697774588,
          225426.34146341463,
          225201.03942652326,
          224976.06017191976,
          224751.4030064424,
          224527.06723891277,
          224303.05218012864,
          224079.35714285713,
          223855.98144182723,
          223632.92439372328,
          223410.18531717747,
          223187.76353276355,
          222965.6583629893,
          222743.86913229016,
          222522.395167022,
          222301.23579545456,
          222080.39034776436,
          221859.8581560284,
          221639.63855421686,
          221419.73087818697,
          221200.13446567583,
          220980.8486562942,
          220761.87279151942,
          220543.2062146893,
          220324.84827099508,
          220106.79830747534,
          219889.05567300913,
          219671.61971830984,
          219454.48979591834,
          219237.66526019693,
          219021.14546732252,
          218804.92977528094,
          218589.01754385966,
          218373.40813464238,
          218158.10091100205,
          217943.09523809524,
          217728.39048285512,
          217513.98601398602,
          217299.88120195668,
          217086.0754189944,
          216872.56803907882,
          216659.35843793585,
          216446.44599303132,
          216233.83008356547,
          216021.5100904662,
          215809.48539638388,
          215597.7553856845,
          215386.31944444444,
          215175.1769604441,
          214964.32732316226,
          214753.76992376987,
          214543.50415512465,
          214333.5294117647,
          214123.84508990316,
          213914.4505874222,
          213705.34530386742,
          213496.52864044168,
          213288,
          213079.75878704336,
          212871.8044077135,
          212664.13626978663,
          212456.7537826685,
          212249.6563573883,
          212042.84340659343,
          211836.31434454356,
          211630.0685871056,
          211424.10555174775,
          211218.42465753423,
          211013.02532511976,
          210807.90697674415,
          210603.0690362269,
          210398.51092896174,
          210194.23208191126,
          209990.23192360165,
          209786.5098841172,
          209583.0653950954,
          209379.8978897209,
          209177.00680272112,
          208974.39157036028,
          208772.05163043475,
          208569.98642226745,
          208368.19538670284,
          208166.67796610165,
          207965.43360433605,
          207764.46174678399,
          207563.76184032473,
          207363.33333333328,
          207163.17567567568,
          206963.28831870356,
          206763.67071524964,
          206564.32231962236,
          206365.24258760107,
          206166.43097643094,
          205967.8869448183,
          205769.60995292536,
          205571.59946236562,
          205373.85493619877,
          205176.37583892615,
          204979.16163648557,
          204782.21179624664,
          204585.52578700602,
          204389.1030789826,
          204192.94314381268,
          203997.04545454547,
          203801.4094856379,
          203606.03471295058,
          203410.92061374246,
          203216.06666666668,
          203021.47235176552,
          202827.13715046606,
          202633.0605455755,
          202439.2420212766,
          202245.68106312296,
          202052.3771580345,
          201859.32979429333,
          201666.53846153844,
          201474.0026507621,
          201281.72185430463,
          201089.69556585044,
          200897.92328042325,
          200706.404494382,
          200515.13870541612,
          200324.12541254127,
          200133.36411609498,
          199942.8543177324,
          199752.5955204216,
          199562.58722843978,
          199372.82894736843,
          199183.32018408945,
          198994.06044678055,
          198805.04924491135,
          198616.28608923883,
          198427.7704918033,
          198239.501965924,
          198051.48002619518,
          197863.70418848167,
          197676.173969915,
          197488.88888888888,
          197301.84846505552,
          197115.0522193211,
          196928.49967384216,
          196742.1903520208,
          196556.1237785016,
          196370.29947916666,
          196184.71698113205,
          195999.37581274385,
          195814.27550357376,
          195629.4155844156,
          195444.79558728097,
          195260.41504539558,
          195076.27349319507,
          194892.3704663212,
          194708.70550161813,
          194525.27813712804,
          194342.08791208788,
          194159.13436692505,
          193976.41704325372,
          193793.93548387094,
          193611.68923275307,
          193429.6778350515,
          193247.90083708952,
          193066.35778635775,
          192885.04823151123,
          192703.971722365,
          192523.1278098908,
          192342.51604621307,
          192162.13598460553,
          191981.98717948713,
          191802.069186419,
          191622.38156209985,
          191442.92386436343,
          191263.69565217392,
          191084.696485623,
          190905.9259259259,
          190727.38353541796,
          190549.068877551,
          190370.98151688973,
          190193.12101910828,
          190015.48695098667,
          189838.07888040712,
          189660.89637635092,
          189483.93900889455,
          189307.20634920636,
          189130.6979695431,
          188954.41344324665,
          188778.35234474015,
          188602.51424952503,
          188426.8987341772,
          188251.50537634408,
          188076.3337547408,
          187901.3834491472,
          187726.654040404,
          187552.14511041009,
          187377.85624211852,
          187203.78701953372,
          187029.93702770778,
          186856.3058527376,
          186682.893081761,
          186509.69830295412,
          186336.7211055276,
          186163.96107972378,
          185991.417816813,
          185819.0909090909,
          185646.97994987466,
          185475.0845335003,
          185303.40425531915,
          185131.93871169482,
          184960.68749999994,
          184789.65021861336,
          184618.82646691633,
          184448.21584529008,
          184277.8179551122,
          184107.6323987539,
          183937.65877957657,
          183767.89670192904,
          183598.34577114423,
          183429.00559353636,
          183259.8757763975,
          183090.95592799503,
          182922.24565756822,
          182753.74457532546,
          182585.45229244113,
          182417.36842105264,
          182249.49257425737,
          182081.8243661101,
          181914.36341161927,
          181747.10932674492,
          181580.06172839503,
          181413.2202344232,
          181246.58446362513,
          181080.15403573625,
          180913.92857142852,
          180747.9076923077,
          180582.09102091024,
          180416.47818070065,
          180251.0687960688,
          180085.86249232656,
          179920.85889570552,
          179756.05763335375,
          179591.4583333333,
          179427.06062461724,
          179262.86413708693,
          179098.86850152907,
          178935.07334963328,
          178771.478313989,
          178608.08302808306,
          178444.88712629653,
          178281.89024390245,
          178119.09201706277,
          177956.49208282583,
          177794.09007912353,
          177631.8856447689,
          177469.87841945287,
          177308.06804374242,
          177146.4541590771,
          176985.03640776698,
          176823.81443298972,
          176662.78787878787,
          176501.9563900666,
          176341.31961259077,
          176180.87719298244,
          176020.62877871827,
          175860.5740181269,
          175700.71256038648,
          175541.04405552204,
          175381.5681544029,
          175222.28450874018,
          175063.19277108434,
          174904.2925948224,
          174745.5836341757,
          174587.06554419722,
          174428.73798076925,
          174270.60060060056,
          174112.65306122447,
          173954.89502099575,
          173797.32613908875,
          173639.9460754943,
          173482.75449101796,
          173325.75104727704,
          173168.93540669855,
          173012.30723251644,
          172855.86618876943,
          172699.6119402985,
          172543.54415274464,
          172387.66249254622,
          172231.9666269368,
          172076.45622394278,
          171921.13095238098,
          171765.99048185602,
          171611.0344827586,
          171456.2626262626,
          171301.67458432305,
          171147.27002967356,
          170993.04863582444,
          170839.01007705988,
          170685.15402843605,
          170531.48016577854,
          170377.98816568044,
          170224.6777054997,
          170071.54846335697,
          169918.6001181335,
          169765.83234946872,
          169613.2448377581,
          169460.83726415093,
          169308.60931054802,
          169156.56065959952,
          169004.69099470275,
          168853,
          168701.48736037622,
          168550.15276145714,
          168398.99588960657,
          168248.0164319249,
          168097.2140762463,
          167946.58851113718,
          167796.13942589337,
          167645.86651053868,
          167495.7694558221,
          167345.84795321638,
          167196.10169491524,
          167046.53037383177,
          166897.133683596,
          166747.9113185531,
          166598.8629737609,
          166449.98834498835,
          166301.28712871287,
          166152.75902211876,
          166004.40372309482,
          165856.22093023255,
          165708.2103428239,
          165560.37166085947,
          165412.7045850261,
          165265.20881670533,
          165117.884057971,
          164970.73001158747,
          164823.7463810075,
          164676.93287037036,
          164530.28918449968,
          164383.81502890174,
          164237.51010976313,
          164091.3741339492,
          163945.4068090017,
          163799.60784313723,
          163653.9769452449,
          163508.51382488478,
          163363.21819228554,
          163218.08975834292,
          163073.12823461756,
          162928.3333333333,
          162783.70476737505,
          162639.24225028703,
          162494.94549627078,
          162350.81422018347,
          162206.8481375358,
          162063.04696449026,
          161919.41041785915,
          161775.93821510297,
          161632.6300743282,
          161489.4857142857,
          161346.50485436892,
          161203.68721461188,
          161061.0325156874,
          160918.54047890534,
          160776.21082621085,
          160634.04328018223,
          160492.0375640296,
          160350.19340159273,
          160208.5105173394,
          160066.98863636362,
          159925.62748438388,
          159784.4267877412,
          159643.38627339763,
          159502.50566893423,
          159361.78470254957,
          159221.22310305774,
          159080.8205998868,
          158940.5769230769,
          158800.4918032787,
          158660.5649717514,
          158520.79616036138,
          158381.1851015801,
          158241.7315284828,
          158102.43517474632,
          157963.29577464788,
          157824.31306306305,
          157685.4867754643,
          157546.816647919,
          157408.30241708827,
          157269.9438202247,
          157131.74059517126,
          156993.69248035914,
          156855.7992148065,
          156718.06053811658,
          156580.47619047618,
          156443.04591265396,
          156305.76944599889,
          156168.64653243846,
          156031.67691447737,
          155894.86033519552,
          155758.1965382468,
          155621.68526785713,
          155485.3262688232,
          155349.1192865106,
          155213.06406685238,
          155077.16035634742,
          154941.40790205897,
          154805.80645161288,
          154670.35575319623,
          154535.05555555553,
          154399.90560799555,
          154264.90566037735,
          154130.05546311702,
          153995.354767184,
          153860.80332409972,
          153726.40088593576,
          153592.14720531268,
          153458.04203539822,
          153324.08512990602,
          153190.27624309392,
          153056.61512976256,
          152923.10154525386,
          152789.73524544953,
          152656.51598676958,
          152523.4435261708,
          152390.51762114535,
          152257.73802971933,
          152125.10451045103,
          151992.6168224299,
          151860.2747252747,
          151728.07797913233,
          151596.02634467618,
          151464.11958310477,
          151332.35745614034,
          151200.7397260274,
          151069.26615553122,
          150937.9365079365,
          150806.75054704593,
          150675.7080371788,
          150544.80874316936,
          150414.05243036593,
          150283.4388646288,
          150152.9678123295,
          150022.63904034893,
          149892.4523160763,
          149762.4074074074,
          149632.5040827436,
          149502.7421109902,
          149373.12126155518,
          149243.6413043478,
          149114.3020097773,
          148985.10314875134,
          148856.044492675,
          148727.125813449,
          148598.34688346882,
          148469.70747562294,
          148341.20736329182,
          148212.8463203463,
          148084.62412114657,
          147956.5405405405,
          147828.59535386277,
          147700.788336933,
          147573.11926605506,
          147445.58791801508,
          147318.19407008088,
          147190.9375,
          147063.81798599893,
          146936.83530678146,
          146809.98924152768,
          146683.27956989245,
          146556.70607200428,
          146430.268528464,
          146303.96672034354,
          146177.8004291845,
          146051.76943699733,
          145925.87352625935,
          145800.1124799143,
          145674.4860813704,
          145548.9941144997,
          145423.63636363635,
          145298.4126135756,
          145173.32264957263,
          145048.36625734114,
          144923.54322305226,
          144798.8533333333,
          144674.2963752665,
          144549.87213638786,
          144425.58040468584,
          144301.4209686003,
          144177.3936170213,
          144053.4981392876,
          143929.734325186,
          143806.10196494954,
          143682.6008492569,
          143559.23076923075,
          143435.9915164369,
          143312.88288288287,
          143189.90466101695,
          143067.05664372683,
          142944.33862433862,
          142821.75039661553,
          142699.29175475688,
          142576.9624933967,
          142454.76240760298,
          142332.69129287597,
          142210.74894514767,
          142088.93516078018,
          141967.24973656482,
          141845.69246972087,
          141724.26315789475,
          141602.96159915833,
          141481.7875920084,
          141360.7409353652,
          141239.82142857142,
          141119.02887139106,
          140998.36306400842,
          140877.82380702675,
          140757.4109014675,
          140637.12414876898,
          140516.96335078534,
          140396.92830978543,
          140277.01882845187,
          140157.23470987976,
          140037.57575757575,
          139918.04177545692,
          139798.63256784968,
          139679.34793948877,
          139560.18769551616,
          139441.15164147993,
          139322.2395833333,
          139203.4513274336,
          139084.7866805411,
          138966.245449818,
          138847.82744282746,
          138729.53246753247,
          138611.36033229492,
          138493.3108458744,
          138375.38381742738,
          138257.57905650596,
          138139.89637305698,
          138022.335577421,
          137904.89648033128,
          137787.57889291257,
          137670.38262668045,
          137553.30749354005,
          137436.35330578513,
          137319.51987609704,
          137202.80701754385,
          137086.21454357915,
          136969.74226804124,
          136853.39000515197,
          136737.15756951598,
          136621.04477611938,
          136505.05144032923,
          136389.17737789202,
          136273.4224049332,
          136157.78633795583,
          136042.26899383983,
          135926.87018984093,
          135811.58974358975,
          135696.4274730907,
          135581.38319672132,
          135466.4567332309,
          135351.64790174,
          135236.9565217391,
          135122.38241308794,
          135007.9253960143,
          134893.58529111336,
          134779.3619193466,
          134665.25510204083,
          134551.26466088727,
          134437.39041794086,
          134323.63219561893,
          134209.9898167006,
          134096.4631043257,
          133983.0518819939,
          133869.7559735638,
          133756.57520325202,
          133643.50939563228,
          133530.55837563451,
          133417.72196854386,
          133305,
          133192.3922959959,
          133079.8986828774,
          132967.51898734175,
          132855.25303643724,
          132743.10065756194,
          132631.06167846307,
          132519.13592723597,
          132407.32323232322,
          132295.62342251386,
          132184.03632694247,
          132072.56177508822,
          131961.19959677418,
          131849.94962216623,
          131738.8116817724,
          131627.78560644184,
          131516.8712273642,
          131406.06837606838,
          131295.3768844221,
          131184.79658463082,
          131074.32730923695,
          130963.9688911189,
          130853.72116349047,
          130743.58395989973,
          130633.55711422843,
          130523.64046069101,
          130413.83383383382,
          130304.13706853426,
          130194.54999999999,
          130085.07246376811,
          129975.7042957043,
          129866.44533200197,
          129757.29540918164,
          129648.25436408978,
          129539.32203389832,
          129430.49825610362,
          129321.7828685259,
          129213.17570930811,
          129104.67661691544,
          128996.28543013423,
          128888.00198807156,
          128779.82613015399,
          128671.75769612711,
          128563.79652605458,
          128455.94246031746,
          128348.19533961329,
          128240.55500495541,
          128133.0212976721,
          128025.59405940594,
          127918.27313211282,
          127811.05835806133,
          127703.94957983191,
          127596.9466403162,
          127490.04938271605,
          127383.25765054296,
          127276.57128761715,
          127169.99013806705,
          127063.51404632823,
          126957.14285714288,
          126850.87641555881,
          126744.71456692913,
          126638.65715691097,
          126532.7040314651,
          126426.85503685502,
          126321.11001964634,
          126215.46882670594,
          126109.9313052012,
          126004.49730259931,
          125899.16666666664,
          125793.9392454679,
          125688.81488736534,
          125583.79344101809,
          125478.87475538158,
          125374.05867970659,
          125269.34506353863,
          125164.7337567171,
          125060.22460937499,
          124955.81747193754,
          124851.51219512196,
          124747.30862993658,
          124643.20662768028,
          124539.20603994155,
          124435.30671859787,
          124331.50851581508,
          124227.81128404668,
          124124.21487603305,
          124020.71914480078,
          123917.32394366196,
          123814.02912621357,
          123710.83454633674,
          123607.74005819592,
          123504.74551623847,
          123401.85077519379,
          123299.05569007264,
          123196.36011616651,
          123093.76390904692,
          122991.26692456477,
          122888.86901884967,
          122786.5700483092,
          122684.36986962816,
          122582.26833976831,
          122480.26531596719,
          122378.3606557377,
          122276.55421686746,
          122174.8458574181,
          122073.2354357246,
          121971.72281039463,
          121870.30784030781,
          121768.99038461536,
          121667.77030273905,
          121566.6474543708,
          121465.62169947189,
          121364.69289827255,
          121263.86091127097,
          121163.12559923298,
          121062.48682319117,
          120961.94444444444,
          120861.49832455721,
          120761.14832535885,
          120660.89430894305,
          120560.73613766728,
          120460.67367415193,
          120360.70678127985,
          120260.83532219568,
          120161.05916030532,
          120061.37815927513,
          119961.79218303146,
          119862.30109575985,
          119762.90476190473,
          119663.60304616847,
          119564.39581351094,
          119465.2829291488,
          119366.26425855511,
          119267.33966745844,
          119168.50902184237,
          119069.77218794492,
          118971.12903225803,
          118872.57942152678,
          118774.1232227488,
          118675.76030317383,
          118577.49053030301,
          118479.31377188831,
          118381.22989593189,
          118283.23877068555,
          118185.34026465028,
          118087.53424657533,
          117989.82058545797,
          117892.1991505427,
          117794.66981132074,
          117697.23243752947,
          117599.88689915175,
          117502.63306641542,
          117405.47080979284,
          117308.40000000001,
          117211.42050799626,
          117114.53220498357,
          117017.734962406,
          116921.02865194925,
          116824.41314553992,
          116727.88831534493,
          116631.4540337711,
          116535.1101734646,
          116438.85660731021,
          116342.69320843092,
          116246.61985018724,
          116150.63640617688,
          116054.74275023385,
          115958.93875642824,
          115863.22429906539,
          115767.59925268564,
          115672.0634920635,
          115576.6168922072,
          115481.2593283582,
          115385.99067599066,
          115290.81081081083,
          115195.71960875641,
          115100.71694599626,
          115005.80269892972,
          114910.97674418606,
          114816.2389586239,
          114721.58921933084,
          114627.02740362284,
          114532.55338904363,
          114438.16705336428,
          114343.86827458255,
          114249.65693092256,
          114155.53290083412,
          114061.49606299216,
          113967.54629629626,
          113873.68347987041,
          113779.90749306198,
          113686.21821544153,
          113592.61552680221,
          113499.09930715935,
          113405.66943674977,
          113312.3257960314,
          113219.06826568264,
          113125.89672660212,
          113032.81105990784,
          112939.8111469369,
          112846.89686924491,
          112754.0681086056,
          112661.32474701013,
          112568.66666666667,
          112476.09374999999,
          112383.60587965087,
          112291.20293847566,
          112198.88480954566,
          112106.65137614676,
          112014.50252177898,
          111922.43813015583,
          111830.45808520385,
          111738.56227106226,
          111646.75057208237,
          111555.02287282707,
          111463.37905807042,
          111371.81901279706,
          111280.34262220192,
          111188.9497716895,
          111097.6403468736,
          111006.41423357661,
          110915.27131782945,
          110824.21148587056,
          110733.23462414579,
          110642.34061930781,
          110551.52935821573,
          110460.80072793447,
          110370.15461573444,
          110279.5909090909,
          110189.10949568376,
          110098.71026339689,
          110008.39310031776,
          109918.15789473683,
          109828.00453514738,
          109737.93291024478,
          109647.94290892615,
          109558.03442028983,
          109468.20733363512,
          109378.46153846152,
          109288.79692446858,
          109199.21338155512,
          109109.71079981922,
          109020.28906955734,
          108930.94808126413,
          108841.68772563174,
          108752.50789354982,
          108663.4084761046,
          108574.38936457864,
          108485.45045045043,
          108396.59162539394,
          108307.81278127813,
          108219.11381016645,
          108130.49460431651,
          108041.95505617978,
          107953.4950584007,
          107865.11450381682,
          107776.81328545779,
          107688.59129654552,
          107600.44843049326,
          107512.38458090543,
          107424.39964157702,
          107336.4935064935,
          107248.66606982991,
          107160.91722595078,
          107073.24686940965,
          106985.65489494857,
          106898.14119749775,
          106810.70567217509,
          106723.3482142857,
          106636.06871932172,
          106548.86708296163,
          106461.74320107,
          106374.69696969695,
          106287.72828507794,
          106200.83704363313,
          106114.02314196706,
          106027.2864768683,
          105940.62694530902,
          105854.04444444444,
          105767.53887161263,
          105681.11012433394,
          105594.75810031069,
          105508.48269742679,
          105422.28381374724,
          105336.16134751773,
          105250.11519716434,
          105164.14526129319,
          105078.25143868968,
          104992.4336283186,
          104906.69172932328,
          104821.02564102564,
          104735.43526292534,
          104649.92049469968,
          104564.48123620308,
          104479.11738746689,
          104393.82884869871,
          104308.61552028218,
          104223.47730277653,
          104138.41409691628,
          104053.42580361073,
          103968.51232394368,
          103883.67355917288,
          103798.90941072998,
          103714.21978021979,
          103629.60456942006,
          103545.06368028106,
          103460.59701492536,
          103376.20447564723,
          103291.88596491229,
          103207.64138535727,
          103123.47063978965,
          103039.37363118703,
          102955.35026269704,
          102871.40043763674,
          102787.52405949254,
          102703.72103191954,
          102619.99125874127,
          102536.33464394932,
          102452.75109170304,
          102369.24050632911,
          102285.80279232113,
          102202.43785433928,
          102119.1455972101,
          102035.92592592594,
          101952.7787456446,
          101869.70396168914,
          101786.70147954742,
          101703.77120487168,
          101620.91304347829,
          101538.12690134722,
          101455.41268462205,
          101372.77029960921,
          101290.19965277777,
          101207.70065075919,
          101125.2732003469,
          101042.91720849588,
          100960.63258232237,
          100878.41922910349,
          100796.27705627703,
          100714.20597144091,
          100632.20588235294,
          100550.27669693038,
          100468.41832324977,
          100386.63066954643,
          100304.91364421416,
          100223.2671558049,
          100141.69111302846,
          100060.18542475204,
          99978.75000000001,
          99897.38474795346,
          99816.08957795004,
          99734.86439948343,
          99653.70912220312,
          99572.62365591395,
          99491.60791057607,
          99410.66179630425,
          99329.78522336771,
          99248.97810218977,
          99168.24034334763,
          99087.57185757185,
          99006.97255574616,
          98926.44234890696,
          98845.98114824334,
          98765.58886509636,
          98685.26541095892,
          98605.01069747536,
          98524.8246364414,
          98444.70713980334,
          98364.65811965811,
          98284.67748825287,
          98204.76515798461,
          98124.92104139991,
          98045.14505119454,
          97965.4371002132,
          97885.79710144927,
          97806.22496804432,
          97726.72061328791,
          97647.28395061726,
          97567.914893617,
          97488.6133560187,
          97409.37925170067,
          97330.2124946876,
          97251.11299915037,
          97172.08067940552,
          97093.1154499151,
          97014.21722528635,
          96935.38592027141,
          96856.62144976684,
          96777.92372881356,
          96699.29267259633,
          96620.72819644368,
          96542.23021582735,
          96463.7986463621,
          96385.43340380548,
          96307.13440405748,
          96228.90156316012,
          96150.73479729731,
          96072.6340227944,
          95994.59915611814,
          95916.63011387599,
          95838.7268128162,
          95760.8891698272,
          95683.11710193765,
          95605.41052631578,
          95527.76936026936,
          95450.19352124527,
          95372.68292682923,
          95295.23749474568,
          95217.85714285716,
          95140.54178916421,
          95063.2913518052,
          94986.10574905582,
          94908.98489932886,
          94831.92872117403,
          94754.93713327742,
          94678.01005446166,
          94601.1474036851,
          94524.34910004186,
          94447.61506276148,
          94370.94521120869,
          94294.33946488294,
          94217.79774341831,
          94141.31996658309,
          94064.90605427974,
          93988.55592654426,
          93912.2695035461,
          93836.04670558796,
          93759.88745310545,
          93683.79166666667,
          93607.75926697209,
          93531.79017485428,
          93455.88431127756,
          93380.04159733777,
          93304.26195426197,
          93228.54530340814,
          93152.89156626505,
          93077.30066445183,
          93001.77251971772,
          92926.30705394188,
          92850.90418913313,
          92775.56384742951,
          92700.28595109824,
          92625.07042253521,
          92549.91718426501,
          92474.8261589404,
          92399.79726934218,
          92324.83043837879,
          92249.92558908639,
          92175.0826446281,
          92100.30152829409,
          92025.58216350121,
          91950.92447379281,
          91876.3283828383,
          91801.79381443298,
          91727.32069249793,
          91652.90894107951,
          91578.55848434925,
          91504.26924660354,
          91430.04115226335,
          91355.87412587412,
          91281.76809210527,
          91207.7229757501,
          91133.73870172555,
          91059.81519507185,
          90985.95238095237,
          90912.15018465326,
          90838.40853158323,
          90764.72734727347,
          90691.10655737706,
          90617.54608766899,
          90544.04586404584,
          90470.60581252558,
          90397.22585924713,
          90323.90593047034,
          90250.6459525756,
          90177.44585206373,
          90104.30555555556,
          90031.22498979175,
          89958.20408163263,
          89885.24275805792,
          89812.34094616638,
          89739.49857317569,
          89666.71556642214,
          89593.99185336048,
          89521.32736156353,
          89448.72201872201,
          89376.1757526444,
          89303.68849125659,
          89231.26016260161,
          89158.8906948395,
          89086.58001624692,
          89014.3280552172,
          88942.13474025975,
          88870,
          88797.92376317922,
          88725.90595865421,
          88653.94651539708,
          88582.04536249494,
          88510.20242914978,
          88438.41764467825,
          88366.69093851131,
          88295.0222401941,
          88223.41147938558,
          88151.85858585857,
          88080.36348949917,
          88008.92612030683,
          87937.54640839384,
          87866.22428398547,
          87794.95967741935,
          87723.7525191455,
          87652.602739726,
          87581.51026983486,
          87510.47504025763,
          87439.49698189135,
          87368.57602574414,
          87297.71210293524,
          87226.90514469454,
          87156.1550823624,
          87085.46184738952,
          87014.8253713368,
          86944.2455858748,
          86873.7224227838,
          86803.25581395345,
          86732.84569138275,
          86662.4919871795,
          86592.19463356027,
          86521.95356285026,
          86451.76870748299,
          86381.64,
          86311.5673730508,
          86241.55075939248,
          86171.59009188972,
          86101.68530351436,
          86031.8363273453,
          85962.04309656823,
          85892.30554447544,
          85822.62360446568,
          85752.99721004385,
          85683.42629482072,
          85613.91079251294,
          85544.45063694265,
          85475.0457620374,
          85405.69610182976,
          85336.40159045723,
          85267.16216216215,
          85197.97775129124,
          85128.84829229549,
          85059.77371973003,
          84990.75396825395,
          84921.78897262992,
          84852.87866772404,
          84784.02298850573,
          84715.22187004755,
          84646.47524752477,
          84577.78305621537,
          84509.14523149979,
          84440.56170886074,
          84372.03242388295,
          84303.55731225296,
          84235.13630975898,
          84166.76935229066,
          84098.45637583894,
          84030.19731649567,
          83961.99211045362,
          83893.84069400629,
          83825.7430035475,
          83757.69897557131,
          83689.70854667191,
          83621.7716535433,
          83553.88823297915,
          83486.05822187255,
          83418.28155721586,
          83350.5581761006,
          83282.88801571708,
          83215.27101335429,
          83147.70710639968,
          83080.19623233909,
          83012.73832875637,
          82945.33333333334,
          82877.98118384945,
          82810.68181818182,
          82743.43517430474,
          82676.24119028974,
          82609.09980430525,
          82542.01095461659,
          82474.97457958545,
          82407.99061767006,
          82341.05900742474,
          82274.17968749999,
          82207.35259664193,
          82140.57767369243,
          82073.85485758874,
          82007.18408736346,
          81940.56530214426,
          81873.99844115356,
          81807.48344370858,
          81741.02024922118,
          81674.60879719735,
          81608.24902723735,
          81541.94087903536,
          81475.68429237948,
          81409.47920715118,
          81343.32556332558,
          81277.22330097086,
          81211.17236024844,
          81145.1726814125,
          81079.22420480994,
          81013.32687088018,
          80947.48062015504,
          80881.68539325843,
          80815.94113090629,
          80750.24777390629,
          80684.6052631579,
          80619.01353965183,
          80553.47254447022,
          80487.98221878622,
          80422.54250386398,
          80357.1533410583,
          80291.81467181467,
          80226.52643766884,
          80161.2885802469,
          80096.10104126495,
          80030.96376252893,
          79965.87668593446,
          79900.83975346686,
          79835.8529072006,
          79770.91608929947,
          79706.02924201614,
          79641.19230769231,
          79576.40522875817,
          79511.66794773252,
          79446.9804072224,
          79382.34254992318,
          79317.75431861803,
          79253.21565617804,
          79188.72650556194,
          79124.28680981594,
          79059.89651207358,
          78995.55555555556,
          78931.2638835695,
          78867.02143950996,
          78802.828166858,
          78738.68400918132,
          78674.58891013383,
          78610.54281345566,
          78546.54566297287,
          78482.5974025974,
          78418.69797632683,
          78354.84732824426,
          78291.04540251811,
          78227.292143402,
          78163.58749523445,
          78099.93140243902,
          78036.32380952379,
          77972.7646610815,
          77909.25390178912,
          77845.7914764079,
          77782.37732978318,
          77719.01140684412,
          77655.69365260359,
          77592.42401215804,
          77529.20243068744,
          77466.02885345482,
          77402.90322580645,
          77339.82549317145,
          77276.79560106179,
          77213.81349507203,
          77150.87912087912,
          77087.9924242424,
          77025.1533510034,
          76962.36184708553,
          76899.61785849414,
          76836.92133131617,
          76774.27221172022,
          76711.67044595617,
          76649.11598035513,
          76586.6087613293,
          76524.14873537183,
          76461.7358490566,
          76399.37004903812,
          76337.05128205128,
          76274.7794949114,
          76212.55463451393,
          76150.37664783429,
          76088.24548192769,
          76026.16108392923,
          75964.12340105342,
          75902.13238059422,
          75840.18796992478,
          75778.29011649755,
          75716.43876784372,
          75654.63387157343,
          75592.87537537537,
          75531.16322701689,
          75469.49737434357,
          75407.87776527935,
          75346.30434782608,
          75284.77707006369,
          75223.2958801498,
          75161.86072631973,
          75100.47155688622,
          75039.12832023943,
          74977.83096484667,
          74916.57943925232,
          74855.3736920777,
          74794.21367202091,
          74733.09932785659,
          74672.03060843599,
          74611.00746268655,
          74550.02983961208,
          74489.0976882923,
          74428.21095788298,
          74367.3695976155,
          74306.57355679703,
          74245.82278481012,
          74185.11723111277,
          74124.45684523809,
          74063.84157679435,
          74003.2713754647,
          73942.74619100707,
          73882.26597325408,
          73821.83067211286,
          73761.44023756495,
          73701.09461966604,
          73640.79376854599,
          73580.53763440858,
          73520.32616753149,
          73460.15931826603,
          73400.03703703701,
          73339.95927434282,
          73279.925980755,
          73219.93710691825,
          73159.99260355027,
          73100.09242144176,
          73040.23651145601,
          72980.424824529,
          72920.65731166911,
          72860.93392395716,
          72801.25461254614,
          72741.61932866102,
          72682.0280235988,
          72622.48064872832,
          72562.97715549005,
          72503.51749539595,
          72444.10162002944,
          72384.72948104527,
          72325.40103016925,
          72266.11621919824,
          72206.87499999997,
          72147.67732451305,
          72088.52314474652,
          72029.41241278003,
          71970.34508076357,
          71911.32110091741,
          71852.3404255319,
          71793.40300696736,
          71734.50879765395,
          71675.6577500916,
          71616.84981684982,
          71558.08495056754,
          71499.36310395313,
          71440.68422978409,
          71382.0482809071,
          71323.45521023765,
          71264.90497076022,
          71206.39751552792,
          71147.93279766252,
          71089.51077035414,
          71031.13138686129,
          70972.79460051075,
          70914.50036469729,
          70856.24863288371,
          70798.03935860057,
          70739.87249544627,
          70681.74799708666,
          70623.66581725518,
          70565.62590975253,
          70507.62822844669,
          70449.67272727271,
          70391.75936023264,
          70333.88808139534,
          70276.05884489646,
          70218.27160493826,
          70160.52631578947,
          70102.8229317852,
          70045.16140732678,
          69987.54169688177,
          69929.9637549837,
          69872.4275362319,
          69814.93299529154,
          69757.48008689354,
          69700.06876583424,
          69642.6989869754,
          69585.37070524412,
          69528.08387563268,
          69470.8384531984,
          69413.6343930636,
          69356.4716504153,
          69299.3501805054,
          69242.26993865031,
          69185.23088023087,
          69128.23296069237,
          69071.27613554434,
          69014.36036036037,
          68957.4855907781,
          68900.6517824991,
          68843.85889128868,
          68787.1068729759,
          68730.39568345326,
          68673.72527867672,
          68617.09561466568,
          68560.50664750271,
          68503.95833333334,
          68447.45062836622,
          68390.98348887294,
          68334.55687118765,
          68278.17073170732,
          68221.82502689134,
          68165.51971326163,
          68109.25474740236,
          68053.03008595988,
          67996.84568564265,
          67940.7015032212,
          67884.59749552772,
          67828.53361945639,
          67772.50983196279,
          67716.52609006432,
          67660.58235083957,
          67604.67857142857,
          67548.81470903248,
          67492.99072091361,
          67437.2065643953,
          67381.46219686163,
          67325.75757575757,
          67270.09265858874,
          67214.46740292126,
          67158.88176638176,
          67103.33570665716,
          67047.82918149464,
          66992.36214870152,
          66936.93456614508,
          66881.54639175255,
          66826.197583511,
          66770.88809946713,
          66715.61789772726,
          66660.3869364572,
          66605.19517388218,
          66550.04256828662,
          66494.92907801419,
          66439.85466146753,
          66384.81927710841,
          66329.8228834573,
          66274.86543909347,
          66219.94690265485,
          66165.06723283792,
          66110.2263883976,
          66055.4243281471,
          66000.66101095792,
          65945.93639575971,
          65891.25044154008,
          65836.60310734465,
          65781.99435227671,
          65727.42413549752,
          65672.89241622575,
          65618.39915373767,
          65563.94430736691,
          65509.52783650456,
          65455.14970059881,
          65400.80985915492,
          65346.50827173528,
          65292.244897959165,
          65238.019697502634,
          65183.83263009846,
          65129.68365553601,
          65075.57273366126,
          65021.49982437652,
          64967.46488764046,
          64913.467883467856,
          64859.508771929824,
          64805.58751315328,
          64751.70406732119,
          64697.858394672265,
          64644.050455501034,
          64590.2802101576,
          64536.54761904761,
          64482.85264263211,
          64429.19524142755,
          64375.575376005596,
          64321.99300699301,
          64268.448095071646,
          64214.940600978334,
          64161.47048550471,
          64108.037709497214,
          64054.64223385687,
          64001.28401953941,
          63947.96302755492,
          63894.679218967925,
          63841.432554897154,
          63788.22299651566,
          63735.05050505051,
          63681.91504178273,
          63628.81656804731,
          63575.755045233105,
          63522.7304347826,
          63469.742698191934,
          63416.791797010774,
          63363.87769284224,
          63311.00034734283,
          63258.15972222222,
          63205.35577924332,
          63152.58848022205,
          63099.85778702739,
          63047.16366158112,
          62994.50606585787,
          62941.884961884934,
          62889.30031174229,
          62836.75207756233,
          62784.24022152996,
          62731.76470588234,
          62679.32549290902,
          62626.92254495158,
          62574.555824403746,
          62522.225293711104,
          62469.93091537132,
          62417.67265193372,
          62365.45046599932,
          62313.26432022084,
          62261.114177302516,
          62209,
          62156.92175112031,
          62104.87939352168,
          62052.872890113664,
          62000.90220385676,
          61948.967297762494,
          61897.068134893314,
          61845.20467836256,
          61793.37689133425,
          61741.58473702303,
          61689.828178694144,
          61638.10717966333,
          61586.421703296706,
          61534.771713010654,
          61483.15717227177,
          61431.57804459691,
          61380.034293552795,
          61328.52588275625,
          61277.05277587387,
          61225.61493662212,
          61174.21232876711,
          61122.84491612462,
          61071.512662559886,
          61020.21553198768,
          60968.95348837208,
          60917.7264957265,
          60866.53451811344,
          60815.37751964467,
          60764.25546448087,
          60713.16831683168,
          60662.116040955625,
          60611.098601159996,
          60560.11596180082,
          60509.16808728266,
          60458.2549420586,
          60407.376490630326,
          60356.53269754769,
          60305.72352740893,
          60254.94894486044,
          60204.20891459679,
          60153.503401360555,
          60102.8323699422,
          60052.19578518015,
          60001.593611960576,
          59951.02581521738,
          59900.49235993209,
          59849.99321113372,
          59799.528333898874,
          59749.09769335142,
          59698.70125466261,
          59648.33898305082,
          59598.01084378176,
          59547.716802168026,
          59497.45682356925,
          59447.230873391985,
          59397.038917089674,
          59346.880920162366,
          59296.75684815692,
          59246.66666666664,
          59196.61034133151,
          59146.58783783784,
          59096.599121918276,
          59046.64415935179,
          58996.722915963546,
          58946.83535762482,
          58896.98145025295,
          58847.16115981118,
          58797.37445230873,
          58747.621293800534,
          58697.901650387335,
          58648.21548821547,
          58598.562773476944,
          58548.94347240915,
          58499.35755129499,
          58449.80497646267,
          58400.2857142857,
          58350.7997311828,
          58301.34699361773,
          58251.927468099384,
          58202.54112118158,
          58153.18791946308,
          58103.86782958738,
          58054.580818242786,
          58005.32685216225,
          57956.10589812333,
          57906.91792294808,
          57857.76289350301,
          57808.64077669901,
          57759.551539491295,
          57710.495148879236,
          57661.47157190633,
          57612.48077566032,
          57563.52272727273,
          57514.59739391913,
          57465.704742818954,
          57416.84474123539,
          57368.01735647529,
          57319.22255588921,
          57270.46030687123,
          57221.73057685893
         ],
         "xaxis": "x",
         "y": [
          8.642644635506542,
          8.668766715103118,
          8.69487419253727,
          8.720967100528469,
          8.747045471706315,
          8.77310933861122,
          8.799158733694242,
          8.82519368931787,
          8.851214237756153,
          8.87722041119514,
          8.903212241733172,
          8.929189761381224,
          8.955153002063184,
          8.981101995616427,
          9.007036773791867,
          9.032957368254415,
          9.058863810583318,
          9.084756132272673,
          9.110634364731197,
          9.13649853928331,
          9.16234868716873,
          9.18818483954351,
          9.214007027479681,
          9.23981528196606,
          9.265609633908468,
          9.291390114129797,
          9.317156753370625,
          9.342909582289451,
          9.368648631462918,
          9.39437393138627,
          9.42008551247352,
          9.445783405057796,
          9.471467639391904,
          9.497138245648046,
          9.522795253918844,
          9.548438694217054,
          9.574068596476309,
          9.599684990550998,
          9.625287906217011,
          9.650877373171625,
          9.676453421034182,
          9.702016079346038,
          9.727565377571125,
          9.753101345096013,
          9.778624011230534,
          9.804133405207608,
          9.829629556183988,
          9.855112493240313,
          9.880582245381333,
          9.906038841536315,
          9.931482310559545,
          9.956912681229994,
          9.982329982252224,
          10.00773424225639,
          10.033125489798465,
          10.058503753360696,
          10.083869061351663,
          10.109221442106843,
          10.134560923888614,
          10.15988753488665,
          10.185201303218207,
          10.210502256928237,
          10.235790423989954,
          10.261065832304837,
          10.286328509703026,
          10.311578483943435,
          10.336815782714325,
          10.362040433633183,
          10.387252464247297,
          10.412451902033808,
          10.437638774400114,
          10.462813108684031,
          10.487974932154145,
          10.513124272009918,
          10.538261155382031,
          10.563385609332784,
          10.588497660856035,
          10.61359733687766,
          10.63868466425589,
          10.663759669781257,
          10.688822380177044,
          10.713872822099688,
          10.738911022138552,
          10.763937006816775,
          10.788950802590819,
          10.813952435851547,
          10.838941932923603,
          10.863919320066373,
          10.888884623473587,
          10.913837869274175,
          10.93877908353204,
          10.963708292246508,
          10.98862552135256,
          11.013530796720886,
          11.038424144158512,
          11.063305589408458,
          11.08817515815042,
          11.113032876001,
          11.137878768513588,
          11.162712861178932,
          11.18753517942514,
          11.212345748618077,
          11.237144594061476,
          11.26193174099717,
          11.286707214605372,
          11.31147104000496,
          11.336223242253368,
          11.360963846347204,
          11.385692877222368,
          11.410410359753996,
          11.435116318757082,
          11.459810778986423,
          11.484493765136904,
          11.509165301843666,
          11.533825413682564,
          11.558474125169937,
          11.583111460763291,
          11.607737444861073,
          11.632352101803349,
          11.656955455871469,
          11.6815475312888,
          11.70612835222056,
          11.730697942774214,
          11.755256326999643,
          11.779803528889317,
          11.80433957237841,
          11.828864481345306,
          11.853378279611434,
          11.877880990941662,
          11.902372639044472,
          11.92685324757224,
          11.951322840121179,
          11.975781440231913,
          12.000229071389299,
          12.024665757022888,
          12.049091520506863,
          12.073506385160556,
          12.097910374248443,
          12.122303510980373,
          12.146685818511628,
          12.17105731994343,
          12.19541803832277,
          12.21976799664293,
          12.24410721784335,
          12.268435724810104,
          12.292753540375884,
          12.31706068732018,
          12.341357188369727,
          12.365643066198402,
          12.389918343427553,
          12.414183042626007,
          12.438437186310523,
          12.46268079694579,
          12.486913896944714,
          12.511136508668358,
          12.535348654426457,
          12.559550356477416,
          12.583741637028425,
          12.607922518235796,
          12.632093022205083,
          12.656253170991135,
          12.680402986598438,
          12.704542490981169,
          12.728671706043485,
          12.752790653639636,
          12.776899355574017,
          12.80099783360157,
          12.825086109427843,
          12.849164204708984,
          12.873232141052313,
          12.897289940016094,
          12.921337623109991,
          12.945375211794897,
          12.969402727483555,
          12.993420191540338,
          13.017427625281528,
          13.0414250499756,
          13.065412486843286,
          13.08938995705762,
          13.113357481744401,
          13.137315081982024,
          13.16126277880187,
          13.18520059318837,
          13.209128546079114,
          13.233046658365254,
          13.256954950891327,
          13.280853444455545,
          13.304742159810132,
          13.328621117661214,
          13.3524903386691,
          13.376349843448452,
          13.400199652568404,
          13.424039786552669,
          13.447870265879828,
          13.471691110983272,
          13.495502342251598,
          13.51930398002861,
          13.543096044613492,
          13.566878556260917,
          13.590651535181337,
          13.614415001541033,
          13.638168975462122,
          13.661913477023063,
          13.685648526258433,
          13.709374143159266,
          13.733090347673226,
          13.756797159704718,
          13.780494599114832,
          13.804182685721798,
          13.827861439300989,
          13.851530879585084,
          13.875191026264076,
          13.898841898985665,
          13.922483517355147,
          13.946115900935808,
          13.969739069248817,
          13.99335304177339,
          14.01695783794736,
          14.040553477166611,
          14.064139978785704,
          14.087717362117928,
          14.111285646435363,
          14.134844850968989,
          14.158394994908974,
          14.181936097404673,
          14.205468177564796,
          14.228991254457526,
          14.252505347110798,
          14.27601047451202,
          14.299506655608923,
          14.322993909308877,
          14.346472254479636,
          14.36994170994916,
          14.393402294505847,
          14.416854026898648,
          14.440296925837174,
          14.463731009991818,
          14.487156297994034,
          14.510572808436223,
          14.533980559871907,
          14.557379570816124,
          14.58076985974526,
          14.604151445097273,
          14.627524345271752,
          14.650888578630145,
          14.674244163495985,
          14.697591118154719,
          14.720929460853881,
          14.744259209803602,
          14.76758038317621,
          14.790892999106745,
          14.81419707569296,
          14.837492630995087,
          14.860779683036696,
          14.884058249804184,
          14.907328349247052,
          14.930589999278311,
          14.953843217774136,
          14.977088022574321,
          15.00032443148234,
          15.023552462265286,
          15.046772132654269,
          15.06998346034436,
          15.093186462994652,
          15.116381158228535,
          15.139567563633534,
          15.162745696762045,
          15.18591557513065,
          15.209077216220692,
          15.232230637478324,
          15.255375856314686,
          15.278512890105901,
          15.301641756193078,
          15.324762471882707,
          15.347875054446604,
          15.370979521122024,
          15.394075889111889,
          15.41716417558456,
          15.440244397674462,
          15.463316572481801,
          15.486380717072734,
          15.509436848479709,
          15.532484983701181,
          15.555525139702127,
          15.578557333413869,
          15.601581581734251,
          15.62459790152792,
          15.647606309626156,
          15.67060682282704,
          15.693599457895743,
          15.716584231564639,
          15.7395611605329,
          15.762530261467361,
          15.785491551002053,
          15.808445045738551,
          15.831390762245974,
          15.85432871706115,
          15.877258926688853,
          15.900181407601565,
          15.92309617623988,
          15.946003249012392,
          15.96890264229603,
          15.991794372435947,
          16.014678455745752,
          16.037554908507445,
          16.060423746971708,
          16.083284987358013,
          16.106138645854458,
          16.128984738618215,
          16.151823281775307,
          16.174654291420836,
          16.197477783619263,
          16.22029377440424,
          16.243102279778725,
          16.26590331571532,
          16.28869689815599,
          16.311483043012572,
          16.334261766166662,
          16.357033083469503,
          16.379797010742436,
          16.402553563776962,
          16.42530275833451,
          16.448044610146894,
          16.4707791349162,
          16.493506348314895,
          16.516226265986063,
          16.538938903543283,
          16.56164427657086,
          16.58434240062394,
          16.607033291228447,
          16.629716963881435,
          16.652393434050907,
          16.67506271717599,
          16.69772482866705,
          16.720379783905855,
          16.743027598245533,
          16.76566828701084,
          16.78830186549783,
          16.81092834897464,
          16.833547752680772,
          16.856160091827974,
          16.878765381599578,
          16.901363637151178,
          16.9239548736104,
          16.946539106077125,
          16.969116349623505,
          16.991686619294,
          17.01424993010562,
          17.03680629704786,
          17.059355735082875,
          17.081898259145532,
          17.104433884143475,
          17.126962624957287,
          17.149484496440436,
          17.171999513419507,
          17.19450769069408,
          17.217009043037194,
          17.239503585195052,
          17.26199133188709,
          17.284472297806474,
          17.30694649761972,
          17.329413945966962,
          17.351874657462247,
          17.374328646693186,
          17.396775928221302,
          17.41921651658214,
          17.44165042628515,
          17.46407767181404,
          17.486498267626587,
          17.508912228154884,
          17.531319567805213,
          17.55372030095856,
          17.576114441970162,
          17.598502005169905,
          17.620883004862435,
          17.643257455326875,
          17.66562537081745,
          17.687986765563096,
          17.710341653767728,
          17.732690049610312,
          17.75503196724486,
          17.777367420800772,
          17.79969642438249,
          17.822018992069957,
          17.844335137918335,
          17.866644875958457,
          17.88894822019671,
          17.911245184614984,
          17.93353578317101,
          17.955820029798247,
          17.978097938405938,
          18.000369522879453,
          18.022634797080002,
          18.044893774844923,
          18.067146469987676,
          18.089392896298023,
          18.111633067541902,
          18.133866997461666,
          18.15609469977619,
          18.17831618818076,
          18.200531476347294,
          18.222740577924185,
          18.244943506536856,
          18.267140275787256,
          18.28933089925431,
          18.311515390493923,
          18.333693763038866,
          18.355866030399056,
          18.37803220606156,
          18.40019230349054,
          18.422346336127646,
          18.44449431739173,
          18.466636260678968,
          18.488772179363252,
          18.510902086795852,
          18.53302599630564,
          18.55514392119926,
          18.577255874761136,
          18.599361870253347,
          18.621461920916033,
          18.643556039967166,
          18.665644240602717,
          18.687726535996887,
          18.70980293930188,
          18.731873463648185,
          18.75393812214452,
          18.775996927878055,
          18.79804989391414,
          18.820097033296918,
          18.84213835904876,
          18.86417388417084,
          18.886203621642892,
          18.908227584423457,
          18.93024578544987,
          18.952258237638148,
          18.974264953883562,
          18.99626594706001,
          19.01826123002064,
          19.040250815597688,
          19.062234716602518,
          19.084212945825755,
          19.10618551603727,
          19.128152439986366,
          19.150113730401756,
          19.17206939999153,
          19.194019461443418,
          19.215963927424752,
          19.23790281058251,
          19.259836123543266,
          19.28176387891358,
          19.303686089279836,
          19.325602767208125,
          19.347513925244755,
          19.369419575915742,
          19.391319731727606,
          19.413214405166627,
          19.43510360869942,
          19.45698735477299,
          19.478865655814502,
          19.50073852423145,
          19.52260597241201,
          19.544468012724565,
          19.56632465751818,
          19.588175919122648,
          19.61002180984815,
          19.63186234198588,
          19.653697527807537,
          19.675527379566006,
          19.69735190949467,
          19.71917112980816,
          19.740985052702,
          19.76279369035268,
          19.784597054918095,
          19.806395158536986,
          19.82818801332951,
          19.84997563139717,
          19.87175802482261,
          19.893535205670105,
          19.915307185985114,
          19.937073977794853,
          19.958835593108006,
          19.980592043914783,
          20.002343342187203,
          20.024089499878983,
          20.045830528925592,
          20.067566441244253,
          20.089297248734226,
          20.11102296327664,
          20.132743596734656,
          20.154459160953365,
          20.17616966776012,
          20.197875128964313,
          20.21957555635754,
          20.241270961713838,
          20.26296135678922,
          20.28464675332242,
          20.306327163034325,
          20.328002597628483,
          20.349673068790764,
          20.3713385881897,
          20.392999167476546,
          20.414654818285044,
          20.43630555223183,
          20.4579513809162,
          20.479592315920343,
          20.50122836880928,
          20.522859551130978,
          20.54448587441641,
          20.566107350179493,
          20.587723989917322,
          20.60933580511005,
          20.63094280722106,
          20.652545007696858,
          20.674142417967403,
          20.695735049445773,
          20.717322913528676,
          20.738906021595938,
          20.760484385011125,
          20.782058015121095,
          20.80362692325656,
          20.825191120731517,
          20.846750618843885,
          20.868305428875203,
          20.88985556209076,
          20.911401029739693,
          20.932941843054948,
          20.954478013253436,
          20.97600955153598,
          20.99753646908738,
          21.019058777076566,
          21.040576486656505,
          21.0620896089643,
          21.08359815512125,
          21.10510213623286,
          21.126601563389045,
          21.148096447663875,
          21.169586800115894,
          21.191072631788018,
          21.21255395370764,
          21.234030776886698,
          21.255503112321662,
          21.276970970993602,
          21.298434363868182,
          21.31989330189589,
          21.341347796011803,
          21.362797857135888,
          21.38424349617287,
          21.405684724012417,
          21.427121551528955,
          21.448553989582138,
          21.469982049016437,
          21.49140574066132,
          21.512825075331534,
          21.5342400638267,
          21.555650716932007,
          21.57705704541746,
          21.598459060038635,
          21.619856771536206,
          21.641250190636356,
          21.662639328050602,
          21.684024194475796,
          21.705404800594465,
          21.72678115707464,
          21.748153274569688,
          21.76952116371882,
          21.790884835146926,
          21.812244299464396,
          21.83359956726747,
          21.85495064913823,
          21.876297555644385,
          21.897640297339763,
          21.918978884763817,
          21.940313328442187,
          21.961643638886414,
          21.982969826594,
          22.004291902048635,
          22.025609875720022,
          22.046923758063997,
          22.06823355952281,
          22.089539290524613,
          22.110840961484143,
          22.13213858280227,
          22.15343216486616,
          22.174721718049568,
          22.196007252712604,
          22.217288779201795,
          22.23856630785025,
          22.25983984897755,
          22.281109412890032,
          22.302375009880507,
          22.323636650228593,
          22.34489434420044,
          22.366148102049124,
          22.387397934014416,
          22.40864385032296,
          22.429885861188325,
          22.451123976810834,
          22.47235820737791,
          22.493588563063895,
          22.514815054030066,
          22.536037690424962,
          22.557256482384105,
          22.578471440030114,
          22.599682573472876,
          22.62088989280943,
          22.642093408124083,
          22.663293129488522,
          22.68448906696159,
          22.70568123058962,
          22.726869630406327,
          22.748054276432867,
          22.76923517867783,
          22.790412347137362,
          22.81158579179521,
          22.832755522622563,
          22.853921549578388,
          22.87508388260926,
          22.896242531649364,
          22.917397506620773,
          22.938548817433173,
          22.95969647398431,
          22.98084048615948,
          23.00198086383199,
          23.023117616863146,
          23.04425075510204,
          23.06538028838588,
          23.086506226539825,
          23.107628579377206,
          23.128747356699193,
          23.149862568295475,
          23.170974223943517,
          23.192082333409303,
          23.213186906446765,
          23.234287952798354,
          23.255385482194697,
          23.276479504354825,
          23.29757002898606,
          23.318657065784237,
          23.33974062443349,
          23.36082071460669,
          23.381897345964944,
          23.40297052815805,
          23.424040270824378,
          23.445106583590928,
          23.466169476073276,
          23.487228957875743,
          23.508285038591396,
          23.529337727801988,
          23.550387035078188,
          23.571432969979185,
          23.592475542053364,
          23.61351476083786,
          23.634550635858716,
          23.6555831766309,
          23.6766123926584,
          23.697638293434352,
          23.71866088844064,
          23.739680187148565,
          23.760696199018298,
          23.781708933499374,
          23.8027184000303,
          23.823724608038958,
          23.844727566942424,
          23.865727286147035,
          23.886723775048438,
          23.90771704303171,
          23.928707099471183,
          23.94969395373073,
          23.970677615163595,
          23.99165809311245,
          24.01263539690956,
          24.03360953587668,
          24.054580519325157,
          24.07554835655594,
          24.096513056859635,
          24.117474629516437,
          24.138433083796258,
          24.159388428958778,
          24.1803406742535,
          24.20128982891947,
          24.222235902185844,
          24.243178903271428,
          24.264118841385084,
          24.285055725725385,
          24.305989565481013,
          24.326920369830532,
          24.347848147942557,
          24.3687729089757,
          24.389694662078682,
          24.410613416390277,
          24.431529181039423,
          24.452441965145283,
          24.47335177781696,
          24.494258628154057,
          24.51516252524624,
          24.53606347817356,
          24.556961496006295,
          24.577856587805172,
          24.598748762621085,
          24.619638029495547,
          24.640524397460354,
          24.661407875537805,
          24.68228847274065,
          24.70316619807221,
          24.724041060526304,
          24.744913069087318,
          24.765782232730317,
          24.786648560420815,
          24.807512061115233,
          24.828372743760497,
          24.849230617294268,
          24.870085690645,
          24.89093797273199,
          24.911787472465164,
          24.932634198745347,
          24.95347816046433,
          24.974319366504687,
          24.995157825739852,
          25.015993547034384,
          25.03682653924369,
          25.057656811214144,
          25.078484371783247,
          25.09930922977952,
          25.120131394022508,
          25.140950873322993,
          25.16176767648284,
          25.182581812294927,
          25.203393289543612,
          25.224202117004268,
          25.245008303443626,
          25.26581185761961,
          25.28661278828156,
          25.30741110417,
          25.328206814016937,
          25.34899992654573,
          25.369790450471157,
          25.390578394499357,
          25.41136376732817,
          25.432146577646563,
          25.45292683413544,
          25.473704545466887,
          25.49447972030481,
          25.51525236730464,
          25.536022495113343,
          25.556790112369754,
          25.57755522770418,
          25.59831784973875,
          25.619077987087337,
          25.63983564835553,
          25.660590842140664,
          25.68134357703201,
          25.702093861610592,
          25.72284170444931,
          25.743587114112927,
          25.764330099158258,
          25.785070668133926,
          25.805808829580485,
          25.826544592030757,
          25.84727796400921,
          25.868008954032632,
          25.888737570609806,
          25.909463822241605,
          25.930187717421006,
          25.95090926463314,
          25.97162847235535,
          25.992345349057132,
          26.01305990320037,
          26.033772143238878,
          26.05448207761907,
          26.075189714779412,
          26.09589506315092,
          26.116598131156763,
          26.137298927212612,
          26.15799745972646,
          26.178693737098854,
          26.199387767722612,
          26.220079559983162,
          26.24076912225837,
          26.261456462918716,
          26.282141590327058,
          26.30282451283898,
          26.323505238802568,
          26.34418377655868,
          26.364860134440562,
          26.385534320774468,
          26.406206343879035,
          26.426876212065793,
          26.44754393363894,
          26.468209516895513,
          26.48887297012533,
          26.509534301610927,
          26.5301935196278,
          26.550850632444167,
          26.57150564832142,
          26.59215857551351,
          26.612809422267503,
          26.633458196823483,
          26.654104907414307,
          26.67474956226613,
          26.695392169597824,
          26.71603273762156,
          26.736671274542402,
          26.75730778855865,
          26.77794228786172,
          26.798574780636102,
          26.81920527505946,
          26.839833779302694,
          26.86046030152994,
          26.881084849898457,
          26.901707432558908,
          26.922328057655136,
          26.942946733324334,
          26.9635634676971,
          26.984178268897267,
          27.004791145042077,
          27.02540210424212,
          27.046011154601615,
          27.066618304217968,
          27.08722356118227,
          27.107826933578906,
          27.128428429485837,
          27.149028056974714,
          27.16962582411054,
          27.190221738951948,
          27.210815809551264,
          27.231408043954332,
          27.251998450200745,
          27.27258703632367,
          27.29317381034997,
          27.31375878030019,
          27.334341954188858,
          27.35492334002396,
          27.375502945807398,
          27.396080779534827,
          27.41665684919576,
          27.437231162773514,
          27.45780372824538,
          27.478374553582398,
          27.498943646749524,
          27.519511015705802,
          27.54007666840414,
          27.560640612791303,
          27.58120285680826,
          27.601763408389786,
          27.622322275464853,
          27.642879465956526,
          27.66343498778184,
          27.68398884885181,
          27.704541057071935,
          27.725091620341573,
          27.745640546554284,
          27.766187843598004,
          27.786733519354584,
          27.807277581700305,
          27.827820038505706,
          27.84836089763553,
          27.868900166948833,
          27.889437854298933,
          27.90997396753363,
          27.93050851449493,
          27.95104150301927,
          27.971572940937506,
          27.992102836074878,
          28.012631196250993,
          28.03315802928023,
          28.053683342971,
          28.074207145126593,
          28.094729443544622,
          28.11525024601724,
          28.135769560331198,
          28.156287394267963,
          28.17680375560343,
          28.197318652108095,
          28.21783209154728,
          28.238344081680793,
          28.258854630263272,
          28.279363745043952,
          28.29987143376684,
          28.320377704170653,
          28.34088256398894,
          28.361386020949965,
          28.381888082776868,
          28.402388757187566,
          28.422888051894745,
          28.443385974606144,
          28.46388253302422,
          28.484377734846476,
          28.504871587765194,
          28.52536409946771,
          28.545855277636235,
          28.566345129948047,
          28.586833664075357,
          28.60732088768549,
          28.62780680844071,
          28.648291433998452,
          28.668774772011147,
          28.689256830126283,
          28.709737615986683,
          28.73021713723,
          28.750695401489338,
          28.771172416392858,
          28.791648189563887,
          28.81212272862092,
          28.832596041177908,
          28.853068134843795,
          28.873539017223038,
          28.894008695915147,
          28.914477178515256,
          28.934944472613495,
          28.955410585795505,
          28.97587552564238,
          28.996339299730494,
          29.01680191563156,
          29.037263380912975,
          29.057723703137242,
          29.078182889862717,
          29.09864094864281,
          29.119097887026783,
          29.13955371255929,
          29.160008432780444,
          29.180462055226087,
          29.20091458742752,
          29.22136603691166,
          29.241816411201057,
          29.262265717813932,
          29.282713964264133,
          29.303161158061073,
          29.32360730670996,
          29.344052417711737,
          29.36449649856297,
          29.384939556756194,
          29.405381599779332,
          29.425822635116447,
          29.446262670247165,
          29.466701712647136,
          29.487139769787632,
          29.507576849135887,
          29.52801295815499,
          29.548448104303986,
          29.56888229503778,
          29.589315537807124,
          29.609747840058787,
          29.630179209235678,
          29.650609652776325,
          29.67103917811545,
          29.69146779268391,
          29.71189550390841,
          29.732322319211733,
          29.752748246012857,
          29.773173291726664,
          29.793597463764343,
          29.8140207695331,
          29.834443216436227,
          29.854864811873313,
          29.87528556323997,
          29.895705477928175,
          29.91612456332598,
          29.936542826817742,
          29.95696027578407,
          29.97737691760176,
          29.997792759644028,
          30.018207809280284,
          30.038622073876297,
          30.05903556079403,
          30.079448277392146,
          30.099860231025332,
          30.120271429044806,
          30.140681878798205,
          30.161091587629528,
          30.181500562879307,
          30.201908811884493,
          30.222316341978456,
          30.242723160491153,
          30.263129274748906,
          30.283534692074795,
          30.303939419788207,
          30.324343465205175,
          30.344746835638432,
          30.365149538397077,
          30.38555158078708,
          30.40595297011089,
          30.426353713667595,
          30.44675381875288,
          30.46715329265936,
          30.487552142676122,
          30.50795037608907,
          30.528348000180813,
          30.548745022230662,
          30.569141449514802,
          30.589537289306122,
          30.609932548874326,
          30.63032723548588,
          30.650721356404233,
          30.6711149188896,
          30.69150793019901,
          30.71190039758642,
          30.73229232830272,
          30.752683729595617,
          30.77307460870992,
          30.79346497288725,
          30.813854829366164,
          30.834244185382374,
          30.854633048168466,
          30.87502142495407,
          30.895409322965804,
          30.915796749427443,
          30.936183711559693,
          30.956570216580587,
          30.976956271704864,
          30.997341884144703,
          31.017727061109326,
          31.038111809805116,
          31.058496137435498,
          31.07888005120128,
          31.099263558300322,
          31.119646665927746,
          31.140029381275895,
          31.160411711534323,
          31.180793663889972,
          31.20117524552694,
          31.221556463626655,
          31.24193732536787,
          31.262317837926616,
          31.28269800847636,
          31.30307784418784,
          31.32345735222924,
          31.343836539766073,
          31.364215413961347,
          31.384593981975343,
          31.404972250965955,
          31.425350228088405,
          31.44572792049547,
          31.466105335337375,
          31.48648247976189,
          31.506859360914177,
          31.527235985937182,
          31.547612361971176,
          31.567988496154044,
          31.588364395621284,
          31.608740067506062,
          31.629115518939045,
          31.649490757048568,
          31.669865788960692,
          31.690240621799035,
          31.71061526268494,
          31.73098971873742,
          31.751363997073213,
          31.771738104806843,
          31.792112049050445,
          31.81248583691405,
          31.83285947550536,
          31.853232971929913,
          31.873606333291036,
          31.893979566689893,
          31.914352679225544,
          31.934725677994777,
          31.95509857009222,
          31.975471362610563,
          31.995844062640288,
          32.01621667726977,
          32.03658921358539,
          32.05696167867137,
          32.077334079609955,
          32.097706423481384,
          32.11807871736386,
          32.138450968333586,
          32.15882318346479,
          32.17919536982981,
          32.19956753449884,
          32.21993968454035,
          32.240311827020776,
          32.26068396900479,
          32.281056117554954,
          32.30142827973219,
          32.32180046259538,
          32.342172673201674,
          32.362544918606375,
          32.38291720586301,
          32.403289542023174,
          32.423661934136874,
          32.44403438925224,
          32.46440691441563,
          32.48477951667178,
          32.50515220306363,
          32.525524980632326,
          32.54589785641758,
          32.56627083745718,
          32.586643930787375,
          32.60701714344276,
          32.62739048245635,
          32.647763954859386,
          32.6681375676817,
          32.68851132795146,
          32.7088852426952,
          32.729259318938034,
          32.74963356370347,
          32.77000798401343,
          32.790382586888484,
          32.810757379347535,
          32.83113236840819,
          32.851507561086464,
          32.871882964397,
          32.892258585352806,
          32.91263443096585,
          32.93301050824641,
          32.95338682420339,
          32.97376338584439,
          32.99414020017571,
          33.01451727420226,
          33.03489461492745,
          33.055272229353704,
          33.07565012448191,
          33.096028307311656,
          33.116406784841445,
          33.13678556406842,
          33.15716465198841,
          33.17754405559617,
          33.19792378188515,
          33.21830383784754,
          33.238684230474576,
          33.259064966756114,
          33.27944605368094,
          33.29982749823671,
          33.320209307409925,
          33.34059148818602,
          33.36097404754929,
          33.381356992483006,
          33.40174032996936,
          33.422124066989454,
          33.442508210523386,
          33.46289276755033,
          33.48327774504821,
          33.503663149994225,
          33.52404898936442,
          33.544435270134045,
          33.56482199927723,
          33.58520918376729,
          33.60559683057653,
          33.6259849466764,
          33.64637353903754,
          33.66676261462965,
          33.68715218042149,
          33.70754224338111,
          33.727932810475636,
          33.74832388867151,
          33.76871548493409,
          33.7891076062283,
          33.80950025951813,
          33.82989345176668,
          33.85028718993658,
          33.87068148098956,
          33.89107633188655,
          33.91147174958809,
          33.93186774105368,
          33.95226431324244,
          33.97266147311257,
          33.99305922762187,
          34.01345758372736,
          34.03385654838547,
          34.0542561285522,
          34.07465633118261,
          34.09505716323156,
          34.115458631653155,
          34.13586074340088,
          34.156263505428,
          34.17666692468697,
          34.19707100812985,
          34.21747576270832,
          34.237881195373404,
          34.2582873130757,
          34.27869412276556,
          34.29910163139266,
          34.31950984590651,
          34.33991877325593,
          34.360328420389635,
          34.38073879425582,
          34.401149901802285,
          34.42156174997666,
          34.44197434572607,
          34.46238769599739,
          34.48280180773736,
          34.50321668789212,
          34.52363234340771,
          34.54404878123,
          34.564466008304464,
          34.58488403157651,
          34.60530285799109,
          34.625722494493175,
          34.646142948027546,
          34.66656422553854,
          34.68698633397082,
          34.707409280268394,
          34.72783307137553,
          34.748257714236104,
          34.76868321579411,
          34.789109582993376,
          34.8095368227776,
          34.82996494209044,
          34.8503939478756,
          34.87082384707662,
          34.89125464663721,
          34.9116863535009,
          34.932118974611285,
          34.95255251691202,
          34.972986987346815,
          34.99342239285937,
          35.013858740393516,
          35.034296036893124,
          35.054734289302246,
          35.07517350456487,
          35.09561368962528,
          35.116054851427805,
          35.13649699691706,
          35.156940133037665,
          35.177384266734464,
          35.197829404952586,
          35.218275554637216,
          35.238722722733996,
          35.25917091618851,
          35.27962014194685,
          35.300070406955285,
          35.32052171816025,
          35.340974082508694,
          35.361427506947734,
          35.38188199842483,
          35.40233756388767,
          35.42279421028462,
          35.443251944564054,
          35.463710773674904,
          35.48417070456651,
          35.50463174418849,
          35.52509389949097,
          35.5455571774246,
          35.566021584940245,
          35.58648712898946,
          35.6069538165242,
          35.62742165449686,
          35.647890649860415,
          35.66836080956824,
          35.68883214057445,
          35.709304649833484,
          35.72977834430054,
          35.75025323093121,
          35.77072931668175,
          35.79120660850913,
          35.811685113370686,
          35.832164838224685,
          35.85264579002978,
          35.87312797574549,
          35.89361140233177,
          35.91409607674956,
          35.93458200596018,
          35.95506919692599,
          35.97555765660991,
          35.996047391975424,
          36.016538409987106,
          36.03703071761015,
          36.05752432181055,
          36.07801922955497,
          36.09851544781117,
          36.119012983547464,
          36.139511843733146,
          36.160012035338355,
          36.180513565334024,
          36.20101644069206,
          36.22152066838527,
          36.24202625538726,
          36.26253320867272,
          36.28304153521708,
          36.303551241996956,
          36.32406233598971,
          36.34457482417383,
          36.365088713528735,
          36.38560401103496,
          36.40612072367384,
          36.426638858427964,
          36.44715842228089,
          36.46767942221726,
          36.48820186522272,
          36.50872575828407,
          36.529251108389246,
          36.549777922527255,
          36.57030620768825,
          36.590835970863566,
          36.61136721904563,
          36.63189995922818,
          36.652434198405956,
          36.67296994357497,
          36.69350720173264,
          36.71404597987731,
          36.73458628500879,
          36.75512812412808,
          36.77567150423744,
          36.796216432340486,
          36.816762915441984,
          36.83731096054822,
          36.85786057466669,
          36.87841176480629,
          36.89896453797712,
          36.919518901190884,
          36.940074861460516,
          36.96063242580044,
          36.9811916012265,
          37.00175239475578,
          37.022314813407036,
          37.042878864200475,
          37.06344455415757,
          37.08401189030144,
          37.10458087965674,
          37.12515152924948,
          37.14572384610739,
          37.16629783725955,
          37.186873509736756,
          37.20745087057122,
          37.22802992679692,
          37.248610685449194,
          37.26919315356531,
          37.28977733818391,
          37.31036324634533,
          37.33095088509157,
          37.35154026146637,
          37.37213138251502,
          37.39272425528469,
          37.41331888682407,
          37.43391528418363,
          37.45451345441569,
          37.47511340457419,
          37.495715141714925,
          37.51631867289535,
          37.53692400517491,
          37.55753114561469,
          37.578140101277654,
          37.598750879228646,
          37.619363486534326,
          37.63997793026317,
          37.66059421748554,
          37.681212355273885,
          37.701832350702375,
          37.722454210847104,
          37.74307794278616,
          37.763703553599555,
          37.784331050369246,
          37.804960440179286,
          37.825591730115605,
          37.84622492726618,
          37.86686003872097,
          37.88749707157206,
          37.90813603291349,
          37.92877692984149,
          37.94941976945421,
          37.97006455885196,
          37.99071130513721,
          38.011360015414596,
          38.03201069679068,
          38.052663356374296,
          38.07331800127662,
          38.09397463861063,
          38.11463327549188,
          38.135293919037906,
          38.15595657636845,
          38.176621254605664,
          38.19728796087384,
          38.21795670229949,
          38.23862748601141,
          38.25930031914089,
          38.27997520882127,
          38.30065216218844,
          38.32133118638035,
          38.342012288537546,
          38.36269547580298,
          38.38338075532164,
          38.404068134241186,
          38.424757619711784,
          38.445449218885756,
          38.466142938917926,
          38.486838786965734,
          38.50753677018889,
          38.528236895749785,
          38.54893917081307,
          38.56964360254608,
          38.59035019811864,
          38.61105896470315,
          38.63176990947443,
          38.65248303960993,
          38.673198362289725,
          38.69391588469654,
          38.714635614015606,
          38.73535755743478,
          38.75608172214464,
          38.776808115338326,
          38.7975367442117,
          38.81826761596335,
          38.83900073779449,
          38.85973611690906,
          38.88047376051378,
          38.9012136758181,
          38.92195587003414,
          38.942700350376924,
          38.963447124064146,
          38.98419619831634,
          39.00494758035694,
          39.025701277412054,
          39.046457296710855,
          39.067215645485135,
          39.08797633096964,
          39.10873936040218,
          39.1295047410232,
          39.15027248007624,
          39.17104258480771,
          39.19181506246696,
          39.212589920306414,
          39.233367165581285,
          39.25414680554991,
          39.27492884747369,
          39.29571329861682,
          39.31650016624678,
          39.337289457633915,
          39.358081180051784,
          39.37887534077703,
          39.39967194708919,
          39.42047100627104,
          39.44127252560867,
          39.46207651239098,
          39.48288297391019,
          39.503691917461765,
          39.52450335034422,
          39.54531727985926,
          39.56613371331201,
          39.586952658010546,
          39.6077741212664,
          39.62859811039431,
          39.64942463271228,
          39.67025369554153,
          39.69108530620667,
          39.711919472035675,
          39.7327562003598,
          39.75359549851356,
          39.774437373834985,
          39.795281833665456,
          39.816128885349656,
          39.83697853623579,
          39.85783079367542,
          39.87868566502357,
          39.89954315763873,
          39.92040327888293,
          39.94126603612142,
          39.96213143672338,
          39.98299948806107,
          40.00387019751065,
          40.0247435724516,
          40.04561962026696,
          40.06649834834349,
          40.0873797640715,
          40.108263874844795,
          40.12915068806092,
          40.15004021112105,
          40.17093245143002,
          40.19182741639622,
          40.21272511343187,
          40.23362554995282,
          40.25452873337866,
          40.27543467113276,
          40.296343370642035,
          40.31725483933741,
          40.33816908465349,
          40.35908611402863,
          40.38000593490506,
          40.40092855472881,
          40.42185398094972,
          40.4427822210215,
          40.46371328240184,
          40.484647172552116,
          40.5055838989378,
          40.526523469028064,
          40.54746589029628,
          40.56841117021952,
          40.58935931627906,
          40.610310335959866,
          40.63126423675118,
          40.652221026146094,
          40.67318071164175,
          40.69414330073943,
          40.71510880094428,
          40.73607721976572,
          40.75704856471714,
          40.77802284331608,
          40.799000063084236,
          40.81998023154733,
          40.84096335623536,
          40.86194944468241,
          40.88293850442682,
          40.90393054301103,
          40.924925567981745,
          40.94592358688999,
          40.96692460729088,
          40.98792863674396,
          41.008935682812876,
          41.02994575306576,
          41.05095885507484,
          41.071974996416884,
          41.09299418467293,
          41.11401642742828,
          41.135041732272725,
          41.156070106800485,
          41.17710155860999,
          41.19813609530422,
          41.21917372449076,
          41.240214453781334,
          41.2612582907924,
          41.28230524314466,
          41.303355318463616,
          41.324408524379066,
          41.34546486852537,
          41.3665243585416,
          41.38758700207114,
          41.408652806762234,
          41.42972178026753,
          41.450793930244345,
          41.47186926435478,
          41.49294779026536,
          41.51402951564734,
          41.535114448176785,
          41.55620259553433,
          41.577293965405374,
          41.59838856548009,
          41.619486403453266,
          41.64058748702462,
          41.66169182389859,
          41.68279942178441,
          41.70391028839606,
          41.72502443145248,
          41.74614185867739,
          41.767262577799386,
          41.78838659655196,
          41.80951392267349,
          41.830644563907185,
          41.851778528001375,
          41.87291582270922,
          41.89405645578887,
          41.91520043500344,
          41.93634776812104,
          41.95749846291483,
          41.97865252716298,
          41.99980996864883,
          42.02097079516045,
          42.04213501449141,
          42.063302634440106,
          42.08447366281018,
          42.10564810741033,
          42.12682597605453,
          42.148007276561714,
          42.1691920167562,
          42.190380204467374,
          42.211571847530024,
          42.23276695378394,
          42.2539655310743,
          42.27516758725153,
          42.29637313017133,
          42.317582167694866,
          42.338794707688294,
          42.36001075802346,
          42.38123032657728,
          42.402453421232224,
          42.42368004987611,
          42.444910220402164,
          42.466143940709,
          42.487381218700705,
          42.50862206228692,
          42.52986647938263,
          42.55111447790836,
          42.572366065790106,
          42.59362125095953,
          42.614880041353615,
          42.636142444915265,
          42.65740846959255,
          42.67867812333941,
          42.699951414115446,
          42.72122834988562,
          42.7425089386208,
          42.76379318829743,
          42.78508110689768,
          42.80637270240936,
          42.827667982826085,
          42.848966956147194,
          42.87026963037772,
          42.89157601352855,
          42.912886113616366,
          42.934199938663596,
          42.95551749669846,
          42.97683879575533,
          42.99816384387407,
          43.01949264910064,
          43.04082521948686,
          43.0621615630904,
          43.083501687975,
          43.104845602210276,
          43.12619331387185,
          43.14754483104133,
          43.16890016180628,
          43.1902593142604,
          43.21162229650338,
          43.232989116640965,
          43.25435978278506,
          43.275734303053525,
          43.29711268557048,
          43.31849493846619,
          43.339881069876924,
          43.3612710879454,
          43.38266500082017,
          43.404062816656335,
          43.42546454361508,
          43.44687018986377,
          43.46827976357616,
          43.48969327293236,
          43.51111072611849,
          43.5325321313274,
          43.553957496757846,
          43.575386830615344,
          43.59682014111155,
          43.61825743646466,
          43.63969872489912,
          43.66114401464597,
          43.68259331394262,
          43.704046631033066,
          43.72550397416768,
          43.74696535160325,
          43.76843077160345,
          43.78990024243819,
          43.81137377238406,
          43.83285136972415,
          43.85433304274841,
          43.87581879975306,
          43.89730864904129,
          43.91880259892275,
          43.94030065771386,
          43.96180283373769,
          43.98330913532419,
          44.00481957080984,
          44.0263341485379,
          44.0478528768586,
          44.06937576412889,
          44.09090281871238,
          44.112434048979765,
          44.13396946330846,
          44.1555090700827,
          44.17705287769377,
          44.19860089453982,
          44.220153129025846,
          44.241709589563925,
          44.26327028457308,
          44.28483522247927,
          44.306404411715505,
          44.32797786072189,
          44.349555577945466,
          44.37113757184051,
          44.39272385086815,
          44.41431442349693,
          44.43590929820232,
          44.45750848346694,
          44.479111987780755,
          44.50071981964072,
          44.52233198755118,
          44.543948500023646,
          44.56556936557672,
          44.587194592736694,
          44.60882419003673,
          44.63045816601749,
          44.652096529226924,
          44.673739288220474,
          44.69538645156075,
          44.71703802781792,
          44.738694025569544,
          44.76035445340051,
          44.78201931990333,
          44.80368863367778,
          44.82536240333144,
          44.8470406374791,
          44.86872334474327,
          44.890410533753936,
          44.912102213148785,
          44.93379839157291,
          44.95549907767929,
          44.97720428012826,
          44.99891400758804,
          45.02062826873447,
          45.042347072251005,
          45.06407042682906,
          45.08579834116745,
          45.10753082397315,
          45.12926788396055,
          45.151009529852104,
          45.1727557703781,
          45.19450661427652,
          45.21626207029334,
          45.23802214718239,
          45.259786853705464,
          45.28155619863213,
          45.30333019074021,
          45.325108838815254,
          45.34689215165099,
          45.368680138048944,
          45.390472806818934,
          45.41227016677868,
          45.43407222675404,
          45.4558789955791,
          45.47769048209591,
          45.49950669515471,
          45.521327643613915,
          45.5431533363402,
          45.564983782208515,
          45.58681899010179,
          45.60865896891153,
          45.6305037275373,
          45.65235327488705,
          45.67420761987711,
          45.69606677143207,
          45.71793073848494,
          45.73979952997718,
          45.761673154858556,
          45.78355162208737,
          45.80543494063022,
          45.827323119462505,
          45.849216167567704,
          45.871114093938274,
          45.89301690757486,
          45.91492461748692,
          45.93683723269231,
          45.95875476221772,
          45.98067721509824,
          46.00260460037788,
          46.024536927109125,
          46.04647420435339,
          46.06841644118043,
          46.09036364666929,
          46.112315829907345,
          46.13427299999091,
          46.15623516602528,
          46.17820233712439,
          46.20017452241109,
          46.22215173101728,
          46.2441339720836,
          46.26612125475958,
          46.288113588203885,
          46.310110981584046,
          46.332113444076754,
          46.35412098486751,
          46.37613361315107,
          46.39815133813107,
          46.42017416902053,
          46.442202115041255,
          46.46423518542446,
          46.48627338941043,
          46.50831673624862,
          46.53036523519779,
          46.552418895525875,
          46.57447772651011,
          46.59654173743701,
          46.61861093760234,
          46.64068533631138,
          46.66276494287854,
          46.68484976662785,
          46.7069398168926,
          46.72903510301552,
          46.75113563434883,
          46.773241420254294,
          46.79535247010301,
          46.81746879327585,
          46.839590399163114,
          46.861717297164546,
          46.883849496689834,
          46.905987007157876,
          46.92812983799763,
          46.95027799864744,
          46.972431498555466,
          46.99459034717961,
          47.01675455398748,
          47.03892412845647,
          47.061099080073916,
          47.0832794183367,
          47.10546515275183,
          47.12765629283598,
          47.14985284811593,
          47.172054828128125,
          47.1942622424192,
          47.21647510054572,
          47.238693412074156,
          47.26091718658108,
          47.28314643365309,
          47.30538116288693,
          47.32762138388932,
          47.349867106277145,
          47.372118339677684,
          47.394375093728,
          47.41663737807556,
          47.43890520237818,
          47.46117857630378,
          47.48345750953058,
          47.50574201174709,
          47.52803209265221,
          47.550327761955145,
          47.572629029375605,
          47.59493590464365,
          47.617248397499736,
          47.63956651769473,
          47.661890274990185,
          47.68421967915799,
          47.706554739980675,
          47.72889546725128,
          47.75124187077358,
          47.77359396036178,
          47.795951745840796,
          47.818315237046306,
          47.84068444382467,
          47.863059376032936,
          47.885440043538836,
          47.90782645622107,
          47.930218623968926,
          47.95261655668281,
          47.975020264273724,
          47.997429756663735,
          48.019845043785665,
          48.042266135583475,
          48.06469304201198,
          48.08712577303703,
          48.10956433863555,
          48.13200874879533,
          48.15445901351552,
          48.17691514280614,
          48.199377146688505,
          48.22184503519503,
          48.24431881836938,
          48.2667985062663,
          48.28928410895196,
          48.311775636503626,
          48.33427309901015,
          48.35677650657129,
          48.379285869298656,
          48.40180119731485,
          48.4243225007541,
          48.446849789761984,
          48.469383074495624,
          48.49192236512357,
          48.514467671826026,
          48.537019004794615,
          48.55957637423262,
          48.582139790354915,
          48.60470926338809,
          48.62728480357026,
          48.64986642115139,
          48.67245412639312,
          48.69504792956877,
          48.71764784096365,
          48.74025387087471,
          48.76286602961085,
          48.785484327492725,
          48.808108774853,
          48.8307393820362,
          48.85337615939903,
          48.87601911730985,
          48.89866826614923,
          48.92132361630985,
          48.943985178196385,
          48.96665296222562,
          48.989326978826455,
          49.012007238440106,
          49.03469375151985,
          49.0573865285312,
          49.08008557995197,
          49.10279091627234,
          49.12550254799464,
          49.14822048563383,
          49.17094473971679,
          49.19367532078326,
          49.21641223938536,
          49.23915550608734,
          49.26190513146639,
          49.284661126111985,
          49.307423500626214,
          49.33019226562374,
          49.35296743173194,
          49.375749009590834,
          49.39853700985299,
          49.421331443183874,
          49.44413232026159,
          49.46693965177707,
          49.4897534484341,
          49.512573720949206,
          49.53540048005186,
          49.55823373648445,
          49.58107350100232,
          49.603919784373716,
          49.626772597379954,
          49.64963195081532,
          49.672497855487165,
          49.695370322216036,
          49.71824936183555,
          49.7411349851925,
          49.76402720314684,
          49.78692602657179,
          49.809831466353785,
          49.8327435333926,
          49.85566223860127,
          49.87858759290634,
          49.90151960724751,
          49.924458292578095,
          49.94740365986485,
          49.97035572008781,
          49.993314484240784,
          50.0162799633311,
          50.03925216837945,
          50.0622311104205,
          50.085216800502224,
          50.10820924968641,
          50.131208469048715,
          50.15421446967838,
          50.1772272626784,
          50.20024685916576,
          50.22327327027108,
          50.24630650713914,
          50.26934658092841,
          50.292393502811365,
          50.31544728397455,
          50.33850793561851,
          50.36157546895777,
          50.384649895221,
          50.407731225650934,
          50.43081947150466,
          50.45391464405327,
          50.47701675458205,
          50.5001258143908,
          50.52324183479334,
          50.546364827118,
          50.56949480270737,
          50.59263177291848,
          50.61577574912292,
          50.63892674270653,
          50.66208476506989,
          50.68524982762784,
          50.70842194181017,
          50.73160111906094,
          50.75478737083898,
          50.777980708617974,
          50.80118114388608,
          50.824388688146314,
          50.84760335291651,
          50.87082514972923,
          50.894054090132045,
          50.917290185687364,
          50.9405334479726,
          50.96378388857994,
          50.98704151911676,
          51.01030635120543,
          51.03357839648339,
          51.056857666603264,
          51.08014417323278,
          51.1034379280548,
          51.12673894276753,
          51.15004722908441,
          51.17336279873416,
          51.19668566346087,
          51.220015835023844,
          51.2433533251982,
          51.266698145774114,
          51.29005030855734,
          51.31340982536938,
          51.33677670804701,
          51.36015096844284,
          51.383532618424965,
          51.40692166987725,
          51.43031813469929,
          51.45372202480627,
          51.47713335212944,
          51.50055212861571,
          51.52397836622782,
          51.547412076944624,
          51.57085327276076,
          51.59430196568678,
          51.61775816774957,
          51.64122189099169,
          51.66469314747212,
          51.68817194926595,
          51.71165830846422,
          51.73515223717442,
          51.75865374752021,
          51.782162851641544,
          51.80567956169489,
          51.82920388985275,
          51.85273584830446,
          51.87627544925539,
          51.89982270492783,
          51.92337762756034,
          51.94694022940803,
          51.97051052274293,
          51.99408851985339,
          52.01767423304466,
          52.04126767463873,
          52.06486885697427,
          52.088477792406934,
          52.11209449330903,
          52.135718972069924
         ],
         "yaxis": "y"
        }
       ],
       "layout": {
        "legend": {
         "tracegroupgap": 0
        },
        "template": {
         "data": {
          "bar": [
           {
            "error_x": {
             "color": "#2a3f5f"
            },
            "error_y": {
             "color": "#2a3f5f"
            },
            "marker": {
             "line": {
              "color": "#E5ECF6",
              "width": 0.5
             },
             "pattern": {
              "fillmode": "overlay",
              "size": 10,
              "solidity": 0.2
             }
            },
            "type": "bar"
           }
          ],
          "barpolar": [
           {
            "marker": {
             "line": {
              "color": "#E5ECF6",
              "width": 0.5
             },
             "pattern": {
              "fillmode": "overlay",
              "size": 10,
              "solidity": 0.2
             }
            },
            "type": "barpolar"
           }
          ],
          "carpet": [
           {
            "aaxis": {
             "endlinecolor": "#2a3f5f",
             "gridcolor": "white",
             "linecolor": "white",
             "minorgridcolor": "white",
             "startlinecolor": "#2a3f5f"
            },
            "baxis": {
             "endlinecolor": "#2a3f5f",
             "gridcolor": "white",
             "linecolor": "white",
             "minorgridcolor": "white",
             "startlinecolor": "#2a3f5f"
            },
            "type": "carpet"
           }
          ],
          "choropleth": [
           {
            "colorbar": {
             "outlinewidth": 0,
             "ticks": ""
            },
            "type": "choropleth"
           }
          ],
          "contour": [
           {
            "colorbar": {
             "outlinewidth": 0,
             "ticks": ""
            },
            "colorscale": [
             [
              0,
              "#0d0887"
             ],
             [
              0.1111111111111111,
              "#46039f"
             ],
             [
              0.2222222222222222,
              "#7201a8"
             ],
             [
              0.3333333333333333,
              "#9c179e"
             ],
             [
              0.4444444444444444,
              "#bd3786"
             ],
             [
              0.5555555555555556,
              "#d8576b"
             ],
             [
              0.6666666666666666,
              "#ed7953"
             ],
             [
              0.7777777777777778,
              "#fb9f3a"
             ],
             [
              0.8888888888888888,
              "#fdca26"
             ],
             [
              1,
              "#f0f921"
             ]
            ],
            "type": "contour"
           }
          ],
          "contourcarpet": [
           {
            "colorbar": {
             "outlinewidth": 0,
             "ticks": ""
            },
            "type": "contourcarpet"
           }
          ],
          "heatmap": [
           {
            "colorbar": {
             "outlinewidth": 0,
             "ticks": ""
            },
            "colorscale": [
             [
              0,
              "#0d0887"
             ],
             [
              0.1111111111111111,
              "#46039f"
             ],
             [
              0.2222222222222222,
              "#7201a8"
             ],
             [
              0.3333333333333333,
              "#9c179e"
             ],
             [
              0.4444444444444444,
              "#bd3786"
             ],
             [
              0.5555555555555556,
              "#d8576b"
             ],
             [
              0.6666666666666666,
              "#ed7953"
             ],
             [
              0.7777777777777778,
              "#fb9f3a"
             ],
             [
              0.8888888888888888,
              "#fdca26"
             ],
             [
              1,
              "#f0f921"
             ]
            ],
            "type": "heatmap"
           }
          ],
          "heatmapgl": [
           {
            "colorbar": {
             "outlinewidth": 0,
             "ticks": ""
            },
            "colorscale": [
             [
              0,
              "#0d0887"
             ],
             [
              0.1111111111111111,
              "#46039f"
             ],
             [
              0.2222222222222222,
              "#7201a8"
             ],
             [
              0.3333333333333333,
              "#9c179e"
             ],
             [
              0.4444444444444444,
              "#bd3786"
             ],
             [
              0.5555555555555556,
              "#d8576b"
             ],
             [
              0.6666666666666666,
              "#ed7953"
             ],
             [
              0.7777777777777778,
              "#fb9f3a"
             ],
             [
              0.8888888888888888,
              "#fdca26"
             ],
             [
              1,
              "#f0f921"
             ]
            ],
            "type": "heatmapgl"
           }
          ],
          "histogram": [
           {
            "marker": {
             "pattern": {
              "fillmode": "overlay",
              "size": 10,
              "solidity": 0.2
             }
            },
            "type": "histogram"
           }
          ],
          "histogram2d": [
           {
            "colorbar": {
             "outlinewidth": 0,
             "ticks": ""
            },
            "colorscale": [
             [
              0,
              "#0d0887"
             ],
             [
              0.1111111111111111,
              "#46039f"
             ],
             [
              0.2222222222222222,
              "#7201a8"
             ],
             [
              0.3333333333333333,
              "#9c179e"
             ],
             [
              0.4444444444444444,
              "#bd3786"
             ],
             [
              0.5555555555555556,
              "#d8576b"
             ],
             [
              0.6666666666666666,
              "#ed7953"
             ],
             [
              0.7777777777777778,
              "#fb9f3a"
             ],
             [
              0.8888888888888888,
              "#fdca26"
             ],
             [
              1,
              "#f0f921"
             ]
            ],
            "type": "histogram2d"
           }
          ],
          "histogram2dcontour": [
           {
            "colorbar": {
             "outlinewidth": 0,
             "ticks": ""
            },
            "colorscale": [
             [
              0,
              "#0d0887"
             ],
             [
              0.1111111111111111,
              "#46039f"
             ],
             [
              0.2222222222222222,
              "#7201a8"
             ],
             [
              0.3333333333333333,
              "#9c179e"
             ],
             [
              0.4444444444444444,
              "#bd3786"
             ],
             [
              0.5555555555555556,
              "#d8576b"
             ],
             [
              0.6666666666666666,
              "#ed7953"
             ],
             [
              0.7777777777777778,
              "#fb9f3a"
             ],
             [
              0.8888888888888888,
              "#fdca26"
             ],
             [
              1,
              "#f0f921"
             ]
            ],
            "type": "histogram2dcontour"
           }
          ],
          "mesh3d": [
           {
            "colorbar": {
             "outlinewidth": 0,
             "ticks": ""
            },
            "type": "mesh3d"
           }
          ],
          "parcoords": [
           {
            "line": {
             "colorbar": {
              "outlinewidth": 0,
              "ticks": ""
             }
            },
            "type": "parcoords"
           }
          ],
          "pie": [
           {
            "automargin": true,
            "type": "pie"
           }
          ],
          "scatter": [
           {
            "fillpattern": {
             "fillmode": "overlay",
             "size": 10,
             "solidity": 0.2
            },
            "type": "scatter"
           }
          ],
          "scatter3d": [
           {
            "line": {
             "colorbar": {
              "outlinewidth": 0,
              "ticks": ""
             }
            },
            "marker": {
             "colorbar": {
              "outlinewidth": 0,
              "ticks": ""
             }
            },
            "type": "scatter3d"
           }
          ],
          "scattercarpet": [
           {
            "marker": {
             "colorbar": {
              "outlinewidth": 0,
              "ticks": ""
             }
            },
            "type": "scattercarpet"
           }
          ],
          "scattergeo": [
           {
            "marker": {
             "colorbar": {
              "outlinewidth": 0,
              "ticks": ""
             }
            },
            "type": "scattergeo"
           }
          ],
          "scattergl": [
           {
            "marker": {
             "colorbar": {
              "outlinewidth": 0,
              "ticks": ""
             }
            },
            "type": "scattergl"
           }
          ],
          "scattermapbox": [
           {
            "marker": {
             "colorbar": {
              "outlinewidth": 0,
              "ticks": ""
             }
            },
            "type": "scattermapbox"
           }
          ],
          "scatterpolar": [
           {
            "marker": {
             "colorbar": {
              "outlinewidth": 0,
              "ticks": ""
             }
            },
            "type": "scatterpolar"
           }
          ],
          "scatterpolargl": [
           {
            "marker": {
             "colorbar": {
              "outlinewidth": 0,
              "ticks": ""
             }
            },
            "type": "scatterpolargl"
           }
          ],
          "scatterternary": [
           {
            "marker": {
             "colorbar": {
              "outlinewidth": 0,
              "ticks": ""
             }
            },
            "type": "scatterternary"
           }
          ],
          "surface": [
           {
            "colorbar": {
             "outlinewidth": 0,
             "ticks": ""
            },
            "colorscale": [
             [
              0,
              "#0d0887"
             ],
             [
              0.1111111111111111,
              "#46039f"
             ],
             [
              0.2222222222222222,
              "#7201a8"
             ],
             [
              0.3333333333333333,
              "#9c179e"
             ],
             [
              0.4444444444444444,
              "#bd3786"
             ],
             [
              0.5555555555555556,
              "#d8576b"
             ],
             [
              0.6666666666666666,
              "#ed7953"
             ],
             [
              0.7777777777777778,
              "#fb9f3a"
             ],
             [
              0.8888888888888888,
              "#fdca26"
             ],
             [
              1,
              "#f0f921"
             ]
            ],
            "type": "surface"
           }
          ],
          "table": [
           {
            "cells": {
             "fill": {
              "color": "#EBF0F8"
             },
             "line": {
              "color": "white"
             }
            },
            "header": {
             "fill": {
              "color": "#C8D4E3"
             },
             "line": {
              "color": "white"
             }
            },
            "type": "table"
           }
          ]
         },
         "layout": {
          "annotationdefaults": {
           "arrowcolor": "#2a3f5f",
           "arrowhead": 0,
           "arrowwidth": 1
          },
          "autotypenumbers": "strict",
          "coloraxis": {
           "colorbar": {
            "outlinewidth": 0,
            "ticks": ""
           }
          },
          "colorscale": {
           "diverging": [
            [
             0,
             "#8e0152"
            ],
            [
             0.1,
             "#c51b7d"
            ],
            [
             0.2,
             "#de77ae"
            ],
            [
             0.3,
             "#f1b6da"
            ],
            [
             0.4,
             "#fde0ef"
            ],
            [
             0.5,
             "#f7f7f7"
            ],
            [
             0.6,
             "#e6f5d0"
            ],
            [
             0.7,
             "#b8e186"
            ],
            [
             0.8,
             "#7fbc41"
            ],
            [
             0.9,
             "#4d9221"
            ],
            [
             1,
             "#276419"
            ]
           ],
           "sequential": [
            [
             0,
             "#0d0887"
            ],
            [
             0.1111111111111111,
             "#46039f"
            ],
            [
             0.2222222222222222,
             "#7201a8"
            ],
            [
             0.3333333333333333,
             "#9c179e"
            ],
            [
             0.4444444444444444,
             "#bd3786"
            ],
            [
             0.5555555555555556,
             "#d8576b"
            ],
            [
             0.6666666666666666,
             "#ed7953"
            ],
            [
             0.7777777777777778,
             "#fb9f3a"
            ],
            [
             0.8888888888888888,
             "#fdca26"
            ],
            [
             1,
             "#f0f921"
            ]
           ],
           "sequentialminus": [
            [
             0,
             "#0d0887"
            ],
            [
             0.1111111111111111,
             "#46039f"
            ],
            [
             0.2222222222222222,
             "#7201a8"
            ],
            [
             0.3333333333333333,
             "#9c179e"
            ],
            [
             0.4444444444444444,
             "#bd3786"
            ],
            [
             0.5555555555555556,
             "#d8576b"
            ],
            [
             0.6666666666666666,
             "#ed7953"
            ],
            [
             0.7777777777777778,
             "#fb9f3a"
            ],
            [
             0.8888888888888888,
             "#fdca26"
            ],
            [
             1,
             "#f0f921"
            ]
           ]
          },
          "colorway": [
           "#636efa",
           "#EF553B",
           "#00cc96",
           "#ab63fa",
           "#FFA15A",
           "#19d3f3",
           "#FF6692",
           "#B6E880",
           "#FF97FF",
           "#FECB52"
          ],
          "font": {
           "color": "#2a3f5f"
          },
          "geo": {
           "bgcolor": "white",
           "lakecolor": "white",
           "landcolor": "#E5ECF6",
           "showlakes": true,
           "showland": true,
           "subunitcolor": "white"
          },
          "hoverlabel": {
           "align": "left"
          },
          "hovermode": "closest",
          "mapbox": {
           "style": "light"
          },
          "paper_bgcolor": "white",
          "plot_bgcolor": "#E5ECF6",
          "polar": {
           "angularaxis": {
            "gridcolor": "white",
            "linecolor": "white",
            "ticks": ""
           },
           "bgcolor": "#E5ECF6",
           "radialaxis": {
            "gridcolor": "white",
            "linecolor": "white",
            "ticks": ""
           }
          },
          "scene": {
           "xaxis": {
            "backgroundcolor": "#E5ECF6",
            "gridcolor": "white",
            "gridwidth": 2,
            "linecolor": "white",
            "showbackground": true,
            "ticks": "",
            "zerolinecolor": "white"
           },
           "yaxis": {
            "backgroundcolor": "#E5ECF6",
            "gridcolor": "white",
            "gridwidth": 2,
            "linecolor": "white",
            "showbackground": true,
            "ticks": "",
            "zerolinecolor": "white"
           },
           "zaxis": {
            "backgroundcolor": "#E5ECF6",
            "gridcolor": "white",
            "gridwidth": 2,
            "linecolor": "white",
            "showbackground": true,
            "ticks": "",
            "zerolinecolor": "white"
           }
          },
          "shapedefaults": {
           "line": {
            "color": "#2a3f5f"
           }
          },
          "ternary": {
           "aaxis": {
            "gridcolor": "white",
            "linecolor": "white",
            "ticks": ""
           },
           "baxis": {
            "gridcolor": "white",
            "linecolor": "white",
            "ticks": ""
           },
           "bgcolor": "#E5ECF6",
           "caxis": {
            "gridcolor": "white",
            "linecolor": "white",
            "ticks": ""
           }
          },
          "title": {
           "x": 0.05
          },
          "xaxis": {
           "automargin": true,
           "gridcolor": "white",
           "linecolor": "white",
           "ticks": "",
           "title": {
            "standoff": 15
           },
           "zerolinecolor": "white",
           "zerolinewidth": 2
          },
          "yaxis": {
           "automargin": true,
           "gridcolor": "white",
           "linecolor": "white",
           "ticks": "",
           "title": {
            "standoff": 15
           },
           "zerolinecolor": "white",
           "zerolinewidth": 2
          }
         }
        },
        "title": {
         "text": "Resistance to Temperature"
        },
        "xaxis": {
         "anchor": "y",
         "domain": [
          0,
          1
         ],
         "title": {
          "text": "Resistance (Ohms)"
         }
        },
        "yaxis": {
         "anchor": "x",
         "domain": [
          0,
          1
         ],
         "title": {
          "text": "Temperature (Celsius)"
         }
        }
       }
      }
     },
     "metadata": {},
     "output_type": "display_data"
    }
   ],
   "source": [
    "import plotly.express as px\n",
    "import matplotlib.pyplot as plt\n",
    "\n",
    "# df['Distance (millimeters)'] = -df['Distance (millimeters)']\n",
    "# df['Force (newtons))'] = -df['Force (newtons)']\n",
    "fig = px.line(\n",
    "    df,\n",
    "    x=\"Resistance (Ohms)\",\n",
    "    y=\"Temperature (Celsius)\",\n",
    "    title=f\"Resistance to Temperature\",\n",
    ")\n",
    "\n",
    "# experiments_df = pd.DataFrame({\n",
    "#     \"Resistance (Ohms)\": [169553.91515003215, 165522.71503887142],\n",
    "#     \"Temperature (Celsius)\": [25.080002, 26.065116999999997],\n",
    "#     \"color\": ['Red', 'Red']\n",
    "# })\n",
    "\n",
    "# scatter_trace = px.scatter(\n",
    "#     experiments_df,\n",
    "#     x=\"Resistance (Ohms)\",\n",
    "#     y=\"Temperature (Celsius)\",\n",
    "#     color='color',\n",
    "# )\n",
    "\n",
    "# Add the scatter trace to the existing figure\n",
    "# fig.add_trace(scatter_trace)\n",
    "fig.show()\n",
    "\n"
   ]
  }
 ],
 "metadata": {
  "kernelspec": {
   "display_name": "Python 3 (ipykernel)",
   "language": "python",
   "name": "python3"
  },
  "language_info": {
   "codemirror_mode": {
    "name": "ipython",
    "version": 3
   },
   "file_extension": ".py",
   "mimetype": "text/x-python",
   "name": "python",
   "nbconvert_exporter": "python",
   "pygments_lexer": "ipython3",
   "version": "3.8.8"
  }
 },
 "nbformat": 4,
 "nbformat_minor": 5
}
