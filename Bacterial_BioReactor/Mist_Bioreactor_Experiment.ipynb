{
 "cells": [
  {
   "cell_type": "markdown",
   "id": "37fc5509",
   "metadata": {},
   "source": [
    "### OD = log_10(I_0 / I) where I_0 is the intensity of the light through the blank and I is the intensity through the sample. \n",
    "OD600 for general bacterial cultures, \n",
    "OD750 for cyanobacteria\n",
    "\n",
    "The green LED/photo diode is the closest to 600 nm. Green LEDs typically peak around 520-570 nm, which is the closest to 600 nm among the available options.\n",
    "OD750 Measurement:\n",
    "The red LED/photo diode is the closest to 750 nm. Red LEDs typically peak around 620-750 nm. While not perfect, the red LED is the best available option for approximating measurements near 750 nm.\n"
   ]
  },
  {
   "cell_type": "code",
   "execution_count": 44,
   "id": "93fcbf8b",
   "metadata": {},
   "outputs": [],
   "source": [
    "from IPython.display import clear_output\n",
    "# import plotly.graph_objects as go\n",
    "\n",
    "# def live_plot_with_plotly(df, cols=['RED OD (550-650nm)', 'BLUE OD (400-500nm)', 'GREEN OD (475-600nm)', 'CLEAR OD (400-650nm)'], y_label='Optical Density', figsize=(10, 6), title=''):\n",
    "#     clear_output(wait=True)\n",
    "    \n",
    "#     fig = go.Figure()\n",
    "    \n",
    "#     fig.add_trace(go.Scatter(x=df['time'], y=df[cols[0]], mode='lines', name=cols[0], line=dict(color='red')))\n",
    "#     fig.add_trace(go.Scatter(x=df['time'], y=df[cols[1]], mode='lines', name=cols[1], line=dict(color='blue')))\n",
    "#     fig.add_trace(go.Scatter(x=df['time'], y=df[cols[2]], mode='lines', name=cols[2], line=dict(color='green')))\n",
    "#     fig.add_trace(go.Scatter(x=df['time'], y=df[cols[3]], mode='lines', name=cols[3], line=dict(color='black', dash='dash')))\n",
    "    \n",
    "#     fig.update_layout(\n",
    "#         title=title,\n",
    "#         xaxis_title='Time (s)',\n",
    "#         yaxis_title=y_label,\n",
    "#         legend_title='Colors',\n",
    "#         template='plotly_white',\n",
    "#         autosize=False,\n",
    "#         width=figsize[0] * 100,  # Convert inches to pixels for width\n",
    "#         height=figsize[1] * 100,  # Convert inches to pixels for height\n",
    "#     )\n",
    "    \n",
    "#     fig.show()\n",
    "from matplotlib import pyplot as plt\n",
    "import seaborn as sns\n",
    "\n",
    "def live_plot(df, cols=['RED OD (550-650nm)', 'BLUE OD (400-500nm)', 'GREEN OD (475-600nm)', 'CLEAR OD (400-650nm)'], y_label='Intensity', figsize=(10, 6), title=''):\n",
    "    clear_output(wait=True)\n",
    "    plt.figure(figsize=figsize)\n",
    "    sns.lineplot(x='time', y=cols[0], data=df, label=cols[0], color='red')\n",
    "    sns.lineplot(x='time', y=cols[1], data=df, label=cols[1], color='blue')\n",
    "    sns.lineplot(x='time', y=cols[2], data=df, label=cols[2], color='green')\n",
    "    sns.lineplot(x='time', y=cols[3], data=df, label=cols[3], color='black', linestyle='--')\n",
    "    plt.title(title)\n",
    "    plt.grid(True)\n",
    "    plt.xlabel('Time (s)')\n",
    "    plt.ylabel(y_label)\n",
    "    plt.legend(loc='upper left')\n",
    "    plt.show()"
   ]
  },
  {
   "cell_type": "code",
   "execution_count": 45,
   "id": "7fcd8e94",
   "metadata": {},
   "outputs": [
    {
     "name": "stdout",
     "output_type": "stream",
     "text": [
      "Connected to brickd\n"
     ]
    }
   ],
   "source": [
    "from IPython.display import clear_output\n",
    "import numpy as np\n",
    "import pandas as pd\n",
    "import time\n",
    "from tinkerforge.ip_connection import IPConnection, Error\n",
    "from tinkerforge.bricklet_color_v2 import BrickletColorV2\n",
    "from tinkerforge.bricklet_silent_stepper_v2 import BrickletSilentStepperV2\n",
    "\n",
    "%matplotlib inline\n",
    "\n",
    "HOST = \"localhost\"\n",
    "PORT = 4223\n",
    "CB1_UID = \"2733\"  \n",
    "CB2_UID = \"2736\" \n",
    "SS1_UID = \"26Mt\"\n",
    "SS2_UID = \"26Mo\"\n",
    "\n",
    "# Create IP connection\n",
    "ipcon = IPConnection()\n",
    "\n",
    "# Create device objects\n",
    "cb1 = BrickletColorV2(CB1_UID, ipcon)\n",
    "cb2 = BrickletColorV2(CB2_UID, ipcon)\n",
    "ss1 = BrickletSilentStepperV2(SS1_UID, ipcon)\n",
    "ss2 = BrickletSilentStepperV2(SS2_UID, ipcon)\n",
    "\n",
    "SS_SPEED = 150\n",
    "\n",
    "try:\n",
    "    ipcon.connect(HOST, PORT)\n",
    "    print(\"Connected to brickd\")\n",
    "except Error as e:\n",
    "    print(f\"Error connecting to brickd: {e}\")\n"
   ]
  },
  {
   "cell_type": "code",
   "execution_count": 46,
   "id": "b58b841b",
   "metadata": {},
   "outputs": [],
   "source": [
    "# Setting gain to 16x rather than 60x\n",
    "cb1.set_configuration(1, 3)\n",
    "cb2.set_configuration(1, 3)\n",
    "\n",
    "def initialize_motor(ss):\n",
    "    # 416 mA, for 10W 24V system\n",
    "    ss.set_motor_current(416) \n",
    "    # 1/8 steps (interpolated)\n",
    "    ss.set_step_configuration(ss1.STEP_RESOLUTION_8, True) \n",
    "    ss.set_max_velocity(SS_SPEED) \n",
    "    ss.set_speed_ramping(SS_SPEED, SS_SPEED)\n",
    "    ss.set_enabled(True) \n",
    "\n",
    "def set_light(bricklet, enable):\n",
    "    bricklet.set_light(enable)"
   ]
  },
  {
   "cell_type": "code",
   "execution_count": 47,
   "id": "22077047",
   "metadata": {},
   "outputs": [],
   "source": [
    "# These baselines were calculated separately\n",
    "RED_INTENSITY_0 = 12892.648557\n",
    "BLUE_INTENSITY_0 = 10718.940577\n",
    "GREEN_INTENSITY_0 = 6866.996604\n",
    "CLEAR_INTENSITY_0 = 26856.404075\n",
    "\n",
    "def retrieve_OD(df, start_time):\n",
    "    set_light(cb1, True)\n",
    "    set_light(cb2, False)\n",
    "    red, blue, green, clear = cb2.get_color()\n",
    "    red_od, blue_od, green_od, clear_od = np.log10(RED_INTENSITY_0 / red), np.log10(BLUE_INTENSITY_0 / blue), np.log10(GREEN_INTENSITY_0 / green), np.log10(CLEAR_INTENSITY_0 / clear)\n",
    "    current_time = time.time() - start_time\n",
    "    df.loc[len(df)] = [current_time, red, blue, green, clear, red_od, blue_od, green_od, clear_od]\n",
    "    # preserve the light by turning it off again\n",
    "    set_light(cb1, False) \n",
    "    set_light(cb2, False)\n",
    "    return df"
   ]
  },
  {
   "cell_type": "code",
   "execution_count": 48,
   "id": "00594b78",
   "metadata": {},
   "outputs": [],
   "source": [
    "def start_experiment(output_name, duration=14 * 24 * 60 * 60, interval=60):\n",
    "    df = pd.DataFrame(columns=['time', 'red', 'blue', 'green', 'clear',  'RED OD (550-650nm)', 'BLUE OD (400-500nm)', 'GREEN OD (475-600nm)', 'CLEAR OD (400-650nm)'])\n",
    "    start_time = time.time()\n",
    "\n",
    "    initialize_motor(ss1)\n",
    "    initialize_motor(ss2)\n",
    "    ss1.drive_backward()\n",
    "    ss2.drive_forward()\n",
    "\n",
    "    while time.time() - start_time < duration:\n",
    "        df = retrieve_OD(df, start_time)\n",
    "        df.to_csv(output_name)\n",
    "        live_plot(df)\n",
    "        time.sleep(interval)\n",
    "    return df"
   ]
  },
  {
   "cell_type": "code",
   "execution_count": 49,
   "id": "3a2d5720",
   "metadata": {},
   "outputs": [
    {
     "data": {
      "image/png": "[encoded data removed]",
      "text/plain": [
       "<Figure size 1000x600 with 1 Axes>"
      ]
     },
     "metadata": {},
     "output_type": "display_data"
    }
   ],
   "source": [
    "intensities_df = start_experiment('07.29.24_v2_misting_experiment.csv')"
   ]
  },
  {
   "cell_type": "code",
   "execution_count": null,
   "id": "33a9ad2d",
   "metadata": {},
   "outputs": [],
   "source": [
    "# Disconnect from brickd\n",
    "ipcon.disconnect()\n"
   ]
  }
 ],
 "metadata": {
  "kernelspec": {
   "display_name": "ethical_necromancy",
   "language": "python",
   "name": "python3"
  },
  "language_info": {
   "codemirror_mode": {
    "name": "ipython",
    "version": 3
   },
   "file_extension": ".py",
   "mimetype": "text/x-python",
   "name": "python",
   "nbconvert_exporter": "python",
   "pygments_lexer": "ipython3",
   "version": "3.12.0"
  }
 },
 "nbformat": 4,
 "nbformat_minor": 5
}
