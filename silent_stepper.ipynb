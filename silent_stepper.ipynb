{
 "cells": [
  {
   "cell_type": "code",
   "execution_count": 8,
   "metadata": {},
   "outputs": [],
   "source": [
    "# Code for motor to move\n",
    "# #!/usr/bin/env python\n",
    "# -*- coding: utf-8 -*-\n",
    "\n",
    "HOST = \"localhost\"\n",
    "PORT = 4223 #4223\n",
    "UID1 = \"21aR\" # Change XYZ to the UID of your Silent Stepper Bricklet 2.0\n",
    "UID2 = \"26Mn\" # Change XYZ to the UID of your Silent Stepper Bricklet 2.0\n",
    "\n",
    "import time\n",
    "\n",
    "from tinkerforge.ip_connection import IPConnection\n",
    "from tinkerforge.bricklet_silent_stepper_v2 import BrickletSilentStepperV2\n",
    "\n",
    "MOTOR_1 = None\n",
    "MOTOR_2 = None"
   ]
  },
  {
   "cell_type": "code",
   "execution_count": 5,
   "metadata": {},
   "outputs": [],
   "source": [
    "def initialize_motor(motor, motor_current=800):\n",
    "    motor.set_motor_current(motor_current) # 800 mA\n",
    "    # TODO: check motor specs for the 1/8 interpolation\n",
    "    motor.set_step_configuration(motor.STEP_RESOLUTION_8, True) # 1/8 steps (interpolated)\n",
    "    motor.set_max_velocity(2000) # Velocity 2000 steps/s\n",
    "\n",
    "    # Slow acceleration (500 steps/s^2),\n",
    "    # Fast deacceleration (5000 steps/s^2)\n",
    "    motor.set_speed_ramping(500, 5000)\n",
    "    motor.set_enabled(True) # Enable motor power\n",
    "    return motor\n",
    "\n",
    "def smooth_forward(num_steps):\n",
    "    global MOTOR_1\n",
    "    global MOTOR_2\n",
    "    # MOves both rollers smoothly this number of steps and a certain speed\n",
    "    if MOTOR_1 is not None:\n",
    "        MOTOR_1.set_steps(num_steps) # Drive 60000 steps forward\n",
    "    if MOTOR_2 is not None:\n",
    "        MOTOR_2.set_steps(num_steps)\n",
    "\n",
    "def lower_rollers():\n",
    "    pass\n",
    "\n",
    "def raise_rollers():\n",
    "    pass"
   ]
  },
  {
   "cell_type": "code",
   "execution_count": 7,
   "metadata": {},
   "outputs": [
    {
     "ename": "ConnectionRefusedError",
     "evalue": "[Errno 61] Connection refused",
     "output_type": "error",
     "traceback": [
      "\u001b[0;31m---------------------------------------------------------------------------\u001b[0m",
      "\u001b[0;31mConnectionRefusedError\u001b[0m                    Traceback (most recent call last)",
      "Cell \u001b[0;32mIn[7], line 5\u001b[0m\n\u001b[1;32m      3\u001b[0m \u001b[38;5;66;03m# MOTOR_1 = BrickletSilentStepperV2(UID1, ipcon) # Create device object\u001b[39;00m\n\u001b[1;32m      4\u001b[0m MOTOR_2 \u001b[38;5;241m=\u001b[39m BrickletSilentStepperV2(UID2, ipcon) \u001b[38;5;66;03m# Create device object\u001b[39;00m\n\u001b[0;32m----> 5\u001b[0m \u001b[43mipcon\u001b[49m\u001b[38;5;241;43m.\u001b[39;49m\u001b[43mconnect\u001b[49m\u001b[43m(\u001b[49m\u001b[43mHOST\u001b[49m\u001b[43m,\u001b[49m\u001b[43m \u001b[49m\u001b[43mPORT\u001b[49m\u001b[43m)\u001b[49m \u001b[38;5;66;03m# Connect to brickd\u001b[39;00m\n\u001b[1;32m      7\u001b[0m \u001b[38;5;66;03m# MOTOR_2 = initialize_motor(MOTOR_2)\u001b[39;00m\n",
      "File \u001b[0;32m/opt/anaconda3/envs/ethical_necromancy/lib/python3.12/site-packages/tinkerforge/ip_connection.py:640\u001b[0m, in \u001b[0;36mIPConnection.connect\u001b[0;34m(self, host, port)\u001b[0m\n\u001b[1;32m    637\u001b[0m \u001b[38;5;28mself\u001b[39m\u001b[38;5;241m.\u001b[39mhost \u001b[38;5;241m=\u001b[39m host\n\u001b[1;32m    638\u001b[0m \u001b[38;5;28mself\u001b[39m\u001b[38;5;241m.\u001b[39mport \u001b[38;5;241m=\u001b[39m port\n\u001b[0;32m--> 640\u001b[0m \u001b[38;5;28;43mself\u001b[39;49m\u001b[38;5;241;43m.\u001b[39;49m\u001b[43mconnect_unlocked\u001b[49m\u001b[43m(\u001b[49m\u001b[38;5;28;43;01mFalse\u001b[39;49;00m\u001b[43m)\u001b[49m\n",
      "File \u001b[0;32m/opt/anaconda3/envs/ethical_necromancy/lib/python3.12/site-packages/tinkerforge/ip_connection.py:843\u001b[0m, in \u001b[0;36mIPConnection.connect_unlocked\u001b[0;34m(self, is_auto_reconnect)\u001b[0m\n\u001b[1;32m    840\u001b[0m tmp \u001b[38;5;241m=\u001b[39m \u001b[38;5;28;01mNone\u001b[39;00m\n\u001b[1;32m    842\u001b[0m \u001b[38;5;28;01mtry\u001b[39;00m:\n\u001b[0;32m--> 843\u001b[0m     tmp \u001b[38;5;241m=\u001b[39m \u001b[43msocket\u001b[49m\u001b[38;5;241;43m.\u001b[39;49m\u001b[43mcreate_connection\u001b[49m\u001b[43m(\u001b[49m\u001b[43m(\u001b[49m\u001b[38;5;28;43mself\u001b[39;49m\u001b[38;5;241;43m.\u001b[39;49m\u001b[43mhost\u001b[49m\u001b[43m,\u001b[49m\u001b[43m \u001b[49m\u001b[38;5;28;43mself\u001b[39;49m\u001b[38;5;241;43m.\u001b[39;49m\u001b[43mport\u001b[49m\u001b[43m)\u001b[49m\u001b[43m,\u001b[49m\u001b[43m \u001b[49m\u001b[43mtimeout\u001b[49m\u001b[38;5;241;43m=\u001b[39;49m\u001b[38;5;241;43m5\u001b[39;49m\u001b[43m)\u001b[49m\n\u001b[1;32m    844\u001b[0m     tmp\u001b[38;5;241m.\u001b[39msetsockopt(socket\u001b[38;5;241m.\u001b[39mIPPROTO_TCP, socket\u001b[38;5;241m.\u001b[39mTCP_NODELAY, \u001b[38;5;241m1\u001b[39m)\n\u001b[1;32m    846\u001b[0m     \u001b[38;5;28;01mif\u001b[39;00m sys\u001b[38;5;241m.\u001b[39mplatform \u001b[38;5;241m==\u001b[39m \u001b[38;5;124m'\u001b[39m\u001b[38;5;124mwin32\u001b[39m\u001b[38;5;124m'\u001b[39m:\n\u001b[1;32m    847\u001b[0m         \u001b[38;5;66;03m# for some unknown reason the socket recv() call does not\u001b[39;00m\n\u001b[1;32m    848\u001b[0m         \u001b[38;5;66;03m# immediate return on Windows if the socket gets shut down on\u001b[39;00m\n\u001b[0;32m   (...)\u001b[0m\n\u001b[1;32m    851\u001b[0m         \u001b[38;5;66;03m# disconnect. to workaround this use a 100ms timeout for\u001b[39;00m\n\u001b[1;32m    852\u001b[0m         \u001b[38;5;66;03m# blocking socket operations.\u001b[39;00m\n",
      "File \u001b[0;32m/opt/anaconda3/envs/ethical_necromancy/lib/python3.12/socket.py:852\u001b[0m, in \u001b[0;36mcreate_connection\u001b[0;34m(address, timeout, source_address, all_errors)\u001b[0m\n\u001b[1;32m    850\u001b[0m \u001b[38;5;28;01mtry\u001b[39;00m:\n\u001b[1;32m    851\u001b[0m     \u001b[38;5;28;01mif\u001b[39;00m \u001b[38;5;129;01mnot\u001b[39;00m all_errors:\n\u001b[0;32m--> 852\u001b[0m         \u001b[38;5;28;01mraise\u001b[39;00m exceptions[\u001b[38;5;241m0\u001b[39m]\n\u001b[1;32m    853\u001b[0m     \u001b[38;5;28;01mraise\u001b[39;00m ExceptionGroup(\u001b[38;5;124m\"\u001b[39m\u001b[38;5;124mcreate_connection failed\u001b[39m\u001b[38;5;124m\"\u001b[39m, exceptions)\n\u001b[1;32m    854\u001b[0m \u001b[38;5;28;01mfinally\u001b[39;00m:\n\u001b[1;32m    855\u001b[0m     \u001b[38;5;66;03m# Break explicitly a reference cycle\u001b[39;00m\n",
      "File \u001b[0;32m/opt/anaconda3/envs/ethical_necromancy/lib/python3.12/socket.py:837\u001b[0m, in \u001b[0;36mcreate_connection\u001b[0;34m(address, timeout, source_address, all_errors)\u001b[0m\n\u001b[1;32m    835\u001b[0m \u001b[38;5;28;01mif\u001b[39;00m source_address:\n\u001b[1;32m    836\u001b[0m     sock\u001b[38;5;241m.\u001b[39mbind(source_address)\n\u001b[0;32m--> 837\u001b[0m \u001b[43msock\u001b[49m\u001b[38;5;241;43m.\u001b[39;49m\u001b[43mconnect\u001b[49m\u001b[43m(\u001b[49m\u001b[43msa\u001b[49m\u001b[43m)\u001b[49m\n\u001b[1;32m    838\u001b[0m \u001b[38;5;66;03m# Break explicitly a reference cycle\u001b[39;00m\n\u001b[1;32m    839\u001b[0m exceptions\u001b[38;5;241m.\u001b[39mclear()\n",
      "\u001b[0;31mConnectionRefusedError\u001b[0m: [Errno 61] Connection refused"
     ]
    }
   ],
   "source": [
    "ipcon = IPConnection() # Create IP connection\n",
    "\n",
    "# MOTOR_1 = BrickletSilentStepperV2(UID1, ipcon) # Create device object\n",
    "MOTOR_2 = BrickletSilentStepperV2(UID2, ipcon) # Create device object\n",
    "ipcon.connect(HOST, PORT) # Connect to brickd\n",
    "\n",
    "# MOTOR_2 = initialize_motor(MOTOR_2)\n"
   ]
  },
  {
   "cell_type": "code",
   "execution_count": 45,
   "metadata": {},
   "outputs": [
    {
     "ename": "Error",
     "evalue": "Did not receive response for function 255 in time (-1)",
     "output_type": "error",
     "traceback": [
      "\u001b[1;31m---------------------------------------------------------------------------\u001b[0m",
      "\u001b[1;31mError\u001b[0m                                     Traceback (most recent call last)",
      "Cell \u001b[1;32mIn[45], line 1\u001b[0m\n\u001b[1;32m----> 1\u001b[0m \u001b[43mMOTOR_2\u001b[49m\u001b[38;5;241;43m.\u001b[39;49m\u001b[43mget_enabled\u001b[49m\u001b[43m(\u001b[49m\u001b[43m)\u001b[49m\n",
      "File \u001b[1;32m~\\AppData\\Local\\Packages\\PythonSoftwareFoundation.Python.3.11_qbz5n2kfra8p0\\LocalCache\\local-packages\\Python311\\site-packages\\tinkerforge\\bricklet_silent_stepper_v2.py:539\u001b[0m, in \u001b[0;36mBrickletSilentStepperV2.get_enabled\u001b[1;34m(self)\u001b[0m\n\u001b[0;32m    535\u001b[0m \u001b[38;5;28;01mdef\u001b[39;00m \u001b[38;5;21mget_enabled\u001b[39m(\u001b[38;5;28mself\u001b[39m):\n\u001b[0;32m    536\u001b[0m \u001b[38;5;250m    \u001b[39m\u001b[38;5;124mr\u001b[39m\u001b[38;5;124;03m\"\"\"\u001b[39;00m\n\u001b[0;32m    537\u001b[0m \u001b[38;5;124;03m    Returns *true* if the stepper driver is enabled, *false* otherwise.\u001b[39;00m\n\u001b[0;32m    538\u001b[0m \u001b[38;5;124;03m    \"\"\"\u001b[39;00m\n\u001b[1;32m--> 539\u001b[0m     \u001b[38;5;28;43mself\u001b[39;49m\u001b[38;5;241;43m.\u001b[39;49m\u001b[43mcheck_validity\u001b[49m\u001b[43m(\u001b[49m\u001b[43m)\u001b[49m\n\u001b[0;32m    541\u001b[0m     \u001b[38;5;28;01mreturn\u001b[39;00m \u001b[38;5;28mself\u001b[39m\u001b[38;5;241m.\u001b[39mipcon\u001b[38;5;241m.\u001b[39msend_request(\u001b[38;5;28mself\u001b[39m, BrickletSilentStepperV2\u001b[38;5;241m.\u001b[39mFUNCTION_GET_ENABLED, (), \u001b[38;5;124m'\u001b[39m\u001b[38;5;124m'\u001b[39m, \u001b[38;5;241m9\u001b[39m, \u001b[38;5;124m'\u001b[39m\u001b[38;5;124m!\u001b[39m\u001b[38;5;124m'\u001b[39m)\n",
      "File \u001b[1;32m~\\AppData\\Local\\Packages\\PythonSoftwareFoundation.Python.3.11_qbz5n2kfra8p0\\LocalCache\\local-packages\\Python311\\site-packages\\tinkerforge\\ip_connection.py:506\u001b[0m, in \u001b[0;36mDevice.check_validity\u001b[1;34m(self)\u001b[0m\n\u001b[0;32m    504\u001b[0m \u001b[38;5;28;01mwith\u001b[39;00m \u001b[38;5;28mself\u001b[39m\u001b[38;5;241m.\u001b[39mdevice_identifier_lock:\n\u001b[0;32m    505\u001b[0m     \u001b[38;5;28;01mif\u001b[39;00m \u001b[38;5;28mself\u001b[39m\u001b[38;5;241m.\u001b[39mdevice_identifier_check \u001b[38;5;241m==\u001b[39m Device\u001b[38;5;241m.\u001b[39mDEVICE_IDENTIFIER_CHECK_PENDING:\n\u001b[1;32m--> 506\u001b[0m         device_identifier \u001b[38;5;241m=\u001b[39m \u001b[38;5;28;43mself\u001b[39;49m\u001b[38;5;241;43m.\u001b[39;49m\u001b[43mipcon\u001b[49m\u001b[38;5;241;43m.\u001b[39;49m\u001b[43msend_request\u001b[49m\u001b[43m(\u001b[49m\u001b[38;5;28;43mself\u001b[39;49m\u001b[43m,\u001b[49m\u001b[43m \u001b[49m\u001b[38;5;241;43m255\u001b[39;49m\u001b[43m,\u001b[49m\u001b[43m \u001b[49m\u001b[43m(\u001b[49m\u001b[43m)\u001b[49m\u001b[43m,\u001b[49m\u001b[43m \u001b[49m\u001b[38;5;124;43m'\u001b[39;49m\u001b[38;5;124;43m'\u001b[39;49m\u001b[43m,\u001b[49m\u001b[43m \u001b[49m\u001b[38;5;241;43m33\u001b[39;49m\u001b[43m,\u001b[49m\u001b[43m \u001b[49m\u001b[38;5;124;43m'\u001b[39;49m\u001b[38;5;124;43m8s 8s c 3B 3B H\u001b[39;49m\u001b[38;5;124;43m'\u001b[39;49m\u001b[43m)\u001b[49m[\u001b[38;5;241m5\u001b[39m] \u001b[38;5;66;03m# <device>.get_identity\u001b[39;00m\n\u001b[0;32m    508\u001b[0m         \u001b[38;5;28;01mif\u001b[39;00m device_identifier \u001b[38;5;241m==\u001b[39m \u001b[38;5;28mself\u001b[39m\u001b[38;5;241m.\u001b[39mdevice_identifier:\n\u001b[0;32m    509\u001b[0m             \u001b[38;5;28mself\u001b[39m\u001b[38;5;241m.\u001b[39mdevice_identifier_check \u001b[38;5;241m=\u001b[39m Device\u001b[38;5;241m.\u001b[39mDEVICE_IDENTIFIER_CHECK_MATCH\n",
      "File \u001b[1;32m~\\AppData\\Local\\Packages\\PythonSoftwareFoundation.Python.3.11_qbz5n2kfra8p0\\LocalCache\\local-packages\\Python311\\site-packages\\tinkerforge\\ip_connection.py:1320\u001b[0m, in \u001b[0;36mIPConnection.send_request\u001b[1;34m(self, device, function_id, data, form, length_ret, form_ret)\u001b[0m\n\u001b[0;32m   1318\u001b[0m \u001b[38;5;28;01mexcept\u001b[39;00m queue\u001b[38;5;241m.\u001b[39mEmpty:\n\u001b[0;32m   1319\u001b[0m     msg \u001b[38;5;241m=\u001b[39m \u001b[38;5;124m'\u001b[39m\u001b[38;5;124mDid not receive response for function \u001b[39m\u001b[38;5;132;01m{0}\u001b[39;00m\u001b[38;5;124m in time\u001b[39m\u001b[38;5;124m'\u001b[39m\u001b[38;5;241m.\u001b[39mformat(function_id)\n\u001b[1;32m-> 1320\u001b[0m     \u001b[38;5;28;01mraise\u001b[39;00m Error(Error\u001b[38;5;241m.\u001b[39mTIMEOUT, msg, suppress_context\u001b[38;5;241m=\u001b[39m\u001b[38;5;28;01mTrue\u001b[39;00m)\n\u001b[0;32m   1321\u001b[0m \u001b[38;5;28;01mfinally\u001b[39;00m:\n\u001b[0;32m   1322\u001b[0m     device\u001b[38;5;241m.\u001b[39mexpected_response_function_id \u001b[38;5;241m=\u001b[39m \u001b[38;5;28;01mNone\u001b[39;00m\n",
      "\u001b[1;31mError\u001b[0m: Did not receive response for function 255 in time (-1)"
     ]
    }
   ],
   "source": [
    "MOTOR_2.get_enabled()"
   ]
  },
  {
   "cell_type": "code",
   "execution_count": 40,
   "metadata": {},
   "outputs": [
    {
     "ename": "Error",
     "evalue": "Did not receive response for function 255 in time (-1)",
     "output_type": "error",
     "traceback": [
      "\u001b[1;31m---------------------------------------------------------------------------\u001b[0m",
      "\u001b[1;31mError\u001b[0m                                     Traceback (most recent call last)",
      "Cell \u001b[1;32mIn[40], line 1\u001b[0m\n\u001b[1;32m----> 1\u001b[0m \u001b[43mMOTOR_2\u001b[49m\u001b[38;5;241;43m.\u001b[39;49m\u001b[43mset_max_velocity\u001b[49m\u001b[43m(\u001b[49m\u001b[38;5;241;43m2000\u001b[39;49m\u001b[43m)\u001b[49m\n",
      "File \u001b[1;32m~\\AppData\\Local\\Packages\\PythonSoftwareFoundation.Python.3.11_qbz5n2kfra8p0\\LocalCache\\local-packages\\Python311\\site-packages\\tinkerforge\\bricklet_silent_stepper_v2.py:269\u001b[0m, in \u001b[0;36mBrickletSilentStepperV2.set_max_velocity\u001b[1;34m(self, velocity)\u001b[0m\n\u001b[0;32m    261\u001b[0m \u001b[38;5;28;01mdef\u001b[39;00m \u001b[38;5;21mset_max_velocity\u001b[39m(\u001b[38;5;28mself\u001b[39m, velocity):\n\u001b[0;32m    262\u001b[0m \u001b[38;5;250m    \u001b[39m\u001b[38;5;124mr\u001b[39m\u001b[38;5;124;03m\"\"\"\u001b[39;00m\n\u001b[0;32m    263\u001b[0m \u001b[38;5;124;03m    Sets the maximum velocity of the stepper motor.\u001b[39;00m\n\u001b[0;32m    264\u001b[0m \u001b[38;5;124;03m    This function does *not* start the motor, it merely sets the maximum\u001b[39;00m\n\u001b[1;32m   (...)\u001b[0m\n\u001b[0;32m    267\u001b[0m \u001b[38;5;124;03m    :func:`Drive Backward`.\u001b[39;00m\n\u001b[0;32m    268\u001b[0m \u001b[38;5;124;03m    \"\"\"\u001b[39;00m\n\u001b[1;32m--> 269\u001b[0m     \u001b[38;5;28;43mself\u001b[39;49m\u001b[38;5;241;43m.\u001b[39;49m\u001b[43mcheck_validity\u001b[49m\u001b[43m(\u001b[49m\u001b[43m)\u001b[49m\n\u001b[0;32m    271\u001b[0m     velocity \u001b[38;5;241m=\u001b[39m \u001b[38;5;28mint\u001b[39m(velocity)\n\u001b[0;32m    273\u001b[0m     \u001b[38;5;28mself\u001b[39m\u001b[38;5;241m.\u001b[39mipcon\u001b[38;5;241m.\u001b[39msend_request(\u001b[38;5;28mself\u001b[39m, BrickletSilentStepperV2\u001b[38;5;241m.\u001b[39mFUNCTION_SET_MAX_VELOCITY, (velocity,), \u001b[38;5;124m'\u001b[39m\u001b[38;5;124mH\u001b[39m\u001b[38;5;124m'\u001b[39m, \u001b[38;5;241m0\u001b[39m, \u001b[38;5;124m'\u001b[39m\u001b[38;5;124m'\u001b[39m)\n",
      "File \u001b[1;32m~\\AppData\\Local\\Packages\\PythonSoftwareFoundation.Python.3.11_qbz5n2kfra8p0\\LocalCache\\local-packages\\Python311\\site-packages\\tinkerforge\\ip_connection.py:506\u001b[0m, in \u001b[0;36mDevice.check_validity\u001b[1;34m(self)\u001b[0m\n\u001b[0;32m    504\u001b[0m \u001b[38;5;28;01mwith\u001b[39;00m \u001b[38;5;28mself\u001b[39m\u001b[38;5;241m.\u001b[39mdevice_identifier_lock:\n\u001b[0;32m    505\u001b[0m     \u001b[38;5;28;01mif\u001b[39;00m \u001b[38;5;28mself\u001b[39m\u001b[38;5;241m.\u001b[39mdevice_identifier_check \u001b[38;5;241m==\u001b[39m Device\u001b[38;5;241m.\u001b[39mDEVICE_IDENTIFIER_CHECK_PENDING:\n\u001b[1;32m--> 506\u001b[0m         device_identifier \u001b[38;5;241m=\u001b[39m \u001b[38;5;28;43mself\u001b[39;49m\u001b[38;5;241;43m.\u001b[39;49m\u001b[43mipcon\u001b[49m\u001b[38;5;241;43m.\u001b[39;49m\u001b[43msend_request\u001b[49m\u001b[43m(\u001b[49m\u001b[38;5;28;43mself\u001b[39;49m\u001b[43m,\u001b[49m\u001b[43m \u001b[49m\u001b[38;5;241;43m255\u001b[39;49m\u001b[43m,\u001b[49m\u001b[43m \u001b[49m\u001b[43m(\u001b[49m\u001b[43m)\u001b[49m\u001b[43m,\u001b[49m\u001b[43m \u001b[49m\u001b[38;5;124;43m'\u001b[39;49m\u001b[38;5;124;43m'\u001b[39;49m\u001b[43m,\u001b[49m\u001b[43m \u001b[49m\u001b[38;5;241;43m33\u001b[39;49m\u001b[43m,\u001b[49m\u001b[43m \u001b[49m\u001b[38;5;124;43m'\u001b[39;49m\u001b[38;5;124;43m8s 8s c 3B 3B H\u001b[39;49m\u001b[38;5;124;43m'\u001b[39;49m\u001b[43m)\u001b[49m[\u001b[38;5;241m5\u001b[39m] \u001b[38;5;66;03m# <device>.get_identity\u001b[39;00m\n\u001b[0;32m    508\u001b[0m         \u001b[38;5;28;01mif\u001b[39;00m device_identifier \u001b[38;5;241m==\u001b[39m \u001b[38;5;28mself\u001b[39m\u001b[38;5;241m.\u001b[39mdevice_identifier:\n\u001b[0;32m    509\u001b[0m             \u001b[38;5;28mself\u001b[39m\u001b[38;5;241m.\u001b[39mdevice_identifier_check \u001b[38;5;241m=\u001b[39m Device\u001b[38;5;241m.\u001b[39mDEVICE_IDENTIFIER_CHECK_MATCH\n",
      "File \u001b[1;32m~\\AppData\\Local\\Packages\\PythonSoftwareFoundation.Python.3.11_qbz5n2kfra8p0\\LocalCache\\local-packages\\Python311\\site-packages\\tinkerforge\\ip_connection.py:1320\u001b[0m, in \u001b[0;36mIPConnection.send_request\u001b[1;34m(self, device, function_id, data, form, length_ret, form_ret)\u001b[0m\n\u001b[0;32m   1318\u001b[0m \u001b[38;5;28;01mexcept\u001b[39;00m queue\u001b[38;5;241m.\u001b[39mEmpty:\n\u001b[0;32m   1319\u001b[0m     msg \u001b[38;5;241m=\u001b[39m \u001b[38;5;124m'\u001b[39m\u001b[38;5;124mDid not receive response for function \u001b[39m\u001b[38;5;132;01m{0}\u001b[39;00m\u001b[38;5;124m in time\u001b[39m\u001b[38;5;124m'\u001b[39m\u001b[38;5;241m.\u001b[39mformat(function_id)\n\u001b[1;32m-> 1320\u001b[0m     \u001b[38;5;28;01mraise\u001b[39;00m Error(Error\u001b[38;5;241m.\u001b[39mTIMEOUT, msg, suppress_context\u001b[38;5;241m=\u001b[39m\u001b[38;5;28;01mTrue\u001b[39;00m)\n\u001b[0;32m   1321\u001b[0m \u001b[38;5;28;01mfinally\u001b[39;00m:\n\u001b[0;32m   1322\u001b[0m     device\u001b[38;5;241m.\u001b[39mexpected_response_function_id \u001b[38;5;241m=\u001b[39m \u001b[38;5;28;01mNone\u001b[39;00m\n",
      "\u001b[1;31mError\u001b[0m: Did not receive response for function 255 in time (-1)"
     ]
    }
   ],
   "source": [
    "MOTOR_2.set_max_velocity(2000)"
   ]
  },
  {
   "cell_type": "code",
   "execution_count": null,
   "metadata": {},
   "outputs": [],
   "source": [
    "\n",
    "# Stop motor before disabling motor power\n",
    "ss.stop() # Request motor stop\n",
    "ss.set_speed_ramping(500, 5000) # Fast deacceleration (5000 steps/s^2) for stopping\n",
    "time.sleep(0.4) # Wait for motor to actually stop: max velocity (2000 steps/s) / decceleration (5000 steps/s^2) = 0.4 s\n",
    "ss.set_enabled(False) # Disable motor power\n",
    "rr.stop() # Request motor stop\n",
    "rr.set_speed_ramping(500, 5000) # Fast deacceleration (5000 steps/s^2) for stopping\n",
    "time.sleep(0.4) # Wait for motor to actually stop: max velocity (2000 steps/s) / decceleration (5000 steps/s^2) = 0.4 s\n",
    "rr.set_enabled(False) # Disable motor power\n",
    "\n",
    "ipcon.disconnect()"
   ]
  }
 ],
 "metadata": {
  "kernelspec": {
   "display_name": "Python 3",
   "language": "python",
   "name": "python3"
  },
  "language_info": {
   "codemirror_mode": {
    "name": "ipython",
    "version": 3
   },
   "file_extension": ".py",
   "mimetype": "text/x-python",
   "name": "python",
   "nbconvert_exporter": "python",
   "pygments_lexer": "ipython3",
   "version": "3.12.0"
  }
 },
 "nbformat": 4,
 "nbformat_minor": 2
}
