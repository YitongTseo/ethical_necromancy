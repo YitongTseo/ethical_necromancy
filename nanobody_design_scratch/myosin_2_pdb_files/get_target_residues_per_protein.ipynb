{
 "cells": [
  {
   "cell_type": "code",
   "execution_count": 1,
   "metadata": {},
   "outputs": [
    {
     "name": "stderr",
     "output_type": "stream",
     "text": [
      "Matplotlib is building the font cache; this may take a moment.\n"
     ]
    }
   ],
   "source": [
    "import os\n",
    "import pandas as pd\n",
    "import pdb\n",
    "import matplotlib.pyplot as plt\n",
    "import pdb\n",
    "import subprocess\n",
    "import logomaker as lm\n",
    "import matplotlib.pyplot as plt\n",
    "from Bio.SeqRecord import SeqRecord\n",
    "from Bio.Seq import Seq\n",
    "from Bio import SeqIO\n",
    "from enum import Enum"
   ]
  },
  {
   "cell_type": "code",
   "execution_count": 6,
   "id": "92027a1b",
   "metadata": {},
   "outputs": [],
   "source": [
    "import os\n",
    "import sys\n",
    "import urllib.request\n",
    "\n",
    "\n",
    "import Bio\n",
    "import Bio.PDB\n",
    "import Bio.SeqRecord\n",
    "\n",
    "def download_read_pdb(pdbcode, datadir, keepfile=True):\n",
    "    \"\"\"\n",
    "    Downloads a PDB file from the Internet and saves it in a data directory.\n",
    "    Then it reads and returns the structure inside.\n",
    "    :param pdbcode: The standard PDB ID e.g. '3ICB'\n",
    "    :param datadir: The directory where the downloaded file will be saved\n",
    "    :param keepfile: if False, then the downloaded file will be deleted (default: keep the downloaded file)\n",
    "    :return: a Bio.PDB Structure object or None if something went wrong\n",
    "    \"\"\"\n",
    "    pdbfilenm = download_pdb(pdbcode, datadir)\n",
    "    if pdbfilenm is None:\n",
    "        return None\n",
    "    struct = read_pdb(pdbcode, pdbfilenm)\n",
    "    if not keepfile:\n",
    "        os.remove(pdbfilenm)\n",
    "    return struct\n",
    "        \n",
    "def download_pdb(pdbcode, datadir, downloadurl=\"http://files.rcsb.org/download/\"):\n",
    "    \"\"\"\n",
    "    Downloads a PDB file from the Internet and saves it in a data directory.\n",
    "    :param pdbcode: The standard PDB ID e.g. '3ICB' or '3icb'\n",
    "    :param datadir: The directory where the downloaded file will be saved\n",
    "    :param downloadurl: The base PDB download URL, cf.\n",
    "        `https://www.rcsb.org/pages/download/http#structures` for details\n",
    "        Note that the unencrypted HTTP protocol is used by default\n",
    "        to avoid spurious OpenSSL errors...\n",
    "    :return: the full path to the downloaded PDB file or None if something went wrong\n",
    "    \"\"\"\n",
    "    pdbfn = pdbcode + \".pdb\"\n",
    "    url = downloadurl + pdbfn\n",
    "    outfnm = os.path.join(datadir, pdbfn)\n",
    "    try:\n",
    "        urllib.request.urlretrieve(url, outfnm)\n",
    "        return outfnm\n",
    "    except Exception as err:\n",
    "        # all sorts of things could have gone wrong...\n",
    "        print(str(err), file=sys.stderr)\n",
    "        return None\n",
    "\n",
    "def read_pdb(pdbcode, pdbfilenm):\n",
    "    \"\"\"\n",
    "    Read a PDB structure from a file.\n",
    "    :param pdbcode: A PDB ID string\n",
    "    :param pdbfilenm: The PDB file\n",
    "    :return: a Bio.PDB.Structure object or None if something went wrong\n",
    "    \"\"\"\n",
    "    try:\n",
    "        pdbparser = Bio.PDB.PDBParser(QUIET=True)   # suppress PDBConstructionWarning\n",
    "        struct = pdbparser.get_structure(pdbcode, pdbfilenm)\n",
    "        return struct\n",
    "    except Exception as err:\n",
    "        print(str(err), file=sys.stderr)\n",
    "        return None \n",
    "\n",
    "def extract_seqrecords(pdbcode, struct):\n",
    "    \"\"\"\n",
    "    Extracts the sequence records from a Bio.PDB structure.\n",
    "    :param pdbcode: the PDB ID of the structure, needed to add a sequence ID to the result\n",
    "    :param struct: a Bio.PDB.Structure object\n",
    "    :return: a list of Bio.SeqRecord objects\n",
    "    \"\"\"\n",
    "    ppb = Bio.PDB.PPBuilder()\n",
    "    seqrecords = []\n",
    "    for i, chain in enumerate(struct.get_chains()):\n",
    "        # extract and store sequences as list of SeqRecord objects\n",
    "        pps = ppb.build_peptides(chain)    # polypeptides\n",
    "        seq = pps[0].get_sequence() # just take the first, hope there's no chain break\n",
    "        seqid = pdbcode + chain.id\n",
    "        seqrec = Bio.SeqRecord.SeqRecord(seq, id=seqid, \n",
    "            description=\"Sequence #{}, {}\".format(i+1, seqid))\n",
    "        seqrecords.append(seqrec)\n",
    "    return seqrecords\n",
    "\n",
    "def get_calphas(struct):\n",
    "    \"\"\"\n",
    "    Extracts the C-alpha atoms from a PDB structure.\n",
    "    :param struct: A Bio.PDB.Structure object.\n",
    "    :return: A list of Bio.PDB.Atom objects representing the C-alpha atoms in `struct`.\n",
    "    \"\"\"\n",
    "    calphas = [ atom for atom in struct.get_atoms() if atom.get_fullname() == \" CA \" ]\n",
    "    return calphas\n"
   ]
  },
  {
   "cell_type": "code",
   "execution_count": 28,
   "id": "4e758927",
   "metadata": {},
   "outputs": [],
   "source": [
    "FULL_PDB = '/Users/yitongtseo/Documents/GitHub/ethical_necromancy/nanobody_design_scratch/myosin_2_pdb_files/6ysy_just_myosin.pdb'\n",
    "SELECTED_RESIDUES = '/Users/yitongtseo/Documents/GitHub/ethical_necromancy/nanobody_design_scratch/myosin_2_pdb_files/6ysy_chunks/6sys_selected_residues.pdb'\n",
    "\n",
    "selected_resi_pdb = read_pdb('selected_residues', SELECTED_RESIDUES)"
   ]
  },
  {
   "cell_type": "code",
   "execution_count": null,
   "id": "454fa94c",
   "metadata": {},
   "outputs": [],
   "source": [
    "# from Bio.PDB import PDBParser, DSSP\n",
    "# from Bio.PDB.DSSP import DSSP, ss_to_index\n",
    "\n",
    "\n",
    "# # Step 1: Load the PDB structure\n",
    "# parser = PDBParser()\n",
    "# structure = parser.get_structure('full_protein', FULL_PDB)\n",
    "\n",
    "# # Step 2: Calculate or load DSSP information\n",
    "# model = structure[0]  # Assuming the structure has only one model\n",
    "# dssp = DSSP(model, FULL_PDB,dssp='mkdssp')\n",
    "\n",
    "\n",
    "# # Step 3: Access secondary structure information\n",
    "# # For example, to iterate over residues and identify alpha helix or beta sheet residues:\n",
    "# alpha_helices = []\n",
    "# beta_sheets = []\n",
    "\n",
    "# for residue in structure.get_residues():\n",
    "#     residue_id = residue.id[1]\n",
    "#     ss = dssp[residue_id][2]  # Get secondary structure assignment (H for alpha helix, E for beta sheet)\n",
    "    \n",
    "#     if ss == 'H':\n",
    "#         alpha_helices.append(residue)\n",
    "#     elif ss == 'E':\n",
    "#         beta_sheets.append(residue)\n",
    "\n",
    "# # Step 4: Use alpha_helices and beta_sheets lists for further analysis\n",
    "# print(\"Residues in Alpha Helices:\", [residue.id for residue in alpha_helices])\n",
    "# print(\"Residues in Beta Sheets:\", [residue.id for residue in beta_sheets])\n"
   ]
  },
  {
   "cell_type": "markdown",
   "id": "ca03e392",
   "metadata": {},
   "source": [
    "## HADDOCK https://rascar.science.uu.nl/haddock2.4/submit/1 \n",
    "6ysy_chunk1\n",
    "Nanobody residues: \n",
    "26,27,28,29,30,31,32,33,51,52,53,54,55,56,57,58,95,96,97,98,99,100,101,102,103,104,105,106,107,108,109,110,111,112,113,114,115,116,117,118,119,120"
   ]
  },
  {
   "cell_type": "code",
   "execution_count": 44,
   "id": "9f2c5f50",
   "metadata": {},
   "outputs": [
    {
     "name": "stdout",
     "output_type": "stream",
     "text": [
      "483\n",
      "chunk_residues  50\n",
      "[121, 144, 145, 146, 147, 148, 149, 158, 161, 163, 164, 165, 167, 168, 169, 170, 171, 172, 178, 180, 184, 187, 190, 191, 194, 199, 239, 240, 241, 242, 243, 252, 256, 257, 258, 260, 261, 267, 268, 269, 270, 271, 455, 456, 457, 458, 459, 585, 586, 669]\n"
     ]
    }
   ],
   "source": [
    "target_residues = set(selected_resi_pdb.get_residues())\n",
    "print(len(target_residues))\n",
    "\n",
    "# for chunk_idx in range(1, 11):\n",
    "chunk_idx = 10\n",
    "chunk_pdb_name = f'/Users/yitongtseo/Documents/GitHub/ethical_necromancy/nanobody_design_scratch/myosin_2_pdb_files/6ysy_chunks/6ysy_chunk{chunk_idx}.pdb'\n",
    "chunk_pdb = read_pdb('selected_residues', chunk_pdb_name)\n",
    "chunk_residues = set(chunk_pdb.get_residues())\n",
    "feature_residues = [r for r in target_residues.intersection(chunk_residues) if not r.is_disordered()]\n",
    "print('chunk_residues ', len(feature_residues))\n",
    "\n",
    "print(sorted(([residue.id[1] for residue in target_residues.intersection(chunk_residues)])))\n"
   ]
  },
  {
   "cell_type": "code",
   "execution_count": null,
   "id": "60ab1083",
   "metadata": {},
   "outputs": [],
   "source": []
  }
 ],
 "metadata": {
  "kernelspec": {
   "display_name": "Python 3 (ipykernel)",
   "language": "python",
   "name": "python3"
  },
  "language_info": {
   "codemirror_mode": {
    "name": "ipython",
    "version": 3
   },
   "file_extension": ".py",
   "mimetype": "text/x-python",
   "name": "python",
   "nbconvert_exporter": "python",
   "pygments_lexer": "ipython3",
   "version": "3.1.undefined"
  }
 },
 "nbformat": 4,
 "nbformat_minor": 5
}
